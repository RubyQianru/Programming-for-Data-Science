{
 "cells": [
  {
   "cell_type": "markdown",
   "metadata": {},
   "source": [
    "### CDS NYU\n",
    "### DS-GA 1007 | Programming for Data Science\n",
    "### Lab 06\n",
    "### October 9, 2024\n",
    "\n",
    "\n",
    "# NumPy: Array Manipulation for Scientific Computing"
   ]
  },
  {
   "cell_type": "markdown",
   "metadata": {},
   "source": [
    "## Section Leaders\n",
    "\n",
    "\n",
    "Dong Li  --  dl5214@nyu.edu  -- \n",
    "\n",
    "Ziyi (Ceci) Chen --  zc1634@nyu.edu  --\n"
   ]
  },
  {
   "cell_type": "markdown",
   "metadata": {},
   "source": [
    "## Resources\n",
    "\n",
    "* Concise textbook introduction to NumPy: ”Python Data Science Handbook” pp. 33-96, by Jake VanderPlas\n",
    "    * Also accessible online at https://jakevdp.github.io/PythonDataScienceHandbook\n",
    "\n",
    "* NumPy's freely acccessible, online, high-quality and concise documentation: https://numpy.org/doc/\n",
    "\n",
    "* Case Study:  https://swcarpentry.github.io/python-novice-inflammation/02-numpy/index.html\n"
   ]
  },
  {
   "cell_type": "markdown",
   "metadata": {},
   "source": [
    "## 1. Creation, Manupulation and Indexing of NumPy Arrays\n",
    "NumPy supports large, multi-dimensional arrays and matrices, along with a large collection of high-level mathematical functions"
   ]
  },
  {
   "cell_type": "code",
   "execution_count": 73,
   "metadata": {},
   "outputs": [],
   "source": [
    "import numpy as np"
   ]
  },
  {
   "cell_type": "markdown",
   "metadata": {},
   "source": [
    "### Create NumPy arrays"
   ]
  },
  {
   "cell_type": "markdown",
   "metadata": {},
   "source": [
    "#### Using `arange` to define numerical entries and (optionally)  `reshape` to define the dimensions"
   ]
  },
  {
   "cell_type": "code",
   "execution_count": 74,
   "metadata": {},
   "outputs": [
    {
     "name": "stdout",
     "output_type": "stream",
     "text": [
      "[1 3 5 7]\n"
     ]
    }
   ],
   "source": [
    "x = np.arange(1, 9, 2) # start value = 1, end value = 9, step = 2 \n",
    "print(x)"
   ]
  },
  {
   "cell_type": "code",
   "execution_count": 75,
   "metadata": {},
   "outputs": [
    {
     "name": "stdout",
     "output_type": "stream",
     "text": [
      "[[ 0  1  2  3]\n",
      " [ 4  5  6  7]\n",
      " [ 8  9 10 11]\n",
      " [12 13 14 15]\n",
      " [16 17 18 19]]\n"
     ]
    }
   ],
   "source": [
    "x = np.arange(20).reshape(5, 4) # (row, col) 5x4 matrix\n",
    "print(x)"
   ]
  },
  {
   "cell_type": "markdown",
   "metadata": {},
   "source": [
    "### Array Attributes"
   ]
  },
  {
   "cell_type": "code",
   "execution_count": 76,
   "metadata": {
    "scrolled": true
   },
   "outputs": [
    {
     "name": "stdout",
     "output_type": "stream",
     "text": [
      "2\n",
      "(5, 4)\n",
      "20\n",
      "int64\n"
     ]
    }
   ],
   "source": [
    "print(x.ndim)  # Number of dimensions of the array\n",
    "print(x.shape) # Tuple of integers indicating the size of the array in each dimension\n",
    "print(x.size)  # Total number of elements of the array\n",
    "print(x.dtype) # Type of the elements in the array"
   ]
  },
  {
   "cell_type": "markdown",
   "metadata": {},
   "source": [
    "#### Self-defined NumPy array"
   ]
  },
  {
   "cell_type": "code",
   "execution_count": 77,
   "metadata": {},
   "outputs": [
    {
     "name": "stdout",
     "output_type": "stream",
     "text": [
      "[1 2 3 4]\n",
      "(4,)\n"
     ]
    }
   ],
   "source": [
    "# 1 dimension\n",
    "x = np.array([1, 2, 3, 4])\n",
    "print(x)\n",
    "print(x.shape)"
   ]
  },
  {
   "cell_type": "code",
   "execution_count": 78,
   "metadata": {
    "scrolled": true
   },
   "outputs": [
    {
     "name": "stdout",
     "output_type": "stream",
     "text": [
      "[[1.5 2.  3.3]\n",
      " [4.7 5.9 6.1]]\n",
      "(2, 3)\n"
     ]
    }
   ],
   "source": [
    "# 2 dimensions\n",
    "x = np.array([[1.5, 2.0, 3.3], [4.7, 5.9, 6.1]])\n",
    "print(x)\n",
    "print(x.shape) # row, columns"
   ]
  },
  {
   "cell_type": "markdown",
   "metadata": {},
   "source": [
    "#### Using other methods with specific parameters"
   ]
  },
  {
   "cell_type": "code",
   "execution_count": 79,
   "metadata": {},
   "outputs": [
    {
     "name": "stdout",
     "output_type": "stream",
     "text": [
      "[0.   0.25 0.5  0.75 1.  ]\n"
     ]
    }
   ],
   "source": [
    "x = np.linspace(0, 1, 5) # start, stop, num (creates an array of 5 evenly spaced values between 0 and 1 inclusively)\n",
    "print(x)"
   ]
  },
  {
   "cell_type": "code",
   "execution_count": 80,
   "metadata": {},
   "outputs": [
    {
     "name": "stdout",
     "output_type": "stream",
     "text": [
      "[[1. 1. 1. 1. 1.]\n",
      " [1. 1. 1. 1. 1.]\n",
      " [1. 1. 1. 1. 1.]\n",
      " [1. 1. 1. 1. 1.]\n",
      " [1. 1. 1. 1. 1.]]\n"
     ]
    }
   ],
   "source": [
    "print(np.ones((5, 5)))  # Array filled with ones "
   ]
  },
  {
   "cell_type": "code",
   "execution_count": 81,
   "metadata": {},
   "outputs": [
    {
     "name": "stdout",
     "output_type": "stream",
     "text": [
      "[[0. 0.]\n",
      " [0. 0.]]\n"
     ]
    }
   ],
   "source": [
    "print(np.zeros((2, 2))) # Array filled with zeros [matrix initialization, masking for filtering in neural network]"
   ]
  },
  {
   "cell_type": "code",
   "execution_count": 82,
   "metadata": {},
   "outputs": [
    {
     "name": "stdout",
     "output_type": "stream",
     "text": [
      "[[1. 0. 0.]\n",
      " [0. 1. 0.]\n",
      " [0. 0. 1.]]\n"
     ]
    }
   ],
   "source": [
    "print(np.identity(3))   # Identity matrix [Matrix Inversion, Linear Transformations]"
   ]
  },
  {
   "cell_type": "markdown",
   "metadata": {},
   "source": [
    "Sample array from a uniform Distribution: https://en.wikipedia.org/wiki/Uniform_distribution_(continuous)"
   ]
  },
  {
   "cell_type": "code",
   "execution_count": 83,
   "metadata": {},
   "outputs": [
    {
     "name": "stdout",
     "output_type": "stream",
     "text": [
      "[[0.17894983 0.84833771]\n",
      " [0.15794991 0.13063376]\n",
      " [0.99306676 0.11275725]]\n"
     ]
    }
   ],
   "source": [
    "x = np.random.rand(3, 2) # Return a sample (or samples) from a uniform distribution (in the range [0,1))\n",
    "                        # simulations, machine learning models, or random sampling tasks\n",
    "print(x)"
   ]
  },
  {
   "cell_type": "code",
   "execution_count": 84,
   "metadata": {
    "scrolled": true
   },
   "outputs": [
    {
     "name": "stdout",
     "output_type": "stream",
     "text": [
      "[[3 9]\n",
      " [7 9]\n",
      " [9 1]]\n"
     ]
    }
   ],
   "source": [
    "x = np.random.randint(low = 0, high = 10, size = (3,2)) # Return sample of random integers\n",
    "print(x)"
   ]
  },
  {
   "cell_type": "markdown",
   "metadata": {},
   "source": [
    "Sample array from a Gaussian/Normal Distribution: https://en.wikipedia.org/wiki/Normal_distribution  "
   ]
  },
  {
   "cell_type": "code",
   "execution_count": 85,
   "metadata": {},
   "outputs": [
    {
     "name": "stdout",
     "output_type": "stream",
     "text": [
      "[[ 0.25914776  2.19819106]\n",
      " [-0.42933418  0.36306844]\n",
      " [-0.72260436 -0.03823991]]\n"
     ]
    }
   ],
   "source": [
    "x = np.random.randn(3, 2) # Return a sample (or samples) from the “standard normal” distribution - N(0,1)\n",
    "print(x)"
   ]
  },
  {
   "cell_type": "markdown",
   "metadata": {},
   "source": [
    "#### Loading data stored on file into a NumPy array"
   ]
  },
  {
   "cell_type": "code",
   "execution_count": 86,
   "metadata": {},
   "outputs": [],
   "source": [
    "# Create two NumPy array by loading data in two seprate files (used for Exercise 2 below)\n",
    "a = np.loadtxt(fname='ClassA.csv', delimiter=',')\n",
    "b = np.loadtxt(fname='ClassB.csv', delimiter=',')"
   ]
  },
  {
   "cell_type": "code",
   "execution_count": 87,
   "metadata": {},
   "outputs": [
    {
     "name": "stdout",
     "output_type": "stream",
     "text": [
      "[[93. 79. 60. 85. 82.]\n",
      " [88. 92. 93. 98. 61.]\n",
      " [91. 69. 60. 79. 74.]\n",
      " [95. 98. 91. 86. 74.]\n",
      " [78. 79. 61. 68. 87.]\n",
      " [76. 81. 96. 72. 74.]\n",
      " [77. 70. 79. 82. 90.]\n",
      " [84. 94. 90. 68. 88.]\n",
      " [63. 72. 78. 75. 92.]\n",
      " [85. 74. 61. 75. 98.]]\n"
     ]
    }
   ],
   "source": [
    "print(a)"
   ]
  },
  {
   "cell_type": "markdown",
   "metadata": {},
   "source": [
    "### Select sub-arrays by slicing an array"
   ]
  },
  {
   "cell_type": "markdown",
   "metadata": {},
   "source": [
    "Syntax:\n",
    "1) array[start:stop:step] for 1D arrays.\n",
    "2) array[start_row:stop_row:step_row, start_col:stop_col:step_col] for multi-dimensional arrays\n"
   ]
  },
  {
   "cell_type": "code",
   "execution_count": 88,
   "metadata": {},
   "outputs": [
    {
     "name": "stdout",
     "output_type": "stream",
     "text": [
      "[[-1.85463169  1.44600322 -1.40845577  0.07035357]\n",
      " [ 1.04406589 -1.26996501  0.90238789 -1.2804992 ]\n",
      " [ 0.28390614 -0.92617728  1.05678078  2.57642037]\n",
      " [ 1.45852444  0.11046342 -0.46953431  0.23933555]\n",
      " [-0.7111689  -0.85872642  0.66339452  0.40937133]]\n"
     ]
    }
   ],
   "source": [
    "x = np.random.randn(5, 4)\n",
    "print(x)"
   ]
  },
  {
   "cell_type": "code",
   "execution_count": 89,
   "metadata": {},
   "outputs": [
    {
     "name": "stdout",
     "output_type": "stream",
     "text": [
      "[ 1.04406589 -1.26996501  0.90238789 -1.2804992 ]\n"
     ]
    }
   ],
   "source": [
    "print(x[1, :])  # extracts all columns in second row (index 1) "
   ]
  },
  {
   "cell_type": "code",
   "execution_count": 90,
   "metadata": {},
   "outputs": [
    {
     "name": "stdout",
     "output_type": "stream",
     "text": [
      "[ 1.44600322 -1.26996501 -0.92617728  0.11046342 -0.85872642]\n"
     ]
    }
   ],
   "source": [
    "print(x[:, 1])  # extracts all rows in second column (index 1) "
   ]
  },
  {
   "cell_type": "code",
   "execution_count": 91,
   "metadata": {},
   "outputs": [
    {
     "name": "stdout",
     "output_type": "stream",
     "text": [
      "[ 0.07035357 -1.2804992   2.57642037  0.23933555  0.40937133]\n"
     ]
    }
   ],
   "source": [
    "print(x[:, -1]) # extracts all rows in last column (index -1) "
   ]
  },
  {
   "cell_type": "code",
   "execution_count": 92,
   "metadata": {},
   "outputs": [
    {
     "name": "stdout",
     "output_type": "stream",
     "text": [
      "[[ 1.44600322 -1.40845577  0.07035357]\n",
      " [-1.26996501  0.90238789 -1.2804992 ]\n",
      " [-0.92617728  1.05678078  2.57642037]]\n"
     ]
    }
   ],
   "source": [
    "print(x[:3, 1:]) # extracts the first 3 rows (rows 0 to 2) and all columns starting from the second one (index 1 to the end)"
   ]
  },
  {
   "cell_type": "markdown",
   "metadata": {},
   "source": [
    "### Select sub-arrays using a Boolean mask"
   ]
  },
  {
   "cell_type": "code",
   "execution_count": 93,
   "metadata": {},
   "outputs": [
    {
     "name": "stdout",
     "output_type": "stream",
     "text": [
      "[[1 2 4]\n",
      " [0 5 9]]\n",
      "[[ True  True  True]\n",
      " [ True False False]]\n"
     ]
    }
   ],
   "source": [
    "x = np.array([[1, 2, 4], [0, 5, 9]])\n",
    "print(x)\n",
    "\n",
    "mask = (x <= 4) # creates a boolean array where values less than or equal to 4 are marked as True\n",
    "print(mask)"
   ]
  },
  {
   "cell_type": "code",
   "execution_count": 94,
   "metadata": {},
   "outputs": [
    {
     "name": "stdout",
     "output_type": "stream",
     "text": [
      "[[-1 -1 -1]\n",
      " [-1  5  9]]\n"
     ]
    }
   ],
   "source": [
    "x[mask] = -1  # replaces elements in x that correspond to True with -1\n",
    "print(x)"
   ]
  },
  {
   "cell_type": "markdown",
   "metadata": {},
   "source": [
    "### Change the shape of an array "
   ]
  },
  {
   "cell_type": "code",
   "execution_count": 95,
   "metadata": {},
   "outputs": [
    {
     "name": "stdout",
     "output_type": "stream",
     "text": [
      "[-1 -1 -1 -1  5  9]\n",
      "(6,)\n"
     ]
    }
   ],
   "source": [
    "#ravel function flattens the array\n",
    "print(x.ravel())\n",
    "print(x.ravel().shape)"
   ]
  },
  {
   "cell_type": "code",
   "execution_count": 96,
   "metadata": {},
   "outputs": [
    {
     "name": "stdout",
     "output_type": "stream",
     "text": [
      "[[-1 -1 -1]\n",
      " [-1  5  9]]\n",
      "(2, 3)\n"
     ]
    }
   ],
   "source": [
    "# Reshape in a self-defined way\n",
    "y = x.reshape((2, 3))\n",
    "print(y)\n",
    "print(y.shape)"
   ]
  },
  {
   "cell_type": "markdown",
   "metadata": {},
   "source": [
    "### Stack arrays\n",
    "Pay attention to array dimension!"
   ]
  },
  {
   "cell_type": "code",
   "execution_count": 97,
   "metadata": {},
   "outputs": [
    {
     "name": "stdout",
     "output_type": "stream",
     "text": [
      "[[1 2 3]\n",
      " [4 5 6]]\n"
     ]
    }
   ],
   "source": [
    "x = np.array([[1, 2, 3], [4, 5, 6]])\n",
    "print(x)"
   ]
  },
  {
   "cell_type": "code",
   "execution_count": 98,
   "metadata": {},
   "outputs": [
    {
     "name": "stdout",
     "output_type": "stream",
     "text": [
      "[7 8 9]\n"
     ]
    }
   ],
   "source": [
    "y = np.array([7,8,9])\n",
    "print(y)"
   ]
  },
  {
   "cell_type": "code",
   "execution_count": 99,
   "metadata": {},
   "outputs": [
    {
     "data": {
      "text/plain": [
       "array([[1, 2, 3],\n",
       "       [4, 5, 6],\n",
       "       [7, 8, 9]])"
      ]
     },
     "execution_count": 99,
     "metadata": {},
     "output_type": "execute_result"
    }
   ],
   "source": [
    "np.vstack([x, y]) # vertically stacking x and y (have to be the same columns)"
   ]
  },
  {
   "cell_type": "code",
   "execution_count": 100,
   "metadata": {},
   "outputs": [
    {
     "ename": "ValueError",
     "evalue": "all the input arrays must have same number of dimensions, but the array at index 0 has 2 dimension(s) and the array at index 1 has 1 dimension(s)",
     "output_type": "error",
     "traceback": [
      "\u001b[0;31m---------------------------------------------------------------------------\u001b[0m",
      "\u001b[0;31mValueError\u001b[0m                                Traceback (most recent call last)",
      "\u001b[0;32m/var/folders/kr/69yx7dk54w32fmx1yq1fv5r00000gn/T/ipykernel_24349/3449806460.py\u001b[0m in \u001b[0;36m<module>\u001b[0;34m\u001b[0m\n\u001b[1;32m      1\u001b[0m \u001b[0;31m# Should report error\u001b[0m\u001b[0;34m\u001b[0m\u001b[0;34m\u001b[0m\u001b[0m\n\u001b[0;32m----> 2\u001b[0;31m \u001b[0mnp\u001b[0m\u001b[0;34m.\u001b[0m\u001b[0mhstack\u001b[0m\u001b[0;34m(\u001b[0m\u001b[0;34m[\u001b[0m\u001b[0mx\u001b[0m\u001b[0;34m,\u001b[0m \u001b[0my\u001b[0m\u001b[0;34m]\u001b[0m\u001b[0;34m)\u001b[0m  \u001b[0;31m# horizontally stacking x and y (have to be the same rows)\u001b[0m\u001b[0;34m\u001b[0m\u001b[0;34m\u001b[0m\u001b[0m\n\u001b[0m",
      "\u001b[0;32m~/opt/anaconda3/lib/python3.9/site-packages/numpy/core/shape_base.py\u001b[0m in \u001b[0;36mhstack\u001b[0;34m(tup, dtype, casting)\u001b[0m\n\u001b[1;32m    357\u001b[0m \u001b[0;34m@\u001b[0m\u001b[0marray_function_dispatch\u001b[0m\u001b[0;34m(\u001b[0m\u001b[0m_stack_dispatcher\u001b[0m\u001b[0;34m)\u001b[0m\u001b[0;34m\u001b[0m\u001b[0;34m\u001b[0m\u001b[0m\n\u001b[1;32m    358\u001b[0m \u001b[0;32mdef\u001b[0m \u001b[0mstack\u001b[0m\u001b[0;34m(\u001b[0m\u001b[0marrays\u001b[0m\u001b[0;34m,\u001b[0m \u001b[0maxis\u001b[0m\u001b[0;34m=\u001b[0m\u001b[0;36m0\u001b[0m\u001b[0;34m,\u001b[0m \u001b[0mout\u001b[0m\u001b[0;34m=\u001b[0m\u001b[0;32mNone\u001b[0m\u001b[0;34m)\u001b[0m\u001b[0;34m:\u001b[0m\u001b[0;34m\u001b[0m\u001b[0;34m\u001b[0m\u001b[0m\n\u001b[0;32m--> 359\u001b[0;31m     \"\"\"\n\u001b[0m\u001b[1;32m    360\u001b[0m     \u001b[0mJoin\u001b[0m \u001b[0ma\u001b[0m \u001b[0msequence\u001b[0m \u001b[0mof\u001b[0m \u001b[0marrays\u001b[0m \u001b[0malong\u001b[0m \u001b[0ma\u001b[0m \u001b[0mnew\u001b[0m \u001b[0maxis\u001b[0m\u001b[0;34m.\u001b[0m\u001b[0;34m\u001b[0m\u001b[0;34m\u001b[0m\u001b[0m\n\u001b[1;32m    361\u001b[0m \u001b[0;34m\u001b[0m\u001b[0m\n",
      "\u001b[0;31mValueError\u001b[0m: all the input arrays must have same number of dimensions, but the array at index 0 has 2 dimension(s) and the array at index 1 has 1 dimension(s)"
     ]
    }
   ],
   "source": [
    "# Should report error\n",
    "np.hstack([x, y])  # horizontally stacking x and y (have to be the same rows)"
   ]
  },
  {
   "cell_type": "code",
   "execution_count": 102,
   "metadata": {},
   "outputs": [
    {
     "name": "stdout",
     "output_type": "stream",
     "text": [
      "[[1]\n",
      " [2]]\n"
     ]
    },
    {
     "data": {
      "text/plain": [
       "array([[1, 2, 3, 1],\n",
       "       [4, 5, 6, 2]])"
      ]
     },
     "execution_count": 102,
     "metadata": {},
     "output_type": "execute_result"
    }
   ],
   "source": [
    "z = np.array([[1], [2]]) # 2 x 1 matirx\n",
    "print(z)\n",
    "np.hstack([x, z])"
   ]
  },
  {
   "cell_type": "markdown",
   "metadata": {},
   "source": [
    "### Exercise 1\n",
    "1. Create an array $X$ with 5 rows and 6 colunms where the elements start from 1 to 30 \n",
    "2. Use slicing to select:  \n",
    "   a. Subarray containing only the odd rows from $X$  \n",
    "   b. Subarray containing only the odd rows and even columns from $X$\n",
    "3. Replace all the elements that is a multiple of 5 in $X$ by 0"
   ]
  },
  {
   "cell_type": "markdown",
   "metadata": {},
   "source": [
    "## 2. Statistical Analysis of Data\n",
    "### Get summary statistics of arrays: min, max, mean, median, std, sum"
   ]
  },
  {
   "cell_type": "code",
   "execution_count": 36,
   "metadata": {},
   "outputs": [
    {
     "name": "stdout",
     "output_type": "stream",
     "text": [
      "[[ 1  2  3  4  5  6]\n",
      " [ 7  8  9 10 11 12]\n",
      " [13 14 15 16 17 18]\n",
      " [19 20 21 22 23 24]\n",
      " [25 26 27 28 29 30]]\n"
     ]
    }
   ],
   "source": [
    "X = np.arange(1,31).reshape(5, 6)\n",
    "print(X)"
   ]
  },
  {
   "cell_type": "markdown",
   "metadata": {},
   "source": [
    "### Example of the median"
   ]
  },
  {
   "cell_type": "markdown",
   "metadata": {},
   "source": [
    "Definition: The median of a distribution of numbers is the \"middle\" number, that is the one such that, if the numbers were sorted, there would be as many numbers on its left as there would be on its rights: https://en.wikipedia.org/wiki/Median"
   ]
  },
  {
   "cell_type": "code",
   "execution_count": 37,
   "metadata": {},
   "outputs": [
    {
     "data": {
      "text/plain": [
       "array([ 3.5,  9.5, 15.5, 21.5, 27.5])"
      ]
     },
     "execution_count": 37,
     "metadata": {},
     "output_type": "execute_result"
    }
   ],
   "source": [
    "# Along row\n",
    "np.median(X, axis=1)"
   ]
  },
  {
   "cell_type": "code",
   "execution_count": 38,
   "metadata": {},
   "outputs": [
    {
     "data": {
      "text/plain": [
       "array([13., 14., 15., 16., 17., 18.])"
      ]
     },
     "execution_count": 38,
     "metadata": {},
     "output_type": "execute_result"
    }
   ],
   "source": [
    "# Along column\n",
    "np.median(X, axis=0)"
   ]
  },
  {
   "cell_type": "code",
   "execution_count": 39,
   "metadata": {},
   "outputs": [
    {
     "data": {
      "text/plain": [
       "15.5"
      ]
     },
     "execution_count": 39,
     "metadata": {},
     "output_type": "execute_result"
    }
   ],
   "source": [
    "# All elements\n",
    "np.median(X)"
   ]
  },
  {
   "cell_type": "markdown",
   "metadata": {},
   "source": [
    "### Other statistics such as mean, std, min, max, etc (seen during the lecture)\n",
    "Try for yourself to compute some statistics on different arrays of 1 or 2 dimensions"
   ]
  },
  {
   "cell_type": "code",
   "execution_count": 40,
   "metadata": {
    "scrolled": true
   },
   "outputs": [
    {
     "name": "stdout",
     "output_type": "stream",
     "text": [
      "Overall average: 15.5\n"
     ]
    }
   ],
   "source": [
    "# Examples\n",
    "m = np.mean(X, axis=0)\n",
    "s = np.std(X, axis=0)\n",
    "h = np.min(X, axis=1)\n",
    "l = np.max(X, axis=1)\n",
    "m_total = np.mean(X)\n",
    "print('Overall average:', m_total)\n"
   ]
  },
  {
   "cell_type": "markdown",
   "metadata": {},
   "source": [
    "### Writing your custom statistical functions\n",
    "Try writing functions to perform statistical operations"
   ]
  },
  {
   "cell_type": "code",
   "execution_count": 41,
   "metadata": {},
   "outputs": [],
   "source": [
    "# Function which takes an array as input, and return the vector of averages for each row \n",
    "def stat_avg1(a):\n",
    "    return np.mean(a, axis=1)"
   ]
  },
  {
   "cell_type": "code",
   "execution_count": 47,
   "metadata": {},
   "outputs": [],
   "source": [
    "# Function which takes an array as input, and return two vector (averages for each row, averages for each column)\n",
    "def stat_avg2(a):\n",
    "    return np.mean(a, axis=1), np.mean(a, axis=0)"
   ]
  },
  {
   "cell_type": "code",
   "execution_count": 48,
   "metadata": {},
   "outputs": [],
   "source": [
    "# Function to return the maximum across averages for each row\n",
    "def stat_avgmax(a):\n",
    "    v = np.mean(a, axis=1)\n",
    "    return np.max(v)"
   ]
  },
  {
   "cell_type": "markdown",
   "metadata": {},
   "source": [
    "Apply these functions to an array of shape ``(10,10)`` where each entry is drawn from a normal (Gaussian) distribution with mean 0 and standard deviation 1"
   ]
  },
  {
   "cell_type": "code",
   "execution_count": 68,
   "metadata": {},
   "outputs": [],
   "source": [
    "a = np.random.randn(10, 10)"
   ]
  },
  {
   "cell_type": "code",
   "execution_count": 70,
   "metadata": {},
   "outputs": [
    {
     "data": {
      "text/plain": [
       "array([ 0.21684384,  0.37202507,  0.61702407,  0.0479685 , -0.11083925,\n",
       "       -0.27690376,  0.03691222,  0.11333812,  0.66769599,  0.37600477])"
      ]
     },
     "execution_count": 70,
     "metadata": {},
     "output_type": "execute_result"
    }
   ],
   "source": [
    "stat_avg1(a)"
   ]
  },
  {
   "cell_type": "code",
   "execution_count": 71,
   "metadata": {},
   "outputs": [
    {
     "data": {
      "text/plain": [
       "(array([ 0.21684384,  0.37202507,  0.61702407,  0.0479685 , -0.11083925,\n",
       "        -0.27690376,  0.03691222,  0.11333812,  0.66769599,  0.37600477]),\n",
       " array([-0.19168154, -0.01183829,  0.19450032,  0.97125989,  0.56073268,\n",
       "         0.19369903, -0.30448733,  0.08901275,  0.68085091, -0.12197882]))"
      ]
     },
     "execution_count": 71,
     "metadata": {},
     "output_type": "execute_result"
    }
   ],
   "source": [
    "stat_avg2(a)"
   ]
  },
  {
   "cell_type": "code",
   "execution_count": 72,
   "metadata": {},
   "outputs": [
    {
     "data": {
      "text/plain": [
       "0.6676959930015812"
      ]
     },
     "execution_count": 72,
     "metadata": {},
     "output_type": "execute_result"
    }
   ],
   "source": [
    "stat_avgmax(a)"
   ]
  },
  {
   "cell_type": "markdown",
   "metadata": {},
   "source": [
    "### Exercise 2"
   ]
  },
  {
   "cell_type": "code",
   "execution_count": 51,
   "metadata": {},
   "outputs": [
    {
     "data": {
      "image/png": "[encoded data removed]",
      "text/plain": [
       "<IPython.core.display.Image object>"
      ]
     },
     "execution_count": 51,
     "metadata": {},
     "output_type": "execute_result"
    }
   ],
   "source": [
    "from IPython.display import Image\n",
    "Image(filename=\"lab07_data.png\")"
   ]
  },
  {
   "cell_type": "markdown",
   "metadata": {},
   "source": [
    "The files `ClassA.csv` and `ClassB.csv` contain results for 10 students each. Each student took 5 Quizes in total. Load the data from these files and:\n",
    "1. Stack ClassA and ClassB vertically. Now we have 20 students in total.\n",
    "2. What are the maximum scores for each Quiz among the 20 students?\n",
    "3. What is the lowest score that each student got among the 5 Quizes?\n",
    "4. What is the average score that each student got for the 5 Quizes?\n",
    "5. In terms of total scores of 5 Quizes, which class performed better?"
   ]
  },
  {
   "cell_type": "markdown",
   "metadata": {},
   "source": [
    "## 3. Broadcasting and Mathematical Operations\n",
    "https://numpy.org/doc/stable/user/basics.broadcasting.html"
   ]
  },
  {
   "cell_type": "markdown",
   "metadata": {},
   "source": [
    "### Examples of arithmetic operations"
   ]
  },
  {
   "cell_type": "code",
   "execution_count": 56,
   "metadata": {},
   "outputs": [],
   "source": [
    "a = np.arange(0,9)"
   ]
  },
  {
   "cell_type": "code",
   "execution_count": 53,
   "metadata": {},
   "outputs": [
    {
     "data": {
      "text/plain": [
       "array([ 0,  2,  4,  6,  8, 10, 12, 14, 16])"
      ]
     },
     "execution_count": 53,
     "metadata": {},
     "output_type": "execute_result"
    }
   ],
   "source": [
    "a + a  # Addition"
   ]
  },
  {
   "cell_type": "code",
   "execution_count": 54,
   "metadata": {},
   "outputs": [
    {
     "data": {
      "text/plain": [
       "array([ 0,  1,  4,  9, 16, 25, 36, 49, 64])"
      ]
     },
     "execution_count": 54,
     "metadata": {},
     "output_type": "execute_result"
    }
   ],
   "source": [
    "a * a  # Multiplication (element-wise)"
   ]
  },
  {
   "cell_type": "code",
   "execution_count": null,
   "metadata": {},
   "outputs": [],
   "source": [
    "a**2 # Squaring (element-wise)"
   ]
  },
  {
   "cell_type": "code",
   "execution_count": null,
   "metadata": {},
   "outputs": [],
   "source": [
    "np.sqrt(a) # Square Root"
   ]
  },
  {
   "cell_type": "code",
   "execution_count": null,
   "metadata": {},
   "outputs": [],
   "source": [
    "np.exp(a) # exponential (e^x) of each element in the array"
   ]
  },
  {
   "cell_type": "markdown",
   "metadata": {},
   "source": [
    "### Examples of broadcasting"
   ]
  },
  {
   "cell_type": "code",
   "execution_count": 58,
   "metadata": {},
   "outputs": [
    {
     "name": "stdout",
     "output_type": "stream",
     "text": [
      "\n",
      "a[0:5] = 100 (Scalar broadcasting):\n",
      "[100 100 100 100 100   5   6   7   8]\n",
      "\n",
      "a + 10 (Scalar broadcasting):\n",
      "[110 110 110 110 110  15  16  17  18]\n",
      "\n",
      "10 * a (Scalar broadcasting):\n",
      "[1000 1000 1000 1000 1000   50   60   70   80]\n",
      "\n",
      "np.ones((2,9)) + np.arange(9) (Array broadcasting):\n",
      "[[1. 2. 3. 4. 5. 6. 7. 8. 9.]\n",
      " [1. 2. 3. 4. 5. 6. 7. 8. 9.]]\n"
     ]
    }
   ],
   "source": [
    "# 1. Scalar broadcasting\n",
    "# Assign the value 100 to the first five elements of array 'a'\n",
    "a[0:5] = 100\n",
    "print(\"\\na[0:5] = 100 (Scalar broadcasting):\")\n",
    "print(a)\n",
    "\n",
    "# 2. Scalar broadcasting \n",
    "# Add 10 to each element of 'a'\n",
    "result_add_10 = a + 10\n",
    "print(\"\\na + 10 (Scalar broadcasting):\")\n",
    "print(result_add_10)\n",
    "\n",
    "# Multiply each element of 'a' by 10\n",
    "result_multiply_10 = 10 * a\n",
    "print(\"\\n10 * a (Scalar broadcasting):\")\n",
    "print(result_multiply_10)\n",
    "\n",
    "# 3. Array broadcasting \n",
    "# Add a (1,9) array to a (2,9) array using broadcasting\n",
    "ones_array = np.ones((2, 9))\n",
    "broadcasted_add = ones_array + np.arange(9) #  NumPy automatically broadcasts the smaller array of the larger one, performing element-wise addition.\n",
    "print(\"\\nnp.ones((2,9)) + np.arange(9) (Array broadcasting):\")\n",
    "print(broadcasted_add)"
   ]
  },
  {
   "cell_type": "code",
   "execution_count": 60,
   "metadata": {
    "scrolled": false
   },
   "outputs": [
    {
     "name": "stdout",
     "output_type": "stream",
     "text": [
      "[[ 0.  0.  0.]\n",
      " [10. 10. 10.]\n",
      " [20. 20. 20.]\n",
      " [30. 30. 30.]]\n",
      "[1. 2. 3.]\n",
      "[[ 1.  2.  3.]\n",
      " [11. 12. 13.]\n",
      " [21. 22. 23.]\n",
      " [31. 32. 33.]]\n"
     ]
    }
   ],
   "source": [
    "a = np.array([[ 0.0,  0.0,  0.0],\n",
    "              [10.0, 10.0, 10.0],\n",
    "              [20.0, 20.0, 20.0],\n",
    "              [30.0, 30.0, 30.0]])\n",
    "b = np.array([1.0, 2.0, 3.0])\n",
    "print(a)\n",
    "print(b)\n",
    "print(a+b)"
   ]
  },
  {
   "cell_type": "markdown",
   "metadata": {},
   "source": [
    "### Examples of linear algebra operations\n",
    "Numpy also offers Linear Algebra operators to manipulate arrays as vectors or matrices"
   ]
  },
  {
   "cell_type": "code",
   "execution_count": 61,
   "metadata": {},
   "outputs": [
    {
     "name": "stdout",
     "output_type": "stream",
     "text": [
      "[[1. 2.]\n",
      " [3. 4.]]\n",
      "[[2. 0.]\n",
      " [1. 3.]]\n"
     ]
    }
   ],
   "source": [
    "a = np.array([[1,2], [3,4]], float)\n",
    "b = np.array([[2,0], [1,3]], float)\n",
    "print(a)\n",
    "print(b)"
   ]
  },
  {
   "cell_type": "markdown",
   "metadata": {},
   "source": [
    "#### Vector dot product"
   ]
  },
  {
   "cell_type": "code",
   "execution_count": 62,
   "metadata": {},
   "outputs": [
    {
     "data": {
      "text/plain": [
       "14.0"
      ]
     },
     "execution_count": 62,
     "metadata": {},
     "output_type": "execute_result"
    }
   ],
   "source": [
    "np.dot(a[:,0], a[:,1]) # Vector dot product between first and second columns of matrix a"
   ]
  },
  {
   "cell_type": "markdown",
   "metadata": {},
   "source": [
    "#### Matrix multiplication"
   ]
  },
  {
   "cell_type": "code",
   "execution_count": null,
   "metadata": {},
   "outputs": [],
   "source": [
    "np.matmul(a, b) # Matrix product between matrices a and b (number of columns of a needs be the same as number of rows of b)\n",
    "a @ b           # Shortcut @ operator: Same as np.matmul(), but faster to type\n"
   ]
  },
  {
   "cell_type": "markdown",
   "metadata": {},
   "source": [
    "#### Matrix determinant, norm, inverse, trace, and many others"
   ]
  },
  {
   "cell_type": "code",
   "execution_count": 63,
   "metadata": {},
   "outputs": [
    {
     "data": {
      "text/plain": [
       "13.0"
      ]
     },
     "execution_count": 63,
     "metadata": {},
     "output_type": "execute_result"
    }
   ],
   "source": [
    "np.linalg.det(a+b) # Determinant of (a + b)"
   ]
  },
  {
   "cell_type": "code",
   "execution_count": 64,
   "metadata": {},
   "outputs": [
    {
     "data": {
      "text/plain": [
       "1.7355681882777199"
      ]
     },
     "execution_count": 64,
     "metadata": {},
     "output_type": "execute_result"
    }
   ],
   "source": [
    "np.linalg.norm(a) - np.linalg.norm(b) # Norm of the difference between matrices a and b"
   ]
  },
  {
   "cell_type": "markdown",
   "metadata": {},
   "source": [
    "### Exercise 3\n",
    "\n",
    "For arrays `A`, `B`, `C` and `D` given below:\n",
    "\n",
    "1. What is the element-wise product of A and B?\n",
    "1. What is the matrix product of A and B?\n",
    "3. Why can you compute the element-wise product of B and C even though they have different shape? \n",
    "4. Can you compute the matrix product of B and D? Why?\n",
    "5. Can you compute the matrix product of D and B? Why?"
   ]
  },
  {
   "cell_type": "code",
   "execution_count": 103,
   "metadata": {},
   "outputs": [],
   "source": [
    "import numpy as np\n",
    "\n",
    "A = 2*np.identity(3)\n",
    "B = np.arange(1, 10).reshape(3,3)\n",
    "C = np.array([1,2,3])\n",
    "D = np.arange(0, 12).reshape(3,4)"
   ]
  },
  {
   "cell_type": "markdown",
   "metadata": {},
   "source": [
    "### [Optional] For more details on the difference between `np.matmul` and `np.dot`:\n",
    "https://numpy.org/doc/stable/reference/generated/numpy.dot.html#numpy.dot\n",
    "https://numpy.org/doc/stable/reference/generated/numpy.matmul.html#numpy.matmul\n",
    "\n",
    "Short version: For most needs, they are identical when applied on two matrices :)"
   ]
  },
  {
   "cell_type": "markdown",
   "metadata": {},
   "source": [
    "## **Thank you everyone!**"
   ]
  }
 ],
 "metadata": {
  "kernelspec": {
   "display_name": "Python 3 (ipykernel)",
   "language": "python",
   "name": "python3"
  },
  "language_info": {
   "codemirror_mode": {
    "name": "ipython",
    "version": 3
   },
   "file_extension": ".py",
   "mimetype": "text/x-python",
   "name": "python",
   "nbconvert_exporter": "python",
   "pygments_lexer": "ipython3",
   "version": "3.9.7"
  }
 },
 "nbformat": 4,
 "nbformat_minor": 2
}
