{
 "cells": [
  {
   "cell_type": "markdown",
   "metadata": {},
   "source": [
    "### CDS NYU\n",
    "### DS-GA 1007 | Programming for Data Science\n",
    "### Lab 07\n",
    "### October 23, 2024\n",
    "\n",
    "\n",
    "# MatplotLib: Graphical Data Visualization"
   ]
  },
  {
   "cell_type": "markdown",
   "metadata": {},
   "source": [
    "## Section Leaders\n",
    "\n",
    "Dong Li  --  dl5214@nyu.edu  -- \n",
    "\n",
    "Ziyi (Ceci) Chen --  zc1634@nyu.edu  --\n"
   ]
  },
  {
   "cell_type": "markdown",
   "metadata": {},
   "source": [
    "## Resources\n",
    "\n",
    "* Concise textbook introduction to MatplotLib: ”Python Data Science Handbook” pp. 217-289, by Jake VanderPlas\n",
    "    * Also accessible online at https://jakevdp.github.io/PythonDataScienceHandbook\n",
    "\n",
    "* MatplotLib's freely acccessible, online, high-quality and concise documentation: https://matplotlib.org/stable/index.html\n",
    "\n",
    "* Case Study:  https://swcarpentry.github.io/python-novice-inflammation/03-matplotlib/index.html\n"
   ]
  },
  {
   "cell_type": "markdown",
   "metadata": {},
   "source": [
    "## 1. Import Matplotlib as a Library\n",
    "Matplotlib has multiple backends which allows it to be used on a variety of platforms with a variety of GUI toolkits, all of them written so that most of the time, you will not need to care which backend you are using. There are also many different packages for different advanced types and/or styles of plots, that work with Matplotlib. The basic standard is ```pyplot```. For the purpose of this course, this is what we will use. You are of course welcome to explore and use additional Python graphical vizualization packages. "
   ]
  },
  {
   "cell_type": "code",
   "execution_count": 2,
   "metadata": {},
   "outputs": [],
   "source": [
    "import matplotlib.pyplot as plt\n",
    "%matplotlib inline"
   ]
  },
  {
   "cell_type": "markdown",
   "metadata": {},
   "source": [
    "## 2. Create Scatter Plots and Line Plots"
   ]
  },
  {
   "cell_type": "markdown",
   "metadata": {},
   "source": [
    "### Scatter Plot"
   ]
  },
  {
   "cell_type": "code",
   "execution_count": 3,
   "metadata": {},
   "outputs": [
    {
     "data": {
      "image/png": "[encoded data removed]",
      "text/plain": [
       "<Figure size 640x480 with 1 Axes>"
      ]
     },
     "metadata": {},
     "output_type": "display_data"
    }
   ],
   "source": [
    "plt.scatter([1, 2, 3, 4], [1, 4, 9, 16], color='darkgreen', marker='d')\n",
    "plt.show() # You can also use \"plt.show()\"\" or the shortcut \";\" to show plots"
   ]
  },
  {
   "cell_type": "markdown",
   "metadata": {},
   "source": [
    "### Line Plot"
   ]
  },
  {
   "cell_type": "code",
   "execution_count": 4,
   "metadata": {},
   "outputs": [
    {
     "data": {
      "image/png": "[encoded data removed]",
      "text/plain": [
       "<Figure size 640x480 with 1 Axes>"
      ]
     },
     "metadata": {},
     "output_type": "display_data"
    }
   ],
   "source": [
    "import numpy as np\n",
    "x = np.arange(10)\n",
    "y = x + 3\n",
    "\n",
    "plt.plot(x, y, 'o--m', linewidth=2);\n"
   ]
  },
  {
   "cell_type": "markdown",
   "metadata": {},
   "source": [
    "## 3. Formatting plots\n",
    "\n",
    "#### Fasttest way\n",
    "In the expression `plot([x], y, [fmt])`, the optional parameter fmt is a convenient way for defining basic formatting like color, marker and linestyle. It's a shortcut string notation.\n",
    "\n",
    "https://matplotlib.org/3.3.2/api/_as_gen/matplotlib.pyplot.plot.html\n",
    "\n",
    "A format string consists of a part for color, marker and line:  \n",
    "`[fmt]` = `'[marker][line][color]'`. Each of them is optional.     \n",
    "For example, in the plot above:  \n",
    "`'o'`: Circle marker  \n",
    "`'--'`: Dashed line style  \n",
    "`'m'`: Color magenta\n",
    "\n",
    "#### Explicit formating parameters\n",
    "Explicit formating provides many, many more options to control for all characteristics of custom colors, symbols etc, and can be mixed with the fmt shortcut notation parameter too. See example below:"
   ]
  },
  {
   "cell_type": "code",
   "execution_count": null,
   "metadata": {},
   "outputs": [],
   "source": [
    "z = np.linspace(-2*np.pi, 2*np.pi, 100)\n",
    "plt.plot(z, np.cos(z), 'o-', color = [0.3,0,0.6])\n",
    "plt.xlabel('z')\n",
    "plt.ylabel('cos(z)')\n",
    "plt.title('Cosine function'); \n"
   ]
  },
  {
   "cell_type": "markdown",
   "metadata": {},
   "source": [
    "## 4. Vizualizing multiple curves on a same plot\n",
    "The fast formating notation is valid for multiples lines/points on the same plot: \n",
    "\n",
    "`plot([x], y, [fmt], [x2], y2, [fmt2], ..., **kwargs)`"
   ]
  },
  {
   "cell_type": "code",
   "execution_count": null,
   "metadata": {},
   "outputs": [],
   "source": [
    "x = np.arange(10)\n",
    "plt.plot(x, x, 'm-.', x, x+3, 'cv' , x, -x+5);\n"
   ]
  },
  {
   "cell_type": "markdown",
   "metadata": {},
   "source": [
    "## 5. Creating multiple sub-plots on a same canvas with `subplots`"
   ]
  },
  {
   "cell_type": "markdown",
   "metadata": {},
   "source": [
    "https://matplotlib.org/gallery/subplots_axes_and_figures/subplot.html\n",
    "https://matplotlib.org/gallery/subplots_axes_and_figures/subplots_demo.html?highlight=creating%20multiple%20subplots%20using%20plt%20subplots"
   ]
  },
  {
   "cell_type": "markdown",
   "metadata": {},
   "source": [
    "### Using MatplotLib's stateful/implicit figure object"
   ]
  },
  {
   "cell_type": "code",
   "execution_count": null,
   "metadata": {
    "scrolled": false
   },
   "outputs": [],
   "source": [
    "x = np.arange(10)\n",
    "y1 = x\n",
    "y2 = x**2 - 3\n",
    "y3 = -x**3 + 2*x**2\n",
    "\n",
    "plt.figure(figsize = [6,12]) # Control the size of the figure\n",
    "plt.subplot(3, 1, 1)\n",
    "plt.plot(x, y1, 'm-.')\n",
    "\n",
    "plt.subplot(3, 1, 2)\n",
    "plt.plot(x, y2, 'cv')\n",
    "\n",
    "plt.subplot(3, 1, 3)\n",
    "plt.plot(x, y3)\n",
    "plt.show()\n"
   ]
  },
  {
   "cell_type": "markdown",
   "metadata": {},
   "source": [
    "### Using Matplotlib's Object Oriented approach"
   ]
  },
  {
   "cell_type": "markdown",
   "metadata": {},
   "source": [
    "#### The same example with the OO approach"
   ]
  },
  {
   "cell_type": "code",
   "execution_count": null,
   "metadata": {
    "scrolled": false
   },
   "outputs": [],
   "source": [
    "# Create new instances of figure and axes objects assigned to custom variable names\n",
    "fig, axes = plt.subplots(nrows=3, ncols=1, figsize = [6, 12])\n",
    "\n",
    "# Add contents and parameters to each axis of the figure \n",
    "axes[0].plot(x, y1, 'm-.')\n",
    "axes[1].plot(x, y2, 'cv')\n",
    "axes[2].plot(x, y3);"
   ]
  },
  {
   "cell_type": "markdown",
   "metadata": {},
   "source": [
    "#### Combine some of the many functionalities of MatplotLib to design awesome figures!"
   ]
  },
  {
   "cell_type": "code",
   "execution_count": null,
   "metadata": {
    "scrolled": false
   },
   "outputs": [],
   "source": [
    "f, axes = plt.subplots(nrows=1, ncols=2)\n",
    "\n",
    "axes[0].plot(z, np.cos(z), color = [0.3,0,0.6], linewidth = 5)\n",
    "axes[0].plot(z, np.sin(z), 'k--')\n",
    "axes[0].set(xlim=[-7,7], ylim=[-2,2], title='Cosine', xlabel='z', ylabel='cos(z)')\n",
    "\n",
    "axes[1].plot(z, np.sin(z), 'k--', linewidth = 5)\n",
    "axes[1].plot(z, np.cos(z), color = [0.3,0,0.6])\n",
    "axes[1].set(xlim=[-7,7], ylim=[-2,2], title='Sine', xlabel='z', ylabel='sin(z)')\n",
    "\n",
    "f.tight_layout()"
   ]
  },
  {
   "cell_type": "markdown",
   "metadata": {},
   "source": [
    "### We can always add plots we hadn't planed for when creating the original canvas"
   ]
  },
  {
   "cell_type": "code",
   "execution_count": null,
   "metadata": {
    "scrolled": true
   },
   "outputs": [],
   "source": [
    "# Additional plots we hadn't plan for when creating the original canvas\n",
    "a3 = f.add_axes([0.13, 1, 0.36, 0.2]) \n",
    "a3.plot(z, np.tan(z), 'w')\n",
    "a3.set_facecolor((0.3,0,0.6))\n",
    "a3.xaxis.set_ticklabels([])\n",
    "a3.set(ylabel='tan(z)');\n",
    "\n",
    "a4 = f.add_axes([0.615, 1, 0.36, 0.2]) \n",
    "a4.plot(z, np.tan(z), 'w')\n",
    "a4.set_facecolor((0.3,0,0.6))\n",
    "a4.xaxis.set_ticklabels([])\n",
    "\n",
    "f"
   ]
  },
  {
   "cell_type": "markdown",
   "metadata": {},
   "source": [
    "#### Save figure object to file"
   ]
  },
  {
   "cell_type": "code",
   "execution_count": null,
   "metadata": {},
   "outputs": [],
   "source": [
    "f.savefig(\"TodaysDesign.png\")"
   ]
  },
  {
   "cell_type": "markdown",
   "metadata": {},
   "source": [
    "## Histogram\n",
    "https://matplotlib.org/3.3.1/api/_as_gen/matplotlib.pyplot.hist.html\n",
    "Returns a tuple (n, bins, patches) containing the values of the histogram,\n",
    "the edges of the bins, and a list of patches"
   ]
  },
  {
   "cell_type": "code",
   "execution_count": 6,
   "metadata": {},
   "outputs": [
    {
     "data": {
      "image/png": "[encoded data removed]",
      "text/plain": [
       "<Figure size 640x480 with 1 Axes>"
      ]
     },
     "metadata": {},
     "output_type": "display_data"
    }
   ],
   "source": [
    "# Sample a normal distribution with mean = 5 and standard deviation = 0.1\n",
    "mu, sigma = 5, 0.1 \n",
    "d = np.random.normal(mu, sigma, 1000)\n",
    "\n",
    "# Plot its histogram\n",
    "f = plt.hist(d, bins = 50, color = 'c')"
   ]
  },
  {
   "cell_type": "code",
   "execution_count": 7,
   "metadata": {
    "scrolled": true
   },
   "outputs": [
    {
     "data": {
      "image/png": "[encoded data removed]",
      "text/plain": [
       "<Figure size 640x480 with 1 Axes>"
      ]
     },
     "metadata": {},
     "output_type": "display_data"
    }
   ],
   "source": [
    "# Sample two normal distributions\n",
    "m1, s1 = 2, 0.5 \n",
    "d1 = np.random.normal(m1, s1, 1000)\n",
    "m2, s2 = 0, 1 \n",
    "d2 = np.random.normal(m2, s2, 1000)\n",
    "\n",
    "# Vizualize multiple data distribtions\n",
    "f, ax = plt.subplots()\n",
    "ax.hist(d1, bins=50, alpha = 0.5, label = 'Normal 1', color = [0.3,0,0.6])\n",
    "ax.hist(d2, bins=50, alpha = 0.5, label = 'Normal 2', color = 'c')\n",
    "\n",
    "# Show the legend\n",
    "ax.legend(loc=\"upper left\");"
   ]
  },
  {
   "cell_type": "markdown",
   "metadata": {},
   "source": [
    "## Exercise 1\n",
    "###  Vizualize two trigonometric functions  and save to file:\n",
    "\n",
    "$y_1(t)=\\cos(4t)$ defined in the interval $[0.01,3]$\n",
    "\n",
    "$y_2(t)=\\sin(5\\pi t)$ defined in the interval $[0.01,3]$\n",
    "\n",
    "1. Generate one plot of y1 in red and y2 in blue in the interval $[0.01,3]$ using 200 points  \n",
    "2. Overlay a small insert plot zooming in the region $t=[0.1, 2.0]$  \n",
    "3. On the main plot, add a plot title, x label, y label and legends for each functions\n",
    "4. Save this figure to a file\n",
    "4. Generate two subplots of y1 and y2, each with its own title and axis labels \n",
    "5. Save this other figure to a file"
   ]
  },
  {
   "cell_type": "markdown",
   "metadata": {},
   "source": [
    "## Exercise 2\n",
    "\n",
    "Load the data from the CSV file provided in Lab 01 (filename `MedicalData.csv`), then create a figure object and vizualise the data as a heat map. To create a heat map you can use the command `f = plt.imshow(data)`, or `ax.imshow(data)` if `ax` is an axes object on a PyPlot figure object. A heat map will let you vizualize the evolution over time of the number of inflammation flare-ups for the 60 patients enrolled in the clinical trial, over 40 days, all simultaneously. What patterns do you see?\n",
    "\n",
    "For more details and guidance, click here: https://swcarpentry.github.io/python-novice-inflammation/03-matplotlib/index.html"
   ]
  },
  {
   "cell_type": "code",
   "execution_count": 5,
   "metadata": {},
   "outputs": [
    {
     "data": {
      "image/png": "[encoded data removed]",
      "text/plain": [
       "<Figure size 800x800 with 1 Axes>"
      ]
     },
     "metadata": {},
     "output_type": "display_data"
    }
   ],
   "source": [
    "# Solution:\n",
    "data = np.loadtxt(fname='MedicalData.csv', delimiter=',')\n",
    "f , ax = plt.subplots(figsize = (8,8)) \n",
    "ax.imshow(data);"
   ]
  },
  {
   "cell_type": "markdown",
   "metadata": {},
   "source": [
    "## **Thank you everyone!**"
   ]
  },
  {
   "cell_type": "code",
   "execution_count": null,
   "metadata": {},
   "outputs": [],
   "source": []
  }
 ],
 "metadata": {
  "kernelspec": {
   "display_name": "Python 3 (ipykernel)",
   "language": "python",
   "name": "python3"
  },
  "language_info": {
   "codemirror_mode": {
    "name": "ipython",
    "version": 3
   },
   "file_extension": ".py",
   "mimetype": "text/x-python",
   "name": "python",
   "nbconvert_exporter": "python",
   "pygments_lexer": "ipython3",
   "version": "3.11.9"
  }
 },
 "nbformat": 4,
 "nbformat_minor": 2
}
