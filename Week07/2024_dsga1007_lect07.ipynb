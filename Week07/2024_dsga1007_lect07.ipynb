{
 "cells": [
  {
   "cell_type": "markdown",
   "id": "416b7f1b",
   "metadata": {
    "slideshow": {
     "slide_type": "slide"
    }
   },
   "source": [
    "## **DS-GA 1007 $\\:$ | $\\,$ Lecture 7**\n",
    "\n",
    "## **Programming for Data Science**\n",
    "\n",
    "<br>\n",
    "\n",
    "---\n",
    "\n",
    "#### Jeremy Curuksu, PhD\n",
    "\n",
    "#### NYU Center for Data Science\n",
    "\n",
    "#### October 28, 2024\n",
    "\n",
    "#### jeremy.cur@nyu.edu\n"
   ]
  },
  {
   "cell_type": "markdown",
   "id": "acd92962",
   "metadata": {
    "slideshow": {
     "slide_type": "slide"
    }
   },
   "source": [
    "## **Pandas: Advanced Data Objects (Part 1)**\n",
    "\n",
    "<br>\n"
   ]
  },
  {
   "cell_type": "markdown",
   "id": "4d92c5a5",
   "metadata": {
    "slideshow": {
     "slide_type": "subslide"
    }
   },
   "source": [
    "### **Last week**:\n",
    "\n",
    "### ▶  Introduction to Graphical Data Visualization \n",
    "\n",
    "### ▶  Introduction to Matplotlib\n",
    "\n",
    "### ▶ Advanced Matplotlib Functionalities\n",
    "\n",
    "<br>\n"
   ]
  },
  {
   "cell_type": "markdown",
   "id": "84788aa0",
   "metadata": {
    "slideshow": {
     "slide_type": "subslide"
    }
   },
   "source": [
    "### **Today**:\n",
    "\n",
    "\n",
    "### ▶ Introduction to Manipulating Labeled/Relational Data\n",
    "\n",
    "### ▶ Creating Pandas Objects: '*Series*', '*DataFrame*', '*index*'\n",
    "\n",
    "### ▶ Indexing and Selection of Data with Pandas\n",
    "\n",
    "### ▶ Practice Exercise "
   ]
  },
  {
   "cell_type": "markdown",
   "id": "5de696c6",
   "metadata": {
    "slideshow": {
     "slide_type": "slide"
    }
   },
   "source": [
    "# Topics on Pandas covered in this course\n",
    "\n",
    "• **Part 1**: Pandas series and data frames, indexing and selection, fancy indexing, Boolean and hierarchical indexing, reshaping\n",
    "\n",
    "• **Part 2**: Operating on data with Pandas, handling missing values\n",
    "\n",
    "• **Part 3**: Statistical analysis with Pandas (aggregation, group operations, merging, joining)\n",
    "\n",
    "• **Part 4**: Manipulating, analyzing and vizualizing time series with Pandas\n"
   ]
  },
  {
   "cell_type": "markdown",
   "id": "c0be79b5",
   "metadata": {
    "slideshow": {
     "slide_type": "slide"
    }
   },
   "source": [
    "\n",
    "# Introduction\n",
    "\n",
    "https://pandas.pydata.org\n",
    "\n",
    "\n",
    "**Pandas is a Python package for data manipulation and analysis that builds on top of NumPy, so all NumPy functionalities can be leveraged when using Pandas. Pandas adds functionalities to help manipulate and analyze \"any kind\" of data**. NumPy's ndarray data structure provides functionalities for the type of clean, well-organized data typically seen in numerical computing tasks. While it serves this purpose very well, its limitations become clear when we need more flexibility e.g., **attaching labels to data, working with missing data, complex merging and groupings, pivots, etc**. These more advanced operations are an important piece of analyzing the less structured data available in many forms in the world around us. Pandas provides efficient access to these sorts of data manipulation tasks that occupy much of a data scientist's time.\n"
   ]
  },
  {
   "cell_type": "markdown",
   "id": "c88602fa",
   "metadata": {
    "slideshow": {
     "slide_type": "subslide"
    }
   },
   "source": [
    "\n",
    "**Pandas offers the data structures called `Series` and `DataFrame`, which are arrays with attached row labels and column labels, and often with heterogeneous types and/or missing data.** Pandas offers a convenient storage interface for labeled data and powerful data operations familiar to users of both database frameworks and spreadsheet programs.\n",
    "\n",
    "**A `Series` is essentially a 1D array, and a `DataFrame` is a multidimensional array** i.e., a set of `Series` (similar to the difference between a vector and a matrix in linear algebra mentioned in the lecture on NumPy). \n",
    "\n",
    "\n",
    "**A third data structure called `index` is also available**. As its name suggests, `index` is a series of indices, generally some labels attached to some data, which can be manipulated on its own and/or attached to a `Series` or `DataFrame` object.\n",
    "\n",
    "**Pandas is a free open source package** originally created by Wes McKinney, a mathematician who worked in Finance and needed to analyze time series. This explains why **Pandas has advanced functionalities to manipulate and analyse time series, such as date range generation and frequency conversion, moving window statistics, date shifting and lagging, etc**. The name is derived from the term \"panel data\", an econometrics term for datasets that include observations over multiple time periods. Its name is a play on the phrase \"Python data analysis\". "
   ]
  },
  {
   "cell_type": "markdown",
   "id": "bbf2c22c",
   "metadata": {
    "slideshow": {
     "slide_type": "slide"
    }
   },
   "source": [
    "# Case study examples with Pandas\n",
    "\n",
    "There will be four lectures on Pandas. As we explore more advanced concepts, we will illustrate them directly with case studies. For those of you who would like to start looking at case studies now, I recommend you start with these:\n",
    "\n",
    "* Carpentry (indexing, slicing): https://datacarpentry.org/python-ecology-lesson/03-index-slice-subset.html\n",
    "\n",
    "* Carpentry (data exploration): https://datacarpentry.org/python-ecology-lesson/02-starting-with-data.html\n",
    "\n",
    "* Kaggle (data exploration): https://www.kaggle.com/code/kashnitsky/topic-1-exploratory-data-analysis-with-pandas/notebook\n"
   ]
  },
  {
   "cell_type": "markdown",
   "id": "1c4dbeda",
   "metadata": {
    "slideshow": {
     "slide_type": "slide"
    }
   },
   "source": [
    "# Online Documentation\n",
    "The [pandas.pydata.org](https://pandas.pydata.org) website is the primary online resource for the library's documentation, tutorials, and other resources\n",
    "\n",
    "To display Pandas's built-in documentation:\n",
    "\n",
    "```ipython\n",
    "pd?\n",
    "```\n",
    "\n",
    "To display the pandas namespace:\n",
    "\n",
    "```ipython\n",
    "pd.<TAB>\n",
    "```\n",
    "\n",
    "Pandas Cheatsheet: https://github.com/pandas-dev/pandas/blob/main/doc/cheatsheet/Pandas_Cheat_Sheet.pdf"
   ]
  },
  {
   "cell_type": "markdown",
   "id": "948c819e",
   "metadata": {
    "slideshow": {
     "slide_type": "slide"
    }
   },
   "source": [
    "# Import Pandas as a library:\n"
   ]
  },
  {
   "cell_type": "code",
   "execution_count": 2,
   "id": "a93dcd42",
   "metadata": {
    "slideshow": {
     "slide_type": "-"
    }
   },
   "outputs": [
    {
     "data": {
      "text/plain": [
       "'2.2.3'"
      ]
     },
     "execution_count": 2,
     "metadata": {},
     "output_type": "execute_result"
    }
   ],
   "source": [
    "import pandas as pd # Abbreviations \"pd\" is semi-standardized...\n",
    "pd.__version__"
   ]
  },
  {
   "cell_type": "code",
   "execution_count": 3,
   "id": "db717db1",
   "metadata": {
    "slideshow": {
     "slide_type": "fragment"
    }
   },
   "outputs": [
    {
     "name": "stdout",
     "output_type": "stream",
     "text": [
      "\u001b[0;31mType:\u001b[0m        module\n",
      "\u001b[0;31mString form:\u001b[0m <module 'pandas' from '/Users/qianruzhang/anaconda3/envs/ds/lib/python3.11/site-packages/pandas/__init__.py'>\n",
      "\u001b[0;31mFile:\u001b[0m        ~/anaconda3/envs/ds/lib/python3.11/site-packages/pandas/__init__.py\n",
      "\u001b[0;31mDocstring:\u001b[0m  \n",
      "pandas - a powerful data analysis and manipulation library for Python\n",
      "=====================================================================\n",
      "\n",
      "**pandas** is a Python package providing fast, flexible, and expressive data\n",
      "structures designed to make working with \"relational\" or \"labeled\" data both\n",
      "easy and intuitive. It aims to be the fundamental high-level building block for\n",
      "doing practical, **real world** data analysis in Python. Additionally, it has\n",
      "the broader goal of becoming **the most powerful and flexible open source data\n",
      "analysis / manipulation tool available in any language**. It is already well on\n",
      "its way toward this goal.\n",
      "\n",
      "Main Features\n",
      "-------------\n",
      "Here are just a few of the things that pandas does well:\n",
      "\n",
      "  - Easy handling of missing data in floating point as well as non-floating\n",
      "    point data.\n",
      "  - Size mutability: columns can be inserted and deleted from DataFrame and\n",
      "    higher dimensional objects\n",
      "  - Automatic and explicit data alignment: objects can be explicitly aligned\n",
      "    to a set of labels, or the user can simply ignore the labels and let\n",
      "    `Series`, `DataFrame`, etc. automatically align the data for you in\n",
      "    computations.\n",
      "  - Powerful, flexible group by functionality to perform split-apply-combine\n",
      "    operations on data sets, for both aggregating and transforming data.\n",
      "  - Make it easy to convert ragged, differently-indexed data in other Python\n",
      "    and NumPy data structures into DataFrame objects.\n",
      "  - Intelligent label-based slicing, fancy indexing, and subsetting of large\n",
      "    data sets.\n",
      "  - Intuitive merging and joining data sets.\n",
      "  - Flexible reshaping and pivoting of data sets.\n",
      "  - Hierarchical labeling of axes (possible to have multiple labels per tick).\n",
      "  - Robust IO tools for loading data from flat files (CSV and delimited),\n",
      "    Excel files, databases, and saving/loading data from the ultrafast HDF5\n",
      "    format.\n",
      "  - Time series-specific functionality: date range generation and frequency\n",
      "    conversion, moving window statistics, date shifting and lagging."
     ]
    }
   ],
   "source": [
    "pd?"
   ]
  },
  {
   "cell_type": "markdown",
   "id": "b43bd178",
   "metadata": {
    "slideshow": {
     "slide_type": "slide"
    }
   },
   "source": [
    "\n",
    "# 1) Creating Pandas Objects:\n",
    "\n",
    "## `Series`, `DataFrame`, `index`\n",
    "\n",
    "- Pandas data come in two flavors: `Series`, `DataFrame`. \n",
    "\n",
    "- `Series` are 1D `DataFrame`. \n",
    "\n",
    "- In contrast, `DataFrame` can be of any dimension. \n",
    "\n",
    "- Both are attached to `index` objects. "
   ]
  },
  {
   "cell_type": "markdown",
   "id": "e8220cf0",
   "metadata": {
    "slideshow": {
     "slide_type": "slide"
    }
   },
   "source": [
    "## Creating Pandas Series\n",
    "\n",
    "``Series`` is a one-dimensional array of indexed data \n"
   ]
  },
  {
   "cell_type": "markdown",
   "id": "0f55c33b",
   "metadata": {
    "slideshow": {
     "slide_type": "slide"
    }
   },
   "source": [
    "### From a Python List or Array\n",
    "\n",
    "A `Series` can be created by converting a list or an array"
   ]
  },
  {
   "cell_type": "code",
   "execution_count": 4,
   "id": "243a66fa",
   "metadata": {
    "slideshow": {
     "slide_type": "-"
    }
   },
   "outputs": [
    {
     "data": {
      "text/plain": [
       "0    100\n",
       "1    200\n",
       "2    300\n",
       "3    400\n",
       "4    500\n",
       "dtype: int64"
      ]
     },
     "execution_count": 4,
     "metadata": {},
     "output_type": "execute_result"
    }
   ],
   "source": [
    "data = pd.Series([100, 200, 300, 400, 500])\n",
    "data"
   ]
  },
  {
   "cell_type": "markdown",
   "id": "a1441bfc",
   "metadata": {
    "slideshow": {
     "slide_type": "fragment"
    }
   },
   "source": [
    "A default series of integers is implicitly attached as `index` to label the data if none is explicitly attached by the programmer. "
   ]
  },
  {
   "cell_type": "markdown",
   "id": "c6c896b5",
   "metadata": {
    "slideshow": {
     "slide_type": "slide"
    }
   },
   "source": [
    "#### A Series has values and indexes"
   ]
  },
  {
   "cell_type": "code",
   "execution_count": 5,
   "id": "ab9c200b",
   "metadata": {
    "slideshow": {
     "slide_type": "-"
    }
   },
   "outputs": [
    {
     "data": {
      "text/plain": [
       "array([100, 200, 300, 400, 500])"
      ]
     },
     "execution_count": 5,
     "metadata": {},
     "output_type": "execute_result"
    }
   ],
   "source": [
    "data.values"
   ]
  },
  {
   "cell_type": "code",
   "execution_count": 6,
   "id": "3ec75b01",
   "metadata": {
    "slideshow": {
     "slide_type": "-"
    }
   },
   "outputs": [
    {
     "data": {
      "text/plain": [
       "RangeIndex(start=0, stop=5, step=1)"
      ]
     },
     "execution_count": 6,
     "metadata": {},
     "output_type": "execute_result"
    }
   ],
   "source": [
    "data.index # Default index implicitely defined as integers"
   ]
  },
  {
   "cell_type": "markdown",
   "id": "083d7997",
   "metadata": {
    "slideshow": {
     "slide_type": "slide"
    }
   },
   "source": [
    "#### Indexes can be defined explicitly, and do not need to be integers"
   ]
  },
  {
   "cell_type": "code",
   "execution_count": 7,
   "id": "ca37bf00",
   "metadata": {
    "slideshow": {
     "slide_type": "-"
    }
   },
   "outputs": [
    {
     "data": {
      "text/plain": [
       "A      100\n",
       "b      200\n",
       "c      300\n",
       "10     400\n",
       "200    500\n",
       "dtype: int64"
      ]
     },
     "execution_count": 7,
     "metadata": {},
     "output_type": "execute_result"
    }
   ],
   "source": [
    "data = pd.Series([100, 200, 300, 400, 500], index = ['A', 'b', 'c', 10, 200])\n",
    "data"
   ]
  },
  {
   "cell_type": "code",
   "execution_count": 8,
   "id": "fbda9953",
   "metadata": {
    "slideshow": {
     "slide_type": "-"
    }
   },
   "outputs": [
    {
     "data": {
      "text/plain": [
       "Index(['A', 'b', 'c', 10, 200], dtype='object')"
      ]
     },
     "execution_count": 8,
     "metadata": {},
     "output_type": "execute_result"
    }
   ],
   "source": [
    "data.index "
   ]
  },
  {
   "cell_type": "code",
   "execution_count": 9,
   "id": "f48bffb0",
   "metadata": {
    "slideshow": {
     "slide_type": "-"
    }
   },
   "outputs": [
    {
     "data": {
      "text/plain": [
       "200"
      ]
     },
     "execution_count": 9,
     "metadata": {},
     "output_type": "execute_result"
    }
   ],
   "source": [
    "data['b']"
   ]
  },
  {
   "cell_type": "code",
   "execution_count": 10,
   "id": "6f15d097",
   "metadata": {
    "slideshow": {
     "slide_type": "-"
    }
   },
   "outputs": [
    {
     "data": {
      "text/plain": [
       "400"
      ]
     },
     "execution_count": 10,
     "metadata": {},
     "output_type": "execute_result"
    }
   ],
   "source": [
    "data[10]"
   ]
  },
  {
   "cell_type": "markdown",
   "id": "95664a9e",
   "metadata": {
    "slideshow": {
     "slide_type": "slide"
    }
   },
   "source": [
    "### From a Python Dictionary"
   ]
  },
  {
   "cell_type": "code",
   "execution_count": 11,
   "id": "9792c44d",
   "metadata": {
    "slideshow": {
     "slide_type": "-"
    }
   },
   "outputs": [
    {
     "data": {
      "text/plain": [
       "{'The Hangover': 100,\n",
       " 'Hot Fuzz': 121,\n",
       " 'Tower Heist': 104,\n",
       " 'The Interview': 112}"
      ]
     },
     "execution_count": 11,
     "metadata": {},
     "output_type": "execute_result"
    }
   ],
   "source": [
    "movies = {\"The Hangover\": 100, \"Hot Fuzz\": 121, \"Tower Heist\": 104, \"The Interview\": 112}\n",
    "movies"
   ]
  },
  {
   "cell_type": "code",
   "execution_count": 12,
   "id": "6e33733b",
   "metadata": {
    "slideshow": {
     "slide_type": "-"
    }
   },
   "outputs": [
    {
     "data": {
      "text/plain": [
       "The Hangover     100\n",
       "Hot Fuzz         121\n",
       "Tower Heist      104\n",
       "The Interview    112\n",
       "dtype: int64"
      ]
     },
     "execution_count": 12,
     "metadata": {},
     "output_type": "execute_result"
    }
   ],
   "source": [
    "data = pd.Series(movies)\n",
    "data"
   ]
  },
  {
   "cell_type": "markdown",
   "id": "224fa4f9",
   "metadata": {
    "slideshow": {
     "slide_type": "slide"
    }
   },
   "source": [
    "A Pandas object can be indexed by label or by position, as will be discussed in more details in section 2. \n",
    "Indexing by position is particulary useful if we don't know (or care about) index labels."
   ]
  },
  {
   "cell_type": "code",
   "execution_count": 13,
   "id": "e021211b",
   "metadata": {
    "slideshow": {
     "slide_type": "-"
    }
   },
   "outputs": [
    {
     "data": {
      "text/plain": [
       "112"
      ]
     },
     "execution_count": 13,
     "metadata": {},
     "output_type": "execute_result"
    }
   ],
   "source": [
    "data['The Interview'] # Indexing by explicit label"
   ]
  },
  {
   "cell_type": "code",
   "execution_count": 14,
   "id": "2dd5932b",
   "metadata": {
    "slideshow": {
     "slide_type": "-"
    }
   },
   "outputs": [
    {
     "name": "stderr",
     "output_type": "stream",
     "text": [
      "/var/folders/f6/jjmfkpp52bzg1lpytwjwn5jc0000gn/T/ipykernel_56377/575458921.py:1: FutureWarning: Series.__getitem__ treating keys as positions is deprecated. In a future version, integer keys will always be treated as labels (consistent with DataFrame behavior). To access a value by position, use `ser.iloc[pos]`\n",
      "  data[3] # Indexing by implicit position\n"
     ]
    },
    {
     "data": {
      "text/plain": [
       "112"
      ]
     },
     "execution_count": 14,
     "metadata": {},
     "output_type": "execute_result"
    }
   ],
   "source": [
    "data[3] # Indexing by implicit position "
   ]
  },
  {
   "cell_type": "code",
   "execution_count": 15,
   "id": "54b06cf8",
   "metadata": {
    "slideshow": {
     "slide_type": "-"
    }
   },
   "outputs": [
    {
     "data": {
      "text/plain": [
       "Hot Fuzz         121\n",
       "Tower Heist      104\n",
       "The Interview    112\n",
       "dtype: int64"
      ]
     },
     "execution_count": 15,
     "metadata": {},
     "output_type": "execute_result"
    }
   ],
   "source": [
    "data[1:4] # Slicing by implicit position"
   ]
  },
  {
   "cell_type": "markdown",
   "id": "8f4521a0",
   "metadata": {
    "slideshow": {
     "slide_type": "slide"
    }
   },
   "source": [
    "## Creating Pandas Data Frames \n",
    "\n",
    "``DataFrame`` is a multi-dimensional array of ``Series``, typically a 2D array where each column is a ``Series``\n"
   ]
  },
  {
   "cell_type": "markdown",
   "id": "009a36c1",
   "metadata": {
    "slideshow": {
     "slide_type": "slide"
    }
   },
   "source": [
    "### From a Python List or Array\n",
    "\n",
    "A 2D `DataFrame` can be created by converting a *nested* list or a 2D array "
   ]
  },
  {
   "cell_type": "code",
   "execution_count": 16,
   "id": "d6fd8bc4",
   "metadata": {
    "slideshow": {
     "slide_type": "-"
    }
   },
   "outputs": [
    {
     "data": {
      "text/html": [
       "<div>\n",
       "<style scoped>\n",
       "    .dataframe tbody tr th:only-of-type {\n",
       "        vertical-align: middle;\n",
       "    }\n",
       "\n",
       "    .dataframe tbody tr th {\n",
       "        vertical-align: top;\n",
       "    }\n",
       "\n",
       "    .dataframe thead th {\n",
       "        text-align: right;\n",
       "    }\n",
       "</style>\n",
       "<table border=\"1\" class=\"dataframe\">\n",
       "  <thead>\n",
       "    <tr style=\"text-align: right;\">\n",
       "      <th></th>\n",
       "      <th>a</th>\n",
       "      <th>b</th>\n",
       "      <th>c</th>\n",
       "    </tr>\n",
       "  </thead>\n",
       "  <tbody>\n",
       "    <tr>\n",
       "      <th>0</th>\n",
       "      <td>1</td>\n",
       "      <td>2</td>\n",
       "      <td>3</td>\n",
       "    </tr>\n",
       "    <tr>\n",
       "      <th>1</th>\n",
       "      <td>4</td>\n",
       "      <td>5</td>\n",
       "      <td>6</td>\n",
       "    </tr>\n",
       "    <tr>\n",
       "      <th>2</th>\n",
       "      <td>7</td>\n",
       "      <td>8</td>\n",
       "      <td>9</td>\n",
       "    </tr>\n",
       "    <tr>\n",
       "      <th>3</th>\n",
       "      <td>10</td>\n",
       "      <td>11</td>\n",
       "      <td>12</td>\n",
       "    </tr>\n",
       "  </tbody>\n",
       "</table>\n",
       "</div>"
      ],
      "text/plain": [
       "    a   b   c\n",
       "0   1   2   3\n",
       "1   4   5   6\n",
       "2   7   8   9\n",
       "3  10  11  12"
      ]
     },
     "execution_count": 16,
     "metadata": {},
     "output_type": "execute_result"
    }
   ],
   "source": [
    "# Let's convert a 4x3 array (4 rows, 3 columns) into a DataFrame object\n",
    "l = [[1, 2, 3], [4, 5, 6], [7, 8, 9], [10, 11, 12]] # l is a nested list\n",
    "df = pd.DataFrame(l, columns=['a', 'b', 'c'])\n",
    "df "
   ]
  },
  {
   "cell_type": "markdown",
   "id": "87a84745",
   "metadata": {
    "slideshow": {
     "slide_type": "slide"
    }
   },
   "source": [
    "### From a Python Dictionary"
   ]
  },
  {
   "cell_type": "code",
   "execution_count": 17,
   "id": "f50a921c",
   "metadata": {
    "slideshow": {
     "slide_type": "-"
    }
   },
   "outputs": [
    {
     "data": {
      "text/html": [
       "<div>\n",
       "<style scoped>\n",
       "    .dataframe tbody tr th:only-of-type {\n",
       "        vertical-align: middle;\n",
       "    }\n",
       "\n",
       "    .dataframe tbody tr th {\n",
       "        vertical-align: top;\n",
       "    }\n",
       "\n",
       "    .dataframe thead th {\n",
       "        text-align: right;\n",
       "    }\n",
       "</style>\n",
       "<table border=\"1\" class=\"dataframe\">\n",
       "  <thead>\n",
       "    <tr style=\"text-align: right;\">\n",
       "      <th></th>\n",
       "      <th>Column 1</th>\n",
       "      <th>Column 2</th>\n",
       "    </tr>\n",
       "  </thead>\n",
       "  <tbody>\n",
       "    <tr>\n",
       "      <th>0</th>\n",
       "      <td>1</td>\n",
       "      <td>3</td>\n",
       "    </tr>\n",
       "    <tr>\n",
       "      <th>1</th>\n",
       "      <td>2</td>\n",
       "      <td>4</td>\n",
       "    </tr>\n",
       "  </tbody>\n",
       "</table>\n",
       "</div>"
      ],
      "text/plain": [
       "   Column 1  Column 2\n",
       "0         1         3\n",
       "1         2         4"
      ]
     },
     "execution_count": 17,
     "metadata": {},
     "output_type": "execute_result"
    }
   ],
   "source": [
    "d = {'Column 1': [1, 2], 'Column 2': [3, 4]} # d is a dictionary\n",
    "df = pd.DataFrame(d)\n",
    "df"
   ]
  },
  {
   "cell_type": "markdown",
   "id": "8d22e078",
   "metadata": {
    "slideshow": {
     "slide_type": "slide"
    }
   },
   "source": [
    "###  Example of Pandas data frame with explicit labels defined for rows and for columns"
   ]
  },
  {
   "cell_type": "code",
   "execution_count": 18,
   "id": "784cc7ae",
   "metadata": {
    "slideshow": {
     "slide_type": "-"
    }
   },
   "outputs": [
    {
     "data": {
      "text/html": [
       "<div>\n",
       "<style scoped>\n",
       "    .dataframe tbody tr th:only-of-type {\n",
       "        vertical-align: middle;\n",
       "    }\n",
       "\n",
       "    .dataframe tbody tr th {\n",
       "        vertical-align: top;\n",
       "    }\n",
       "\n",
       "    .dataframe thead th {\n",
       "        text-align: right;\n",
       "    }\n",
       "</style>\n",
       "<table border=\"1\" class=\"dataframe\">\n",
       "  <thead>\n",
       "    <tr style=\"text-align: right;\">\n",
       "      <th></th>\n",
       "      <th>Feature x1</th>\n",
       "      <th>Feature x2</th>\n",
       "      <th>Feature x3</th>\n",
       "      <th>Feature x4</th>\n",
       "      <th>Target y</th>\n",
       "    </tr>\n",
       "  </thead>\n",
       "  <tbody>\n",
       "    <tr>\n",
       "      <th>Obs 1</th>\n",
       "      <td>0.823268</td>\n",
       "      <td>0.606808</td>\n",
       "      <td>0.501033</td>\n",
       "      <td>0.785575</td>\n",
       "      <td>0.633185</td>\n",
       "    </tr>\n",
       "    <tr>\n",
       "      <th>Obs 2</th>\n",
       "      <td>0.179363</td>\n",
       "      <td>0.064157</td>\n",
       "      <td>0.430555</td>\n",
       "      <td>0.559991</td>\n",
       "      <td>0.958436</td>\n",
       "    </tr>\n",
       "    <tr>\n",
       "      <th>Obs 3</th>\n",
       "      <td>0.985134</td>\n",
       "      <td>0.092762</td>\n",
       "      <td>0.841418</td>\n",
       "      <td>0.682580</td>\n",
       "      <td>0.503510</td>\n",
       "    </tr>\n",
       "    <tr>\n",
       "      <th>Obs 4</th>\n",
       "      <td>0.507461</td>\n",
       "      <td>0.815026</td>\n",
       "      <td>0.286085</td>\n",
       "      <td>0.938642</td>\n",
       "      <td>0.836428</td>\n",
       "    </tr>\n",
       "    <tr>\n",
       "      <th>Obs 5</th>\n",
       "      <td>0.475012</td>\n",
       "      <td>0.375248</td>\n",
       "      <td>0.640844</td>\n",
       "      <td>0.118999</td>\n",
       "      <td>0.031850</td>\n",
       "    </tr>\n",
       "  </tbody>\n",
       "</table>\n",
       "</div>"
      ],
      "text/plain": [
       "       Feature x1  Feature x2  Feature x3  Feature x4  Target y\n",
       "Obs 1    0.823268    0.606808    0.501033    0.785575  0.633185\n",
       "Obs 2    0.179363    0.064157    0.430555    0.559991  0.958436\n",
       "Obs 3    0.985134    0.092762    0.841418    0.682580  0.503510\n",
       "Obs 4    0.507461    0.815026    0.286085    0.938642  0.836428\n",
       "Obs 5    0.475012    0.375248    0.640844    0.118999  0.031850"
      ]
     },
     "execution_count": 18,
     "metadata": {},
     "output_type": "execute_result"
    }
   ],
   "source": [
    "import numpy as np\n",
    "data = pd.DataFrame(np.random.rand(5, 5),\n",
    "                    columns = ['Feature x1', 'Feature x2', 'Feature x3', 'Feature x4', 'Target y'],\n",
    "                    index = ['Obs 1', 'Obs 2', 'Obs 3', 'Obs 4', 'Obs 5'])\n",
    "data"
   ]
  },
  {
   "cell_type": "markdown",
   "id": "63914d91",
   "metadata": {
    "slideshow": {
     "slide_type": "slide"
    }
   },
   "source": [
    "### From a file \n",
    "Pandas data frames can be created by loading a dataset from a file. Several formats are possible (CSV, Excel,...), *CSV* is standard.\n",
    "\n",
    "- A CSV file can be loaded with the Pandas method `read_csv`.\n",
    "\n",
    "- Row index and column names can be explicitly defined when loading data. A column can be used as row index.\n",
    "\n",
    "- If not provided, by default Pandas automatically assigns a row index and uses the first row as header to assign column names."
   ]
  },
  {
   "cell_type": "markdown",
   "id": "559cc761",
   "metadata": {
    "slideshow": {
     "slide_type": "slide"
    }
   },
   "source": [
    "#### From a CSV file"
   ]
  },
  {
   "cell_type": "code",
   "execution_count": 19,
   "id": "1bd66a36",
   "metadata": {
    "scrolled": true,
    "slideshow": {
     "slide_type": "-"
    }
   },
   "outputs": [
    {
     "name": "stdout",
     "output_type": "stream",
     "text": [
      "a,b,c,d,color\n",
      "1,2,3,4,blue\n",
      "5,6,7,8,purple\n",
      "9,10,11,12,red\n"
     ]
    }
   ],
   "source": [
    "# Let's start with a fictitious, simple dataset\n",
    "%cat simple.csv"
   ]
  },
  {
   "cell_type": "code",
   "execution_count": 20,
   "id": "b2bd3751",
   "metadata": {
    "slideshow": {
     "slide_type": "-"
    }
   },
   "outputs": [
    {
     "name": "stdout",
     "output_type": "stream",
     "text": [
      "   a   b   c   d   color\n",
      "0  1   2   3   4    blue\n",
      "1  5   6   7   8  purple\n",
      "2  9  10  11  12     red\n"
     ]
    }
   ],
   "source": [
    "# Load the contents of a CSV file into a DataFrame using 'read_csv'\n",
    "df = pd.read_csv('simple.csv')\n",
    "print(df)"
   ]
  },
  {
   "cell_type": "code",
   "execution_count": 21,
   "id": "16b9cd15",
   "metadata": {
    "slideshow": {
     "slide_type": "-"
    }
   },
   "outputs": [
    {
     "name": "stdout",
     "output_type": "stream",
     "text": [
      "['a' 'b' 'c' 'd' 'color']\n"
     ]
    }
   ],
   "source": [
    "# The first row is considered a header and used to define column names\n",
    "print(df.columns.values)"
   ]
  },
  {
   "cell_type": "code",
   "execution_count": 22,
   "id": "f4a77a64",
   "metadata": {
    "scrolled": true,
    "slideshow": {
     "slide_type": "subslide"
    }
   },
   "outputs": [
    {
     "name": "stdout",
     "output_type": "stream",
     "text": [
      "  x1  x2  x3  x4       y\n",
      "0  a   b   c   d   color\n",
      "1  1   2   3   4    blue\n",
      "2  5   6   7   8  purple\n",
      "3  9  10  11  12     red\n"
     ]
    }
   ],
   "source": [
    "# Specify column names explicitly\n",
    "df = pd.read_csv('simple.csv', names = ['x1','x2','x3','x4','y'])\n",
    "print(df)"
   ]
  },
  {
   "cell_type": "code",
   "execution_count": 23,
   "id": "f467cabc",
   "metadata": {
    "slideshow": {
     "slide_type": "-"
    }
   },
   "outputs": [
    {
     "name": "stdout",
     "output_type": "stream",
     "text": [
      "['x1' 'x2' 'x3' 'x4' 'y']\n"
     ]
    }
   ],
   "source": [
    "print(df.columns.values)"
   ]
  },
  {
   "cell_type": "code",
   "execution_count": 24,
   "id": "2cb79c81",
   "metadata": {
    "slideshow": {
     "slide_type": "slide"
    }
   },
   "outputs": [
    {
     "name": "stdout",
     "output_type": "stream",
     "text": [
      "       x1  x2  x3  x4\n",
      "y                    \n",
      "color   a   b   c   d\n",
      "blue    1   2   3   4\n",
      "purple  5   6   7   8\n",
      "red     9  10  11  12\n"
     ]
    }
   ],
   "source": [
    "# An existing column can be defined as the index \n",
    "df = pd.read_csv('simple.csv',names=['x1','x2','x3','x4','y'],index_col='y')\n",
    "print(df)"
   ]
  },
  {
   "cell_type": "code",
   "execution_count": 25,
   "id": "f4a611b7",
   "metadata": {
    "slideshow": {
     "slide_type": "-"
    }
   },
   "outputs": [
    {
     "name": "stdout",
     "output_type": "stream",
     "text": [
      "['color' 'blue' 'purple' 'red']\n"
     ]
    }
   ],
   "source": [
    "print(df.index.values)"
   ]
  },
  {
   "cell_type": "code",
   "execution_count": 26,
   "id": "8a9b7418",
   "metadata": {
    "slideshow": {
     "slide_type": "slide"
    }
   },
   "outputs": [
    {
     "data": {
      "text/html": [
       "<div>\n",
       "<style scoped>\n",
       "    .dataframe tbody tr th:only-of-type {\n",
       "        vertical-align: middle;\n",
       "    }\n",
       "\n",
       "    .dataframe tbody tr th {\n",
       "        vertical-align: top;\n",
       "    }\n",
       "\n",
       "    .dataframe thead th {\n",
       "        text-align: right;\n",
       "    }\n",
       "</style>\n",
       "<table border=\"1\" class=\"dataframe\">\n",
       "  <thead>\n",
       "    <tr style=\"text-align: right;\">\n",
       "      <th></th>\n",
       "      <th>Position</th>\n",
       "      <th>Const</th>\n",
       "      <th>Created</th>\n",
       "      <th>Modified</th>\n",
       "      <th>Description</th>\n",
       "      <th>Title</th>\n",
       "      <th>URL</th>\n",
       "      <th>Title Type</th>\n",
       "      <th>IMDb Rating</th>\n",
       "      <th>Runtime (mins)</th>\n",
       "      <th>Year</th>\n",
       "      <th>Genres</th>\n",
       "      <th>Num Votes</th>\n",
       "      <th>Release Date</th>\n",
       "      <th>Directors</th>\n",
       "    </tr>\n",
       "  </thead>\n",
       "  <tbody>\n",
       "    <tr>\n",
       "      <th>0</th>\n",
       "      <td>1</td>\n",
       "      <td>tt0382932</td>\n",
       "      <td>2012-09-02</td>\n",
       "      <td>2012-09-02</td>\n",
       "      <td>NaN</td>\n",
       "      <td>Ratatouille</td>\n",
       "      <td>https://www.imdb.com/title/tt0382932/</td>\n",
       "      <td>movie</td>\n",
       "      <td>8.1</td>\n",
       "      <td>111</td>\n",
       "      <td>2007</td>\n",
       "      <td>Animation, Adventure, Comedy, Family, Fantasy</td>\n",
       "      <td>726444</td>\n",
       "      <td>2007-06-22</td>\n",
       "      <td>Brad Bird, Jan Pinkava</td>\n",
       "    </tr>\n",
       "    <tr>\n",
       "      <th>1</th>\n",
       "      <td>2</td>\n",
       "      <td>tt0266543</td>\n",
       "      <td>2012-09-02</td>\n",
       "      <td>2012-09-02</td>\n",
       "      <td>NaN</td>\n",
       "      <td>Finding Nemo</td>\n",
       "      <td>https://www.imdb.com/title/tt0266543/</td>\n",
       "      <td>movie</td>\n",
       "      <td>8.2</td>\n",
       "      <td>100</td>\n",
       "      <td>2003</td>\n",
       "      <td>Animation, Adventure, Comedy, Family</td>\n",
       "      <td>1034835</td>\n",
       "      <td>2003-05-18</td>\n",
       "      <td>Andrew Stanton, Lee Unkrich</td>\n",
       "    </tr>\n",
       "    <tr>\n",
       "      <th>2</th>\n",
       "      <td>3</td>\n",
       "      <td>tt0141109</td>\n",
       "      <td>2012-09-02</td>\n",
       "      <td>2012-09-02</td>\n",
       "      <td>Really sad movie :'( I cried bigtime!</td>\n",
       "      <td>Jack Frost</td>\n",
       "      <td>https://www.imdb.com/title/tt0141109/</td>\n",
       "      <td>movie</td>\n",
       "      <td>5.4</td>\n",
       "      <td>101</td>\n",
       "      <td>1998</td>\n",
       "      <td>Comedy, Drama, Family, Fantasy</td>\n",
       "      <td>36826</td>\n",
       "      <td>1998-11-15</td>\n",
       "      <td>Troy Miller</td>\n",
       "    </tr>\n",
       "    <tr>\n",
       "      <th>3</th>\n",
       "      <td>4</td>\n",
       "      <td>tt0952640</td>\n",
       "      <td>2012-09-02</td>\n",
       "      <td>2012-09-02</td>\n",
       "      <td>NaN</td>\n",
       "      <td>Alvin and the Chipmunks</td>\n",
       "      <td>https://www.imdb.com/title/tt0952640/</td>\n",
       "      <td>movie</td>\n",
       "      <td>5.2</td>\n",
       "      <td>92</td>\n",
       "      <td>2007</td>\n",
       "      <td>Animation, Adventure, Comedy, Drama, Family, F...</td>\n",
       "      <td>85999</td>\n",
       "      <td>2007-12-13</td>\n",
       "      <td>Tim Hill</td>\n",
       "    </tr>\n",
       "    <tr>\n",
       "      <th>4</th>\n",
       "      <td>5</td>\n",
       "      <td>tt0332379</td>\n",
       "      <td>2012-09-02</td>\n",
       "      <td>2012-09-02</td>\n",
       "      <td>NaN</td>\n",
       "      <td>School of Rock</td>\n",
       "      <td>https://www.imdb.com/title/tt0332379/</td>\n",
       "      <td>movie</td>\n",
       "      <td>7.2</td>\n",
       "      <td>109</td>\n",
       "      <td>2003</td>\n",
       "      <td>Comedy, Music</td>\n",
       "      <td>304868</td>\n",
       "      <td>2003-09-09</td>\n",
       "      <td>Richard Linklater</td>\n",
       "    </tr>\n",
       "    <tr>\n",
       "      <th>...</th>\n",
       "      <td>...</td>\n",
       "      <td>...</td>\n",
       "      <td>...</td>\n",
       "      <td>...</td>\n",
       "      <td>...</td>\n",
       "      <td>...</td>\n",
       "      <td>...</td>\n",
       "      <td>...</td>\n",
       "      <td>...</td>\n",
       "      <td>...</td>\n",
       "      <td>...</td>\n",
       "      <td>...</td>\n",
       "      <td>...</td>\n",
       "      <td>...</td>\n",
       "      <td>...</td>\n",
       "    </tr>\n",
       "    <tr>\n",
       "      <th>249</th>\n",
       "      <td>250</td>\n",
       "      <td>tt2702724</td>\n",
       "      <td>2021-12-10</td>\n",
       "      <td>2021-12-10</td>\n",
       "      <td>NaN</td>\n",
       "      <td>The Boss</td>\n",
       "      <td>https://www.imdb.com/title/tt2702724/</td>\n",
       "      <td>movie</td>\n",
       "      <td>5.4</td>\n",
       "      <td>99</td>\n",
       "      <td>2016</td>\n",
       "      <td>Comedy</td>\n",
       "      <td>46541</td>\n",
       "      <td>2016-03-21</td>\n",
       "      <td>Ben Falcone</td>\n",
       "    </tr>\n",
       "    <tr>\n",
       "      <th>250</th>\n",
       "      <td>251</td>\n",
       "      <td>tt13834006</td>\n",
       "      <td>2022-02-05</td>\n",
       "      <td>2022-02-05</td>\n",
       "      <td>NaN</td>\n",
       "      <td>Huit Rue de l'Humanite</td>\n",
       "      <td>https://www.imdb.com/title/tt13834006/</td>\n",
       "      <td>movie</td>\n",
       "      <td>6.3</td>\n",
       "      <td>125</td>\n",
       "      <td>2021</td>\n",
       "      <td>Comedy</td>\n",
       "      <td>7096</td>\n",
       "      <td>2021-10-20</td>\n",
       "      <td>Dany Boon</td>\n",
       "    </tr>\n",
       "    <tr>\n",
       "      <th>251</th>\n",
       "      <td>252</td>\n",
       "      <td>tt14592064</td>\n",
       "      <td>2022-02-19</td>\n",
       "      <td>2022-02-19</td>\n",
       "      <td>NaN</td>\n",
       "      <td>Home Team</td>\n",
       "      <td>https://www.imdb.com/title/tt14592064/</td>\n",
       "      <td>movie</td>\n",
       "      <td>6.0</td>\n",
       "      <td>95</td>\n",
       "      <td>2022</td>\n",
       "      <td>Comedy, Sport</td>\n",
       "      <td>18494</td>\n",
       "      <td>2022-01-28</td>\n",
       "      <td>Charles Kinnane, Daniel Kinnane</td>\n",
       "    </tr>\n",
       "    <tr>\n",
       "      <th>252</th>\n",
       "      <td>253</td>\n",
       "      <td>tt2463208</td>\n",
       "      <td>2022-03-16</td>\n",
       "      <td>2022-03-16</td>\n",
       "      <td>NaN</td>\n",
       "      <td>The Adam Project</td>\n",
       "      <td>https://www.imdb.com/title/tt2463208/</td>\n",
       "      <td>movie</td>\n",
       "      <td>6.7</td>\n",
       "      <td>106</td>\n",
       "      <td>2022</td>\n",
       "      <td>Action, Adventure, Comedy, Sci-Fi</td>\n",
       "      <td>193809</td>\n",
       "      <td>2022-02-28</td>\n",
       "      <td>Shawn Levy</td>\n",
       "    </tr>\n",
       "    <tr>\n",
       "      <th>253</th>\n",
       "      <td>254</td>\n",
       "      <td>tt4593060</td>\n",
       "      <td>2022-09-11</td>\n",
       "      <td>2022-09-11</td>\n",
       "      <td>NaN</td>\n",
       "      <td>Pinocchio</td>\n",
       "      <td>https://www.imdb.com/title/tt4593060/</td>\n",
       "      <td>movie</td>\n",
       "      <td>5.1</td>\n",
       "      <td>105</td>\n",
       "      <td>2022</td>\n",
       "      <td>Adventure, Comedy, Drama, Family, Fantasy, Mus...</td>\n",
       "      <td>25355</td>\n",
       "      <td>2022-09-08</td>\n",
       "      <td>Robert Zemeckis</td>\n",
       "    </tr>\n",
       "  </tbody>\n",
       "</table>\n",
       "<p>254 rows × 15 columns</p>\n",
       "</div>"
      ],
      "text/plain": [
       "     Position       Const     Created    Modified  \\\n",
       "0           1   tt0382932  2012-09-02  2012-09-02   \n",
       "1           2   tt0266543  2012-09-02  2012-09-02   \n",
       "2           3   tt0141109  2012-09-02  2012-09-02   \n",
       "3           4   tt0952640  2012-09-02  2012-09-02   \n",
       "4           5   tt0332379  2012-09-02  2012-09-02   \n",
       "..        ...         ...         ...         ...   \n",
       "249       250   tt2702724  2021-12-10  2021-12-10   \n",
       "250       251  tt13834006  2022-02-05  2022-02-05   \n",
       "251       252  tt14592064  2022-02-19  2022-02-19   \n",
       "252       253   tt2463208  2022-03-16  2022-03-16   \n",
       "253       254   tt4593060  2022-09-11  2022-09-11   \n",
       "\n",
       "                               Description                    Title  \\\n",
       "0                                      NaN              Ratatouille   \n",
       "1                                      NaN             Finding Nemo   \n",
       "2    Really sad movie :'( I cried bigtime!               Jack Frost   \n",
       "3                                      NaN  Alvin and the Chipmunks   \n",
       "4                                      NaN           School of Rock   \n",
       "..                                     ...                      ...   \n",
       "249                                    NaN                 The Boss   \n",
       "250                                    NaN   Huit Rue de l'Humanite   \n",
       "251                                    NaN                Home Team   \n",
       "252                                    NaN         The Adam Project   \n",
       "253                                    NaN                Pinocchio   \n",
       "\n",
       "                                        URL Title Type  IMDb Rating  \\\n",
       "0     https://www.imdb.com/title/tt0382932/      movie          8.1   \n",
       "1     https://www.imdb.com/title/tt0266543/      movie          8.2   \n",
       "2     https://www.imdb.com/title/tt0141109/      movie          5.4   \n",
       "3     https://www.imdb.com/title/tt0952640/      movie          5.2   \n",
       "4     https://www.imdb.com/title/tt0332379/      movie          7.2   \n",
       "..                                      ...        ...          ...   \n",
       "249   https://www.imdb.com/title/tt2702724/      movie          5.4   \n",
       "250  https://www.imdb.com/title/tt13834006/      movie          6.3   \n",
       "251  https://www.imdb.com/title/tt14592064/      movie          6.0   \n",
       "252   https://www.imdb.com/title/tt2463208/      movie          6.7   \n",
       "253   https://www.imdb.com/title/tt4593060/      movie          5.1   \n",
       "\n",
       "     Runtime (mins)  Year                                             Genres  \\\n",
       "0               111  2007      Animation, Adventure, Comedy, Family, Fantasy   \n",
       "1               100  2003               Animation, Adventure, Comedy, Family   \n",
       "2               101  1998                     Comedy, Drama, Family, Fantasy   \n",
       "3                92  2007  Animation, Adventure, Comedy, Drama, Family, F...   \n",
       "4               109  2003                                      Comedy, Music   \n",
       "..              ...   ...                                                ...   \n",
       "249              99  2016                                             Comedy   \n",
       "250             125  2021                                             Comedy   \n",
       "251              95  2022                                      Comedy, Sport   \n",
       "252             106  2022                  Action, Adventure, Comedy, Sci-Fi   \n",
       "253             105  2022  Adventure, Comedy, Drama, Family, Fantasy, Mus...   \n",
       "\n",
       "     Num Votes Release Date                        Directors  \n",
       "0       726444   2007-06-22           Brad Bird, Jan Pinkava  \n",
       "1      1034835   2003-05-18      Andrew Stanton, Lee Unkrich  \n",
       "2        36826   1998-11-15                      Troy Miller  \n",
       "3        85999   2007-12-13                         Tim Hill  \n",
       "4       304868   2003-09-09                Richard Linklater  \n",
       "..         ...          ...                              ...  \n",
       "249      46541   2016-03-21                      Ben Falcone  \n",
       "250       7096   2021-10-20                        Dany Boon  \n",
       "251      18494   2022-01-28  Charles Kinnane, Daniel Kinnane  \n",
       "252     193809   2022-02-28                       Shawn Levy  \n",
       "253      25355   2022-09-08                  Robert Zemeckis  \n",
       "\n",
       "[254 rows x 15 columns]"
      ]
     },
     "execution_count": 26,
     "metadata": {},
     "output_type": "execute_result"
    }
   ],
   "source": [
    "# Let's also look at a more typical example of input file\n",
    "data = pd.read_csv('IMDB-Movie-Data.csv')\n",
    "data  "
   ]
  },
  {
   "cell_type": "markdown",
   "id": "9b2ce925",
   "metadata": {
    "slideshow": {
     "slide_type": "slide"
    }
   },
   "source": [
    "#### From a JSON file"
   ]
  },
  {
   "cell_type": "code",
   "execution_count": 27,
   "id": "5c072938",
   "metadata": {
    "slideshow": {
     "slide_type": "-"
    }
   },
   "outputs": [
    {
     "data": {
      "text/html": [
       "<div>\n",
       "<style scoped>\n",
       "    .dataframe tbody tr th:only-of-type {\n",
       "        vertical-align: middle;\n",
       "    }\n",
       "\n",
       "    .dataframe tbody tr th {\n",
       "        vertical-align: top;\n",
       "    }\n",
       "\n",
       "    .dataframe thead th {\n",
       "        text-align: right;\n",
       "    }\n",
       "</style>\n",
       "<table border=\"1\" class=\"dataframe\">\n",
       "  <thead>\n",
       "    <tr style=\"text-align: right;\">\n",
       "      <th></th>\n",
       "      <th>Position</th>\n",
       "      <th>Const</th>\n",
       "      <th>Created</th>\n",
       "      <th>Modified</th>\n",
       "      <th>Description</th>\n",
       "      <th>Title</th>\n",
       "      <th>URL</th>\n",
       "      <th>Title Type</th>\n",
       "      <th>IMDb Rating</th>\n",
       "      <th>Runtime (mins)</th>\n",
       "      <th>Year</th>\n",
       "      <th>Genres</th>\n",
       "      <th>Num Votes</th>\n",
       "      <th>Release Date</th>\n",
       "      <th>Directors</th>\n",
       "    </tr>\n",
       "  </thead>\n",
       "  <tbody>\n",
       "    <tr>\n",
       "      <th>0</th>\n",
       "      <td>1</td>\n",
       "      <td>tt0382932</td>\n",
       "      <td>2012-09-02</td>\n",
       "      <td>2012-09-02</td>\n",
       "      <td>None</td>\n",
       "      <td>Ratatouille</td>\n",
       "      <td>https://www.imdb.com/title/tt0382932/</td>\n",
       "      <td>movie</td>\n",
       "      <td>8.1</td>\n",
       "      <td>111</td>\n",
       "      <td>2007</td>\n",
       "      <td>Animation, Adventure, Comedy, Family, Fantasy</td>\n",
       "      <td>726444</td>\n",
       "      <td>2007-06-22</td>\n",
       "      <td>Brad Bird, Jan Pinkava</td>\n",
       "    </tr>\n",
       "    <tr>\n",
       "      <th>1</th>\n",
       "      <td>2</td>\n",
       "      <td>tt0266543</td>\n",
       "      <td>2012-09-02</td>\n",
       "      <td>2012-09-02</td>\n",
       "      <td>None</td>\n",
       "      <td>Finding Nemo</td>\n",
       "      <td>https://www.imdb.com/title/tt0266543/</td>\n",
       "      <td>movie</td>\n",
       "      <td>8.2</td>\n",
       "      <td>100</td>\n",
       "      <td>2003</td>\n",
       "      <td>Animation, Adventure, Comedy, Family</td>\n",
       "      <td>1034835</td>\n",
       "      <td>2003-05-18</td>\n",
       "      <td>Andrew Stanton, Lee Unkrich</td>\n",
       "    </tr>\n",
       "    <tr>\n",
       "      <th>2</th>\n",
       "      <td>3</td>\n",
       "      <td>tt0141109</td>\n",
       "      <td>2012-09-02</td>\n",
       "      <td>2012-09-02</td>\n",
       "      <td>Really sad movie :'( I cried bigtime!</td>\n",
       "      <td>Jack Frost</td>\n",
       "      <td>https://www.imdb.com/title/tt0141109/</td>\n",
       "      <td>movie</td>\n",
       "      <td>5.4</td>\n",
       "      <td>101</td>\n",
       "      <td>1998</td>\n",
       "      <td>Comedy, Drama, Family, Fantasy</td>\n",
       "      <td>36826</td>\n",
       "      <td>1998-11-15</td>\n",
       "      <td>Troy Miller</td>\n",
       "    </tr>\n",
       "    <tr>\n",
       "      <th>3</th>\n",
       "      <td>4</td>\n",
       "      <td>tt0952640</td>\n",
       "      <td>2012-09-02</td>\n",
       "      <td>2012-09-02</td>\n",
       "      <td>None</td>\n",
       "      <td>Alvin and the Chipmunks</td>\n",
       "      <td>https://www.imdb.com/title/tt0952640/</td>\n",
       "      <td>movie</td>\n",
       "      <td>5.2</td>\n",
       "      <td>92</td>\n",
       "      <td>2007</td>\n",
       "      <td>Animation, Adventure, Comedy, Drama, Family, F...</td>\n",
       "      <td>85999</td>\n",
       "      <td>2007-12-13</td>\n",
       "      <td>Tim Hill</td>\n",
       "    </tr>\n",
       "    <tr>\n",
       "      <th>4</th>\n",
       "      <td>5</td>\n",
       "      <td>tt0332379</td>\n",
       "      <td>2012-09-02</td>\n",
       "      <td>2012-09-02</td>\n",
       "      <td>None</td>\n",
       "      <td>School of Rock</td>\n",
       "      <td>https://www.imdb.com/title/tt0332379/</td>\n",
       "      <td>movie</td>\n",
       "      <td>7.2</td>\n",
       "      <td>109</td>\n",
       "      <td>2003</td>\n",
       "      <td>Comedy, Music</td>\n",
       "      <td>304868</td>\n",
       "      <td>2003-09-09</td>\n",
       "      <td>Richard Linklater</td>\n",
       "    </tr>\n",
       "    <tr>\n",
       "      <th>...</th>\n",
       "      <td>...</td>\n",
       "      <td>...</td>\n",
       "      <td>...</td>\n",
       "      <td>...</td>\n",
       "      <td>...</td>\n",
       "      <td>...</td>\n",
       "      <td>...</td>\n",
       "      <td>...</td>\n",
       "      <td>...</td>\n",
       "      <td>...</td>\n",
       "      <td>...</td>\n",
       "      <td>...</td>\n",
       "      <td>...</td>\n",
       "      <td>...</td>\n",
       "      <td>...</td>\n",
       "    </tr>\n",
       "    <tr>\n",
       "      <th>249</th>\n",
       "      <td>250</td>\n",
       "      <td>tt2702724</td>\n",
       "      <td>2021-12-10</td>\n",
       "      <td>2021-12-10</td>\n",
       "      <td>None</td>\n",
       "      <td>The Boss</td>\n",
       "      <td>https://www.imdb.com/title/tt2702724/</td>\n",
       "      <td>movie</td>\n",
       "      <td>5.4</td>\n",
       "      <td>99</td>\n",
       "      <td>2016</td>\n",
       "      <td>Comedy</td>\n",
       "      <td>46541</td>\n",
       "      <td>2016-03-21</td>\n",
       "      <td>Ben Falcone</td>\n",
       "    </tr>\n",
       "    <tr>\n",
       "      <th>250</th>\n",
       "      <td>251</td>\n",
       "      <td>tt13834006</td>\n",
       "      <td>2022-02-05</td>\n",
       "      <td>2022-02-05</td>\n",
       "      <td>None</td>\n",
       "      <td>Huit Rue de l'Humanite</td>\n",
       "      <td>https://www.imdb.com/title/tt13834006/</td>\n",
       "      <td>movie</td>\n",
       "      <td>6.3</td>\n",
       "      <td>125</td>\n",
       "      <td>2021</td>\n",
       "      <td>Comedy</td>\n",
       "      <td>7096</td>\n",
       "      <td>2021-10-20</td>\n",
       "      <td>Dany Boon</td>\n",
       "    </tr>\n",
       "    <tr>\n",
       "      <th>251</th>\n",
       "      <td>252</td>\n",
       "      <td>tt14592064</td>\n",
       "      <td>2022-02-19</td>\n",
       "      <td>2022-02-19</td>\n",
       "      <td>None</td>\n",
       "      <td>Home Team</td>\n",
       "      <td>https://www.imdb.com/title/tt14592064/</td>\n",
       "      <td>movie</td>\n",
       "      <td>6.0</td>\n",
       "      <td>95</td>\n",
       "      <td>2022</td>\n",
       "      <td>Comedy, Sport</td>\n",
       "      <td>18494</td>\n",
       "      <td>2022-01-28</td>\n",
       "      <td>Charles Kinnane, Daniel Kinnane</td>\n",
       "    </tr>\n",
       "    <tr>\n",
       "      <th>252</th>\n",
       "      <td>253</td>\n",
       "      <td>tt2463208</td>\n",
       "      <td>2022-03-16</td>\n",
       "      <td>2022-03-16</td>\n",
       "      <td>None</td>\n",
       "      <td>The Adam Project</td>\n",
       "      <td>https://www.imdb.com/title/tt2463208/</td>\n",
       "      <td>movie</td>\n",
       "      <td>6.7</td>\n",
       "      <td>106</td>\n",
       "      <td>2022</td>\n",
       "      <td>Action, Adventure, Comedy, Sci-Fi</td>\n",
       "      <td>193809</td>\n",
       "      <td>2022-02-28</td>\n",
       "      <td>Shawn Levy</td>\n",
       "    </tr>\n",
       "    <tr>\n",
       "      <th>253</th>\n",
       "      <td>254</td>\n",
       "      <td>tt4593060</td>\n",
       "      <td>2022-09-11</td>\n",
       "      <td>2022-09-11</td>\n",
       "      <td>None</td>\n",
       "      <td>Pinocchio</td>\n",
       "      <td>https://www.imdb.com/title/tt4593060/</td>\n",
       "      <td>movie</td>\n",
       "      <td>5.1</td>\n",
       "      <td>105</td>\n",
       "      <td>2022</td>\n",
       "      <td>Adventure, Comedy, Drama, Family, Fantasy, Mus...</td>\n",
       "      <td>25355</td>\n",
       "      <td>2022-09-08</td>\n",
       "      <td>Robert Zemeckis</td>\n",
       "    </tr>\n",
       "  </tbody>\n",
       "</table>\n",
       "<p>254 rows × 15 columns</p>\n",
       "</div>"
      ],
      "text/plain": [
       "     Position       Const     Created   Modified  \\\n",
       "0           1   tt0382932  2012-09-02 2012-09-02   \n",
       "1           2   tt0266543  2012-09-02 2012-09-02   \n",
       "2           3   tt0141109  2012-09-02 2012-09-02   \n",
       "3           4   tt0952640  2012-09-02 2012-09-02   \n",
       "4           5   tt0332379  2012-09-02 2012-09-02   \n",
       "..        ...         ...         ...        ...   \n",
       "249       250   tt2702724  2021-12-10 2021-12-10   \n",
       "250       251  tt13834006  2022-02-05 2022-02-05   \n",
       "251       252  tt14592064  2022-02-19 2022-02-19   \n",
       "252       253   tt2463208  2022-03-16 2022-03-16   \n",
       "253       254   tt4593060  2022-09-11 2022-09-11   \n",
       "\n",
       "                               Description                    Title  \\\n",
       "0                                     None              Ratatouille   \n",
       "1                                     None             Finding Nemo   \n",
       "2    Really sad movie :'( I cried bigtime!               Jack Frost   \n",
       "3                                     None  Alvin and the Chipmunks   \n",
       "4                                     None           School of Rock   \n",
       "..                                     ...                      ...   \n",
       "249                                   None                 The Boss   \n",
       "250                                   None   Huit Rue de l'Humanite   \n",
       "251                                   None                Home Team   \n",
       "252                                   None         The Adam Project   \n",
       "253                                   None                Pinocchio   \n",
       "\n",
       "                                        URL Title Type  IMDb Rating  \\\n",
       "0     https://www.imdb.com/title/tt0382932/      movie          8.1   \n",
       "1     https://www.imdb.com/title/tt0266543/      movie          8.2   \n",
       "2     https://www.imdb.com/title/tt0141109/      movie          5.4   \n",
       "3     https://www.imdb.com/title/tt0952640/      movie          5.2   \n",
       "4     https://www.imdb.com/title/tt0332379/      movie          7.2   \n",
       "..                                      ...        ...          ...   \n",
       "249   https://www.imdb.com/title/tt2702724/      movie          5.4   \n",
       "250  https://www.imdb.com/title/tt13834006/      movie          6.3   \n",
       "251  https://www.imdb.com/title/tt14592064/      movie          6.0   \n",
       "252   https://www.imdb.com/title/tt2463208/      movie          6.7   \n",
       "253   https://www.imdb.com/title/tt4593060/      movie          5.1   \n",
       "\n",
       "     Runtime (mins)  Year                                             Genres  \\\n",
       "0               111  2007      Animation, Adventure, Comedy, Family, Fantasy   \n",
       "1               100  2003               Animation, Adventure, Comedy, Family   \n",
       "2               101  1998                     Comedy, Drama, Family, Fantasy   \n",
       "3                92  2007  Animation, Adventure, Comedy, Drama, Family, F...   \n",
       "4               109  2003                                      Comedy, Music   \n",
       "..              ...   ...                                                ...   \n",
       "249              99  2016                                             Comedy   \n",
       "250             125  2021                                             Comedy   \n",
       "251              95  2022                                      Comedy, Sport   \n",
       "252             106  2022                  Action, Adventure, Comedy, Sci-Fi   \n",
       "253             105  2022  Adventure, Comedy, Drama, Family, Fantasy, Mus...   \n",
       "\n",
       "     Num Votes Release Date                        Directors  \n",
       "0       726444   2007-06-22           Brad Bird, Jan Pinkava  \n",
       "1      1034835   2003-05-18      Andrew Stanton, Lee Unkrich  \n",
       "2        36826   1998-11-15                      Troy Miller  \n",
       "3        85999   2007-12-13                         Tim Hill  \n",
       "4       304868   2003-09-09                Richard Linklater  \n",
       "..         ...          ...                              ...  \n",
       "249      46541   2016-03-21                      Ben Falcone  \n",
       "250       7096   2021-10-20                        Dany Boon  \n",
       "251      18494   2022-01-28  Charles Kinnane, Daniel Kinnane  \n",
       "252     193809   2022-02-28                       Shawn Levy  \n",
       "253      25355   2022-09-08                  Robert Zemeckis  \n",
       "\n",
       "[254 rows x 15 columns]"
      ]
     },
     "execution_count": 27,
     "metadata": {},
     "output_type": "execute_result"
    }
   ],
   "source": [
    "# Load the contents of a json file into a DataFrame using 'read_json'\n",
    "data = pd.read_json('IMDB-Movie-Data.json')\n",
    "data    "
   ]
  },
  {
   "cell_type": "markdown",
   "id": "e84ec86e",
   "metadata": {
    "slideshow": {
     "slide_type": "slide"
    }
   },
   "source": [
    "## Pandas Index Object\n",
    "\n",
    "A Pandas ``Index`` object stores row index labels attached to Pandas objects. It is an immutable array implementing an **ordered, sliceable set of values**.\n"
   ]
  },
  {
   "cell_type": "code",
   "execution_count": 28,
   "id": "4d11f9ed",
   "metadata": {
    "slideshow": {
     "slide_type": "-"
    }
   },
   "outputs": [
    {
     "data": {
      "text/plain": [
       "Index(['color', 'blue', 'purple', 'red'], dtype='object', name='y')"
      ]
     },
     "execution_count": 28,
     "metadata": {},
     "output_type": "execute_result"
    }
   ],
   "source": [
    "df.index"
   ]
  },
  {
   "cell_type": "code",
   "execution_count": 29,
   "id": "0afe2ca7",
   "metadata": {
    "slideshow": {
     "slide_type": "-"
    }
   },
   "outputs": [
    {
     "name": "stdout",
     "output_type": "stream",
     "text": [
      "['color' 'blue' 'purple' 'red']\n"
     ]
    }
   ],
   "source": [
    "print(df.index.values)"
   ]
  },
  {
   "cell_type": "code",
   "execution_count": 31,
   "id": "9fe2f152",
   "metadata": {
    "slideshow": {
     "slide_type": "slide"
    }
   },
   "outputs": [
    {
     "data": {
      "text/plain": [
       "Index([  0,   1,   2,   3,   4,   5,   6,   7,   8,   9,\n",
       "       ...\n",
       "       244, 245, 246, 247, 248, 249, 250, 251, 252, 253],\n",
       "      dtype='int64', length=254)"
      ]
     },
     "execution_count": 31,
     "metadata": {},
     "output_type": "execute_result"
    }
   ],
   "source": [
    "data.index"
   ]
  },
  {
   "cell_type": "code",
   "execution_count": 32,
   "id": "75db090c",
   "metadata": {
    "slideshow": {
     "slide_type": "-"
    }
   },
   "outputs": [
    {
     "name": "stdout",
     "output_type": "stream",
     "text": [
      "[  0   1   2   3   4   5   6   7   8   9  10  11  12  13  14  15  16  17\n",
      "  18  19  20  21  22  23  24  25  26  27  28  29  30  31  32  33  34  35\n",
      "  36  37  38  39  40  41  42  43  44  45  46  47  48  49  50  51  52  53\n",
      "  54  55  56  57  58  59  60  61  62  63  64  65  66  67  68  69  70  71\n",
      "  72  73  74  75  76  77  78  79  80  81  82  83  84  85  86  87  88  89\n",
      "  90  91  92  93  94  95  96  97  98  99 100 101 102 103 104 105 106 107\n",
      " 108 109 110 111 112 113 114 115 116 117 118 119 120 121 122 123 124 125\n",
      " 126 127 128 129 130 131 132 133 134 135 136 137 138 139 140 141 142 143\n",
      " 144 145 146 147 148 149 150 151 152 153 154 155 156 157 158 159 160 161\n",
      " 162 163 164 165 166 167 168 169 170 171 172 173 174 175 176 177 178 179\n",
      " 180 181 182 183 184 185 186 187 188 189 190 191 192 193 194 195 196 197\n",
      " 198 199 200 201 202 203 204 205 206 207 208 209 210 211 212 213 214 215\n",
      " 216 217 218 219 220 221 222 223 224 225 226 227 228 229 230 231 232 233\n",
      " 234 235 236 237 238 239 240 241 242 243 244 245 246 247 248 249 250 251\n",
      " 252 253]\n"
     ]
    }
   ],
   "source": [
    "print(data.index.values)"
   ]
  },
  {
   "cell_type": "markdown",
   "id": "67d3b9bc",
   "metadata": {
    "slideshow": {
     "slide_type": "slide"
    }
   },
   "source": [
    "\n",
    "# 2) Indexing and Selection of Data in Pandas \n",
    "\n",
    "Pandas `Series` and `DataFrame` are attached to `index` objects. \n",
    "\n",
    "In addition, `DataFrame` also have column labels.\n",
    "\n",
    "Building on NumPy, Pandas `Series` and `DataFrame` can be accessed and indexed using intelligent label-based slicing, fancy indexing, and selection of columns, in large data sets. In addition, Pandas objects support hierarchical indexing. "
   ]
  },
  {
   "cell_type": "markdown",
   "id": "4054b05f",
   "metadata": {
    "slideshow": {
     "slide_type": "slide"
    }
   },
   "source": [
    "### Indexing, slicing, fancy indexing, and masking\n"
   ]
  },
  {
   "cell_type": "markdown",
   "id": "09a5ef21",
   "metadata": {
    "slideshow": {
     "slide_type": "slide"
    }
   },
   "source": [
    "## Indexing Series\n",
    "\n",
    "A Pandas object can be indexed by label or by position i.e., there are two ways to index entries in a Pandas `Series`: either using their explicit labels, or using their implicit positions.\n",
    "\n",
    "Indexing by position is particulary useful if we don't know, or care about, the index labels."
   ]
  },
  {
   "cell_type": "markdown",
   "id": "44189ae7",
   "metadata": {
    "slideshow": {
     "slide_type": "slide"
    }
   },
   "source": [
    "####  Indexing using labels"
   ]
  },
  {
   "cell_type": "code",
   "execution_count": 33,
   "id": "942b3ad8",
   "metadata": {
    "slideshow": {
     "slide_type": "-"
    }
   },
   "outputs": [
    {
     "data": {
      "text/plain": [
       "x1    10\n",
       "x2    20\n",
       "x3    30\n",
       "x4    40\n",
       "x5    50\n",
       "x6    60\n",
       "x7    70\n",
       "x8    80\n",
       "x9    90\n",
       "dtype: int64"
      ]
     },
     "execution_count": 33,
     "metadata": {},
     "output_type": "execute_result"
    }
   ],
   "source": [
    "series = pd.Series([10,20,30,40,50,60,70,80,90], index=['x1','x2','x3','x4','x5','x6','x7','x8','x9'])\n",
    "series"
   ]
  },
  {
   "cell_type": "code",
   "execution_count": 34,
   "id": "7a52a12f",
   "metadata": {
    "slideshow": {
     "slide_type": "-"
    }
   },
   "outputs": [
    {
     "data": {
      "text/plain": [
       "10"
      ]
     },
     "execution_count": 34,
     "metadata": {},
     "output_type": "execute_result"
    }
   ],
   "source": [
    "# Simple indexing using explicit labels\n",
    "series['x1']"
   ]
  },
  {
   "cell_type": "code",
   "execution_count": 35,
   "id": "d575fc29",
   "metadata": {
    "slideshow": {
     "slide_type": "subslide"
    }
   },
   "outputs": [
    {
     "data": {
      "text/plain": [
       "x1    10\n",
       "x2    20\n",
       "x3    30\n",
       "x4    40\n",
       "x5    50\n",
       "x6    60\n",
       "x7    70\n",
       "dtype: int64"
      ]
     },
     "execution_count": 35,
     "metadata": {},
     "output_type": "execute_result"
    }
   ],
   "source": [
    "# Slicing using explicit labels\n",
    "series['x1':'x7']"
   ]
  },
  {
   "cell_type": "code",
   "execution_count": 36,
   "id": "0d9ef44b",
   "metadata": {
    "slideshow": {
     "slide_type": "subslide"
    }
   },
   "outputs": [
    {
     "data": {
      "text/plain": [
       "x2    20\n",
       "x5    50\n",
       "x8    80\n",
       "dtype: int64"
      ]
     },
     "execution_count": 36,
     "metadata": {},
     "output_type": "execute_result"
    }
   ],
   "source": [
    "# Fancy indexing using explicit labels\n",
    "series[['x2', 'x5', 'x8']]"
   ]
  },
  {
   "cell_type": "code",
   "execution_count": 37,
   "id": "4c2cce9b",
   "metadata": {
    "slideshow": {
     "slide_type": "subslide"
    }
   },
   "outputs": [
    {
     "data": {
      "text/plain": [
       "x4    40\n",
       "x5    50\n",
       "x6    60\n",
       "x7    70\n",
       "x8    80\n",
       "dtype: int64"
      ]
     },
     "execution_count": 37,
     "metadata": {},
     "output_type": "execute_result"
    }
   ],
   "source": [
    "# Masking\n",
    "series[(series >= 40) & (series <= 80)]"
   ]
  },
  {
   "cell_type": "markdown",
   "id": "5da2359a",
   "metadata": {
    "slideshow": {
     "slide_type": "slide"
    }
   },
   "source": [
    "#### Indexing using positions"
   ]
  },
  {
   "cell_type": "code",
   "execution_count": 38,
   "id": "17c6d5de",
   "metadata": {
    "slideshow": {
     "slide_type": "-"
    }
   },
   "outputs": [
    {
     "name": "stderr",
     "output_type": "stream",
     "text": [
      "/var/folders/f6/jjmfkpp52bzg1lpytwjwn5jc0000gn/T/ipykernel_56377/3703508513.py:2: FutureWarning: Series.__getitem__ treating keys as positions is deprecated. In a future version, integer keys will always be treated as labels (consistent with DataFrame behavior). To access a value by position, use `ser.iloc[pos]`\n",
      "  series[0]\n"
     ]
    },
    {
     "data": {
      "text/plain": [
       "10"
      ]
     },
     "execution_count": 38,
     "metadata": {},
     "output_type": "execute_result"
    }
   ],
   "source": [
    "# Simple indexing using positional indexes\n",
    "series[0]"
   ]
  },
  {
   "cell_type": "code",
   "execution_count": 39,
   "id": "cc66df88",
   "metadata": {
    "slideshow": {
     "slide_type": "subslide"
    }
   },
   "outputs": [
    {
     "data": {
      "text/plain": [
       "x1    10\n",
       "x2    20\n",
       "x3    30\n",
       "x4    40\n",
       "x5    50\n",
       "x6    60\n",
       "x7    70\n",
       "dtype: int64"
      ]
     },
     "execution_count": 39,
     "metadata": {},
     "output_type": "execute_result"
    }
   ],
   "source": [
    "# Slicing using positional indexes\n",
    "series[0:7]"
   ]
  },
  {
   "cell_type": "code",
   "execution_count": 40,
   "id": "b5e66b5c",
   "metadata": {
    "slideshow": {
     "slide_type": "subslide"
    }
   },
   "outputs": [
    {
     "name": "stderr",
     "output_type": "stream",
     "text": [
      "/var/folders/f6/jjmfkpp52bzg1lpytwjwn5jc0000gn/T/ipykernel_56377/3914871895.py:2: FutureWarning: Series.__getitem__ treating keys as positions is deprecated. In a future version, integer keys will always be treated as labels (consistent with DataFrame behavior). To access a value by position, use `ser.iloc[pos]`\n",
      "  series[[1, 4, 7]]\n"
     ]
    },
    {
     "data": {
      "text/plain": [
       "x2    20\n",
       "x5    50\n",
       "x8    80\n",
       "dtype: int64"
      ]
     },
     "execution_count": 40,
     "metadata": {},
     "output_type": "execute_result"
    }
   ],
   "source": [
    "# Fancy indexing using positional indexes\n",
    "series[[1, 4, 7]]"
   ]
  },
  {
   "cell_type": "markdown",
   "id": "bf8b1ae9",
   "metadata": {
    "slideshow": {
     "slide_type": "slide"
    }
   },
   "source": [
    "The ability to use implicit or explicit indexing can lead to confusions, in particular if labels used for indices are integers too. \n",
    "**For example**:"
   ]
  },
  {
   "cell_type": "code",
   "execution_count": 41,
   "id": "4b1a4cbc",
   "metadata": {
    "scrolled": true,
    "slideshow": {
     "slide_type": "-"
    }
   },
   "outputs": [
    {
     "data": {
      "text/plain": [
       "1    a\n",
       "2    b\n",
       "3    c\n",
       "4    d\n",
       "5    e\n",
       "dtype: object"
      ]
     },
     "execution_count": 41,
     "metadata": {},
     "output_type": "execute_result"
    }
   ],
   "source": [
    "series = pd.Series(['a','b','c','d','e'], index=[1,2,3,4,5])\n",
    "series"
   ]
  },
  {
   "cell_type": "markdown",
   "id": "93e95338",
   "metadata": {
    "slideshow": {
     "slide_type": "-"
    }
   },
   "source": [
    "**In code below, did the programmer mean position 4 or label 4?**"
   ]
  },
  {
   "cell_type": "code",
   "execution_count": 42,
   "id": "72cc21c7",
   "metadata": {
    "slideshow": {
     "slide_type": "-"
    }
   },
   "outputs": [
    {
     "name": "stdout",
     "output_type": "stream",
     "text": [
      "d\n"
     ]
    }
   ],
   "source": [
    "print(series[4]) "
   ]
  },
  {
   "cell_type": "markdown",
   "id": "8ee519b5",
   "metadata": {
    "slideshow": {
     "slide_type": "slide"
    }
   },
   "source": [
    "If explicit labels are integers, Pandas defaults to indexing by explicit label, so here `4` is considered a label, not a position."
   ]
  },
  {
   "cell_type": "markdown",
   "id": "98ce24bb",
   "metadata": {
    "slideshow": {
     "slide_type": "slide"
    }
   },
   "source": [
    "### Indexing by labels with ``loc``\n",
    "\n",
    "To ensure and make clear that the index *label* is invoked, not the index *position*, the method ``loc`` can be used for indexing and slicing"
   ]
  },
  {
   "cell_type": "code",
   "execution_count": 43,
   "id": "5de02c50",
   "metadata": {
    "slideshow": {
     "slide_type": "-"
    }
   },
   "outputs": [
    {
     "name": "stdout",
     "output_type": "stream",
     "text": [
      "a b d\n"
     ]
    }
   ],
   "source": [
    "print(series.loc[1], series.loc[2], series.loc[4])"
   ]
  },
  {
   "cell_type": "code",
   "execution_count": 44,
   "id": "5f4422fb",
   "metadata": {
    "slideshow": {
     "slide_type": "-"
    }
   },
   "outputs": [
    {
     "name": "stdout",
     "output_type": "stream",
     "text": [
      "e\n"
     ]
    }
   ],
   "source": [
    "print(series.loc[5]) # Equivalent to print(series[5])"
   ]
  },
  {
   "cell_type": "markdown",
   "id": "a4d558da",
   "metadata": {
    "slideshow": {
     "slide_type": "slide"
    }
   },
   "source": [
    "### Indexing by positions with ```iloc```\n",
    "To ensure the numerical (positional) index is invoked, not the label, the method ``iloc`` can be used for indexing and slicing"
   ]
  },
  {
   "cell_type": "code",
   "execution_count": 45,
   "id": "c6ba61b5",
   "metadata": {
    "slideshow": {
     "slide_type": "-"
    }
   },
   "outputs": [
    {
     "name": "stdout",
     "output_type": "stream",
     "text": [
      "b c e\n"
     ]
    }
   ],
   "source": [
    "print(series.iloc[1], series.iloc[2], series.iloc[4])"
   ]
  },
  {
   "cell_type": "code",
   "execution_count": 46,
   "id": "f4ef8817",
   "metadata": {
    "slideshow": {
     "slide_type": "-"
    }
   },
   "outputs": [
    {
     "ename": "IndexError",
     "evalue": "single positional indexer is out-of-bounds",
     "output_type": "error",
     "traceback": [
      "\u001b[0;31m---------------------------------------------------------------------------\u001b[0m",
      "\u001b[0;31mIndexError\u001b[0m                                Traceback (most recent call last)",
      "Cell \u001b[0;32mIn[46], line 1\u001b[0m\n\u001b[0;32m----> 1\u001b[0m \u001b[38;5;28mprint\u001b[39m(\u001b[43mseries\u001b[49m\u001b[38;5;241;43m.\u001b[39;49m\u001b[43miloc\u001b[49m\u001b[43m[\u001b[49m\u001b[38;5;241;43m5\u001b[39;49m\u001b[43m]\u001b[49m)  \u001b[38;5;66;03m# Implicit (positional) index 5 is out of bounds\u001b[39;00m\n",
      "File \u001b[0;32m~/anaconda3/envs/ds/lib/python3.11/site-packages/pandas/core/indexing.py:1191\u001b[0m, in \u001b[0;36m_LocationIndexer.__getitem__\u001b[0;34m(self, key)\u001b[0m\n\u001b[1;32m   1189\u001b[0m maybe_callable \u001b[38;5;241m=\u001b[39m com\u001b[38;5;241m.\u001b[39mapply_if_callable(key, \u001b[38;5;28mself\u001b[39m\u001b[38;5;241m.\u001b[39mobj)\n\u001b[1;32m   1190\u001b[0m maybe_callable \u001b[38;5;241m=\u001b[39m \u001b[38;5;28mself\u001b[39m\u001b[38;5;241m.\u001b[39m_check_deprecated_callable_usage(key, maybe_callable)\n\u001b[0;32m-> 1191\u001b[0m \u001b[38;5;28;01mreturn\u001b[39;00m \u001b[38;5;28;43mself\u001b[39;49m\u001b[38;5;241;43m.\u001b[39;49m\u001b[43m_getitem_axis\u001b[49m\u001b[43m(\u001b[49m\u001b[43mmaybe_callable\u001b[49m\u001b[43m,\u001b[49m\u001b[43m \u001b[49m\u001b[43maxis\u001b[49m\u001b[38;5;241;43m=\u001b[39;49m\u001b[43maxis\u001b[49m\u001b[43m)\u001b[49m\n",
      "File \u001b[0;32m~/anaconda3/envs/ds/lib/python3.11/site-packages/pandas/core/indexing.py:1752\u001b[0m, in \u001b[0;36m_iLocIndexer._getitem_axis\u001b[0;34m(self, key, axis)\u001b[0m\n\u001b[1;32m   1749\u001b[0m     \u001b[38;5;28;01mraise\u001b[39;00m \u001b[38;5;167;01mTypeError\u001b[39;00m(\u001b[38;5;124m\"\u001b[39m\u001b[38;5;124mCannot index by location index with a non-integer key\u001b[39m\u001b[38;5;124m\"\u001b[39m)\n\u001b[1;32m   1751\u001b[0m \u001b[38;5;66;03m# validate the location\u001b[39;00m\n\u001b[0;32m-> 1752\u001b[0m \u001b[38;5;28;43mself\u001b[39;49m\u001b[38;5;241;43m.\u001b[39;49m\u001b[43m_validate_integer\u001b[49m\u001b[43m(\u001b[49m\u001b[43mkey\u001b[49m\u001b[43m,\u001b[49m\u001b[43m \u001b[49m\u001b[43maxis\u001b[49m\u001b[43m)\u001b[49m\n\u001b[1;32m   1754\u001b[0m \u001b[38;5;28;01mreturn\u001b[39;00m \u001b[38;5;28mself\u001b[39m\u001b[38;5;241m.\u001b[39mobj\u001b[38;5;241m.\u001b[39m_ixs(key, axis\u001b[38;5;241m=\u001b[39maxis)\n",
      "File \u001b[0;32m~/anaconda3/envs/ds/lib/python3.11/site-packages/pandas/core/indexing.py:1685\u001b[0m, in \u001b[0;36m_iLocIndexer._validate_integer\u001b[0;34m(self, key, axis)\u001b[0m\n\u001b[1;32m   1683\u001b[0m len_axis \u001b[38;5;241m=\u001b[39m \u001b[38;5;28mlen\u001b[39m(\u001b[38;5;28mself\u001b[39m\u001b[38;5;241m.\u001b[39mobj\u001b[38;5;241m.\u001b[39m_get_axis(axis))\n\u001b[1;32m   1684\u001b[0m \u001b[38;5;28;01mif\u001b[39;00m key \u001b[38;5;241m>\u001b[39m\u001b[38;5;241m=\u001b[39m len_axis \u001b[38;5;129;01mor\u001b[39;00m key \u001b[38;5;241m<\u001b[39m \u001b[38;5;241m-\u001b[39mlen_axis:\n\u001b[0;32m-> 1685\u001b[0m     \u001b[38;5;28;01mraise\u001b[39;00m \u001b[38;5;167;01mIndexError\u001b[39;00m(\u001b[38;5;124m\"\u001b[39m\u001b[38;5;124msingle positional indexer is out-of-bounds\u001b[39m\u001b[38;5;124m\"\u001b[39m)\n",
      "\u001b[0;31mIndexError\u001b[0m: single positional indexer is out-of-bounds"
     ]
    }
   ],
   "source": [
    "print(series.iloc[5])  # Implicit (positional) index 5 is out of bounds"
   ]
  },
  {
   "cell_type": "markdown",
   "id": "542a02c4",
   "metadata": {
    "slideshow": {
     "slide_type": "slide"
    }
   },
   "source": [
    "## Indexing and Selection in Dataframe\n",
    "\n",
    "\n",
    "A``DataFrame`` is *indexed* like a series of `Series`.\n",
    "\n",
    "Each column is a `Series`. \n",
    "\n",
    "Any column or set of columns can be *selected* (we used the word \"*selected*\" rather than \"*indexed*\" when refering to columns)\n"
   ]
  },
  {
   "cell_type": "code",
   "execution_count": 47,
   "id": "75178a12",
   "metadata": {
    "slideshow": {
     "slide_type": "slide"
    }
   },
   "outputs": [
    {
     "data": {
      "text/html": [
       "<div>\n",
       "<style scoped>\n",
       "    .dataframe tbody tr th:only-of-type {\n",
       "        vertical-align: middle;\n",
       "    }\n",
       "\n",
       "    .dataframe tbody tr th {\n",
       "        vertical-align: top;\n",
       "    }\n",
       "\n",
       "    .dataframe thead th {\n",
       "        text-align: right;\n",
       "    }\n",
       "</style>\n",
       "<table border=\"1\" class=\"dataframe\">\n",
       "  <thead>\n",
       "    <tr style=\"text-align: right;\">\n",
       "      <th></th>\n",
       "      <th>x1</th>\n",
       "      <th>x2</th>\n",
       "      <th>x3</th>\n",
       "      <th>x4</th>\n",
       "      <th>y</th>\n",
       "    </tr>\n",
       "  </thead>\n",
       "  <tbody>\n",
       "    <tr>\n",
       "      <th>Obs 1</th>\n",
       "      <td>0.293394</td>\n",
       "      <td>0.742068</td>\n",
       "      <td>0.990804</td>\n",
       "      <td>0.216965</td>\n",
       "      <td>0.067391</td>\n",
       "    </tr>\n",
       "    <tr>\n",
       "      <th>Obs 2</th>\n",
       "      <td>0.892211</td>\n",
       "      <td>0.869314</td>\n",
       "      <td>0.797837</td>\n",
       "      <td>0.838899</td>\n",
       "      <td>0.920129</td>\n",
       "    </tr>\n",
       "    <tr>\n",
       "      <th>Obs 3</th>\n",
       "      <td>0.690902</td>\n",
       "      <td>0.986021</td>\n",
       "      <td>0.564146</td>\n",
       "      <td>0.001963</td>\n",
       "      <td>0.229816</td>\n",
       "    </tr>\n",
       "    <tr>\n",
       "      <th>Obs 4</th>\n",
       "      <td>0.221539</td>\n",
       "      <td>0.622911</td>\n",
       "      <td>0.354264</td>\n",
       "      <td>0.420366</td>\n",
       "      <td>0.994322</td>\n",
       "    </tr>\n",
       "    <tr>\n",
       "      <th>Obs 5</th>\n",
       "      <td>0.521534</td>\n",
       "      <td>0.272439</td>\n",
       "      <td>0.075341</td>\n",
       "      <td>0.769085</td>\n",
       "      <td>0.597741</td>\n",
       "    </tr>\n",
       "  </tbody>\n",
       "</table>\n",
       "</div>"
      ],
      "text/plain": [
       "             x1        x2        x3        x4         y\n",
       "Obs 1  0.293394  0.742068  0.990804  0.216965  0.067391\n",
       "Obs 2  0.892211  0.869314  0.797837  0.838899  0.920129\n",
       "Obs 3  0.690902  0.986021  0.564146  0.001963  0.229816\n",
       "Obs 4  0.221539  0.622911  0.354264  0.420366  0.994322\n",
       "Obs 5  0.521534  0.272439  0.075341  0.769085  0.597741"
      ]
     },
     "execution_count": 47,
     "metadata": {},
     "output_type": "execute_result"
    }
   ],
   "source": [
    "data = pd.DataFrame(np.random.rand(5, 5),\n",
    "                    columns = ['x1', 'x2', 'x3', 'x4', 'y'],\n",
    "                    index = ['Obs 1', 'Obs 2', 'Obs 3', 'Obs 4', 'Obs 5'])\n",
    "data"
   ]
  },
  {
   "cell_type": "markdown",
   "id": "727de0a2",
   "metadata": {
    "slideshow": {
     "slide_type": "slide"
    }
   },
   "source": [
    "### Selection of columns\n",
    "\n",
    "If there is only one argument in the square brackets of a 2D `DataFrame`, Pandas uses it to select column(s): it must be some existing column label(s)"
   ]
  },
  {
   "cell_type": "code",
   "execution_count": 48,
   "id": "28f9f516",
   "metadata": {
    "slideshow": {
     "slide_type": "-"
    }
   },
   "outputs": [
    {
     "data": {
      "text/plain": [
       "Obs 1    0.293394\n",
       "Obs 2    0.892211\n",
       "Obs 3    0.690902\n",
       "Obs 4    0.221539\n",
       "Obs 5    0.521534\n",
       "Name: x1, dtype: float64"
      ]
     },
     "execution_count": 48,
     "metadata": {},
     "output_type": "execute_result"
    }
   ],
   "source": [
    "data['x1'] # Simple indexing (='selection') using column labels"
   ]
  },
  {
   "cell_type": "code",
   "execution_count": 49,
   "id": "c8b41f2f",
   "metadata": {
    "slideshow": {
     "slide_type": "-"
    }
   },
   "outputs": [
    {
     "data": {
      "text/plain": [
       "Obs 1    0.067391\n",
       "Obs 2    0.920129\n",
       "Obs 3    0.229816\n",
       "Obs 4    0.994322\n",
       "Obs 5    0.597741\n",
       "Name: y, dtype: float64"
      ]
     },
     "execution_count": 49,
     "metadata": {},
     "output_type": "execute_result"
    }
   ],
   "source": [
    "data['y'] # Simple indexing (='selection') using column labels"
   ]
  },
  {
   "cell_type": "code",
   "execution_count": 50,
   "id": "da318ed7",
   "metadata": {
    "slideshow": {
     "slide_type": "subslide"
    }
   },
   "outputs": [
    {
     "data": {
      "text/html": [
       "<div>\n",
       "<style scoped>\n",
       "    .dataframe tbody tr th:only-of-type {\n",
       "        vertical-align: middle;\n",
       "    }\n",
       "\n",
       "    .dataframe tbody tr th {\n",
       "        vertical-align: top;\n",
       "    }\n",
       "\n",
       "    .dataframe thead th {\n",
       "        text-align: right;\n",
       "    }\n",
       "</style>\n",
       "<table border=\"1\" class=\"dataframe\">\n",
       "  <thead>\n",
       "    <tr style=\"text-align: right;\">\n",
       "      <th></th>\n",
       "      <th>x1</th>\n",
       "      <th>x2</th>\n",
       "      <th>x4</th>\n",
       "    </tr>\n",
       "  </thead>\n",
       "  <tbody>\n",
       "    <tr>\n",
       "      <th>Obs 1</th>\n",
       "      <td>0.293394</td>\n",
       "      <td>0.742068</td>\n",
       "      <td>0.216965</td>\n",
       "    </tr>\n",
       "    <tr>\n",
       "      <th>Obs 2</th>\n",
       "      <td>0.892211</td>\n",
       "      <td>0.869314</td>\n",
       "      <td>0.838899</td>\n",
       "    </tr>\n",
       "    <tr>\n",
       "      <th>Obs 3</th>\n",
       "      <td>0.690902</td>\n",
       "      <td>0.986021</td>\n",
       "      <td>0.001963</td>\n",
       "    </tr>\n",
       "    <tr>\n",
       "      <th>Obs 4</th>\n",
       "      <td>0.221539</td>\n",
       "      <td>0.622911</td>\n",
       "      <td>0.420366</td>\n",
       "    </tr>\n",
       "    <tr>\n",
       "      <th>Obs 5</th>\n",
       "      <td>0.521534</td>\n",
       "      <td>0.272439</td>\n",
       "      <td>0.769085</td>\n",
       "    </tr>\n",
       "  </tbody>\n",
       "</table>\n",
       "</div>"
      ],
      "text/plain": [
       "             x1        x2        x4\n",
       "Obs 1  0.293394  0.742068  0.216965\n",
       "Obs 2  0.892211  0.869314  0.838899\n",
       "Obs 3  0.690902  0.986021  0.001963\n",
       "Obs 4  0.221539  0.622911  0.420366\n",
       "Obs 5  0.521534  0.272439  0.769085"
      ]
     },
     "execution_count": 50,
     "metadata": {},
     "output_type": "execute_result"
    }
   ],
   "source": [
    "data[['x1', 'x2', 'x4']] # Fancy indexing (='selection')"
   ]
  },
  {
   "cell_type": "markdown",
   "id": "43a69ac4",
   "metadata": {
    "slideshow": {
     "slide_type": "subslide"
    }
   },
   "source": [
    "The dot notation can be used as an alternative approach to select columns (same as in SQL query language).\n",
    "\n",
    "This approach is not recommended due to risk of over-riding and confusing the `DataFrame`'s column names with the `DataFrame`'s methods (also invoked using the dot notation). "
   ]
  },
  {
   "cell_type": "code",
   "execution_count": 51,
   "id": "2f9032e9",
   "metadata": {
    "slideshow": {
     "slide_type": "-"
    }
   },
   "outputs": [
    {
     "data": {
      "text/plain": [
       "Obs 1    0.067391\n",
       "Obs 2    0.920129\n",
       "Obs 3    0.229816\n",
       "Obs 4    0.994322\n",
       "Obs 5    0.597741\n",
       "Name: y, dtype: float64"
      ]
     },
     "execution_count": 51,
     "metadata": {},
     "output_type": "execute_result"
    }
   ],
   "source": [
    "# Alternative approach to select columns \n",
    "data.y"
   ]
  },
  {
   "cell_type": "markdown",
   "id": "84bac446",
   "metadata": {
    "slideshow": {
     "slide_type": "slide"
    }
   },
   "source": [
    "### Indexing of rows"
   ]
  },
  {
   "cell_type": "markdown",
   "id": "7b356e0b",
   "metadata": {
    "slideshow": {
     "slide_type": "slide"
    }
   },
   "source": [
    "#### Indexing rows in a specific column"
   ]
  },
  {
   "cell_type": "code",
   "execution_count": 52,
   "id": "b99908ee",
   "metadata": {
    "slideshow": {
     "slide_type": "-"
    }
   },
   "outputs": [
    {
     "name": "stderr",
     "output_type": "stream",
     "text": [
      "/var/folders/f6/jjmfkpp52bzg1lpytwjwn5jc0000gn/T/ipykernel_56377/3719715636.py:1: FutureWarning: Series.__getitem__ treating keys as positions is deprecated. In a future version, integer keys will always be treated as labels (consistent with DataFrame behavior). To access a value by position, use `ser.iloc[pos]`\n",
      "  data['x2'][0] # Select column + index the corresponding series by position\n"
     ]
    },
    {
     "data": {
      "text/plain": [
       "0.7420677348386971"
      ]
     },
     "execution_count": 52,
     "metadata": {},
     "output_type": "execute_result"
    }
   ],
   "source": [
    "data['x2'][0] # Select column + index the corresponding series by position"
   ]
  },
  {
   "cell_type": "code",
   "execution_count": 53,
   "id": "f2f9f88e",
   "metadata": {
    "slideshow": {
     "slide_type": "-"
    }
   },
   "outputs": [
    {
     "name": "stderr",
     "output_type": "stream",
     "text": [
      "/var/folders/f6/jjmfkpp52bzg1lpytwjwn5jc0000gn/T/ipykernel_56377/214712727.py:1: FutureWarning: Series.__getitem__ treating keys as positions is deprecated. In a future version, integer keys will always be treated as labels (consistent with DataFrame behavior). To access a value by position, use `ser.iloc[pos]`\n",
      "  data['y'][0] # Select column + index the corresponding series by position\n"
     ]
    },
    {
     "data": {
      "text/plain": [
       "0.06739125110569544"
      ]
     },
     "execution_count": 53,
     "metadata": {},
     "output_type": "execute_result"
    }
   ],
   "source": [
    "data['y'][0] # Select column + index the corresponding series by position"
   ]
  },
  {
   "cell_type": "code",
   "execution_count": 54,
   "id": "238fb439",
   "metadata": {
    "slideshow": {
     "slide_type": "subslide"
    }
   },
   "outputs": [
    {
     "data": {
      "text/plain": [
       "Obs 1    0.067391\n",
       "Obs 2    0.920129\n",
       "Obs 3    0.229816\n",
       "Obs 4    0.994322\n",
       "Name: y, dtype: float64"
      ]
     },
     "execution_count": 54,
     "metadata": {},
     "output_type": "execute_result"
    }
   ],
   "source": [
    "data['y'][0: 4] # Can use slicing "
   ]
  },
  {
   "cell_type": "code",
   "execution_count": 55,
   "id": "3ccd525f",
   "metadata": {
    "slideshow": {
     "slide_type": "subslide"
    }
   },
   "outputs": [
    {
     "data": {
      "text/plain": [
       "0.06739125110569544"
      ]
     },
     "execution_count": 55,
     "metadata": {},
     "output_type": "execute_result"
    }
   ],
   "source": [
    "data['y']['Obs 1'] # Can index series by explicit label too"
   ]
  },
  {
   "cell_type": "code",
   "execution_count": 56,
   "id": "4dee68b6",
   "metadata": {
    "slideshow": {
     "slide_type": "subslide"
    }
   },
   "outputs": [
    {
     "data": {
      "text/plain": [
       "Obs 1    0.067391\n",
       "Obs 2    0.920129\n",
       "Obs 3    0.229816\n",
       "Obs 4    0.994322\n",
       "Name: y, dtype: float64"
      ]
     },
     "execution_count": 56,
     "metadata": {},
     "output_type": "execute_result"
    }
   ],
   "source": [
    "data['y']['Obs 1': 'Obs 4'] # Can use slicing by explicit label too"
   ]
  },
  {
   "cell_type": "code",
   "execution_count": 57,
   "id": "8077b2fe",
   "metadata": {
    "slideshow": {
     "slide_type": "subslide"
    }
   },
   "outputs": [
    {
     "data": {
      "text/plain": [
       "0.06739125110569544"
      ]
     },
     "execution_count": 57,
     "metadata": {},
     "output_type": "execute_result"
    }
   ],
   "source": [
    "data['y'].iloc[0]  # Can use iloc to ensure indexing by position "
   ]
  },
  {
   "cell_type": "code",
   "execution_count": 58,
   "id": "fb91fd60",
   "metadata": {
    "slideshow": {
     "slide_type": "fragment"
    }
   },
   "outputs": [
    {
     "data": {
      "text/plain": [
       "0.06739125110569544"
      ]
     },
     "execution_count": 58,
     "metadata": {},
     "output_type": "execute_result"
    }
   ],
   "source": [
    "data['y'].loc['Obs 1']  # Can use loc to ensure indexing by explicit label "
   ]
  },
  {
   "cell_type": "markdown",
   "id": "51cfae66",
   "metadata": {
    "slideshow": {
     "slide_type": "slide"
    }
   },
   "source": [
    "#### Fancy indexing: indexing rows in several columns\n",
    "\n",
    "Everything shown above can be done when selecting more than one column."
   ]
  },
  {
   "cell_type": "code",
   "execution_count": 59,
   "id": "3224011f",
   "metadata": {
    "slideshow": {
     "slide_type": "-"
    }
   },
   "outputs": [
    {
     "data": {
      "text/html": [
       "<div>\n",
       "<style scoped>\n",
       "    .dataframe tbody tr th:only-of-type {\n",
       "        vertical-align: middle;\n",
       "    }\n",
       "\n",
       "    .dataframe tbody tr th {\n",
       "        vertical-align: top;\n",
       "    }\n",
       "\n",
       "    .dataframe thead th {\n",
       "        text-align: right;\n",
       "    }\n",
       "</style>\n",
       "<table border=\"1\" class=\"dataframe\">\n",
       "  <thead>\n",
       "    <tr style=\"text-align: right;\">\n",
       "      <th></th>\n",
       "      <th>x1</th>\n",
       "      <th>x3</th>\n",
       "      <th>y</th>\n",
       "    </tr>\n",
       "  </thead>\n",
       "  <tbody>\n",
       "    <tr>\n",
       "      <th>Obs 1</th>\n",
       "      <td>0.293394</td>\n",
       "      <td>0.990804</td>\n",
       "      <td>0.067391</td>\n",
       "    </tr>\n",
       "    <tr>\n",
       "      <th>Obs 2</th>\n",
       "      <td>0.892211</td>\n",
       "      <td>0.797837</td>\n",
       "      <td>0.920129</td>\n",
       "    </tr>\n",
       "    <tr>\n",
       "      <th>Obs 3</th>\n",
       "      <td>0.690902</td>\n",
       "      <td>0.564146</td>\n",
       "      <td>0.229816</td>\n",
       "    </tr>\n",
       "    <tr>\n",
       "      <th>Obs 4</th>\n",
       "      <td>0.221539</td>\n",
       "      <td>0.354264</td>\n",
       "      <td>0.994322</td>\n",
       "    </tr>\n",
       "  </tbody>\n",
       "</table>\n",
       "</div>"
      ],
      "text/plain": [
       "             x1        x3         y\n",
       "Obs 1  0.293394  0.990804  0.067391\n",
       "Obs 2  0.892211  0.797837  0.920129\n",
       "Obs 3  0.690902  0.564146  0.229816\n",
       "Obs 4  0.221539  0.354264  0.994322"
      ]
     },
     "execution_count": 59,
     "metadata": {},
     "output_type": "execute_result"
    }
   ],
   "source": [
    "data[['x1','x3','y']].iloc[0:4] # Select columns + slice rows by position"
   ]
  },
  {
   "cell_type": "markdown",
   "id": "15702528",
   "metadata": {
    "slideshow": {
     "slide_type": "slide"
    }
   },
   "source": [
    "#### Indexing rows 'for all columns'\n",
    "\n",
    "If no column is specified, all columns are selected\n"
   ]
  },
  {
   "cell_type": "code",
   "execution_count": 60,
   "id": "94abf2d9",
   "metadata": {
    "slideshow": {
     "slide_type": "-"
    }
   },
   "outputs": [
    {
     "ename": "KeyError",
     "evalue": "'Obs 1'",
     "output_type": "error",
     "traceback": [
      "\u001b[0;31m---------------------------------------------------------------------------\u001b[0m",
      "\u001b[0;31mKeyError\u001b[0m                                  Traceback (most recent call last)",
      "File \u001b[0;32m~/anaconda3/envs/ds/lib/python3.11/site-packages/pandas/core/indexes/base.py:3805\u001b[0m, in \u001b[0;36mIndex.get_loc\u001b[0;34m(self, key)\u001b[0m\n\u001b[1;32m   3804\u001b[0m \u001b[38;5;28;01mtry\u001b[39;00m:\n\u001b[0;32m-> 3805\u001b[0m     \u001b[38;5;28;01mreturn\u001b[39;00m \u001b[38;5;28;43mself\u001b[39;49m\u001b[38;5;241;43m.\u001b[39;49m\u001b[43m_engine\u001b[49m\u001b[38;5;241;43m.\u001b[39;49m\u001b[43mget_loc\u001b[49m\u001b[43m(\u001b[49m\u001b[43mcasted_key\u001b[49m\u001b[43m)\u001b[49m\n\u001b[1;32m   3806\u001b[0m \u001b[38;5;28;01mexcept\u001b[39;00m \u001b[38;5;167;01mKeyError\u001b[39;00m \u001b[38;5;28;01mas\u001b[39;00m err:\n",
      "File \u001b[0;32mindex.pyx:167\u001b[0m, in \u001b[0;36mpandas._libs.index.IndexEngine.get_loc\u001b[0;34m()\u001b[0m\n",
      "File \u001b[0;32mindex.pyx:196\u001b[0m, in \u001b[0;36mpandas._libs.index.IndexEngine.get_loc\u001b[0;34m()\u001b[0m\n",
      "File \u001b[0;32mpandas/_libs/hashtable_class_helper.pxi:7081\u001b[0m, in \u001b[0;36mpandas._libs.hashtable.PyObjectHashTable.get_item\u001b[0;34m()\u001b[0m\n",
      "File \u001b[0;32mpandas/_libs/hashtable_class_helper.pxi:7089\u001b[0m, in \u001b[0;36mpandas._libs.hashtable.PyObjectHashTable.get_item\u001b[0;34m()\u001b[0m\n",
      "\u001b[0;31mKeyError\u001b[0m: 'Obs 1'",
      "\nThe above exception was the direct cause of the following exception:\n",
      "\u001b[0;31mKeyError\u001b[0m                                  Traceback (most recent call last)",
      "Cell \u001b[0;32mIn[60], line 1\u001b[0m\n\u001b[0;32m----> 1\u001b[0m \u001b[43mdata\u001b[49m\u001b[43m[\u001b[49m\u001b[38;5;124;43m'\u001b[39;49m\u001b[38;5;124;43mObs 1\u001b[39;49m\u001b[38;5;124;43m'\u001b[39;49m\u001b[43m]\u001b[49m \u001b[38;5;66;03m# ERROR: loc/iloc must be used to index rows (exception for slicing as explained below)\u001b[39;00m\n",
      "File \u001b[0;32m~/anaconda3/envs/ds/lib/python3.11/site-packages/pandas/core/frame.py:4102\u001b[0m, in \u001b[0;36mDataFrame.__getitem__\u001b[0;34m(self, key)\u001b[0m\n\u001b[1;32m   4100\u001b[0m \u001b[38;5;28;01mif\u001b[39;00m \u001b[38;5;28mself\u001b[39m\u001b[38;5;241m.\u001b[39mcolumns\u001b[38;5;241m.\u001b[39mnlevels \u001b[38;5;241m>\u001b[39m \u001b[38;5;241m1\u001b[39m:\n\u001b[1;32m   4101\u001b[0m     \u001b[38;5;28;01mreturn\u001b[39;00m \u001b[38;5;28mself\u001b[39m\u001b[38;5;241m.\u001b[39m_getitem_multilevel(key)\n\u001b[0;32m-> 4102\u001b[0m indexer \u001b[38;5;241m=\u001b[39m \u001b[38;5;28;43mself\u001b[39;49m\u001b[38;5;241;43m.\u001b[39;49m\u001b[43mcolumns\u001b[49m\u001b[38;5;241;43m.\u001b[39;49m\u001b[43mget_loc\u001b[49m\u001b[43m(\u001b[49m\u001b[43mkey\u001b[49m\u001b[43m)\u001b[49m\n\u001b[1;32m   4103\u001b[0m \u001b[38;5;28;01mif\u001b[39;00m is_integer(indexer):\n\u001b[1;32m   4104\u001b[0m     indexer \u001b[38;5;241m=\u001b[39m [indexer]\n",
      "File \u001b[0;32m~/anaconda3/envs/ds/lib/python3.11/site-packages/pandas/core/indexes/base.py:3812\u001b[0m, in \u001b[0;36mIndex.get_loc\u001b[0;34m(self, key)\u001b[0m\n\u001b[1;32m   3807\u001b[0m     \u001b[38;5;28;01mif\u001b[39;00m \u001b[38;5;28misinstance\u001b[39m(casted_key, \u001b[38;5;28mslice\u001b[39m) \u001b[38;5;129;01mor\u001b[39;00m (\n\u001b[1;32m   3808\u001b[0m         \u001b[38;5;28misinstance\u001b[39m(casted_key, abc\u001b[38;5;241m.\u001b[39mIterable)\n\u001b[1;32m   3809\u001b[0m         \u001b[38;5;129;01mand\u001b[39;00m \u001b[38;5;28many\u001b[39m(\u001b[38;5;28misinstance\u001b[39m(x, \u001b[38;5;28mslice\u001b[39m) \u001b[38;5;28;01mfor\u001b[39;00m x \u001b[38;5;129;01min\u001b[39;00m casted_key)\n\u001b[1;32m   3810\u001b[0m     ):\n\u001b[1;32m   3811\u001b[0m         \u001b[38;5;28;01mraise\u001b[39;00m InvalidIndexError(key)\n\u001b[0;32m-> 3812\u001b[0m     \u001b[38;5;28;01mraise\u001b[39;00m \u001b[38;5;167;01mKeyError\u001b[39;00m(key) \u001b[38;5;28;01mfrom\u001b[39;00m \u001b[38;5;21;01merr\u001b[39;00m\n\u001b[1;32m   3813\u001b[0m \u001b[38;5;28;01mexcept\u001b[39;00m \u001b[38;5;167;01mTypeError\u001b[39;00m:\n\u001b[1;32m   3814\u001b[0m     \u001b[38;5;66;03m# If we have a listlike key, _check_indexing_error will raise\u001b[39;00m\n\u001b[1;32m   3815\u001b[0m     \u001b[38;5;66;03m#  InvalidIndexError. Otherwise we fall through and re-raise\u001b[39;00m\n\u001b[1;32m   3816\u001b[0m     \u001b[38;5;66;03m#  the TypeError.\u001b[39;00m\n\u001b[1;32m   3817\u001b[0m     \u001b[38;5;28mself\u001b[39m\u001b[38;5;241m.\u001b[39m_check_indexing_error(key)\n",
      "\u001b[0;31mKeyError\u001b[0m: 'Obs 1'"
     ]
    }
   ],
   "source": [
    "data['Obs 1'] # ERROR: loc/iloc must be used to index rows (exception for slicing as explained below)\n"
   ]
  },
  {
   "cell_type": "code",
   "execution_count": 61,
   "id": "fa7435a4",
   "metadata": {
    "slideshow": {
     "slide_type": "-"
    }
   },
   "outputs": [
    {
     "data": {
      "text/plain": [
       "x1    0.293394\n",
       "x2    0.742068\n",
       "x3    0.990804\n",
       "x4    0.216965\n",
       "y     0.067391\n",
       "Name: Obs 1, dtype: float64"
      ]
     },
     "execution_count": 61,
     "metadata": {},
     "output_type": "execute_result"
    }
   ],
   "source": [
    "data.loc['Obs 1'] # Select all columns and index rows by label "
   ]
  },
  {
   "cell_type": "code",
   "execution_count": 62,
   "id": "710aad5c",
   "metadata": {
    "slideshow": {
     "slide_type": "-"
    }
   },
   "outputs": [
    {
     "data": {
      "text/plain": [
       "x1    0.293394\n",
       "x2    0.742068\n",
       "x3    0.990804\n",
       "x4    0.216965\n",
       "y     0.067391\n",
       "Name: Obs 1, dtype: float64"
      ]
     },
     "execution_count": 62,
     "metadata": {},
     "output_type": "execute_result"
    }
   ],
   "source": [
    "data.iloc[0] # Select all columns and index rows by position "
   ]
  },
  {
   "cell_type": "code",
   "execution_count": 63,
   "id": "6137bc29",
   "metadata": {
    "slideshow": {
     "slide_type": "subslide"
    }
   },
   "outputs": [
    {
     "data": {
      "text/html": [
       "<div>\n",
       "<style scoped>\n",
       "    .dataframe tbody tr th:only-of-type {\n",
       "        vertical-align: middle;\n",
       "    }\n",
       "\n",
       "    .dataframe tbody tr th {\n",
       "        vertical-align: top;\n",
       "    }\n",
       "\n",
       "    .dataframe thead th {\n",
       "        text-align: right;\n",
       "    }\n",
       "</style>\n",
       "<table border=\"1\" class=\"dataframe\">\n",
       "  <thead>\n",
       "    <tr style=\"text-align: right;\">\n",
       "      <th></th>\n",
       "      <th>x1</th>\n",
       "      <th>x2</th>\n",
       "      <th>x3</th>\n",
       "      <th>x4</th>\n",
       "      <th>y</th>\n",
       "    </tr>\n",
       "  </thead>\n",
       "  <tbody>\n",
       "    <tr>\n",
       "      <th>Obs 1</th>\n",
       "      <td>0.293394</td>\n",
       "      <td>0.742068</td>\n",
       "      <td>0.990804</td>\n",
       "      <td>0.216965</td>\n",
       "      <td>0.067391</td>\n",
       "    </tr>\n",
       "    <tr>\n",
       "      <th>Obs 2</th>\n",
       "      <td>0.892211</td>\n",
       "      <td>0.869314</td>\n",
       "      <td>0.797837</td>\n",
       "      <td>0.838899</td>\n",
       "      <td>0.920129</td>\n",
       "    </tr>\n",
       "    <tr>\n",
       "      <th>Obs 3</th>\n",
       "      <td>0.690902</td>\n",
       "      <td>0.986021</td>\n",
       "      <td>0.564146</td>\n",
       "      <td>0.001963</td>\n",
       "      <td>0.229816</td>\n",
       "    </tr>\n",
       "    <tr>\n",
       "      <th>Obs 4</th>\n",
       "      <td>0.221539</td>\n",
       "      <td>0.622911</td>\n",
       "      <td>0.354264</td>\n",
       "      <td>0.420366</td>\n",
       "      <td>0.994322</td>\n",
       "    </tr>\n",
       "  </tbody>\n",
       "</table>\n",
       "</div>"
      ],
      "text/plain": [
       "             x1        x2        x3        x4         y\n",
       "Obs 1  0.293394  0.742068  0.990804  0.216965  0.067391\n",
       "Obs 2  0.892211  0.869314  0.797837  0.838899  0.920129\n",
       "Obs 3  0.690902  0.986021  0.564146  0.001963  0.229816\n",
       "Obs 4  0.221539  0.622911  0.354264  0.420366  0.994322"
      ]
     },
     "execution_count": 63,
     "metadata": {},
     "output_type": "execute_result"
    }
   ],
   "source": [
    "data['Obs 1': 'Obs 4']  # Slicing rows works directly (Pandas allows it because slicing is valid only for indexes/rows, so no possible confusion)"
   ]
  },
  {
   "cell_type": "code",
   "execution_count": 64,
   "id": "e0b5ddf7",
   "metadata": {
    "slideshow": {
     "slide_type": "subslide"
    }
   },
   "outputs": [
    {
     "data": {
      "text/html": [
       "<div>\n",
       "<style scoped>\n",
       "    .dataframe tbody tr th:only-of-type {\n",
       "        vertical-align: middle;\n",
       "    }\n",
       "\n",
       "    .dataframe tbody tr th {\n",
       "        vertical-align: top;\n",
       "    }\n",
       "\n",
       "    .dataframe thead th {\n",
       "        text-align: right;\n",
       "    }\n",
       "</style>\n",
       "<table border=\"1\" class=\"dataframe\">\n",
       "  <thead>\n",
       "    <tr style=\"text-align: right;\">\n",
       "      <th></th>\n",
       "      <th>x1</th>\n",
       "      <th>x2</th>\n",
       "      <th>x3</th>\n",
       "      <th>x4</th>\n",
       "      <th>y</th>\n",
       "    </tr>\n",
       "  </thead>\n",
       "  <tbody>\n",
       "    <tr>\n",
       "      <th>Obs 1</th>\n",
       "      <td>0.293394</td>\n",
       "      <td>0.742068</td>\n",
       "      <td>0.990804</td>\n",
       "      <td>0.216965</td>\n",
       "      <td>0.067391</td>\n",
       "    </tr>\n",
       "    <tr>\n",
       "      <th>Obs 2</th>\n",
       "      <td>0.892211</td>\n",
       "      <td>0.869314</td>\n",
       "      <td>0.797837</td>\n",
       "      <td>0.838899</td>\n",
       "      <td>0.920129</td>\n",
       "    </tr>\n",
       "    <tr>\n",
       "      <th>Obs 3</th>\n",
       "      <td>0.690902</td>\n",
       "      <td>0.986021</td>\n",
       "      <td>0.564146</td>\n",
       "      <td>0.001963</td>\n",
       "      <td>0.229816</td>\n",
       "    </tr>\n",
       "    <tr>\n",
       "      <th>Obs 4</th>\n",
       "      <td>0.221539</td>\n",
       "      <td>0.622911</td>\n",
       "      <td>0.354264</td>\n",
       "      <td>0.420366</td>\n",
       "      <td>0.994322</td>\n",
       "    </tr>\n",
       "  </tbody>\n",
       "</table>\n",
       "</div>"
      ],
      "text/plain": [
       "             x1        x2        x3        x4         y\n",
       "Obs 1  0.293394  0.742068  0.990804  0.216965  0.067391\n",
       "Obs 2  0.892211  0.869314  0.797837  0.838899  0.920129\n",
       "Obs 3  0.690902  0.986021  0.564146  0.001963  0.229816\n",
       "Obs 4  0.221539  0.622911  0.354264  0.420366  0.994322"
      ]
     },
     "execution_count": 64,
     "metadata": {},
     "output_type": "execute_result"
    }
   ],
   "source": [
    "data.loc['Obs 1': 'Obs 4'] # Ensure and clarify slicing by index explicit label"
   ]
  },
  {
   "cell_type": "code",
   "execution_count": 65,
   "id": "4af88297",
   "metadata": {
    "slideshow": {
     "slide_type": "-"
    }
   },
   "outputs": [
    {
     "data": {
      "text/html": [
       "<div>\n",
       "<style scoped>\n",
       "    .dataframe tbody tr th:only-of-type {\n",
       "        vertical-align: middle;\n",
       "    }\n",
       "\n",
       "    .dataframe tbody tr th {\n",
       "        vertical-align: top;\n",
       "    }\n",
       "\n",
       "    .dataframe thead th {\n",
       "        text-align: right;\n",
       "    }\n",
       "</style>\n",
       "<table border=\"1\" class=\"dataframe\">\n",
       "  <thead>\n",
       "    <tr style=\"text-align: right;\">\n",
       "      <th></th>\n",
       "      <th>x1</th>\n",
       "      <th>x2</th>\n",
       "      <th>x3</th>\n",
       "      <th>x4</th>\n",
       "      <th>y</th>\n",
       "    </tr>\n",
       "  </thead>\n",
       "  <tbody>\n",
       "    <tr>\n",
       "      <th>Obs 1</th>\n",
       "      <td>0.293394</td>\n",
       "      <td>0.742068</td>\n",
       "      <td>0.990804</td>\n",
       "      <td>0.216965</td>\n",
       "      <td>0.067391</td>\n",
       "    </tr>\n",
       "    <tr>\n",
       "      <th>Obs 2</th>\n",
       "      <td>0.892211</td>\n",
       "      <td>0.869314</td>\n",
       "      <td>0.797837</td>\n",
       "      <td>0.838899</td>\n",
       "      <td>0.920129</td>\n",
       "    </tr>\n",
       "    <tr>\n",
       "      <th>Obs 3</th>\n",
       "      <td>0.690902</td>\n",
       "      <td>0.986021</td>\n",
       "      <td>0.564146</td>\n",
       "      <td>0.001963</td>\n",
       "      <td>0.229816</td>\n",
       "    </tr>\n",
       "    <tr>\n",
       "      <th>Obs 4</th>\n",
       "      <td>0.221539</td>\n",
       "      <td>0.622911</td>\n",
       "      <td>0.354264</td>\n",
       "      <td>0.420366</td>\n",
       "      <td>0.994322</td>\n",
       "    </tr>\n",
       "  </tbody>\n",
       "</table>\n",
       "</div>"
      ],
      "text/plain": [
       "             x1        x2        x3        x4         y\n",
       "Obs 1  0.293394  0.742068  0.990804  0.216965  0.067391\n",
       "Obs 2  0.892211  0.869314  0.797837  0.838899  0.920129\n",
       "Obs 3  0.690902  0.986021  0.564146  0.001963  0.229816\n",
       "Obs 4  0.221539  0.622911  0.354264  0.420366  0.994322"
      ]
     },
     "execution_count": 65,
     "metadata": {},
     "output_type": "execute_result"
    }
   ],
   "source": [
    "data.iloc[0: 4] # Ensure and clarify slicing by index position "
   ]
  },
  {
   "cell_type": "markdown",
   "id": "ee1eb21c",
   "metadata": {
    "slideshow": {
     "slide_type": "slide"
    }
   },
   "source": [
    "### Masking / Boolean indexing"
   ]
  },
  {
   "cell_type": "code",
   "execution_count": 66,
   "id": "36e46bd7",
   "metadata": {
    "scrolled": false,
    "slideshow": {
     "slide_type": "-"
    }
   },
   "outputs": [
    {
     "data": {
      "text/html": [
       "<div>\n",
       "<style scoped>\n",
       "    .dataframe tbody tr th:only-of-type {\n",
       "        vertical-align: middle;\n",
       "    }\n",
       "\n",
       "    .dataframe tbody tr th {\n",
       "        vertical-align: top;\n",
       "    }\n",
       "\n",
       "    .dataframe thead th {\n",
       "        text-align: right;\n",
       "    }\n",
       "</style>\n",
       "<table border=\"1\" class=\"dataframe\">\n",
       "  <thead>\n",
       "    <tr style=\"text-align: right;\">\n",
       "      <th></th>\n",
       "      <th>x1</th>\n",
       "      <th>x2</th>\n",
       "      <th>x3</th>\n",
       "      <th>x4</th>\n",
       "      <th>y</th>\n",
       "    </tr>\n",
       "  </thead>\n",
       "  <tbody>\n",
       "    <tr>\n",
       "      <th>Obs 1</th>\n",
       "      <td>0.293394</td>\n",
       "      <td>0.742068</td>\n",
       "      <td>0.990804</td>\n",
       "      <td>0.216965</td>\n",
       "      <td>0.067391</td>\n",
       "    </tr>\n",
       "    <tr>\n",
       "      <th>Obs 3</th>\n",
       "      <td>0.690902</td>\n",
       "      <td>0.986021</td>\n",
       "      <td>0.564146</td>\n",
       "      <td>0.001963</td>\n",
       "      <td>0.229816</td>\n",
       "    </tr>\n",
       "    <tr>\n",
       "      <th>Obs 4</th>\n",
       "      <td>0.221539</td>\n",
       "      <td>0.622911</td>\n",
       "      <td>0.354264</td>\n",
       "      <td>0.420366</td>\n",
       "      <td>0.994322</td>\n",
       "    </tr>\n",
       "    <tr>\n",
       "      <th>Obs 5</th>\n",
       "      <td>0.521534</td>\n",
       "      <td>0.272439</td>\n",
       "      <td>0.075341</td>\n",
       "      <td>0.769085</td>\n",
       "      <td>0.597741</td>\n",
       "    </tr>\n",
       "  </tbody>\n",
       "</table>\n",
       "</div>"
      ],
      "text/plain": [
       "             x1        x2        x3        x4         y\n",
       "Obs 1  0.293394  0.742068  0.990804  0.216965  0.067391\n",
       "Obs 3  0.690902  0.986021  0.564146  0.001963  0.229816\n",
       "Obs 4  0.221539  0.622911  0.354264  0.420366  0.994322\n",
       "Obs 5  0.521534  0.272439  0.075341  0.769085  0.597741"
      ]
     },
     "execution_count": 66,
     "metadata": {},
     "output_type": "execute_result"
    }
   ],
   "source": [
    "data[data['x1'] < 0.8] # Simple mask to filter rows based on values in a column"
   ]
  },
  {
   "cell_type": "code",
   "execution_count": 67,
   "id": "01d6d283",
   "metadata": {
    "slideshow": {
     "slide_type": "subslide"
    }
   },
   "outputs": [
    {
     "data": {
      "text/html": [
       "<div>\n",
       "<style scoped>\n",
       "    .dataframe tbody tr th:only-of-type {\n",
       "        vertical-align: middle;\n",
       "    }\n",
       "\n",
       "    .dataframe tbody tr th {\n",
       "        vertical-align: top;\n",
       "    }\n",
       "\n",
       "    .dataframe thead th {\n",
       "        text-align: right;\n",
       "    }\n",
       "</style>\n",
       "<table border=\"1\" class=\"dataframe\">\n",
       "  <thead>\n",
       "    <tr style=\"text-align: right;\">\n",
       "      <th></th>\n",
       "      <th>x1</th>\n",
       "      <th>x2</th>\n",
       "      <th>x3</th>\n",
       "      <th>x4</th>\n",
       "      <th>y</th>\n",
       "    </tr>\n",
       "  </thead>\n",
       "  <tbody>\n",
       "    <tr>\n",
       "      <th>Obs 5</th>\n",
       "      <td>0.521534</td>\n",
       "      <td>0.272439</td>\n",
       "      <td>0.075341</td>\n",
       "      <td>0.769085</td>\n",
       "      <td>0.597741</td>\n",
       "    </tr>\n",
       "  </tbody>\n",
       "</table>\n",
       "</div>"
      ],
      "text/plain": [
       "             x1        x2        x3        x4         y\n",
       "Obs 5  0.521534  0.272439  0.075341  0.769085  0.597741"
      ]
     },
     "execution_count": 67,
     "metadata": {},
     "output_type": "execute_result"
    }
   ],
   "source": [
    "# Mask to select rows with several conditions simultaneously satisfied\n",
    "data[(data['x1'] >= 0.1) & (data['x2'] <= 0.5)] "
   ]
  },
  {
   "cell_type": "code",
   "execution_count": 68,
   "id": "fe8ea4b5",
   "metadata": {
    "slideshow": {
     "slide_type": "-"
    }
   },
   "outputs": [
    {
     "ename": "ValueError",
     "evalue": "The truth value of a Series is ambiguous. Use a.empty, a.bool(), a.item(), a.any() or a.all().",
     "output_type": "error",
     "traceback": [
      "\u001b[0;31m---------------------------------------------------------------------------\u001b[0m",
      "\u001b[0;31mValueError\u001b[0m                                Traceback (most recent call last)",
      "\u001b[0;32m/var/folders/f6/jjmfkpp52bzg1lpytwjwn5jc0000gn/T/ipykernel_56377/3146629754.py\u001b[0m in \u001b[0;36m?\u001b[0;34m()\u001b[0m\n\u001b[1;32m      1\u001b[0m \u001b[0;31m# ERROR: As in NumPy, masking requires specific operator (&, |, ~) instead of (and, or, not)\u001b[0m\u001b[0;34m\u001b[0m\u001b[0;34m\u001b[0m\u001b[0m\n\u001b[0;32m----> 2\u001b[0;31m \u001b[0mdata\u001b[0m\u001b[0;34m[\u001b[0m\u001b[0;34m(\u001b[0m\u001b[0mdata\u001b[0m\u001b[0;34m[\u001b[0m\u001b[0;34m'x1'\u001b[0m\u001b[0;34m]\u001b[0m \u001b[0;34m>=\u001b[0m \u001b[0;36m0.1\u001b[0m\u001b[0;34m)\u001b[0m \u001b[0;32mand\u001b[0m \u001b[0;34m(\u001b[0m\u001b[0mdata\u001b[0m\u001b[0;34m[\u001b[0m\u001b[0;34m'x2'\u001b[0m\u001b[0;34m]\u001b[0m \u001b[0;34m<=\u001b[0m \u001b[0;36m0.5\u001b[0m\u001b[0;34m)\u001b[0m\u001b[0;34m]\u001b[0m\u001b[0;34m\u001b[0m\u001b[0;34m\u001b[0m\u001b[0m\n\u001b[0m",
      "\u001b[0;32m~/anaconda3/envs/ds/lib/python3.11/site-packages/pandas/core/generic.py\u001b[0m in \u001b[0;36m?\u001b[0;34m(self)\u001b[0m\n\u001b[1;32m   1575\u001b[0m     \u001b[0;34m@\u001b[0m\u001b[0mfinal\u001b[0m\u001b[0;34m\u001b[0m\u001b[0;34m\u001b[0m\u001b[0m\n\u001b[1;32m   1576\u001b[0m     \u001b[0;32mdef\u001b[0m \u001b[0m__nonzero__\u001b[0m\u001b[0;34m(\u001b[0m\u001b[0mself\u001b[0m\u001b[0;34m)\u001b[0m \u001b[0;34m->\u001b[0m \u001b[0mNoReturn\u001b[0m\u001b[0;34m:\u001b[0m\u001b[0;34m\u001b[0m\u001b[0;34m\u001b[0m\u001b[0m\n\u001b[0;32m-> 1577\u001b[0;31m         raise ValueError(\n\u001b[0m\u001b[1;32m   1578\u001b[0m             \u001b[0;34mf\"The truth value of a {type(self).__name__} is ambiguous. \"\u001b[0m\u001b[0;34m\u001b[0m\u001b[0;34m\u001b[0m\u001b[0m\n\u001b[1;32m   1579\u001b[0m             \u001b[0;34m\"Use a.empty, a.bool(), a.item(), a.any() or a.all().\"\u001b[0m\u001b[0;34m\u001b[0m\u001b[0;34m\u001b[0m\u001b[0m\n\u001b[1;32m   1580\u001b[0m         )\n",
      "\u001b[0;31mValueError\u001b[0m: The truth value of a Series is ambiguous. Use a.empty, a.bool(), a.item(), a.any() or a.all()."
     ]
    }
   ],
   "source": [
    "# ERROR: As in NumPy, masking requires specific operator (&, |, ~) instead of (and, or, not)\n",
    "data[(data['x1'] >= 0.1) and (data['x2'] <= 0.5)]"
   ]
  },
  {
   "cell_type": "markdown",
   "id": "93ebce44",
   "metadata": {
    "slideshow": {
     "slide_type": "slide"
    }
   },
   "source": [
    "### Select NumPy (sub-)array out of a data frame"
   ]
  },
  {
   "cell_type": "code",
   "execution_count": 69,
   "id": "b470c1a9",
   "metadata": {
    "slideshow": {
     "slide_type": "-"
    }
   },
   "outputs": [
    {
     "data": {
      "text/plain": [
       "array([[0.29339353, 0.74206773, 0.99080439, 0.21696512, 0.06739125],\n",
       "       [0.89221094, 0.86931449, 0.79783677, 0.83889933, 0.92012928],\n",
       "       [0.69090162, 0.98602132, 0.56414647, 0.00196262, 0.22981613],\n",
       "       [0.22153887, 0.6229111 , 0.35426406, 0.42036559, 0.99432246],\n",
       "       [0.52153394, 0.27243883, 0.07534079, 0.76908485, 0.5977414 ]])"
      ]
     },
     "execution_count": 69,
     "metadata": {},
     "output_type": "execute_result"
    }
   ],
   "source": [
    "data.values # Produce array corresponding to entire DataFrame"
   ]
  },
  {
   "cell_type": "code",
   "execution_count": 70,
   "id": "0c944fdb",
   "metadata": {
    "slideshow": {
     "slide_type": "subslide"
    }
   },
   "outputs": [
    {
     "data": {
      "text/plain": [
       "array([0.29339353, 0.74206773, 0.99080439, 0.21696512, 0.06739125])"
      ]
     },
     "execution_count": 70,
     "metadata": {},
     "output_type": "execute_result"
    }
   ],
   "source": [
    "data.values[0] # Produce array, then index a specific row in this array"
   ]
  },
  {
   "cell_type": "code",
   "execution_count": 71,
   "id": "4eeb358c",
   "metadata": {
    "scrolled": true,
    "slideshow": {
     "slide_type": "-"
    }
   },
   "outputs": [
    {
     "data": {
      "text/plain": [
       "array([[0.99080439, 0.21696512, 0.06739125],\n",
       "       [0.79783677, 0.83889933, 0.92012928],\n",
       "       [0.56414647, 0.00196262, 0.22981613],\n",
       "       [0.35426406, 0.42036559, 0.99432246]])"
      ]
     },
     "execution_count": 71,
     "metadata": {},
     "output_type": "execute_result"
    }
   ],
   "source": [
    "data.values[0:4, 2:] # Produce array, then slice specific rows and columns in this array"
   ]
  },
  {
   "cell_type": "markdown",
   "id": "98154f0f",
   "metadata": {
    "slideshow": {
     "slide_type": "slide"
    }
   },
   "source": [
    "### Transpose the data frame"
   ]
  },
  {
   "cell_type": "code",
   "execution_count": 73,
   "id": "c25c1457",
   "metadata": {
    "slideshow": {
     "slide_type": "-"
    }
   },
   "outputs": [
    {
     "data": {
      "text/html": [
       "<div>\n",
       "<style scoped>\n",
       "    .dataframe tbody tr th:only-of-type {\n",
       "        vertical-align: middle;\n",
       "    }\n",
       "\n",
       "    .dataframe tbody tr th {\n",
       "        vertical-align: top;\n",
       "    }\n",
       "\n",
       "    .dataframe thead th {\n",
       "        text-align: right;\n",
       "    }\n",
       "</style>\n",
       "<table border=\"1\" class=\"dataframe\">\n",
       "  <thead>\n",
       "    <tr style=\"text-align: right;\">\n",
       "      <th></th>\n",
       "      <th>Obs 1</th>\n",
       "      <th>Obs 2</th>\n",
       "      <th>Obs 3</th>\n",
       "      <th>Obs 4</th>\n",
       "      <th>Obs 5</th>\n",
       "    </tr>\n",
       "  </thead>\n",
       "  <tbody>\n",
       "    <tr>\n",
       "      <th>x1</th>\n",
       "      <td>0.293394</td>\n",
       "      <td>0.892211</td>\n",
       "      <td>0.690902</td>\n",
       "      <td>0.221539</td>\n",
       "      <td>0.521534</td>\n",
       "    </tr>\n",
       "    <tr>\n",
       "      <th>x2</th>\n",
       "      <td>0.742068</td>\n",
       "      <td>0.869314</td>\n",
       "      <td>0.986021</td>\n",
       "      <td>0.622911</td>\n",
       "      <td>0.272439</td>\n",
       "    </tr>\n",
       "    <tr>\n",
       "      <th>x3</th>\n",
       "      <td>0.990804</td>\n",
       "      <td>0.797837</td>\n",
       "      <td>0.564146</td>\n",
       "      <td>0.354264</td>\n",
       "      <td>0.075341</td>\n",
       "    </tr>\n",
       "    <tr>\n",
       "      <th>x4</th>\n",
       "      <td>0.216965</td>\n",
       "      <td>0.838899</td>\n",
       "      <td>0.001963</td>\n",
       "      <td>0.420366</td>\n",
       "      <td>0.769085</td>\n",
       "    </tr>\n",
       "    <tr>\n",
       "      <th>y</th>\n",
       "      <td>0.067391</td>\n",
       "      <td>0.920129</td>\n",
       "      <td>0.229816</td>\n",
       "      <td>0.994322</td>\n",
       "      <td>0.597741</td>\n",
       "    </tr>\n",
       "  </tbody>\n",
       "</table>\n",
       "</div>"
      ],
      "text/plain": [
       "       Obs 1     Obs 2     Obs 3     Obs 4     Obs 5\n",
       "x1  0.293394  0.892211  0.690902  0.221539  0.521534\n",
       "x2  0.742068  0.869314  0.986021  0.622911  0.272439\n",
       "x3  0.990804  0.797837  0.564146  0.354264  0.075341\n",
       "x4  0.216965  0.838899  0.001963  0.420366  0.769085\n",
       "y   0.067391  0.920129  0.229816  0.994322  0.597741"
      ]
     },
     "execution_count": 73,
     "metadata": {},
     "output_type": "execute_result"
    }
   ],
   "source": [
    "data.T"
   ]
  },
  {
   "cell_type": "code",
   "execution_count": 74,
   "id": "5daf2155",
   "metadata": {
    "slideshow": {
     "slide_type": "subslide"
    }
   },
   "outputs": [
    {
     "data": {
      "text/plain": [
       "Obs 1    0.293394\n",
       "Obs 2    0.892211\n",
       "Obs 3    0.690902\n",
       "Obs 4    0.221539\n",
       "Obs 5    0.521534\n",
       "Name: x1, dtype: float64"
      ]
     },
     "execution_count": 74,
     "metadata": {},
     "output_type": "execute_result"
    }
   ],
   "source": [
    "data.T.iloc[0] # Reverse semantic of iloc compared to original data object"
   ]
  },
  {
   "cell_type": "code",
   "execution_count": 75,
   "id": "07d9ef2a",
   "metadata": {
    "slideshow": {
     "slide_type": "subslide"
    }
   },
   "outputs": [
    {
     "data": {
      "text/plain": [
       "Obs 1    0.293394\n",
       "Obs 2    0.892211\n",
       "Obs 3    0.690902\n",
       "Obs 4    0.221539\n",
       "Obs 5    0.521534\n",
       "Name: x1, dtype: float64"
      ]
     },
     "execution_count": 75,
     "metadata": {},
     "output_type": "execute_result"
    }
   ],
   "source": [
    "data.T.loc['x1'] # Reverse semantic of loc compared to original data object"
   ]
  },
  {
   "cell_type": "code",
   "execution_count": 77,
   "id": "5d01d52d",
   "metadata": {
    "slideshow": {
     "slide_type": "subslide"
    }
   },
   "outputs": [
    {
     "data": {
      "text/html": [
       "<div>\n",
       "<style scoped>\n",
       "    .dataframe tbody tr th:only-of-type {\n",
       "        vertical-align: middle;\n",
       "    }\n",
       "\n",
       "    .dataframe tbody tr th {\n",
       "        vertical-align: top;\n",
       "    }\n",
       "\n",
       "    .dataframe thead th {\n",
       "        text-align: right;\n",
       "    }\n",
       "</style>\n",
       "<table border=\"1\" class=\"dataframe\">\n",
       "  <thead>\n",
       "    <tr style=\"text-align: right;\">\n",
       "      <th></th>\n",
       "      <th>Obs 1</th>\n",
       "      <th>Obs 2</th>\n",
       "      <th>Obs 3</th>\n",
       "      <th>Obs 4</th>\n",
       "      <th>Obs 5</th>\n",
       "    </tr>\n",
       "  </thead>\n",
       "  <tbody>\n",
       "    <tr>\n",
       "      <th>x1</th>\n",
       "      <td>0.293394</td>\n",
       "      <td>0.892211</td>\n",
       "      <td>0.690902</td>\n",
       "      <td>0.221539</td>\n",
       "      <td>0.521534</td>\n",
       "    </tr>\n",
       "    <tr>\n",
       "      <th>x2</th>\n",
       "      <td>0.742068</td>\n",
       "      <td>0.869314</td>\n",
       "      <td>0.986021</td>\n",
       "      <td>0.622911</td>\n",
       "      <td>0.272439</td>\n",
       "    </tr>\n",
       "    <tr>\n",
       "      <th>x3</th>\n",
       "      <td>0.990804</td>\n",
       "      <td>0.797837</td>\n",
       "      <td>0.564146</td>\n",
       "      <td>0.354264</td>\n",
       "      <td>0.075341</td>\n",
       "    </tr>\n",
       "  </tbody>\n",
       "</table>\n",
       "</div>"
      ],
      "text/plain": [
       "       Obs 1     Obs 2     Obs 3     Obs 4     Obs 5\n",
       "x1  0.293394  0.892211  0.690902  0.221539  0.521534\n",
       "x2  0.742068  0.869314  0.986021  0.622911  0.272439\n",
       "x3  0.990804  0.797837  0.564146  0.354264  0.075341"
      ]
     },
     "execution_count": 77,
     "metadata": {},
     "output_type": "execute_result"
    }
   ],
   "source": [
    "# Once transposed, we can slice the columns of the original data frame \n",
    "data.T.loc['x1': 'x3']"
   ]
  },
  {
   "cell_type": "markdown",
   "id": "23ced378",
   "metadata": {
    "slideshow": {
     "slide_type": "slide"
    }
   },
   "source": [
    "### Add/delete columns\n",
    "\n",
    "#### Create new columns"
   ]
  },
  {
   "cell_type": "code",
   "execution_count": 89,
   "id": "5c851dc2",
   "metadata": {
    "slideshow": {
     "slide_type": "-"
    }
   },
   "outputs": [
    {
     "data": {
      "text/html": [
       "<div>\n",
       "<style scoped>\n",
       "    .dataframe tbody tr th:only-of-type {\n",
       "        vertical-align: middle;\n",
       "    }\n",
       "\n",
       "    .dataframe tbody tr th {\n",
       "        vertical-align: top;\n",
       "    }\n",
       "\n",
       "    .dataframe thead th {\n",
       "        text-align: right;\n",
       "    }\n",
       "</style>\n",
       "<table border=\"1\" class=\"dataframe\">\n",
       "  <thead>\n",
       "    <tr style=\"text-align: right;\">\n",
       "      <th></th>\n",
       "      <th>x1</th>\n",
       "      <th>x2</th>\n",
       "      <th>x3</th>\n",
       "      <th>x4</th>\n",
       "      <th>y</th>\n",
       "      <th>x1square</th>\n",
       "      <th>x2square</th>\n",
       "    </tr>\n",
       "  </thead>\n",
       "  <tbody>\n",
       "    <tr>\n",
       "      <th>Obs 1</th>\n",
       "      <td>0.293394</td>\n",
       "      <td>0.742068</td>\n",
       "      <td>0.990804</td>\n",
       "      <td>0.216965</td>\n",
       "      <td>0.067391</td>\n",
       "      <td>0.086080</td>\n",
       "      <td>0.550665</td>\n",
       "    </tr>\n",
       "    <tr>\n",
       "      <th>Obs 2</th>\n",
       "      <td>0.892211</td>\n",
       "      <td>0.869314</td>\n",
       "      <td>0.797837</td>\n",
       "      <td>0.838899</td>\n",
       "      <td>0.920129</td>\n",
       "      <td>0.796040</td>\n",
       "      <td>0.755708</td>\n",
       "    </tr>\n",
       "    <tr>\n",
       "      <th>Obs 3</th>\n",
       "      <td>0.690902</td>\n",
       "      <td>0.986021</td>\n",
       "      <td>0.564146</td>\n",
       "      <td>0.001963</td>\n",
       "      <td>0.229816</td>\n",
       "      <td>0.477345</td>\n",
       "      <td>0.972238</td>\n",
       "    </tr>\n",
       "    <tr>\n",
       "      <th>Obs 4</th>\n",
       "      <td>0.221539</td>\n",
       "      <td>0.622911</td>\n",
       "      <td>0.354264</td>\n",
       "      <td>0.420366</td>\n",
       "      <td>0.994322</td>\n",
       "      <td>0.049079</td>\n",
       "      <td>0.388018</td>\n",
       "    </tr>\n",
       "    <tr>\n",
       "      <th>Obs 5</th>\n",
       "      <td>0.521534</td>\n",
       "      <td>0.272439</td>\n",
       "      <td>0.075341</td>\n",
       "      <td>0.769085</td>\n",
       "      <td>0.597741</td>\n",
       "      <td>0.271998</td>\n",
       "      <td>0.074223</td>\n",
       "    </tr>\n",
       "  </tbody>\n",
       "</table>\n",
       "</div>"
      ],
      "text/plain": [
       "             x1        x2        x3        x4         y  x1square  x2square\n",
       "Obs 1  0.293394  0.742068  0.990804  0.216965  0.067391  0.086080  0.550665\n",
       "Obs 2  0.892211  0.869314  0.797837  0.838899  0.920129  0.796040  0.755708\n",
       "Obs 3  0.690902  0.986021  0.564146  0.001963  0.229816  0.477345  0.972238\n",
       "Obs 4  0.221539  0.622911  0.354264  0.420366  0.994322  0.049079  0.388018\n",
       "Obs 5  0.521534  0.272439  0.075341  0.769085  0.597741  0.271998  0.074223"
      ]
     },
     "execution_count": 89,
     "metadata": {},
     "output_type": "execute_result"
    }
   ],
   "source": [
    "data['x1square'] = data['x1'] ** 2\n",
    "data['x2square'] = data['x2'] ** 2\n",
    "data"
   ]
  },
  {
   "cell_type": "code",
   "execution_count": 90,
   "id": "a9350d1f",
   "metadata": {
    "slideshow": {
     "slide_type": "subslide"
    }
   },
   "outputs": [
    {
     "data": {
      "text/plain": [
       "Obs 1    0.086080\n",
       "Obs 2    0.796040\n",
       "Obs 3    0.477345\n",
       "Obs 4    0.049079\n",
       "Obs 5    0.271998\n",
       "Name: x1square, dtype: float64"
      ]
     },
     "execution_count": 90,
     "metadata": {},
     "output_type": "execute_result"
    }
   ],
   "source": [
    "data['x1square']"
   ]
  },
  {
   "cell_type": "code",
   "execution_count": 91,
   "id": "d6e2f6a4",
   "metadata": {
    "slideshow": {
     "slide_type": "subslide"
    }
   },
   "outputs": [
    {
     "data": {
      "text/plain": [
       "Obs 1    0.086080\n",
       "Obs 2    0.796040\n",
       "Obs 3    0.477345\n",
       "Obs 4    0.049079\n",
       "Obs 5    0.271998\n",
       "Name: x1square, dtype: float64"
      ]
     },
     "execution_count": 91,
     "metadata": {},
     "output_type": "execute_result"
    }
   ],
   "source": [
    "data.x1square"
   ]
  },
  {
   "cell_type": "code",
   "execution_count": 92,
   "id": "0f825caa",
   "metadata": {
    "scrolled": false,
    "slideshow": {
     "slide_type": "subslide"
    }
   },
   "outputs": [
    {
     "data": {
      "text/html": [
       "<div>\n",
       "<style scoped>\n",
       "    .dataframe tbody tr th:only-of-type {\n",
       "        vertical-align: middle;\n",
       "    }\n",
       "\n",
       "    .dataframe tbody tr th {\n",
       "        vertical-align: top;\n",
       "    }\n",
       "\n",
       "    .dataframe thead th {\n",
       "        text-align: right;\n",
       "    }\n",
       "</style>\n",
       "<table border=\"1\" class=\"dataframe\">\n",
       "  <thead>\n",
       "    <tr style=\"text-align: right;\">\n",
       "      <th></th>\n",
       "      <th>x1</th>\n",
       "      <th>x2</th>\n",
       "      <th>x3</th>\n",
       "      <th>x4</th>\n",
       "      <th>y</th>\n",
       "      <th>x1square</th>\n",
       "      <th>x2square</th>\n",
       "      <th>check x1</th>\n",
       "    </tr>\n",
       "  </thead>\n",
       "  <tbody>\n",
       "    <tr>\n",
       "      <th>Obs 1</th>\n",
       "      <td>0.293394</td>\n",
       "      <td>0.742068</td>\n",
       "      <td>0.990804</td>\n",
       "      <td>0.216965</td>\n",
       "      <td>0.067391</td>\n",
       "      <td>0.086080</td>\n",
       "      <td>0.550665</td>\n",
       "      <td>True</td>\n",
       "    </tr>\n",
       "    <tr>\n",
       "      <th>Obs 2</th>\n",
       "      <td>0.892211</td>\n",
       "      <td>0.869314</td>\n",
       "      <td>0.797837</td>\n",
       "      <td>0.838899</td>\n",
       "      <td>0.920129</td>\n",
       "      <td>0.796040</td>\n",
       "      <td>0.755708</td>\n",
       "      <td>True</td>\n",
       "    </tr>\n",
       "    <tr>\n",
       "      <th>Obs 3</th>\n",
       "      <td>0.690902</td>\n",
       "      <td>0.986021</td>\n",
       "      <td>0.564146</td>\n",
       "      <td>0.001963</td>\n",
       "      <td>0.229816</td>\n",
       "      <td>0.477345</td>\n",
       "      <td>0.972238</td>\n",
       "      <td>True</td>\n",
       "    </tr>\n",
       "    <tr>\n",
       "      <th>Obs 4</th>\n",
       "      <td>0.221539</td>\n",
       "      <td>0.622911</td>\n",
       "      <td>0.354264</td>\n",
       "      <td>0.420366</td>\n",
       "      <td>0.994322</td>\n",
       "      <td>0.049079</td>\n",
       "      <td>0.388018</td>\n",
       "      <td>True</td>\n",
       "    </tr>\n",
       "    <tr>\n",
       "      <th>Obs 5</th>\n",
       "      <td>0.521534</td>\n",
       "      <td>0.272439</td>\n",
       "      <td>0.075341</td>\n",
       "      <td>0.769085</td>\n",
       "      <td>0.597741</td>\n",
       "      <td>0.271998</td>\n",
       "      <td>0.074223</td>\n",
       "      <td>True</td>\n",
       "    </tr>\n",
       "  </tbody>\n",
       "</table>\n",
       "</div>"
      ],
      "text/plain": [
       "             x1        x2        x3        x4         y  x1square  x2square  \\\n",
       "Obs 1  0.293394  0.742068  0.990804  0.216965  0.067391  0.086080  0.550665   \n",
       "Obs 2  0.892211  0.869314  0.797837  0.838899  0.920129  0.796040  0.755708   \n",
       "Obs 3  0.690902  0.986021  0.564146  0.001963  0.229816  0.477345  0.972238   \n",
       "Obs 4  0.221539  0.622911  0.354264  0.420366  0.994322  0.049079  0.388018   \n",
       "Obs 5  0.521534  0.272439  0.075341  0.769085  0.597741  0.271998  0.074223   \n",
       "\n",
       "       check x1  \n",
       "Obs 1      True  \n",
       "Obs 2      True  \n",
       "Obs 3      True  \n",
       "Obs 4      True  \n",
       "Obs 5      True  "
      ]
     },
     "execution_count": 92,
     "metadata": {},
     "output_type": "execute_result"
    }
   ],
   "source": [
    "data['check x1'] = data['x1'] ** 2 == data['x1square']\n",
    "data"
   ]
  },
  {
   "cell_type": "markdown",
   "id": "0469d940",
   "metadata": {
    "slideshow": {
     "slide_type": "slide"
    }
   },
   "source": [
    "#### Delete columns"
   ]
  },
  {
   "cell_type": "code",
   "execution_count": 93,
   "id": "893ab609",
   "metadata": {
    "slideshow": {
     "slide_type": "-"
    }
   },
   "outputs": [
    {
     "data": {
      "text/html": [
       "<div>\n",
       "<style scoped>\n",
       "    .dataframe tbody tr th:only-of-type {\n",
       "        vertical-align: middle;\n",
       "    }\n",
       "\n",
       "    .dataframe tbody tr th {\n",
       "        vertical-align: top;\n",
       "    }\n",
       "\n",
       "    .dataframe thead th {\n",
       "        text-align: right;\n",
       "    }\n",
       "</style>\n",
       "<table border=\"1\" class=\"dataframe\">\n",
       "  <thead>\n",
       "    <tr style=\"text-align: right;\">\n",
       "      <th></th>\n",
       "      <th>x1</th>\n",
       "      <th>x2</th>\n",
       "      <th>x3</th>\n",
       "      <th>x4</th>\n",
       "      <th>y</th>\n",
       "      <th>x1square</th>\n",
       "      <th>x2square</th>\n",
       "    </tr>\n",
       "  </thead>\n",
       "  <tbody>\n",
       "    <tr>\n",
       "      <th>Obs 1</th>\n",
       "      <td>0.293394</td>\n",
       "      <td>0.742068</td>\n",
       "      <td>0.990804</td>\n",
       "      <td>0.216965</td>\n",
       "      <td>0.067391</td>\n",
       "      <td>0.086080</td>\n",
       "      <td>0.550665</td>\n",
       "    </tr>\n",
       "    <tr>\n",
       "      <th>Obs 2</th>\n",
       "      <td>0.892211</td>\n",
       "      <td>0.869314</td>\n",
       "      <td>0.797837</td>\n",
       "      <td>0.838899</td>\n",
       "      <td>0.920129</td>\n",
       "      <td>0.796040</td>\n",
       "      <td>0.755708</td>\n",
       "    </tr>\n",
       "    <tr>\n",
       "      <th>Obs 3</th>\n",
       "      <td>0.690902</td>\n",
       "      <td>0.986021</td>\n",
       "      <td>0.564146</td>\n",
       "      <td>0.001963</td>\n",
       "      <td>0.229816</td>\n",
       "      <td>0.477345</td>\n",
       "      <td>0.972238</td>\n",
       "    </tr>\n",
       "    <tr>\n",
       "      <th>Obs 4</th>\n",
       "      <td>0.221539</td>\n",
       "      <td>0.622911</td>\n",
       "      <td>0.354264</td>\n",
       "      <td>0.420366</td>\n",
       "      <td>0.994322</td>\n",
       "      <td>0.049079</td>\n",
       "      <td>0.388018</td>\n",
       "    </tr>\n",
       "    <tr>\n",
       "      <th>Obs 5</th>\n",
       "      <td>0.521534</td>\n",
       "      <td>0.272439</td>\n",
       "      <td>0.075341</td>\n",
       "      <td>0.769085</td>\n",
       "      <td>0.597741</td>\n",
       "      <td>0.271998</td>\n",
       "      <td>0.074223</td>\n",
       "    </tr>\n",
       "  </tbody>\n",
       "</table>\n",
       "</div>"
      ],
      "text/plain": [
       "             x1        x2        x3        x4         y  x1square  x2square\n",
       "Obs 1  0.293394  0.742068  0.990804  0.216965  0.067391  0.086080  0.550665\n",
       "Obs 2  0.892211  0.869314  0.797837  0.838899  0.920129  0.796040  0.755708\n",
       "Obs 3  0.690902  0.986021  0.564146  0.001963  0.229816  0.477345  0.972238\n",
       "Obs 4  0.221539  0.622911  0.354264  0.420366  0.994322  0.049079  0.388018\n",
       "Obs 5  0.521534  0.272439  0.075341  0.769085  0.597741  0.271998  0.074223"
      ]
     },
     "execution_count": 93,
     "metadata": {},
     "output_type": "execute_result"
    }
   ],
   "source": [
    "data = data.drop('check x1', axis=1)  # Does not mutate (parameter 'inplace' False by default)\n",
    "data"
   ]
  },
  {
   "cell_type": "code",
   "execution_count": 94,
   "id": "984ee4f8",
   "metadata": {
    "scrolled": true,
    "slideshow": {
     "slide_type": "subslide"
    }
   },
   "outputs": [
    {
     "data": {
      "text/html": [
       "<div>\n",
       "<style scoped>\n",
       "    .dataframe tbody tr th:only-of-type {\n",
       "        vertical-align: middle;\n",
       "    }\n",
       "\n",
       "    .dataframe tbody tr th {\n",
       "        vertical-align: top;\n",
       "    }\n",
       "\n",
       "    .dataframe thead th {\n",
       "        text-align: right;\n",
       "    }\n",
       "</style>\n",
       "<table border=\"1\" class=\"dataframe\">\n",
       "  <thead>\n",
       "    <tr style=\"text-align: right;\">\n",
       "      <th></th>\n",
       "      <th>x1</th>\n",
       "      <th>x2</th>\n",
       "      <th>x3</th>\n",
       "      <th>x4</th>\n",
       "      <th>y</th>\n",
       "    </tr>\n",
       "  </thead>\n",
       "  <tbody>\n",
       "    <tr>\n",
       "      <th>Obs 1</th>\n",
       "      <td>0.293394</td>\n",
       "      <td>0.742068</td>\n",
       "      <td>0.990804</td>\n",
       "      <td>0.216965</td>\n",
       "      <td>0.067391</td>\n",
       "    </tr>\n",
       "    <tr>\n",
       "      <th>Obs 2</th>\n",
       "      <td>0.892211</td>\n",
       "      <td>0.869314</td>\n",
       "      <td>0.797837</td>\n",
       "      <td>0.838899</td>\n",
       "      <td>0.920129</td>\n",
       "    </tr>\n",
       "    <tr>\n",
       "      <th>Obs 3</th>\n",
       "      <td>0.690902</td>\n",
       "      <td>0.986021</td>\n",
       "      <td>0.564146</td>\n",
       "      <td>0.001963</td>\n",
       "      <td>0.229816</td>\n",
       "    </tr>\n",
       "    <tr>\n",
       "      <th>Obs 4</th>\n",
       "      <td>0.221539</td>\n",
       "      <td>0.622911</td>\n",
       "      <td>0.354264</td>\n",
       "      <td>0.420366</td>\n",
       "      <td>0.994322</td>\n",
       "    </tr>\n",
       "    <tr>\n",
       "      <th>Obs 5</th>\n",
       "      <td>0.521534</td>\n",
       "      <td>0.272439</td>\n",
       "      <td>0.075341</td>\n",
       "      <td>0.769085</td>\n",
       "      <td>0.597741</td>\n",
       "    </tr>\n",
       "  </tbody>\n",
       "</table>\n",
       "</div>"
      ],
      "text/plain": [
       "             x1        x2        x3        x4         y\n",
       "Obs 1  0.293394  0.742068  0.990804  0.216965  0.067391\n",
       "Obs 2  0.892211  0.869314  0.797837  0.838899  0.920129\n",
       "Obs 3  0.690902  0.986021  0.564146  0.001963  0.229816\n",
       "Obs 4  0.221539  0.622911  0.354264  0.420366  0.994322\n",
       "Obs 5  0.521534  0.272439  0.075341  0.769085  0.597741"
      ]
     },
     "execution_count": 94,
     "metadata": {},
     "output_type": "execute_result"
    }
   ],
   "source": [
    "data.drop(['x1square','x2square'], axis=1, inplace=True) # Mutate when 'inplace' = True\n",
    "data"
   ]
  },
  {
   "cell_type": "markdown",
   "id": "75768020",
   "metadata": {
    "slideshow": {
     "slide_type": "slide"
    }
   },
   "source": [
    "### Hierarchical indexing\n",
    "Pandas can define a *hierarchical* labeling of any axes, meaning it's possible to have multiple labels per '*tick*'. \n",
    "\n",
    "Labels become lists of lists, creating a hierarchy. \n",
    "\n",
    "Hierarchical indexing can be defined for rows and/or columns."
   ]
  },
  {
   "cell_type": "code",
   "execution_count": 84,
   "id": "3b8dbae7",
   "metadata": {
    "slideshow": {
     "slide_type": "-"
    }
   },
   "outputs": [
    {
     "name": "stdout",
     "output_type": "stream",
     "text": [
      "a  1    1.782424\n",
      "   2   -0.495283\n",
      "   3    0.689011\n",
      "b  1    2.510957\n",
      "   2    0.458719\n",
      "   3   -0.027368\n",
      "c  1   -0.576929\n",
      "   2    1.526915\n",
      "d  2   -0.852392\n",
      "   3    0.364351\n",
      "dtype: float64\n"
     ]
    }
   ],
   "source": [
    "s = pd.Series(np.random.randn(10),\n",
    "              index=[['a','a','a','b','b','b','c','c','d','d'],\n",
    "                     [1,2,3,1,2,3,1,2,2,3]])\n",
    "print(s)"
   ]
  },
  {
   "cell_type": "markdown",
   "id": "5b0a636c",
   "metadata": {
    "slideshow": {
     "slide_type": "subslide"
    }
   },
   "source": [
    "#### Query a sub-frame corresponding to a specific label in the hierarchy"
   ]
  },
  {
   "cell_type": "code",
   "execution_count": 95,
   "id": "cb26fc3f",
   "metadata": {
    "slideshow": {
     "slide_type": "-"
    }
   },
   "outputs": [
    {
     "name": "stdout",
     "output_type": "stream",
     "text": [
      "1    1.782424\n",
      "2   -0.495283\n",
      "3    0.689011\n",
      "dtype: float64\n"
     ]
    }
   ],
   "source": [
    "print(s['a'])"
   ]
  },
  {
   "cell_type": "code",
   "execution_count": 96,
   "id": "16006bcd",
   "metadata": {
    "slideshow": {
     "slide_type": "-"
    }
   },
   "outputs": [
    {
     "name": "stdout",
     "output_type": "stream",
     "text": [
      "b  1    2.510957\n",
      "   2    0.458719\n",
      "   3   -0.027368\n",
      "c  1   -0.576929\n",
      "   2    1.526915\n",
      "dtype: float64\n"
     ]
    }
   ],
   "source": [
    "print(s['b':'c']) # Slicing"
   ]
  },
  {
   "cell_type": "markdown",
   "id": "247411b1",
   "metadata": {
    "slideshow": {
     "slide_type": "slide"
    }
   },
   "source": [
    "#### Hierarchical labels can be defined both in rows and columns"
   ]
  },
  {
   "cell_type": "code",
   "execution_count": 97,
   "id": "f1660a4e",
   "metadata": {
    "slideshow": {
     "slide_type": "-"
    }
   },
   "outputs": [
    {
     "name": "stdout",
     "output_type": "stream",
     "text": [
      "    Feature A     Feature B    \n",
      "           A1  A2        B1  B2\n",
      "a 1         0   1         2   3\n",
      "  2         4   5         6   7\n",
      "  3         8   9        10  11\n",
      "b 1        12  13        14  15\n",
      "  2        16  17        18  19\n",
      "  3        20  21        22  23\n",
      "c 1        24  25        26  27\n",
      "  2        28  29        30  31\n",
      "d 2        32  33        34  35\n",
      "  3        36  37        38  39\n"
     ]
    }
   ],
   "source": [
    "df = pd.DataFrame(np.arange(40).reshape((10,4)),\n",
    "           index=[['a','a','a','b','b','b','c','c','d','d'],[1,2,3,1,2,3,1,2,2,3]],\n",
    "           columns=[['Feature A','Feature A','Feature B','Feature B'],\n",
    "                    ['A1','A2','B1','B2']])\n",
    "\n",
    "print(df)"
   ]
  },
  {
   "cell_type": "markdown",
   "id": "eef7a35d",
   "metadata": {
    "slideshow": {
     "slide_type": "subslide"
    }
   },
   "source": [
    "#### When querying sub-frames, Pandas automatically attaches the relevant sub-hierarchy of labels"
   ]
  },
  {
   "cell_type": "code",
   "execution_count": 98,
   "id": "02f194e5",
   "metadata": {
    "slideshow": {
     "slide_type": "-"
    }
   },
   "outputs": [
    {
     "name": "stdout",
     "output_type": "stream",
     "text": [
      "     A1  A2\n",
      "a 1   0   1\n",
      "  2   4   5\n",
      "  3   8   9\n",
      "b 1  12  13\n",
      "  2  16  17\n",
      "  3  20  21\n",
      "c 1  24  25\n",
      "  2  28  29\n",
      "d 2  32  33\n",
      "  3  36  37\n"
     ]
    }
   ],
   "source": [
    "print(df['Feature A'])"
   ]
  },
  {
   "cell_type": "code",
   "execution_count": 99,
   "id": "62fefc9f",
   "metadata": {
    "slideshow": {
     "slide_type": "subslide"
    }
   },
   "outputs": [
    {
     "name": "stdout",
     "output_type": "stream",
     "text": [
      "  Feature A    Feature B    \n",
      "         A1 A2        B1  B2\n",
      "1         0  1         2   3\n",
      "2         4  5         6   7\n",
      "3         8  9        10  11\n"
     ]
    }
   ],
   "source": [
    "print(df.loc['a'])"
   ]
  },
  {
   "cell_type": "code",
   "execution_count": 100,
   "id": "ba79d88c",
   "metadata": {
    "slideshow": {
     "slide_type": "-"
    }
   },
   "outputs": [
    {
     "name": "stdout",
     "output_type": "stream",
     "text": [
      "   A1  A2\n",
      "1   0   1\n",
      "2   4   5\n",
      "3   8   9\n"
     ]
    }
   ],
   "source": [
    "print(df['Feature A'].loc['a'])"
   ]
  },
  {
   "cell_type": "markdown",
   "id": "c0b2eaea",
   "metadata": {
    "slideshow": {
     "slide_type": "slide"
    }
   },
   "source": [
    "#### Let's look at an example of hierarchical indexing with real-world data:"
   ]
  },
  {
   "cell_type": "code",
   "execution_count": 101,
   "id": "ea6f6608",
   "metadata": {
    "slideshow": {
     "slide_type": "-"
    }
   },
   "outputs": [
    {
     "data": {
      "text/plain": [
       "California  2000    33871648\n",
       "            2010    37253956\n",
       "New York    2000    18976457\n",
       "            2010    19378102\n",
       "Texas       2000    20851820\n",
       "            2010    25145561\n",
       "dtype: int64"
      ]
     },
     "execution_count": 101,
     "metadata": {},
     "output_type": "execute_result"
    }
   ],
   "source": [
    "# Given population in 2000 and 2010 of three states, listed by state\n",
    "populations = [33871648, 37253956, 18976457, 19378102, 20851820, 25145561]\n",
    "\n",
    "# Create a list of tuples\n",
    "index = [('California', 2000), ('California', 2010),\n",
    "         ('New York', 2000), ('New York', 2010),\n",
    "         ('Texas', 2000), ('Texas', 2010)]\n",
    "\n",
    "# Create a MultiIndex object\n",
    "index2D = pd.MultiIndex.from_tuples(index)\n",
    "\n",
    "# Create a Pandas series with hierarchical indexing \n",
    "pop = pd.Series(populations, index2D)\n",
    "pop"
   ]
  },
  {
   "cell_type": "markdown",
   "id": "e920ec0b",
   "metadata": {
    "slideshow": {
     "slide_type": "slide"
    }
   },
   "source": [
    "A dictionary can be used as input, in which case Pandas automatically create a `MultiIndex`. \n",
    "\n",
    "Here is the same example as above, but using a dictionary as input:"
   ]
  },
  {
   "cell_type": "code",
   "execution_count": 102,
   "id": "7fb51c8c",
   "metadata": {
    "slideshow": {
     "slide_type": "-"
    }
   },
   "outputs": [
    {
     "data": {
      "text/plain": [
       "California  2000    33871648\n",
       "            2010    37253956\n",
       "New York    2000    18976457\n",
       "            2010    19378102\n",
       "Texas       2000    20851820\n",
       "            2010    25145561\n",
       "dtype: int64"
      ]
     },
     "execution_count": 102,
     "metadata": {},
     "output_type": "execute_result"
    }
   ],
   "source": [
    "# Given population in 2000 and 2010 of three states, listed by state\n",
    "data = {('California', 2000): 33871648,\n",
    "        ('California', 2010): 37253956,\n",
    "        ('New York', 2000): 18976457,\n",
    "        ('New York', 2010): 19378102,\n",
    "        ('Texas', 2000): 20851820,\n",
    "        ('Texas', 2010): 25145561}\n",
    "\n",
    "# Create a Pandas series with hierarchical indexing, directly from the dictionary\n",
    "pd.Series(data)"
   ]
  },
  {
   "cell_type": "markdown",
   "id": "0cb0645c",
   "metadata": {
    "slideshow": {
     "slide_type": "subslide"
    }
   },
   "source": [
    "Same result, but less code..."
   ]
  },
  {
   "cell_type": "markdown",
   "id": "6042f309",
   "metadata": {
    "slideshow": {
     "slide_type": "slide"
    }
   },
   "source": [
    "## Please visit this URL and challenge yourself on the practice exercises:\n",
    "\n",
    "https://datacarpentry.org/python-ecology-lesson/03-index-slice-subset.html\n",
    "\n",
    "Metadata on this dataset can be found here: https://www.esapubs.org/archive/ecol/E090/118/Portal_rodent_metadata.htm"
   ]
  },
  {
   "cell_type": "code",
   "execution_count": 103,
   "id": "360e0bb6",
   "metadata": {
    "slideshow": {
     "slide_type": "-"
    }
   },
   "outputs": [],
   "source": [
    "surveys = pd.read_csv(\"./surveys.csv\") "
   ]
  },
  {
   "cell_type": "code",
   "execution_count": 104,
   "id": "4765e903",
   "metadata": {
    "slideshow": {
     "slide_type": "-"
    }
   },
   "outputs": [
    {
     "data": {
      "text/plain": [
       "(35549, 9)"
      ]
     },
     "execution_count": 104,
     "metadata": {},
     "output_type": "execute_result"
    }
   ],
   "source": [
    "surveys.shape"
   ]
  },
  {
   "cell_type": "code",
   "execution_count": 105,
   "id": "09e2d21a",
   "metadata": {
    "slideshow": {
     "slide_type": "subslide"
    }
   },
   "outputs": [
    {
     "data": {
      "text/plain": [
       "Index(['record_id', 'month', 'day', 'year', 'plot_id', 'species_id', 'sex',\n",
       "       'hindfoot_length', 'weight'],\n",
       "      dtype='object')"
      ]
     },
     "execution_count": 105,
     "metadata": {},
     "output_type": "execute_result"
    }
   ],
   "source": [
    "surveys.columns"
   ]
  },
  {
   "cell_type": "code",
   "execution_count": 106,
   "id": "ec82895c",
   "metadata": {
    "slideshow": {
     "slide_type": "subslide"
    }
   },
   "outputs": [
    {
     "data": {
      "text/plain": [
       "record_id            int64\n",
       "month                int64\n",
       "day                  int64\n",
       "year                 int64\n",
       "plot_id              int64\n",
       "species_id          object\n",
       "sex                 object\n",
       "hindfoot_length    float64\n",
       "weight             float64\n",
       "dtype: object"
      ]
     },
     "execution_count": 106,
     "metadata": {},
     "output_type": "execute_result"
    }
   ],
   "source": [
    "surveys.dtypes"
   ]
  },
  {
   "cell_type": "code",
   "execution_count": 107,
   "id": "b76c1daa",
   "metadata": {
    "slideshow": {
     "slide_type": "subslide"
    }
   },
   "outputs": [
    {
     "data": {
      "text/html": [
       "<div>\n",
       "<style scoped>\n",
       "    .dataframe tbody tr th:only-of-type {\n",
       "        vertical-align: middle;\n",
       "    }\n",
       "\n",
       "    .dataframe tbody tr th {\n",
       "        vertical-align: top;\n",
       "    }\n",
       "\n",
       "    .dataframe thead th {\n",
       "        text-align: right;\n",
       "    }\n",
       "</style>\n",
       "<table border=\"1\" class=\"dataframe\">\n",
       "  <thead>\n",
       "    <tr style=\"text-align: right;\">\n",
       "      <th></th>\n",
       "      <th>record_id</th>\n",
       "      <th>month</th>\n",
       "      <th>day</th>\n",
       "      <th>year</th>\n",
       "      <th>plot_id</th>\n",
       "      <th>species_id</th>\n",
       "      <th>sex</th>\n",
       "      <th>hindfoot_length</th>\n",
       "      <th>weight</th>\n",
       "    </tr>\n",
       "  </thead>\n",
       "  <tbody>\n",
       "    <tr>\n",
       "      <th>0</th>\n",
       "      <td>1</td>\n",
       "      <td>7</td>\n",
       "      <td>16</td>\n",
       "      <td>1977</td>\n",
       "      <td>2</td>\n",
       "      <td>NL</td>\n",
       "      <td>M</td>\n",
       "      <td>32.0</td>\n",
       "      <td>NaN</td>\n",
       "    </tr>\n",
       "    <tr>\n",
       "      <th>1</th>\n",
       "      <td>2</td>\n",
       "      <td>7</td>\n",
       "      <td>16</td>\n",
       "      <td>1977</td>\n",
       "      <td>3</td>\n",
       "      <td>NL</td>\n",
       "      <td>M</td>\n",
       "      <td>33.0</td>\n",
       "      <td>NaN</td>\n",
       "    </tr>\n",
       "    <tr>\n",
       "      <th>2</th>\n",
       "      <td>3</td>\n",
       "      <td>7</td>\n",
       "      <td>16</td>\n",
       "      <td>1977</td>\n",
       "      <td>2</td>\n",
       "      <td>DM</td>\n",
       "      <td>F</td>\n",
       "      <td>37.0</td>\n",
       "      <td>NaN</td>\n",
       "    </tr>\n",
       "    <tr>\n",
       "      <th>3</th>\n",
       "      <td>4</td>\n",
       "      <td>7</td>\n",
       "      <td>16</td>\n",
       "      <td>1977</td>\n",
       "      <td>7</td>\n",
       "      <td>DM</td>\n",
       "      <td>M</td>\n",
       "      <td>36.0</td>\n",
       "      <td>NaN</td>\n",
       "    </tr>\n",
       "    <tr>\n",
       "      <th>4</th>\n",
       "      <td>5</td>\n",
       "      <td>7</td>\n",
       "      <td>16</td>\n",
       "      <td>1977</td>\n",
       "      <td>3</td>\n",
       "      <td>DM</td>\n",
       "      <td>M</td>\n",
       "      <td>35.0</td>\n",
       "      <td>NaN</td>\n",
       "    </tr>\n",
       "  </tbody>\n",
       "</table>\n",
       "</div>"
      ],
      "text/plain": [
       "   record_id  month  day  year  plot_id species_id sex  hindfoot_length  \\\n",
       "0          1      7   16  1977        2         NL   M             32.0   \n",
       "1          2      7   16  1977        3         NL   M             33.0   \n",
       "2          3      7   16  1977        2         DM   F             37.0   \n",
       "3          4      7   16  1977        7         DM   M             36.0   \n",
       "4          5      7   16  1977        3         DM   M             35.0   \n",
       "\n",
       "   weight  \n",
       "0     NaN  \n",
       "1     NaN  \n",
       "2     NaN  \n",
       "3     NaN  \n",
       "4     NaN  "
      ]
     },
     "execution_count": 107,
     "metadata": {},
     "output_type": "execute_result"
    }
   ],
   "source": [
    "surveys.head()"
   ]
  },
  {
   "cell_type": "code",
   "execution_count": 108,
   "id": "87aac23f",
   "metadata": {
    "slideshow": {
     "slide_type": "subslide"
    }
   },
   "outputs": [
    {
     "data": {
      "text/html": [
       "<div>\n",
       "<style scoped>\n",
       "    .dataframe tbody tr th:only-of-type {\n",
       "        vertical-align: middle;\n",
       "    }\n",
       "\n",
       "    .dataframe tbody tr th {\n",
       "        vertical-align: top;\n",
       "    }\n",
       "\n",
       "    .dataframe thead th {\n",
       "        text-align: right;\n",
       "    }\n",
       "</style>\n",
       "<table border=\"1\" class=\"dataframe\">\n",
       "  <thead>\n",
       "    <tr style=\"text-align: right;\">\n",
       "      <th></th>\n",
       "      <th>record_id</th>\n",
       "      <th>month</th>\n",
       "      <th>day</th>\n",
       "      <th>year</th>\n",
       "      <th>plot_id</th>\n",
       "      <th>species_id</th>\n",
       "      <th>sex</th>\n",
       "      <th>hindfoot_length</th>\n",
       "      <th>weight</th>\n",
       "    </tr>\n",
       "  </thead>\n",
       "  <tbody>\n",
       "    <tr>\n",
       "      <th>35544</th>\n",
       "      <td>35545</td>\n",
       "      <td>12</td>\n",
       "      <td>31</td>\n",
       "      <td>2002</td>\n",
       "      <td>15</td>\n",
       "      <td>AH</td>\n",
       "      <td>NaN</td>\n",
       "      <td>NaN</td>\n",
       "      <td>NaN</td>\n",
       "    </tr>\n",
       "    <tr>\n",
       "      <th>35545</th>\n",
       "      <td>35546</td>\n",
       "      <td>12</td>\n",
       "      <td>31</td>\n",
       "      <td>2002</td>\n",
       "      <td>15</td>\n",
       "      <td>AH</td>\n",
       "      <td>NaN</td>\n",
       "      <td>NaN</td>\n",
       "      <td>NaN</td>\n",
       "    </tr>\n",
       "    <tr>\n",
       "      <th>35546</th>\n",
       "      <td>35547</td>\n",
       "      <td>12</td>\n",
       "      <td>31</td>\n",
       "      <td>2002</td>\n",
       "      <td>10</td>\n",
       "      <td>RM</td>\n",
       "      <td>F</td>\n",
       "      <td>15.0</td>\n",
       "      <td>14.0</td>\n",
       "    </tr>\n",
       "    <tr>\n",
       "      <th>35547</th>\n",
       "      <td>35548</td>\n",
       "      <td>12</td>\n",
       "      <td>31</td>\n",
       "      <td>2002</td>\n",
       "      <td>7</td>\n",
       "      <td>DO</td>\n",
       "      <td>M</td>\n",
       "      <td>36.0</td>\n",
       "      <td>51.0</td>\n",
       "    </tr>\n",
       "    <tr>\n",
       "      <th>35548</th>\n",
       "      <td>35549</td>\n",
       "      <td>12</td>\n",
       "      <td>31</td>\n",
       "      <td>2002</td>\n",
       "      <td>5</td>\n",
       "      <td>NaN</td>\n",
       "      <td>NaN</td>\n",
       "      <td>NaN</td>\n",
       "      <td>NaN</td>\n",
       "    </tr>\n",
       "  </tbody>\n",
       "</table>\n",
       "</div>"
      ],
      "text/plain": [
       "       record_id  month  day  year  plot_id species_id  sex  hindfoot_length  \\\n",
       "35544      35545     12   31  2002       15         AH  NaN              NaN   \n",
       "35545      35546     12   31  2002       15         AH  NaN              NaN   \n",
       "35546      35547     12   31  2002       10         RM    F             15.0   \n",
       "35547      35548     12   31  2002        7         DO    M             36.0   \n",
       "35548      35549     12   31  2002        5        NaN  NaN              NaN   \n",
       "\n",
       "       weight  \n",
       "35544     NaN  \n",
       "35545     NaN  \n",
       "35546    14.0  \n",
       "35547    51.0  \n",
       "35548     NaN  "
      ]
     },
     "execution_count": 108,
     "metadata": {},
     "output_type": "execute_result"
    }
   ],
   "source": [
    "surveys.tail()"
   ]
  },
  {
   "cell_type": "markdown",
   "id": "eb71e1ed",
   "metadata": {
    "slideshow": {
     "slide_type": "slide"
    }
   },
   "source": [
    "#### Practice Exercice:"
   ]
  },
  {
   "cell_type": "code",
   "execution_count": 109,
   "id": "011fc3c8",
   "metadata": {
    "scrolled": true,
    "slideshow": {
     "slide_type": "slide"
    }
   },
   "outputs": [
    {
     "data": {
      "text/html": [
       "<div>\n",
       "<style scoped>\n",
       "    .dataframe tbody tr th:only-of-type {\n",
       "        vertical-align: middle;\n",
       "    }\n",
       "\n",
       "    .dataframe tbody tr th {\n",
       "        vertical-align: top;\n",
       "    }\n",
       "\n",
       "    .dataframe thead th {\n",
       "        text-align: right;\n",
       "    }\n",
       "</style>\n",
       "<table border=\"1\" class=\"dataframe\">\n",
       "  <thead>\n",
       "    <tr style=\"text-align: right;\">\n",
       "      <th></th>\n",
       "      <th>record_id</th>\n",
       "      <th>month</th>\n",
       "      <th>day</th>\n",
       "      <th>year</th>\n",
       "      <th>plot_id</th>\n",
       "      <th>species_id</th>\n",
       "      <th>sex</th>\n",
       "      <th>hindfoot_length</th>\n",
       "      <th>weight</th>\n",
       "    </tr>\n",
       "  </thead>\n",
       "  <tbody>\n",
       "    <tr>\n",
       "      <th>0</th>\n",
       "      <td>1</td>\n",
       "      <td>7</td>\n",
       "      <td>16</td>\n",
       "      <td>1977</td>\n",
       "      <td>2</td>\n",
       "      <td>NL</td>\n",
       "      <td>M</td>\n",
       "      <td>32.0</td>\n",
       "      <td>NaN</td>\n",
       "    </tr>\n",
       "    <tr>\n",
       "      <th>10</th>\n",
       "      <td>11</td>\n",
       "      <td>7</td>\n",
       "      <td>16</td>\n",
       "      <td>1977</td>\n",
       "      <td>5</td>\n",
       "      <td>DS</td>\n",
       "      <td>F</td>\n",
       "      <td>53.0</td>\n",
       "      <td>NaN</td>\n",
       "    </tr>\n",
       "  </tbody>\n",
       "</table>\n",
       "</div>"
      ],
      "text/plain": [
       "    record_id  month  day  year  plot_id species_id sex  hindfoot_length  \\\n",
       "0           1      7   16  1977        2         NL   M             32.0   \n",
       "10         11      7   16  1977        5         DS   F             53.0   \n",
       "\n",
       "    weight  \n",
       "0      NaN  \n",
       "10     NaN  "
      ]
     },
     "execution_count": 109,
     "metadata": {},
     "output_type": "execute_result"
    }
   ],
   "source": [
    "# 1) What does this do?\n",
    "surveys.loc[[0, 10]]  # Same as surveys.loc[[0, 10],:]"
   ]
  },
  {
   "cell_type": "markdown",
   "id": "331781c4",
   "metadata": {
    "slideshow": {
     "slide_type": "fragment"
    }
   },
   "source": [
    "\n",
    "[ YOUR RESPONSE ]\n"
   ]
  },
  {
   "cell_type": "code",
   "execution_count": 110,
   "id": "3e558e31",
   "metadata": {
    "slideshow": {
     "slide_type": "slide"
    }
   },
   "outputs": [
    {
     "data": {
      "text/plain": [
       "species_id     NL\n",
       "plot_id         2\n",
       "weight        NaN\n",
       "Name: 0, dtype: object"
      ]
     },
     "execution_count": 110,
     "metadata": {},
     "output_type": "execute_result"
    }
   ],
   "source": [
    "# 2) What does this do?\n",
    "surveys[['species_id', 'plot_id', 'weight']].loc[0]  # Same as surveys.loc[0,['species_id', 'plot_id', 'weight']]"
   ]
  },
  {
   "cell_type": "markdown",
   "id": "764d9b06",
   "metadata": {
    "slideshow": {
     "slide_type": "fragment"
    }
   },
   "source": [
    "\n",
    "[ YOUR RESPONSE ]\n"
   ]
  },
  {
   "cell_type": "code",
   "execution_count": 113,
   "id": "7d586709",
   "metadata": {
    "slideshow": {
     "slide_type": "slide"
    }
   },
   "outputs": [
    {
     "data": {
      "text/html": [
       "<div>\n",
       "<style scoped>\n",
       "    .dataframe tbody tr th:only-of-type {\n",
       "        vertical-align: middle;\n",
       "    }\n",
       "\n",
       "    .dataframe tbody tr th {\n",
       "        vertical-align: top;\n",
       "    }\n",
       "\n",
       "    .dataframe thead th {\n",
       "        text-align: right;\n",
       "    }\n",
       "</style>\n",
       "<table border=\"1\" class=\"dataframe\">\n",
       "  <thead>\n",
       "    <tr style=\"text-align: right;\">\n",
       "      <th></th>\n",
       "      <th>record_id</th>\n",
       "      <th>month</th>\n",
       "      <th>day</th>\n",
       "      <th>year</th>\n",
       "      <th>plot_id</th>\n",
       "      <th>species_id</th>\n",
       "      <th>sex</th>\n",
       "      <th>hindfoot_length</th>\n",
       "      <th>weight</th>\n",
       "    </tr>\n",
       "  </thead>\n",
       "  <tbody>\n",
       "    <tr>\n",
       "      <th>10</th>\n",
       "      <td>11</td>\n",
       "      <td>7</td>\n",
       "      <td>16</td>\n",
       "      <td>1977</td>\n",
       "      <td>5</td>\n",
       "      <td>DS</td>\n",
       "      <td>F</td>\n",
       "      <td>53.0</td>\n",
       "      <td>NaN</td>\n",
       "    </tr>\n",
       "    <tr>\n",
       "      <th>100</th>\n",
       "      <td>101</td>\n",
       "      <td>8</td>\n",
       "      <td>20</td>\n",
       "      <td>1977</td>\n",
       "      <td>5</td>\n",
       "      <td>DM</td>\n",
       "      <td>F</td>\n",
       "      <td>35.0</td>\n",
       "      <td>46.0</td>\n",
       "    </tr>\n",
       "    <tr>\n",
       "      <th>35548</th>\n",
       "      <td>35549</td>\n",
       "      <td>12</td>\n",
       "      <td>31</td>\n",
       "      <td>2002</td>\n",
       "      <td>5</td>\n",
       "      <td>NaN</td>\n",
       "      <td>NaN</td>\n",
       "      <td>NaN</td>\n",
       "      <td>NaN</td>\n",
       "    </tr>\n",
       "  </tbody>\n",
       "</table>\n",
       "</div>"
      ],
      "text/plain": [
       "       record_id  month  day  year  plot_id species_id  sex  hindfoot_length  \\\n",
       "10            11      7   16  1977        5         DS    F             53.0   \n",
       "100          101      8   20  1977        5         DM    F             35.0   \n",
       "35548      35549     12   31  2002        5        NaN  NaN              NaN   \n",
       "\n",
       "       weight  \n",
       "10        NaN  \n",
       "100      46.0  \n",
       "35548     NaN  "
      ]
     },
     "execution_count": 113,
     "metadata": {},
     "output_type": "execute_result"
    }
   ],
   "source": [
    "# 3) What happens when you type the code below? Why?\n",
    "surveys.loc[[10, 100, 35548]]"
   ]
  },
  {
   "cell_type": "markdown",
   "id": "2f015629",
   "metadata": {
    "slideshow": {
     "slide_type": "fragment"
    }
   },
   "source": [
    "\n",
    "[ YOUR RESPONSE ]\n"
   ]
  },
  {
   "cell_type": "code",
   "execution_count": 115,
   "id": "5a63e02d",
   "metadata": {
    "slideshow": {
     "slide_type": "slide"
    }
   },
   "outputs": [
    {
     "data": {
      "text/html": [
       "<div>\n",
       "<style scoped>\n",
       "    .dataframe tbody tr th:only-of-type {\n",
       "        vertical-align: middle;\n",
       "    }\n",
       "\n",
       "    .dataframe tbody tr th {\n",
       "        vertical-align: top;\n",
       "    }\n",
       "\n",
       "    .dataframe thead th {\n",
       "        text-align: right;\n",
       "    }\n",
       "</style>\n",
       "<table border=\"1\" class=\"dataframe\">\n",
       "  <thead>\n",
       "    <tr style=\"text-align: right;\">\n",
       "      <th></th>\n",
       "      <th>record_id</th>\n",
       "      <th>month</th>\n",
       "      <th>day</th>\n",
       "      <th>year</th>\n",
       "      <th>plot_id</th>\n",
       "      <th>species_id</th>\n",
       "      <th>sex</th>\n",
       "      <th>hindfoot_length</th>\n",
       "      <th>weight</th>\n",
       "    </tr>\n",
       "  </thead>\n",
       "  <tbody>\n",
       "    <tr>\n",
       "      <th>10</th>\n",
       "      <td>11</td>\n",
       "      <td>7</td>\n",
       "      <td>16</td>\n",
       "      <td>1977</td>\n",
       "      <td>5</td>\n",
       "      <td>DS</td>\n",
       "      <td>F</td>\n",
       "      <td>53.0</td>\n",
       "      <td>NaN</td>\n",
       "    </tr>\n",
       "    <tr>\n",
       "      <th>100</th>\n",
       "      <td>101</td>\n",
       "      <td>8</td>\n",
       "      <td>20</td>\n",
       "      <td>1977</td>\n",
       "      <td>5</td>\n",
       "      <td>DM</td>\n",
       "      <td>F</td>\n",
       "      <td>35.0</td>\n",
       "      <td>46.0</td>\n",
       "    </tr>\n",
       "    <tr>\n",
       "      <th>35548</th>\n",
       "      <td>35549</td>\n",
       "      <td>12</td>\n",
       "      <td>31</td>\n",
       "      <td>2002</td>\n",
       "      <td>5</td>\n",
       "      <td>NaN</td>\n",
       "      <td>NaN</td>\n",
       "      <td>NaN</td>\n",
       "      <td>NaN</td>\n",
       "    </tr>\n",
       "  </tbody>\n",
       "</table>\n",
       "</div>"
      ],
      "text/plain": [
       "       record_id  month  day  year  plot_id species_id  sex  hindfoot_length  \\\n",
       "10            11      7   16  1977        5         DS    F             53.0   \n",
       "100          101      8   20  1977        5         DM    F             35.0   \n",
       "35548      35549     12   31  2002        5        NaN  NaN              NaN   \n",
       "\n",
       "       weight  \n",
       "10        NaN  \n",
       "100      46.0  \n",
       "35548     NaN  "
      ]
     },
     "execution_count": 115,
     "metadata": {},
     "output_type": "execute_result"
    }
   ],
   "source": [
    "# 4) What happens when you type the code below? Why?\n",
    "surveys.iloc[[10, 100, 35548]]"
   ]
  },
  {
   "cell_type": "markdown",
   "id": "159631ed",
   "metadata": {
    "slideshow": {
     "slide_type": "fragment"
    }
   },
   "source": [
    "\n",
    "[ YOUR RESPONSE ]\n"
   ]
  },
  {
   "cell_type": "code",
   "execution_count": null,
   "id": "1b0ecc66",
   "metadata": {
    "slideshow": {
     "slide_type": "slide"
    }
   },
   "outputs": [],
   "source": [
    "# 5) How can you index the data by the values in the column \"record_id\"?"
   ]
  },
  {
   "cell_type": "code",
   "execution_count": null,
   "id": "ffa8ac8e",
   "metadata": {
    "slideshow": {
     "slide_type": "fragment"
    }
   },
   "outputs": [],
   "source": [
    "\n",
    "# [YOUR RESPONSE]\n"
   ]
  },
  {
   "cell_type": "code",
   "execution_count": null,
   "id": "e3e2cdff",
   "metadata": {
    "slideshow": {
     "slide_type": "slide"
    }
   },
   "outputs": [],
   "source": [
    "# 6) Create a new DataFrame that contains only records from 2000-2010"
   ]
  },
  {
   "cell_type": "code",
   "execution_count": null,
   "id": "0cbd61ec",
   "metadata": {
    "slideshow": {
     "slide_type": "fragment"
    }
   },
   "outputs": [],
   "source": [
    "\n",
    "# [YOUR RESPONSE]\n"
   ]
  },
  {
   "cell_type": "code",
   "execution_count": null,
   "id": "f65be077",
   "metadata": {
    "slideshow": {
     "slide_type": "slide"
    }
   },
   "outputs": [],
   "source": [
    "# 7) Create a new DataFrame that contains only observations that are \n",
    "#    of sex \"male\" or \"female\", and where weight values are greater than 10"
   ]
  },
  {
   "cell_type": "code",
   "execution_count": null,
   "id": "15bf26d6",
   "metadata": {
    "slideshow": {
     "slide_type": "fragment"
    }
   },
   "outputs": [],
   "source": [
    "\n",
    "# [YOUR RESPONSE]\n"
   ]
  },
  {
   "cell_type": "markdown",
   "id": "cceaf1ae",
   "metadata": {
    "slideshow": {
     "slide_type": "slide"
    }
   },
   "source": [
    "## Thank you Everyone!\n"
   ]
  }
 ],
 "metadata": {
  "kernelspec": {
   "display_name": "ds",
   "language": "python",
   "name": "python3"
  },
  "language_info": {
   "codemirror_mode": {
    "name": "ipython",
    "version": 3
   },
   "file_extension": ".py",
   "mimetype": "text/x-python",
   "name": "python",
   "nbconvert_exporter": "python",
   "pygments_lexer": "ipython3",
   "version": "3.11.9"
  }
 },
 "nbformat": 4,
 "nbformat_minor": 5
}
