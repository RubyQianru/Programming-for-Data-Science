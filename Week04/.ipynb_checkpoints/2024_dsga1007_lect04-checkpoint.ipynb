{
 "cells": [
  {
   "cell_type": "markdown",
   "metadata": {},
   "source": [
    "### CDS NYU\n",
    "### DS-GA 1007 | Programming for Data Science\n",
    "### Lecture 04\n",
    "### September 20, 2024\n",
    "\n",
    "---"
   ]
  },
  {
   "cell_type": "markdown",
   "metadata": {},
   "source": [
    "# Interacting with Programs\n",
    "\n",
    "## Introduction\n",
    "\n",
    "\n",
    "The operating system (OS) of a computer can organize your data files and folders, install and/or update Python interpreters, libraries/packages, and set up a Python environment exactly as you need it.\n",
    "\n",
    "To interact with the OS on modern computers the starting point (once logged into your OS) is often a graphical user interface (GUI). But GUIs, as discussed in the lecture, offer relatively little control over the quasi-infinite number of instructions which an OS can receive. GUI instructions are also very manual, not easily reproducible, and can become obsolete when new versions of the OS GUI are released. In contrast, scripted instructions passed to a command line interface (CLI) are portable, automatable, timeless, and offer total control over your OS.\n",
    "\n",
    "- To access the CLI from your OS's GUI, you need to open a console (terminal window) which is an emulator of the so-called \"Shell\", a special type of program (an interpreter) which reads keyboard commands from the Unix (or Linux) language and passes them to the OS to carry out\n",
    "\n",
    "- Shell takes in alphanumeric symbols and transforms them into numeric (machine) instructions for the OS. The most common Shell is called BASH, which stands for Bourne Again SHell, in reference to Steve Bourne (not Jason:), the creator of the first Shell program called SH\n",
    "\n",
    "- All modern OS (Windows, Mac, Linux) come with a pre-installed Shell terminal emulator program\n",
    "\n",
    "- There are at least 100+ very useful Linux built in commands, each with its set of optional parameters. We will review a sample of ones I found most essential over the years, to show you the kind of interactions with the OS you can have when you (the programmer) send direct (scripted) commands to your OS\n",
    "\n",
    "\n",
    "## To access the Shell\n",
    "▶ Windows: Open cmd (Command Prompt)\n",
    "\n",
    "▶ Mac: Open Terminal\n",
    "\n",
    "▶ Linux: Open Linux Console\n",
    "\n",
    "▶ Python Interpreter: Precede command by ”!” (or \"%\", or nothing for most common Linux commands)\n",
    "\n",
    "▶ (Web-) Applications: It varies (on Jupyter: Terminal)\n",
    "\n",
    "## Resources\n",
    "\n",
    "* Introduction to the Linux Shell operating system: https://swcarpentry.github.io/shell-novice/reference/"
   ]
  },
  {
   "cell_type": "markdown",
   "metadata": {},
   "source": [
    "## Navigate Files and Directories\n",
    "\n",
    "**pwd**: Print name of current directory \n",
    "\n",
    "**ls**: List directory contents\n",
    "\n",
    "**cd**: Change directory\n",
    "\n",
    "**file**: Determine file type\n",
    "\n",
    "**less**: View text file contents \n",
    "\n",
    "**head/tail**: Output first/last part of file"
   ]
  },
  {
   "cell_type": "code",
   "execution_count": 1,
   "metadata": {
    "slideshow": {
     "slide_type": "slide"
    }
   },
   "outputs": [
    {
     "data": {
      "text/plain": [
       "'/Users/qianruzhang/Documents/GitHub/Programming-for-Data-Science/Week04'"
      ]
     },
     "execution_count": 1,
     "metadata": {},
     "output_type": "execute_result"
    }
   ],
   "source": [
    "# Print name of working directory = print current path \n",
    "%pwd\n"
   ]
  },
  {
   "cell_type": "code",
   "execution_count": 2,
   "metadata": {
    "slideshow": {
     "slide_type": "slide"
    }
   },
   "outputs": [
    {
     "name": "stdout",
     "output_type": "stream",
     "text": [
      "2024_dsga1007_lect04.ipynb\r\n"
     ]
    }
   ],
   "source": [
    "# List all files and directories within pwd\n",
    "%ls"
   ]
  },
  {
   "cell_type": "code",
   "execution_count": 3,
   "metadata": {},
   "outputs": [
    {
     "name": "stdout",
     "output_type": "stream",
     "text": [
      "/Users/qianruzhang/Documents/GitHub/Programming-for-Data-Science\n",
      "[Errno 2] No such file or directory: 'code'\n",
      "/Users/qianruzhang/Documents/GitHub/Programming-for-Data-Science\n",
      "[Errno 2] No such file or directory: '{YourPath}/code'\n",
      "/Users/qianruzhang/Documents/GitHub/Programming-for-Data-Science\n"
     ]
    }
   ],
   "source": [
    "# Change directory (Need use \"%\" instead of \"!\" to change directory from Jupyter Notebook)\n",
    "%cd ..\n",
    "%cd code\n",
    "%cd {YourPath}/code "
   ]
  },
  {
   "cell_type": "code",
   "execution_count": 4,
   "metadata": {},
   "outputs": [
    {
     "name": "stdout",
     "output_type": "stream",
     "text": [
      "lyrics.txt: cannot open `lyrics.txt' (No such file or directory)\r\n"
     ]
    }
   ],
   "source": [
    "# View type of file\n",
    "!file lyrics.txt"
   ]
  },
  {
   "cell_type": "code",
   "execution_count": 5,
   "metadata": {},
   "outputs": [
    {
     "name": "stdout",
     "output_type": "stream",
     "text": [
      "lyrics.txt: No such file or directory\r\n"
     ]
    }
   ],
   "source": [
    "# View text file contents\n",
    "!less lyrics.txt\n",
    "#!more lyrics.txt\n",
    "#!head lyrics.txt\n",
    "#!head -10 lyrics.txt\n",
    "#!tail lyrics.txt\n",
    "#!tail -f lyrics.txt # Track in real time; To exit in Shell, type Crtl-C "
   ]
  },
  {
   "cell_type": "markdown",
   "metadata": {},
   "source": [
    "## Manipulate files and Directories\n",
    "\n",
    "**cp**: Copy files and directories\n",
    "\n",
    "**mv**: Move/rename files and directories \n",
    "\n",
    "**mkdir**: Create directories\n",
    "\n",
    "**rm**: Remove files and directories\n",
    "\n",
    "**chmod**: Change a file’s permissions\n",
    "\n",
    "Tips for variable names in Linux:\n",
    "1. Only use letters, numbers, '.', '-', '_'\n",
    "2. Do not use whitespaces. Instead use '-' or '_'  \n",
    "3. Do not begin the name with '-' \n",
    "4. Commands treat names starting with '-' as options  \n",
    "5. Surround the name in quotes '\"\"' if name contains whites spaces (can also use backslash '\\\\' to define explicit white spaces)"
   ]
  },
  {
   "cell_type": "code",
   "execution_count": null,
   "metadata": {},
   "outputs": [],
   "source": [
    "%mkdir newsong\n",
    "ls\n",
    "cp lyrics.txt newsong/.\n",
    "ls -R\n",
    "mv lyrics.txt newsong/. \n",
    "ls\n",
    "cp newsong/lyrics.txt .\n",
    "ls -l\n",
    "chmod a+w lyrics.txt\n",
    "ls -l \n",
    "rm -r newsong"
   ]
  },
  {
   "cell_type": "code",
   "execution_count": null,
   "metadata": {},
   "outputs": [],
   "source": [
    "# Note the wild characters * and ?, which work with all commands (ls, cp, etc)\n",
    "!ls *.txt # A * replaces any number of alphanumeric characters\n",
    "!ls *.?? # Each ? replaces a single alphanumeric character "
   ]
  },
  {
   "cell_type": "markdown",
   "metadata": {},
   "source": [
    "## Find things \n",
    "\n",
    "**man**: Display a command’s user manual page\n",
    "\n",
    "**find**:  Find objects whose names match a pattern \n",
    "\n",
    "**grep**: Find lines matching a pattern in a text file\n",
    "\n",
    "**sed s/x/y/ f**:  Find and replace x by y in file f\n",
    "\n",
    "**history -n**: Print last n commands typed in"
   ]
  },
  {
   "cell_type": "code",
   "execution_count": null,
   "metadata": {
    "slideshow": {
     "slide_type": "slide"
    }
   },
   "outputs": [],
   "source": [
    "# Display a command’s user manual page\n",
    "%man ls"
   ]
  },
  {
   "cell_type": "code",
   "execution_count": null,
   "metadata": {},
   "outputs": [],
   "source": [
    "# Find all directories in current directory\n",
    "!find . -type d"
   ]
  },
  {
   "cell_type": "code",
   "execution_count": null,
   "metadata": {},
   "outputs": [],
   "source": [
    "# Find all files in current directory\n",
    "!find . -type f"
   ]
  },
  {
   "cell_type": "code",
   "execution_count": null,
   "metadata": {},
   "outputs": [],
   "source": [
    "# Find a file called \"lyrics.txt\" from two levels up through all possible two levels down\n",
    "!find ../../*/*/lyrics.txt"
   ]
  },
  {
   "cell_type": "code",
   "execution_count": null,
   "metadata": {},
   "outputs": [],
   "source": [
    "# Find lines containing a word or pattern in a file\n",
    "!grep Hallelujah lyrics.txt "
   ]
  },
  {
   "cell_type": "code",
   "execution_count": null,
   "metadata": {},
   "outputs": [],
   "source": [
    "# Find and replace all occurences of a word or pattern in a file\n",
    "!sed s/Hallelujah/Eureka/g lyrics.txt > newsong.txt"
   ]
  },
  {
   "cell_type": "code",
   "execution_count": null,
   "metadata": {},
   "outputs": [],
   "source": [
    "# One of the most useful command when working with CLI\n",
    "%history"
   ]
  },
  {
   "cell_type": "markdown",
   "metadata": {},
   "source": [
    "## Parse text files in VI (beyond scope of this course)\n",
    "\n",
    "Several editors exist to parse files directly in the Shell, we will review only one, VI, and how some basic keystrokes can let you find or replace what you are looking for in text files"
   ]
  },
  {
   "cell_type": "code",
   "execution_count": null,
   "metadata": {},
   "outputs": [],
   "source": [
    "# Open Shell terminal emulator to parse file in VI. Warning: Don't do it from Jupyter Notebook, open a Linux terminal\n",
    "# vi newsong.txt"
   ]
  },
  {
   "cell_type": "markdown",
   "metadata": {},
   "source": [
    "## Manage Processes\n",
    "\n",
    "A **process** (a.k.a. **job**) represents the execution of a program on a computer. The OS is the system that operates all these processes in parallel. Or rather, it operates them one at a time so fast that, to our perception, these processes seem to take place in parallel. Many commands exist to monitor, launch, inquire, pause or kill, every process taking place on the computer. Let's review the most common ones below "
   ]
  },
  {
   "cell_type": "code",
   "execution_count": null,
   "metadata": {},
   "outputs": [],
   "source": [
    "# Let's use a custom script as example of process\n",
    "!python factorialalgo.py 10 > out.log"
   ]
  },
  {
   "cell_type": "markdown",
   "metadata": {},
   "source": [
    "### Example: Redirect output to file and manage processes (beyond scope of this course)"
   ]
  },
  {
   "cell_type": "code",
   "execution_count": null,
   "metadata": {},
   "outputs": [],
   "source": [
    "'''\n",
    "Open a Shell terminal emulator, then run the following commands in the Shell, \n",
    "to practice running jobs, monitoring jobs, pausing and killing jobs, \n",
    "in foreground, in background, and on single or multiple jobs running in parallel\n",
    "'''\n",
    "\n",
    "# python factorialalgo.py 1000000 > out1M.log\n",
    "# Ctrl-z\n",
    "# jobs\n",
    "# bg\n",
    "# jobs\n",
    "# top\n",
    "# fg %1\n",
    "# Ctrl-c\n",
    "# python factorialalgo.py 1000000 > out1M.log &\n",
    "# python factorialalgo.py 2000000 > out2M.log &\n",
    "# jobs\n",
    "# tail out1M.log\n",
    "# tail -f out1M.log\n",
    "# Ctrl-c\n",
    "# kill %1\n",
    "# jobs\n",
    "# kill %2\n",
    "# jobs"
   ]
  },
  {
   "cell_type": "markdown",
   "metadata": {},
   "source": [
    "### Simple exercise (needed for homework) using the pipe \"|\" command "
   ]
  },
  {
   "cell_type": "code",
   "execution_count": null,
   "metadata": {},
   "outputs": [],
   "source": [
    "%cd animal-counts\n",
    "!less animals.txt"
   ]
  },
  {
   "cell_type": "code",
   "execution_count": null,
   "metadata": {},
   "outputs": [],
   "source": [
    "# Let's look at a new command to quickly parse a file: cut\n",
    "!man cut"
   ]
  },
  {
   "cell_type": "code",
   "execution_count": null,
   "metadata": {
    "slideshow": {
     "slide_type": "-"
    }
   },
   "outputs": [],
   "source": [
    "# The -d flag defines a delimiter to split each line (e.g., comma)\n",
    "# The -f flag selects a specific column field in each line\n",
    "!cut -d \",\" -f 2 animals.txt"
   ]
  },
  {
   "cell_type": "code",
   "execution_count": null,
   "metadata": {
    "slideshow": {
     "slide_type": "slide"
    }
   },
   "outputs": [],
   "source": [
    "# Pipe the output to the input of the sort command\n",
    "!cut -d \",\" -f 2 animals.txt | sort"
   ]
  },
  {
   "cell_type": "code",
   "execution_count": null,
   "metadata": {},
   "outputs": [],
   "source": [
    "# Pipe the new output to the input of yet another command\n",
    "!cut -d \",\" -f 2 animals.txt | sort | uniq"
   ]
  },
  {
   "cell_type": "markdown",
   "metadata": {},
   "source": [
    "**Output**: List unique animals in the file, sorted by alphabetic order."
   ]
  },
  {
   "cell_type": "markdown",
   "metadata": {},
   "source": [
    "## Some more advanced Linux commands"
   ]
  },
  {
   "cell_type": "markdown",
   "metadata": {},
   "source": [
    "### Archive files and folders (beyond scope of this course)"
   ]
  },
  {
   "cell_type": "code",
   "execution_count": null,
   "metadata": {},
   "outputs": [],
   "source": [
    "# Package multiple files and folders into a single \"archive\" file\n",
    "%cd ../..\n",
    "!tar -cvf lect04.tar code *.pdf\n",
    "\n",
    "# Same but with option to compress files first (reduce file size)\n",
    "!tar -czvf lect04.tar.gz code *.pdf\n",
    "\n",
    "# Uncompress and extract an archive (= reverse process) to a new folder\n",
    "!mkdir dropithere\n",
    "!tar -xzvf lect04.tar.gz -C ./dropithere\n"
   ]
  },
  {
   "cell_type": "markdown",
   "metadata": {
    "slideshow": {
     "slide_type": "slide"
    }
   },
   "source": [
    "### The For Loop (needed for homework)\n",
    "\n",
    "```for VARIABLE in SET  \n",
    "do  \n",
    "    COMMAND  \n",
    "done```  "
   ]
  },
  {
   "cell_type": "code",
   "execution_count": null,
   "metadata": {},
   "outputs": [],
   "source": [
    "!for i in 1 2 3 4 5; do echo $i; done"
   ]
  },
  {
   "cell_type": "code",
   "execution_count": null,
   "metadata": {},
   "outputs": [],
   "source": [
    "%cd {YourPath}/code  \n",
    "!for f in *.log; do grep 'Job completed' $f; done"
   ]
  },
  {
   "cell_type": "markdown",
   "metadata": {},
   "source": [
    "$(command) inserts a command’s (or variable's) output in place"
   ]
  },
  {
   "cell_type": "markdown",
   "metadata": {},
   "source": [
    "More details: https://www.cyberciti.biz/faq/bash-for-loop/"
   ]
  },
  {
   "cell_type": "markdown",
   "metadata": {
    "slideshow": {
     "slide_type": "slide"
    }
   },
   "source": [
    "## Shell Scripts\n",
    "\n",
    "#### How can I save and re-use commands?\n",
    "\n",
    "#### => Write a script that contains a command or series of commands, and save this script in a file.\n",
    "\n",
    "Then, you can execute this Shell script at any later time from the command line interface, the Shell interpreter will read and execute each commands stored in the file.\n",
    "\n",
    "**Shell scripts can take arguments when invoked. As shown below, ```$1```, ```$2```, ... refer to the first command-line argument, second command-line argument, etc** (place variables in quotes if the values might have spaces in them). This lets future users (and future you:) decide what input to process.\n",
    "\n",
    "#### Let us look at an example:\n",
    "Script to select line above and line below any chorus in the file lyrics.txt"
   ]
  },
  {
   "cell_type": "code",
   "execution_count": null,
   "metadata": {},
   "outputs": [],
   "source": [
    "#%cd .. \n",
    "!head -n 11 lyrics.txt # Select first 11 lines in file lyrics.txt"
   ]
  },
  {
   "cell_type": "code",
   "execution_count": null,
   "metadata": {},
   "outputs": [],
   "source": [
    "!head -n 11 lyrics.txt | tail -n 6 # Select 6 lines prior line 11 in file lyrics.txt"
   ]
  },
  {
   "cell_type": "markdown",
   "metadata": {},
   "source": [
    "**You can store the above command (= set of piped commands) into a file, which we then call a Shell script.** Let us call this file `selectlines.sh`\n",
    "\n",
    "To make this Shell script easier to use, you can read the values of parameters given as arguments on the command line when the script is invoked, and assign these values to variables:\n",
    "\n",
    "```head -n $3 $1 | tail -n $2```"
   ]
  },
  {
   "cell_type": "markdown",
   "metadata": {},
   "source": [
    "Now you can invoke the Shell script like so: \n",
    "\n",
    "```bash selectlines.sh lyrics.txt 6 11```"
   ]
  },
  {
   "cell_type": "markdown",
   "metadata": {},
   "source": [
    "Instead of specifying the bash interpreter, you can assign it to the script by adding ```#!/bin/bash/``` in the first line of the script.\n",
    "\n",
    "Change the file's permissions to make it \"executable\" by typing ```chmod a+x selectlines.sh```.\n",
    "\n",
    "You can now directly use this script as a new, custom Shell 'command':\n",
    "\n",
    "```./selectlines.sh lyrics.txt 6 11```\n"
   ]
  },
  {
   "cell_type": "code",
   "execution_count": null,
   "metadata": {},
   "outputs": [],
   "source": [
    "# chmod a+x selectlines.sh\n",
    "!./selectlines.sh lyrics.txt 6 11"
   ]
  },
  {
   "cell_type": "markdown",
   "metadata": {},
   "source": [
    "## Manage libraries and environments (beyond scope of this course)"
   ]
  },
  {
   "cell_type": "markdown",
   "metadata": {},
   "source": [
    "### Python Virtual Environments: \n",
    "\n",
    "- It may not be possible for one Python installation to meet the requirements of every program and application\n",
    "\n",
    "- The requirement in type and versions of Python libraries needed for two different programs can be in conflict\n",
    "\n",
    "- Creating a virtual environment, that is a self-contained directory tree that contains a specific Python setup with specific versions of Python interpreter and external packages, exists for this purpose\n",
    "\n",
    "More details: https://docs.conda.io/projects/conda/en/4.6.0/_downloads/52a95608c49671267e40c689e0bc00ca/conda-cheatsheet.pdf\n"
   ]
  },
  {
   "cell_type": "markdown",
   "metadata": {},
   "source": [
    "\n",
    "### Examples of typical Conda commands\n",
    "\n",
    "```\n",
    "python \n",
    "Ctrl-D\n",
    "\n",
    "conda env list\n",
    "conda create --name testenv python=3.9 # check the version first\n",
    "conda activate testenv \n",
    "conda deactivate \n",
    "\n",
    "conda activate testenv \n",
    "conda update scikit-learn\n",
    "conda install scikit-learn\n",
    "conda install numpy \n",
    "conda list\n",
    "conda deactivate\n",
    "conda env remove --name testenv \n",
    "conda env list\n",
    "```"
   ]
  },
  {
   "cell_type": "markdown",
   "metadata": {},
   "source": [
    "## Additional resources on CLI and Conda installation setup: \n",
    "    \n",
    "https://nyu-cds.github.io/courses/advanced-setup/\n",
    "\n",
    "\n",
    "To install:  \n",
    "\n",
    "1. Shell CLI (Bash)  \n",
    " - Linux, MacOS provided  \n",
    " - Windows: https://www.windowscentral.com/how-install-bash-shell-command-line-windows-10  \n",
    "\n",
    "\n",
    "2. Conda {Linux, Mac, Windows}:   \n",
    "https://conda.io/projects/conda/en/latest/user-guide/install/index.html  \n",
    "\n",
    "\n",
    "3. Ipython  \n",
    "https://ipython.org/install.html  \n",
    "\n",
    "\n",
    "4. Jupyter notebook  \n",
    "https://jupyter.org/install\n",
    "\n",
    "    "
   ]
  }
 ],
 "metadata": {
  "kernelspec": {
   "display_name": "Python 3 (ipykernel)",
   "language": "python",
   "name": "python3"
  },
  "language_info": {
   "codemirror_mode": {
    "name": "ipython",
    "version": 3
   },
   "file_extension": ".py",
   "mimetype": "text/x-python",
   "name": "python",
   "nbconvert_exporter": "python",
   "pygments_lexer": "ipython3",
   "version": "3.11.5"
  }
 },
 "nbformat": 4,
 "nbformat_minor": 2
}
