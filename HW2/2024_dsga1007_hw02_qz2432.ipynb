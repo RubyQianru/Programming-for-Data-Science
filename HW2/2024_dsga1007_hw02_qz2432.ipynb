{
 "cells": [
  {
   "cell_type": "markdown",
   "metadata": {
    "id": "65pziwiP0us6"
   },
   "source": [
    "### CDS NYU\n",
    "### DS-GA 1007 | Programming for Data Science\n",
    "\n",
    "---\n",
    "\n",
    "# HW 02\n",
    "### Due Date: October 9, 2024, 7PM \n"
   ]
  },
  {
   "cell_type": "markdown",
   "metadata": {
    "id": "6bFn1r8M0utA"
   },
   "source": [
    "Firstname: Qianru (Ruby)\n",
    "\n",
    "Lastname: Zhang\n",
    "\n",
    "E-mail: qz2432@nyu.edu\n",
    "\n",
    "\n",
    "--- \n",
    "\n",
    "Enter your solutions below,  and submit this notebook"
   ]
  },
  {
   "cell_type": "markdown",
   "metadata": {
    "id": "06NcjKxz0utB"
   },
   "source": [
    "### Problem 01 (10 points):\n",
    "\n",
    "1. 1 (5 points) Write a function that iteratively calculates the square $x^2$ of a positive integer number $x$. Print its worst-case complexity using the big-O notation. Estimate the average running time of this function when applied to $x=100$\n",
    "\n",
    "\n",
    "1. 2 (5 points) Write a function that recursively calculates the square $x^2$ of a positive integer number $x$. Print its worst-case complexity using the big-O notation. Estimate the average running time of this function when applied to $x=100$\n"
   ]
  },
  {
   "cell_type": "code",
   "execution_count": 7,
   "metadata": {},
   "outputs": [
    {
     "name": "stdout",
     "output_type": "stream",
     "text": [
      "Iteratively calculate 100 square run time: 0.001004934310913086 seconds. Worse-case complexity = O(n^2).\n",
      "Recursively calculate 100 square run time: 9.989738464355469e-05 seconds. Worse-case complexity = O(n).\n"
     ]
    }
   ],
   "source": [
    "import time\n",
    "t0 = time.time()\n",
    "\n",
    "def iterative_square(x):\n",
    "  temp = 0   \n",
    "  for i in range(x):  \n",
    "      for j in range(x): \n",
    "        temp += 1\n",
    "  return temp\n",
    "\n",
    "iterative_square(100)\n",
    "dt = time.time()-t0\n",
    "print(f\"Iteratively calculate 100 square run time: {dt} seconds. Worse-case complexity = O(n^2).\")\n",
    "\n",
    "def recursive_square(x):\n",
    "  if (x == 0):\n",
    "    return x\n",
    "  return recursive_square(x-1)+2*x-1\n",
    "\n",
    "t2 = time.time()\n",
    "recursive_square(100)\n",
    "dt2 = time.time()-t2\n",
    "print(f\"Recursively calculate 100 square run time: {dt2} seconds. Worse-case complexity = O(n).\")\n"
   ]
  },
  {
   "cell_type": "markdown",
   "metadata": {
    "id": "f_WEUxHe0utC"
   },
   "source": [
    "### Problem 02 (40 points):\n",
    "\n",
    "2.1 (5 points) Write a function that performs a selection sort (Function from the lecture is accepted)\n",
    "\n",
    "2.2 (5 points) Write a function that performs a bubble sort (Function from the lecture is accepted)\n",
    "\n",
    "2.3 (5 points) Write a function that performs a merge sort (Function from the lecture is accepted)\n"
   ]
  },
  {
   "cell_type": "code",
   "execution_count": 19,
   "metadata": {},
   "outputs": [
    {
     "name": "stdout",
     "output_type": "stream",
     "text": [
      "[1, 2, 4, 5, 9]\n"
     ]
    }
   ],
   "source": [
    "arr = [4, 5, 9, 1, 2]\n",
    "\n",
    "def selection_sort(arr):\n",
    "  n = len(arr)\n",
    "  for i in range(n):\n",
    "    mini = i\n",
    "    for j in range(i+1, n):\n",
    "      if arr[j] < arr[mini]:\n",
    "        mini = j\n",
    "    arr[i], arr[mini] = arr[mini], arr[i]\n",
    "  return arr\n",
    "  \n",
    "print(selection_sort(arr))"
   ]
  },
  {
   "cell_type": "code",
   "execution_count": 26,
   "metadata": {},
   "outputs": [
    {
     "name": "stdout",
     "output_type": "stream",
     "text": [
      "[1, 2, 4, 5, 9]\n"
     ]
    }
   ],
   "source": [
    "arr = [4, 5, 9, 1, 2]\n",
    "\n",
    "def bubble_sort(arr):\n",
    "  n = len(arr)\n",
    "  swap = True\n",
    "  while swap:\n",
    "    swap = False\n",
    "    for i in range(n-1):\n",
    "      if arr[i] > arr[i+1]:\n",
    "        swap = True\n",
    "        arr[i], arr[i+1] = arr[i+1], arr[i]\n",
    "  return arr\n",
    "  \n",
    "print(bubble_sort(arr))"
   ]
  },
  {
   "cell_type": "code",
   "execution_count": 29,
   "metadata": {},
   "outputs": [
    {
     "name": "stdout",
     "output_type": "stream",
     "text": [
      "[1, 2, 4, 5, 9]\n"
     ]
    }
   ],
   "source": [
    "arr = [4, 5, 9, 1, 2]\n",
    "\n",
    "def merge(left, right):\n",
    "  res = []\n",
    "  i, j = 0, 0\n",
    "  nLeft, nRight = len(left), len(right)\n",
    "\n",
    "  while i < nLeft and j < nRight:\n",
    "    if left[i] < right[j]:\n",
    "      res.append(left[i])\n",
    "      i += 1\n",
    "    else:\n",
    "      res.append(right[j])\n",
    "      j += 1\n",
    "  while i < nLeft:\n",
    "    res.append(left[i])\n",
    "    i += 1\n",
    "  while j < nRight:\n",
    "    res.append(right[j])\n",
    "    j += 1\n",
    "  return res\n",
    "\n",
    "def merge_sort(arr):\n",
    "  n = len(arr)\n",
    "  if n < 2:\n",
    "    return arr[:]\n",
    "  else:\n",
    "    mid = n // 2\n",
    "    left = merge_sort(arr[:mid])\n",
    "    right = merge_sort(arr[mid:])\n",
    "    return merge(left, right)\n",
    "\n",
    "print(merge_sort(arr))"
   ]
  },
  {
   "cell_type": "markdown",
   "metadata": {},
   "source": [
    "2.4 (10 points) The file `ComedyMovies.json` contains a dictionary with the top 100 comedy movies of the 21st centruy (source: IMDb). The keys are the movie names and the values are the durations (in minutes) of the movies. Read the file and load it into a dictionary name `movies`. Create a list l containing the durations of the 100 movies. Sort this list using each of the functions from 2.1, 2.2, and 2.3 \n",
    "\n",
    "2.5 (10 points) Estimate the average running time of the functions from 2.1, 2.2, and 2.3 when applied to the list l\n",
    "\n",
    "2.6 (5 points) The following snippet: `sorted(movies.items(), key=lambda x: x[1])` leverages the list built-in method `sorted` to sort the keys (names of movies) of the dictionary `movies` based on the its values (durations of movies). Estimate the average running time of this built-in method when applied to `movies`"
   ]
  },
  {
   "cell_type": "code",
   "execution_count": 11,
   "metadata": {
    "id": "MjpDQ90j0utD"
   },
   "outputs": [],
   "source": [
    "# To open the json file and load it into a dictionary data structure:\n",
    "import json\n",
    "d = json.load(open('ComedyMovies.json'))"
   ]
  },
  {
   "cell_type": "code",
   "execution_count": 37,
   "metadata": {},
   "outputs": [
    {
     "name": "stdout",
     "output_type": "stream",
     "text": [
      "Selection sort:  [81, 83, 83, 84, 85, 85, 85, 86, 86, 86, 88, 88, 88, 88, 89, 90, 90, 91, 92, 92, 92, 93, 93, 93, 94, 94, 94, 95, 96, 96, 96, 97, 98, 98, 98, 98, 99, 99, 99, 99, 100, 100, 100, 101, 101, 101, 102, 102, 103, 103, 103, 103, 104, 104, 104, 105, 105, 106, 107, 107, 107, 107, 108, 108, 108, 108, 109, 109, 109, 110, 110, 110, 111, 111, 112, 112, 112, 112, 113, 113, 113, 113, 115, 115, 116, 116, 117, 117, 117, 118, 118, 119, 119, 120, 121, 122, 123, 125, 129, 129]\n",
      "Selection sort run time:  0.0006070137023925781\n",
      "Bubble sort:  [81, 83, 83, 84, 85, 85, 85, 86, 86, 86, 88, 88, 88, 88, 89, 90, 90, 91, 92, 92, 92, 93, 93, 93, 94, 94, 94, 95, 96, 96, 96, 97, 98, 98, 98, 98, 99, 99, 99, 99, 100, 100, 100, 101, 101, 101, 102, 102, 103, 103, 103, 103, 104, 104, 104, 105, 105, 106, 107, 107, 107, 107, 108, 108, 108, 108, 109, 109, 109, 110, 110, 110, 111, 111, 112, 112, 112, 112, 113, 113, 113, 113, 115, 115, 116, 116, 117, 117, 117, 118, 118, 119, 119, 120, 121, 122, 123, 125, 129, 129]\n",
      "Bubble sort run time:  7.891654968261719e-05\n",
      "Merge sort:  [81, 83, 83, 84, 85, 85, 85, 86, 86, 86, 88, 88, 88, 88, 89, 90, 90, 91, 92, 92, 92, 93, 93, 93, 94, 94, 94, 95, 96, 96, 96, 97, 98, 98, 98, 98, 99, 99, 99, 99, 100, 100, 100, 101, 101, 101, 102, 102, 103, 103, 103, 103, 104, 104, 104, 105, 105, 106, 107, 107, 107, 107, 108, 108, 108, 108, 109, 109, 109, 110, 110, 110, 111, 111, 112, 112, 112, 112, 113, 113, 113, 113, 115, 115, 116, 116, 117, 117, 117, 118, 118, 119, 119, 120, 121, 122, 123, 125, 129, 129]\n",
      "Merge sort run time:  0.00019812583923339844\n"
     ]
    }
   ],
   "source": [
    "res = list()\n",
    "for key, value in d.items():\n",
    "  res.append(value)\n",
    "\n",
    "t1 = time.time()\n",
    "print(\"Selection sort: \", selection_sort(res))\n",
    "dt1 = time.time()-t1\n",
    "print(\"Selection sort run time: \", dt1)\n",
    "\n",
    "t2 = time.time()\n",
    "print(\"Bubble sort: \", bubble_sort(res))\n",
    "dt2 = time.time() - t2\n",
    "print(\"Bubble sort run time: \", dt2)\n",
    "\n",
    "t3 = time.time()\n",
    "print(\"Merge sort: \", merge_sort(res))\n",
    "dt3 = time.time() - t3\n",
    "print(\"Merge sort run time: \", dt3)\n"
   ]
  },
  {
   "cell_type": "code",
   "execution_count": 38,
   "metadata": {},
   "outputs": [
    {
     "name": "stdout",
     "output_type": "stream",
     "text": [
      "sorted(movies.items(), key=lambda x: x[1]) runtime:  8.487701416015625e-05\n"
     ]
    }
   ],
   "source": [
    "t4 = time.time()\n",
    "sorted(d.items(), key=lambda x: x[1])\n",
    "dt4 = time.time() - t4\n",
    "print('sorted(movies.items(), key=lambda x: x[1]) runtime: ', dt4)"
   ]
  },
  {
   "cell_type": "markdown",
   "metadata": {
    "id": "7w6q-JUs0utF"
   },
   "source": [
    "### Problem 03 (20 points)"
   ]
  },
  {
   "cell_type": "markdown",
   "metadata": {
    "id": "26CIeVWJ0utG"
   },
   "source": [
    "Using Linux commands (Lecture 4, Lab 5), write commands to:\n",
    "\n",
    "3.1 (5 points) Type a single command which can replace all occurences of the word ```ATOM``` by the word ```OBJECT``` in the file ```ascorbic-acid.pdb```\n",
    "\n",
    "3.2 (5 points) Loop over an index i ranging from 1 to 5, and at every iteration of the loop create a folder called ```f$i``` (that is, create five folders called f1, f2, f3, f4 and f5) \n",
    "\n",
    "3.3 (10 point) Copy all files in current directory that end with ```.pdb``` to the folder f2, then go to the directory f2 and display its content.  Finally, move the file ```ascorbic-acid.pdb``` one folder up, go back one folder up, and delete all folders that start with a ```f```\n"
   ]
  },
  {
   "cell_type": "code",
   "execution_count": 41,
   "metadata": {},
   "outputs": [
    {
     "name": "stdout",
     "output_type": "stream",
     "text": [
      "COMPND      ASCORBIC ACID, VITAMIN C\n",
      "AUTHOR      DAVE WOODCOCK  96 05 24\n",
      "OBJECT      1  C           1       0.182   0.119  -0.645  1.00  0.00\n",
      "OBJECT      2  C           1       0.591  -1.187   0.091  1.00  0.00\n",
      "OBJECT      3  C           1       1.908  -1.150   0.401  1.00  0.00\n",
      "OBJECT      4  C           1       2.407   0.104   0.031  1.00  0.00\n",
      "OBJECT      5  O           1       1.453   0.978  -0.535  1.00  0.00\n",
      "OBJECT      6  O           1       3.677   0.478   0.175  1.00  0.00\n",
      "OBJECT      7  O           1       2.621  -2.174   1.011  1.00  0.00\n",
      "OBJECT      8  O           1      -0.324  -2.236   0.293  1.00  0.00\n",
      "OBJECT      9  H           1      -0.030  -0.160  -1.688  1.00  0.00\n",
      "OBJECT     10  C           1      -1.084   0.762   0.207  1.00  0.00\n",
      "OBJECT     11  H           1      -1.959   0.100   0.315  1.00  0.00\n",
      "OBJECT     12  O           1      -0.591   1.195   1.590  1.00  0.00\n",
      "OBJECT     13  C           1      -1.585   2.076  -0.581  1.00  0.00\n",
      "OBJECT     14  O           1      -2.771   2.432   0.067  1.00  0.00\n",
      "OBJECT     15  H           1       1.946  -2.997   1.192  1.00  0.00\n",
      "OBJECT     16  H           1      -0.747  -2.497  -0.666  1.00  0.00\n",
      "OBJECT     17  H           1       0.118   2.004   1.470  1.00  0.00\n",
      "OBJECT     18  H           1      -1.839   1.784  -1.606  1.00  0.00\n",
      "OBJECT     19  H           1      -0.831   2.856  -0.721  1.00  0.00\n",
      "OBJECT     20  H           1      -2.572   2.906   1.016  1.00  0.00\n",
      "TER      21              1\n",
      "END\n"
     ]
    },
    {
     "name": "stdout",
     "output_type": "stream",
     "text": [
      "ascorbic-acid.pdb\n",
      "COMPND      ASCORBIC ACID, VITAMIN C\n",
      "AUTHOR      DAVE WOODCOCK  96 05 24\n",
      "ATOM      1  C           1       0.182   0.119  -0.645  1.00  0.00\n",
      "ATOM      2  C           1       0.591  -1.187   0.091  1.00  0.00\n",
      "ATOM      3  C           1       1.908  -1.150   0.401  1.00  0.00\n",
      "ATOM      4  C           1       2.407   0.104   0.031  1.00  0.00\n",
      "ATOM      5  O           1       1.453   0.978  -0.535  1.00  0.00\n",
      "ATOM      6  O           1       3.677   0.478   0.175  1.00  0.00\n",
      "ATOM      7  O           1       2.621  -2.174   1.011  1.00  0.00\n",
      "ATOM      8  O           1      -0.324  -2.236   0.293  1.00  0.00\n",
      "ATOM      9  H           1      -0.030  -0.160  -1.688  1.00  0.00\n",
      "ATOM     10  C           1      -1.084   0.762   0.207  1.00  0.00\n",
      "ATOM     11  H           1      -1.959   0.100   0.315  1.00  0.00\n",
      "ATOM     12  O           1      -0.591   1.195   1.590  1.00  0.00\n",
      "ATOM     13  C           1      -1.585   2.076  -0.581  1.00  0.00\n",
      "ATOM     14  O           1      -2.771   2.432   0.067  1.00  0.00\n",
      "ATOM     15  H           1       1.946  -2.997   1.192  1.00  0.00\n",
      "ATOM     16  H           1      -0.747  -2.497  -0.666  1.00  0.00\n",
      "ATOM     17  H           1       0.118   2.004   1.470  1.00  0.00\n",
      "ATOM     18  H           1      -1.839   1.784  -1.606  1.00  0.00\n",
      "ATOM     19  H           1      -0.831   2.856  -0.721  1.00  0.00\n",
      "ATOM     20  H           1      -2.572   2.906   1.016  1.00  0.00\n",
      "TER      21              1\n",
      "END\n"
     ]
    }
   ],
   "source": [
    "# 3.1\n",
    "!sed -e s/ATOM/OBJECT/g ascorbic-acid.pdb\n",
    "\n",
    "# 3.2\n",
    "!for i in 1 2 3 4 5; mkdir f$i\n",
    "\n",
    "# 3.3\n",
    "!cp *.pdb f2 # copy to folder f2\n",
    "!cd f2 # go to f2\n",
    "!ls # display dir content\n",
    "!cat *.pdb # display file content\n",
    "!mv ascorbic-acid.pdb ../ # move file one folder up\n",
    "!rm -r f* # Remove dir"
   ]
  },
  {
   "cell_type": "markdown",
   "metadata": {
    "id": "9xZRFjKL0utI"
   },
   "source": [
    "\n",
    "### Problem 04 (30 points)\n"
   ]
  },
  {
   "cell_type": "markdown",
   "metadata": {
    "id": "0Z6H54jM0utJ"
   },
   "source": [
    "The file `nba2020.csv` contains the schedules and information of the NBA games for 2020. Using only Linux commands (Lecture 4, Lab 5), write programs which will display:\n",
    "   \n",
    "4.1 (5 point) The count of all lines having the string ```'New York Knicks'``` in it\n",
    "   \n",
    "4.2 (10 points) A unique list of NBA teams provided in the file, sorted in alphabetic order; (you can use either the column \"Visitor\" or the column \"Home\"), see hint provided below\n",
    "\n",
    "4.3 (5 points) The number of those NBA teams\n",
    "\n",
    "4.4 (10 points) A unique list of the `start` time provided in the file when the NBA matches were played, sorted in numerical order\n"
   ]
  },
  {
   "cell_type": "markdown",
   "metadata": {
    "id": "S4OwNh5p0utJ"
   },
   "source": [
    "**Hint:** For problems 4.2, 4.3 and 4.4. use a series of piped commands, including the command ```cut``` to select the relevant column, as seen in class and lab \n",
    "  "
   ]
  },
  {
   "cell_type": "code",
   "execution_count": 47,
   "metadata": {},
   "outputs": [
    {
     "name": "stdout",
     "output_type": "stream",
     "text": [
      "       5\n"
     ]
    }
   ],
   "source": [
    "# 4.1\n",
    "!grep -i 'New York Knicks' nba2020.csv | wc -l\n"
   ]
  },
  {
   "cell_type": "code",
   "execution_count": 48,
   "metadata": {},
   "outputs": [
    {
     "name": "stdout",
     "output_type": "stream",
     "text": [
      "Atlanta Hawks\n",
      "Boston Celtics\n",
      "Brooklyn Nets\n",
      "Charlotte Hornets\n",
      "Chicago Bulls\n",
      "Cleveland Cavaliers\n",
      "Dallas Mavericks\n",
      "Denver Nuggets\n",
      "Detroit Pistons\n",
      "Golden State Warriors\n",
      "Houston Rockets\n",
      "Indiana Pacers\n",
      "Los Angeles Clippers\n",
      "Los Angeles Lakers\n",
      "Memphis Grizzlies\n",
      "Miami Heat\n",
      "Milwaukee Bucks\n",
      "Minnesota Timberwolves\n",
      "New Orleans Pelicans\n",
      "New York Knicks\n",
      "Oklahoma City Thunder\n",
      "Orlando Magic\n",
      "Philadelphia 76ers\n",
      "Phoenix Suns\n",
      "Portland Trail Blazers\n",
      "Sacramento Kings\n",
      "San Antonio Spurs\n",
      "Toronto Raptors\n",
      "Utah Jazz\n",
      "Visitor/Neutral\n",
      "Washington Wizards\n"
     ]
    }
   ],
   "source": [
    "# 4.2\n",
    "!cat nba2020.csv | cut -d ',' -f 3 | sort | uniq"
   ]
  },
  {
   "cell_type": "code",
   "execution_count": 49,
   "metadata": {},
   "outputs": [
    {
     "name": "stdout",
     "output_type": "stream",
     "text": [
      "      31\n"
     ]
    }
   ],
   "source": [
    "# 4.3\n",
    "!cat nba2020.csv | cut -d ',' -f 3 | sort | uniq | wc -l"
   ]
  },
  {
   "cell_type": "code",
   "execution_count": 51,
   "metadata": {},
   "outputs": [
    {
     "name": "stdout",
     "output_type": "stream",
     "text": [
      "\n",
      "Start (ET)\n",
      "3:30p\n",
      "5:00p\n",
      "6:00p\n",
      "7:00p\n",
      "7:30p\n",
      "8:00p\n",
      "8:30p\n",
      "9:00p\n",
      "9:30p\n",
      "10:00p\n",
      "10:30p\n"
     ]
    }
   ],
   "source": [
    "!cat nba2020.csv | cut -d ',' -f 2 | sort -n | uniq"
   ]
  }
 ],
 "metadata": {
  "colab": {
   "collapsed_sections": [],
   "provenance": []
  },
  "kernelspec": {
   "display_name": "Python 3 (ipykernel)",
   "language": "python",
   "name": "python3"
  },
  "language_info": {
   "codemirror_mode": {
    "name": "ipython",
    "version": 3
   },
   "file_extension": ".py",
   "mimetype": "text/x-python",
   "name": "python",
   "nbconvert_exporter": "python",
   "pygments_lexer": "ipython3",
   "version": "3.11.9"
  }
 },
 "nbformat": 4,
 "nbformat_minor": 1
}
