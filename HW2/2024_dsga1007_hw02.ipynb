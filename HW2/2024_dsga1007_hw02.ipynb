{
 "cells": [
  {
   "cell_type": "markdown",
   "metadata": {
    "id": "65pziwiP0us6"
   },
   "source": [
    "### CDS NYU\n",
    "### DS-GA 1007 | Programming for Data Science\n",
    "\n",
    "---\n",
    "\n",
    "# HW 02\n",
    "### Due Date: October 9, 2024, 7PM \n"
   ]
  },
  {
   "cell_type": "markdown",
   "metadata": {
    "id": "6bFn1r8M0utA"
   },
   "source": [
    "Firstname:\n",
    "\n",
    "Lastname:\n",
    "\n",
    "E-mail:\n",
    "\n",
    "\n",
    "--- \n",
    "\n",
    "Enter your solutions below,  and submit this notebook"
   ]
  },
  {
   "cell_type": "markdown",
   "metadata": {
    "id": "06NcjKxz0utB"
   },
   "source": [
    "### Problem 01 (10 points):\n",
    "\n",
    "1. 1 (5 points) Write a function that iteratively calculates the square $x^2$ of a positive integer number $x$. Print its worst-case complexity using the big-O notation. Estimate the average running time of this function when applied to $x=100$\n",
    "\n",
    "\n",
    "1. 2 (5 points) Write a function that recursively calculates the square $x^2$ of a positive integer number $x$. Print its worst-case complexity using the big-O notation. Estimate the average running time of this function when applied to $x=100$\n"
   ]
  },
  {
   "cell_type": "markdown",
   "metadata": {
    "id": "f_WEUxHe0utC"
   },
   "source": [
    "### Problem 02 (40 points):\n",
    "\n",
    "2.1 (5 points) Write a function that performs a selection sort (Function from the lecture is accepted)\n",
    "\n",
    "2.2 (5 points) Write a function that performs a bubble sort (Function from the lecture is accepted)\n",
    "\n",
    "2.3 (5 points) Write a function that performs a merge sort (Function from the lecture is accepted)\n",
    "\n",
    "2.4 (10 points) The file `ComedyMovies.json` contains a dictionary with the top 100 comedy movies of the 21st centruy (source: IMDb). The keys are the movie names and the values are the durations (in minutes) of the movies. Read the file and load it into a dictionary name `movies`. Create a list l containing the durations of the 100 movies. Sort this list using each of the functions from 2.1, 2.2, and 2.3 \n",
    "\n",
    "2.5 (10 points) Estimate the average running time of the functions from 2.1, 2.2, and 2.3 when applied to the list l\n",
    "\n",
    "2.6 (5 points) The following snippet: `sorted(movies.items(), key=lambda x: x[1])` leverages the list built-in method `sorted` to sort the keys (names of movies) of the dictionary `movies` based on the its values (durations of movies). Estimate the average running time of this built-in method when applied to `movies`\n"
   ]
  },
  {
   "cell_type": "code",
   "execution_count": null,
   "metadata": {
    "id": "MjpDQ90j0utD"
   },
   "outputs": [],
   "source": [
    "# To open the json file and load it into a dictionary data structure:\n",
    "import json\n",
    "d = json.load(open('ComedyMovies.json'))"
   ]
  },
  {
   "cell_type": "markdown",
   "metadata": {
    "id": "7w6q-JUs0utF"
   },
   "source": [
    "### Problem 03 (20 points)"
   ]
  },
  {
   "cell_type": "markdown",
   "metadata": {
    "id": "26CIeVWJ0utG"
   },
   "source": [
    "Using Linux commands (Lecture 4, Lab 5), write commands to:\n",
    "\n",
    "3.1 (5 points) Type a single command which can replace all occurences of the word ```ATOM``` by the word ```OBJECT``` in the file ```ascorbic-acid.pdb```\n",
    "\n",
    "3.2 (5 points) Loop over an index i ranging from 1 to 5, and at every iteration of the loop create a folder called ```f$i``` (that is, create five folders called f1, f2, f3, f4 and f5) \n",
    "\n",
    "3.3 (10 point) Copy all files in current directory that end with ```.pdb``` to the folder f2, then go to the directory f2 and display its content.  Finally, move the file ```ascorbic-acid.pdb``` one folder up, go back one folder up, and delete all folders that start with a ```f```\n"
   ]
  },
  {
   "cell_type": "markdown",
   "metadata": {
    "id": "9xZRFjKL0utI"
   },
   "source": [
    "\n",
    "### Problem 04 (30 points)\n"
   ]
  },
  {
   "cell_type": "markdown",
   "metadata": {
    "id": "0Z6H54jM0utJ"
   },
   "source": [
    "The file `nba2020.csv` contains the schedules and information of the NBA games for 2020. Using only Linux commands (Lecture 4, Lab 5), write programs which will display:\n",
    "   \n",
    "4.1 (5 point) The count of all lines having the string ```'New York Knicks'``` in it\n",
    "   \n",
    "4.2 (10 points) A unique list of NBA teams provided in the file, sorted in alphabetic order; (you can use either the column \"Visitor\" or the column \"Home\"), see hint provided below\n",
    "\n",
    "4.3 (5 points) The number of those NBA teams\n",
    "\n",
    "4.4 (10 points) A unique list of the `start` time provided in the file when the NBA matches were played, sorted in numerical order\n"
   ]
  },
  {
   "cell_type": "markdown",
   "metadata": {
    "id": "S4OwNh5p0utJ"
   },
   "source": [
    "**Hint:** For problems 4.2, 4.3 and 4.4. use a series of piped commands, including the command ```cut``` to select the relevant column, as seen in class and lab \n",
    "  "
   ]
  }
 ],
 "metadata": {
  "colab": {
   "collapsed_sections": [],
   "provenance": []
  },
  "kernelspec": {
   "display_name": "Python 3 (ipykernel)",
   "language": "python",
   "name": "python3"
  },
  "language_info": {
   "codemirror_mode": {
    "name": "ipython",
    "version": 3
   },
   "file_extension": ".py",
   "mimetype": "text/x-python",
   "name": "python",
   "nbconvert_exporter": "python",
   "pygments_lexer": "ipython3",
   "version": "3.9.12"
  }
 },
 "nbformat": 4,
 "nbformat_minor": 1
}
