{
 "cells": [
  {
   "cell_type": "markdown",
   "metadata": {
    "id": "vf94voENgITf"
   },
   "source": [
    "### CDS NYU\n",
    "### DS-GA 1007 | Programming for Data Science\n",
    "\n",
    "---\n",
    "\n",
    "# HW 01\n",
    "### Due Date: September 25, 2024, 7PM \n"
   ]
  },
  {
   "cell_type": "markdown",
   "metadata": {
    "id": "N2cd1qifgITk"
   },
   "source": [
    "Firstname: Qianru\n",
    "\n",
    "Lastname: Zhang\n",
    "\n",
    "E-mail: qz2432@nyu.edu\n",
    "\n",
    "\n",
    "--- \n",
    "\n",
    "Enter your solutions below,  and submit this notebook"
   ]
  },
  {
   "cell_type": "markdown",
   "metadata": {
    "id": "6KbPs8TagITl"
   },
   "source": [
    "### Problem 01 (10 points):\n",
    "\n",
    "1.1 (5 points) Write a function that iteratively calculates factorial $n!$ of an integer $n \\geq 0$, where $n!=1 \\cdot 2 \\cdot \\dots \\cdot n$. Evaluate the function for $n=10$.\n",
    "\n",
    "\n",
    "1.2 (5 points) Write a function that recursively calculates factorial $n!$ of an integer $n \\geq 0$, where $n!=1 \\cdot 2 \\cdot \\dots \\cdot n$. Evaluate the function for $n=10$.\n"
   ]
  },
  {
   "cell_type": "markdown",
   "metadata": {},
   "source": [
    "### Solution 01"
   ]
  },
  {
   "cell_type": "code",
   "execution_count": 2,
   "metadata": {},
   "outputs": [
    {
     "name": "stdout",
     "output_type": "stream",
     "text": [
      "3628800\n"
     ]
    }
   ],
   "source": [
    "# Please enter your solution here \n",
    "# You can create as many new cells as you need\n",
    "# 1.1\n",
    "def factorial(n):\n",
    "  res = 1\n",
    "  for i in range(n, 0, -1):\n",
    "    res *= i\n",
    "  return res\n",
    "\n",
    "print(factorial(10))"
   ]
  },
  {
   "cell_type": "code",
   "execution_count": 8,
   "metadata": {},
   "outputs": [
    {
     "name": "stdout",
     "output_type": "stream",
     "text": [
      "3628800\n"
     ]
    }
   ],
   "source": [
    "# 1.2\n",
    "def factorial(n):\n",
    "  if n == 1:\n",
    "    return n\n",
    "  return n * factorial(n-1)\n",
    "\n",
    "print(factorial(10))"
   ]
  },
  {
   "cell_type": "markdown",
   "metadata": {
    "id": "0czGUiabgITl"
   },
   "source": [
    "### Problem 02 (25 points):\n",
    "\n",
    "2.1 (10 points) Write a function that iteratively calculates the cumulative sum $\\sum_{x=1}^{n} x$ of an integer $n \\geq 0$, , where $\\sum_{x=1}^{n} x = 1 + 2 + \\dots + n$. Evaluate the function for $n = 10$.\n",
    "\n",
    "\n",
    "2.2 (10 points) Write a function that recursively calculates the cumulative sum $\\sum_{x=1}^{n} x$ of an integer $n \\geq 0$, where $\\sum_{x=1}^{n} x = 1 + 2 + \\dots + n$. Evaluate the function for $n = 10$.\n",
    "\n",
    "\n",
    "2.3 (5 points) In each of these functions, add an assert statement that raises an AssertionError exception with a custom message if the value of $n$ passed to the function is negative\n"
   ]
  },
  {
   "cell_type": "markdown",
   "metadata": {},
   "source": [
    "### Solution 02"
   ]
  },
  {
   "cell_type": "code",
   "execution_count": 12,
   "metadata": {},
   "outputs": [
    {
     "name": "stdout",
     "output_type": "stream",
     "text": [
      "55\n"
     ]
    }
   ],
   "source": [
    "# Please enter your solution here \n",
    "# You can create as many new cells as you need\n",
    "# 2.1\n",
    "def cumulative(n):\n",
    "  res = 0\n",
    "  for i in range(1,n+1):\n",
    "    res += i\n",
    "  return res\n",
    "\n",
    "print(cumulative(10))"
   ]
  },
  {
   "cell_type": "code",
   "execution_count": 13,
   "metadata": {},
   "outputs": [
    {
     "name": "stdout",
     "output_type": "stream",
     "text": [
      "55\n"
     ]
    }
   ],
   "source": [
    "# 2.2\n",
    "def cumulative(n):\n",
    "  if n == 1:\n",
    "    return 1\n",
    "  return n + cumulative(n-1)\n",
    "\n",
    "print(cumulative(10))"
   ]
  },
  {
   "cell_type": "code",
   "execution_count": 14,
   "metadata": {},
   "outputs": [
    {
     "ename": "AssertionError",
     "evalue": "",
     "output_type": "error",
     "traceback": [
      "\u001b[0;31m---------------------------------------------------------------------------\u001b[0m",
      "\u001b[0;31mAssertionError\u001b[0m                            Traceback (most recent call last)",
      "Cell \u001b[0;32mIn[14], line 9\u001b[0m\n\u001b[1;32m      6\u001b[0m     res \u001b[38;5;241m+\u001b[39m\u001b[38;5;241m=\u001b[39m i\n\u001b[1;32m      7\u001b[0m   \u001b[38;5;28;01mreturn\u001b[39;00m res\n\u001b[0;32m----> 9\u001b[0m \u001b[38;5;28mprint\u001b[39m(\u001b[43mcumulative\u001b[49m\u001b[43m(\u001b[49m\u001b[38;5;241;43m-\u001b[39;49m\u001b[38;5;241;43m1\u001b[39;49m\u001b[43m)\u001b[49m)\n",
      "Cell \u001b[0;32mIn[14], line 3\u001b[0m, in \u001b[0;36mcumulative\u001b[0;34m(n)\u001b[0m\n\u001b[1;32m      2\u001b[0m \u001b[38;5;28;01mdef\u001b[39;00m \u001b[38;5;21mcumulative\u001b[39m(n):\n\u001b[0;32m----> 3\u001b[0m   \u001b[38;5;28;01massert\u001b[39;00m n \u001b[38;5;241m>\u001b[39m \u001b[38;5;241m0\u001b[39m\n\u001b[1;32m      4\u001b[0m   res \u001b[38;5;241m=\u001b[39m \u001b[38;5;241m0\u001b[39m\n\u001b[1;32m      5\u001b[0m   \u001b[38;5;28;01mfor\u001b[39;00m i \u001b[38;5;129;01min\u001b[39;00m \u001b[38;5;28mrange\u001b[39m(\u001b[38;5;241m1\u001b[39m,n\u001b[38;5;241m+\u001b[39m\u001b[38;5;241m1\u001b[39m):\n",
      "\u001b[0;31mAssertionError\u001b[0m: "
     ]
    }
   ],
   "source": [
    "# 2.3\n",
    "def cumulative(n):\n",
    "  assert n > 0\n",
    "  res = 0\n",
    "  for i in range(1,n+1):\n",
    "    res += i\n",
    "  return res\n",
    "\n",
    "print(cumulative(-1))"
   ]
  },
  {
   "cell_type": "code",
   "execution_count": 15,
   "metadata": {},
   "outputs": [
    {
     "ename": "AssertionError",
     "evalue": "",
     "output_type": "error",
     "traceback": [
      "\u001b[0;31m---------------------------------------------------------------------------\u001b[0m",
      "\u001b[0;31mAssertionError\u001b[0m                            Traceback (most recent call last)",
      "Cell \u001b[0;32mIn[15], line 7\u001b[0m\n\u001b[1;32m      4\u001b[0m     \u001b[38;5;28;01mreturn\u001b[39;00m \u001b[38;5;241m1\u001b[39m\n\u001b[1;32m      5\u001b[0m   \u001b[38;5;28;01mreturn\u001b[39;00m n \u001b[38;5;241m+\u001b[39m cumulative(n\u001b[38;5;241m-\u001b[39m\u001b[38;5;241m1\u001b[39m)\n\u001b[0;32m----> 7\u001b[0m \u001b[38;5;28mprint\u001b[39m(\u001b[43mcumulative\u001b[49m\u001b[43m(\u001b[49m\u001b[38;5;241;43m-\u001b[39;49m\u001b[38;5;241;43m1\u001b[39;49m\u001b[43m)\u001b[49m)\n",
      "Cell \u001b[0;32mIn[15], line 2\u001b[0m, in \u001b[0;36mcumulative\u001b[0;34m(n)\u001b[0m\n\u001b[1;32m      1\u001b[0m \u001b[38;5;28;01mdef\u001b[39;00m \u001b[38;5;21mcumulative\u001b[39m(n):\n\u001b[0;32m----> 2\u001b[0m   \u001b[38;5;28;01massert\u001b[39;00m n \u001b[38;5;241m>\u001b[39m \u001b[38;5;241m0\u001b[39m\n\u001b[1;32m      3\u001b[0m   \u001b[38;5;28;01mif\u001b[39;00m n \u001b[38;5;241m==\u001b[39m \u001b[38;5;241m1\u001b[39m:\n\u001b[1;32m      4\u001b[0m     \u001b[38;5;28;01mreturn\u001b[39;00m \u001b[38;5;241m1\u001b[39m\n",
      "\u001b[0;31mAssertionError\u001b[0m: "
     ]
    }
   ],
   "source": [
    "\n",
    "def cumulative(n):\n",
    "  assert n > 0\n",
    "  if n == 1:\n",
    "    return 1\n",
    "  return n + cumulative(n-1)\n",
    "\n",
    "print(cumulative(-1))"
   ]
  },
  {
   "cell_type": "markdown",
   "metadata": {
    "id": "0j-R1LkxgITm"
   },
   "source": [
    "\n",
    "### Problem 03 (25 points)\n",
    "\n",
    "For the given text below, write a function which displays the text and returns a dictionary (please call it `char_counts`), where the dictionary maps all distinct characters of the text into the number of their occurrences in the given text. \n",
    "\n",
    "For example, `char_counts['A'] = 1` since `A` only appeared once in the word \"Avenue\".\n",
    "\n",
    "\n",
    "Finally, print the obtained dictionary `char_counts` and its length. \n",
    "\n"
   ]
  },
  {
   "cell_type": "code",
   "execution_count": 16,
   "metadata": {
    "id": "zrJkFxG9gITn"
   },
   "outputs": [],
   "source": [
    "text = \"The Center for Data Science (CDS) is the focal point for New York University’s university-wide efforts in Data Science. The Center was established in 2013 to advance NYU’s goal of creating a world-leading Data Science training and research facility, and arming researchers and professionals with the tools to harness the power of Big Data. Today, CDS counts 16 jointly appointed interdisciplinary faculty housed on two floors of our magnificent 60 5th Avenue building, one of New York City’s historic properties. It is home to a top-ranked MS in Data Science program, one of the first PhD programs in Data Science, and a new undergraduate program in Data Science, as well as a lively Fellow and Postdoctoral program. It has over 60 associate and affiliate faculty from 25 departments in 9 schools and units. With cross-disciplinary research and innovative educational programs, CDS is shaping the new field of Data Science.\""
   ]
  },
  {
   "cell_type": "markdown",
   "metadata": {},
   "source": [
    "### Solution 03"
   ]
  },
  {
   "cell_type": "code",
   "execution_count": 18,
   "metadata": {},
   "outputs": [
    {
     "name": "stdout",
     "output_type": "stream",
     "text": [
      "{'T': 3, 'h': 22, 'e': 73, ' ': 148, 'C': 6, 'n': 57, 't': 55, 'r': 50, 'f': 22, 'o': 56, 'D': 12, 'a': 72, 'S': 11, 'c': 33, 'i': 62, '(': 1, ')': 1, 's': 45, 'l': 26, 'p': 17, 'N': 3, 'w': 12, 'Y': 3, 'k': 3, 'U': 2, 'v': 8, 'y': 11, '’': 3, 'u': 12, '-': 4, 'd': 26, '.': 6, 'b': 2, '2': 2, '0': 3, '1': 2, '3': 1, 'g': 15, ',': 7, 'm': 10, 'B': 1, '6': 3, 'j': 1, '5': 2, 'A': 1, 'I': 2, 'M': 1, 'P': 2, 'F': 1, '9': 1, 'W': 1} 51\n"
     ]
    }
   ],
   "source": [
    "# Please enter your solution here \n",
    "# You can create as many new cells as you need\n",
    "def countChar(text):\n",
    "  char_counts = {}\n",
    "  for char in text:\n",
    "    if char not in char_counts:\n",
    "      char_counts[char] = 1\n",
    "    else:\n",
    "      char_counts[char] += 1\n",
    "  return char_counts\n",
    "char_counts = countChar(text)\n",
    "print(char_counts, len(char_counts.items()))\n",
    "\n",
    "\n",
    "      "
   ]
  },
  {
   "cell_type": "markdown",
   "metadata": {
    "id": "YYjUnUoegITo"
   },
   "source": [
    "### Problem 04 (40 points)\n",
    "\n",
    "4.1 (10 points) Create a custom class called `animal` which only contains the method `__init__` used to initialize three data attributes: 1) the animal's name, 2) its position along x coordinate, 3) its position along y coordinate\n",
    "\n",
    "\n",
    "4.2 (10 points) Create a custom class `dog` inherited from the class `animal`, and define a method called `distance` which calculates the distance between the position of the dog and another object in a (x,y) coordinate system\n",
    "\n",
    "\n",
    "4.3 (5 points) Create an instance of the class `dog`, give your dog a name, position your dog at location (0,0) in the (x,y) coordinate system. Create an instance of the class `animal`, give this animal the name `danger`, and position this animal at location (0.2,0.2). Invoke the method `distance`  to calculate the distance between your dog and `danger`, then print this distance.\n",
    "\n",
    "\n",
    "4.4 (10 points) Create an empty list named `trajectory`. Using a `while` loop, increment the x coordinate location of your dog by 0.1 at each step, recalculate the distance between your dog and `danger`, append this distance to the list `trajectory`, and exit the loop when this distance is larger than 0.8 units. Write the list in a file called `Dog2D.txt`\n",
    "\n",
    "\n",
    "4.5 (5 points) Everything is an object in Python. A list is an object. In 4.4, you instantiated a list called `trajectory`. Invoke a built-in Python function on this list object to calculate the smallest distance your dog was to the danger in the trajectory followed, then print this distance.\n"
   ]
  },
  {
   "cell_type": "markdown",
   "metadata": {},
   "source": [
    "### Solution 04"
   ]
  },
  {
   "cell_type": "code",
   "execution_count": 20,
   "metadata": {},
   "outputs": [],
   "source": [
    "# Please enter your solution here \n",
    "# You can create as many new cells as you need\n",
    "# 4.1 \n",
    "class animal(object):\n",
    "  def __init__(self, name, x, y):\n",
    "    self.name = name\n",
    "    self.x = x\n",
    "    self.y = y"
   ]
  },
  {
   "cell_type": "code",
   "execution_count": 21,
   "metadata": {},
   "outputs": [],
   "source": [
    "# 4.2\n",
    "import math\n",
    "class dog(animal):\n",
    "  def distance(self, __animal__):\n",
    "    x = __animal__.x\n",
    "    y = __animal__.y\n",
    "    distance = math.sqrt((self.x - x) ** 2 + (self.y - y) ** 2)\n",
    "    return distance"
   ]
  },
  {
   "cell_type": "code",
   "execution_count": 42,
   "metadata": {},
   "outputs": [
    {
     "name": "stdout",
     "output_type": "stream",
     "text": [
      "0.28284271247461906\n"
     ]
    }
   ],
   "source": [
    "# 4.3\n",
    "sausage = dog(\"sausage\", 0, 0)\n",
    "danger = animal(\"danger\", 0.2, 0.2)\n",
    "distance = sausage.distance(danger)\n",
    "print(distance)"
   ]
  },
  {
   "cell_type": "code",
   "execution_count": 43,
   "metadata": {},
   "outputs": [
    {
     "name": "stdout",
     "output_type": "stream",
     "text": [
      "[0.28284271247461906, 0.223606797749979, 0.2, 0.22360679774997902, 0.28284271247461906, 0.36055512754639896, 0.4472135954999579, 0.5385164807134504, 0.6324555320336757, 0.7280109889280517, 0.8246211251235319]"
     ]
    }
   ],
   "source": [
    "# 4.4\n",
    "trajectory = list()\n",
    "\n",
    "while distance <= 0.8:\n",
    "  distance = sausage.distance(danger)\n",
    "  trajectory.append(distance)\n",
    "  sausage.x += 0.1\n",
    "\n",
    "outfile = open(\"Dog2D.txt\",\"w\")\n",
    "outfile.write(str(trajectory))                     \n",
    "outfile.close()\n",
    "\n",
    "!cat Dog2D.txt"
   ]
  },
  {
   "cell_type": "markdown",
   "metadata": {},
   "source": [
    "\n",
    "4.5 (5 points) Everything is an object in Python. A list is an object. In 4.4, you instantiated a list called `trajectory`. Invoke a built-in Python function on this list object to calculate the smallest distance your dog was to the danger in the trajectory followed, then print this distance."
   ]
  },
  {
   "cell_type": "code",
   "execution_count": 44,
   "metadata": {},
   "outputs": [
    {
     "name": "stdout",
     "output_type": "stream",
     "text": [
      "0.2\n"
     ]
    }
   ],
   "source": [
    "# 4.5\n",
    "miniDistance = min(trajectory)\n",
    "print(miniDistance)"
   ]
  }
 ],
 "metadata": {
  "colab": {
   "provenance": []
  },
  "kernelspec": {
   "display_name": "Python 3 (ipykernel)",
   "language": "python",
   "name": "python3"
  },
  "language_info": {
   "codemirror_mode": {
    "name": "ipython",
    "version": 3
   },
   "file_extension": ".py",
   "mimetype": "text/x-python",
   "name": "python",
   "nbconvert_exporter": "python",
   "pygments_lexer": "ipython3",
   "version": "3.1.0"
  }
 },
 "nbformat": 4,
 "nbformat_minor": 1
}
