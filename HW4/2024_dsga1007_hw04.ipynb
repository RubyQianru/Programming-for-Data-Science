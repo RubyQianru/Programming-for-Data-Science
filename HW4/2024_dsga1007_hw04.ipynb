{
 "cells": [
  {
   "cell_type": "markdown",
   "metadata": {},
   "source": [
    "### CDS NYU\n",
    "### DS-GA 1007 | Programming for Data Science\n",
    "\n",
    "---\n",
    "\n",
    "# HW 04\n",
    "### Due Date: November 20, 2024, 7PM \n"
   ]
  },
  {
   "cell_type": "markdown",
   "metadata": {},
   "source": [
    "Firstname: Ruby\n",
    "\n",
    "Lastname: Zhang\n",
    "\n",
    "E-mail: qz2432@nyu.edu\n",
    "\n",
    "\n",
    "--- \n",
    "\n",
    "Enter your solutions below,  and submit this notebook"
   ]
  },
  {
   "cell_type": "code",
   "execution_count": 1,
   "metadata": {},
   "outputs": [],
   "source": [
    "import pandas as pd \n",
    "import numpy as np "
   ]
  },
  {
   "cell_type": "markdown",
   "metadata": {
    "id": "S1trVJzxjARG"
   },
   "source": [
    "### Problem 01 (25 points)\n",
    "1.1 (10 points) Create a Pandas Series object with the values given by the twelve months: \"January\", \"February\", ..., \"December\", and with the indexes given by the first twelve natural numbers: 1, 2, ..., 12. Then, print the slice ranging from May to September (included)."
   ]
  },
  {
   "cell_type": "code",
   "execution_count": 16,
   "metadata": {},
   "outputs": [
    {
     "data": {
      "text/plain": [
       "5          May\n",
       "6         June\n",
       "7         July\n",
       "8       August\n",
       "9    September\n",
       "dtype: object"
      ]
     },
     "execution_count": 16,
     "metadata": {},
     "output_type": "execute_result"
    }
   ],
   "source": [
    "data = ['January', 'February', 'March', 'April', 'May', 'June', 'July', 'August', 'September', 'October', 'November', 'December']\n",
    "df = pd.Series(data, index=[i for i in range(1, 13)])\n",
    "\n",
    "df[4: 9]"
   ]
  },
  {
   "cell_type": "markdown",
   "metadata": {},
   "source": [
    "1.2 (10 points) Create a Pandas DataFrame with the indexes $0, 1, \\dots, 9$ and column labels \"col0\", \"col1\", ..., \"col9\". Each value of the dateframe with the index $i$ and with the column \"colj\" should be assigned the value $50 \\times i + j$. Then, print the subset of the data frame corresponding to indexes 3 to 6 (included) within the two columns \"col1\" and \"col7\"."
   ]
  },
  {
   "cell_type": "code",
   "execution_count": 19,
   "metadata": {},
   "outputs": [
    {
     "data": {
      "text/html": [
       "<div>\n",
       "<style scoped>\n",
       "    .dataframe tbody tr th:only-of-type {\n",
       "        vertical-align: middle;\n",
       "    }\n",
       "\n",
       "    .dataframe tbody tr th {\n",
       "        vertical-align: top;\n",
       "    }\n",
       "\n",
       "    .dataframe thead th {\n",
       "        text-align: right;\n",
       "    }\n",
       "</style>\n",
       "<table border=\"1\" class=\"dataframe\">\n",
       "  <thead>\n",
       "    <tr style=\"text-align: right;\">\n",
       "      <th></th>\n",
       "      <th>col1</th>\n",
       "      <th>col7</th>\n",
       "    </tr>\n",
       "  </thead>\n",
       "  <tbody>\n",
       "    <tr>\n",
       "      <th>3</th>\n",
       "      <td>151</td>\n",
       "      <td>157</td>\n",
       "    </tr>\n",
       "    <tr>\n",
       "      <th>4</th>\n",
       "      <td>201</td>\n",
       "      <td>207</td>\n",
       "    </tr>\n",
       "    <tr>\n",
       "      <th>5</th>\n",
       "      <td>251</td>\n",
       "      <td>257</td>\n",
       "    </tr>\n",
       "    <tr>\n",
       "      <th>6</th>\n",
       "      <td>301</td>\n",
       "      <td>307</td>\n",
       "    </tr>\n",
       "  </tbody>\n",
       "</table>\n",
       "</div>"
      ],
      "text/plain": [
       "   col1  col7\n",
       "3   151   157\n",
       "4   201   207\n",
       "5   251   257\n",
       "6   301   307"
      ]
     },
     "execution_count": 19,
     "metadata": {},
     "output_type": "execute_result"
    }
   ],
   "source": [
    "indexes = [i for i in range(10)]\n",
    "columns = [\"col\" + str(i) for i in range(10)]\n",
    "data = data = [[50 * i + j for j in range(10)] for i in indexes]\n",
    "df = pd.DataFrame(data,index=indexes, columns=columns)\n",
    "\n",
    "subset = df.loc[3:6, ['col1', 'col7']]\n",
    "subset"
   ]
  },
  {
   "cell_type": "markdown",
   "metadata": {},
   "source": [
    "1.3 (5 points) In the original data frame created in 1.2, remove all rows for which the corresponding value in the column \"col7\" is smaller than 150 or bigger than 300."
   ]
  },
  {
   "cell_type": "code",
   "execution_count": 21,
   "metadata": {},
   "outputs": [
    {
     "data": {
      "text/html": [
       "<div>\n",
       "<style scoped>\n",
       "    .dataframe tbody tr th:only-of-type {\n",
       "        vertical-align: middle;\n",
       "    }\n",
       "\n",
       "    .dataframe tbody tr th {\n",
       "        vertical-align: top;\n",
       "    }\n",
       "\n",
       "    .dataframe thead th {\n",
       "        text-align: right;\n",
       "    }\n",
       "</style>\n",
       "<table border=\"1\" class=\"dataframe\">\n",
       "  <thead>\n",
       "    <tr style=\"text-align: right;\">\n",
       "      <th></th>\n",
       "      <th>col0</th>\n",
       "      <th>col1</th>\n",
       "      <th>col2</th>\n",
       "      <th>col3</th>\n",
       "      <th>col4</th>\n",
       "      <th>col5</th>\n",
       "      <th>col6</th>\n",
       "      <th>col7</th>\n",
       "      <th>col8</th>\n",
       "      <th>col9</th>\n",
       "    </tr>\n",
       "  </thead>\n",
       "  <tbody>\n",
       "    <tr>\n",
       "      <th>3</th>\n",
       "      <td>150</td>\n",
       "      <td>151</td>\n",
       "      <td>152</td>\n",
       "      <td>153</td>\n",
       "      <td>154</td>\n",
       "      <td>155</td>\n",
       "      <td>156</td>\n",
       "      <td>157</td>\n",
       "      <td>158</td>\n",
       "      <td>159</td>\n",
       "    </tr>\n",
       "    <tr>\n",
       "      <th>4</th>\n",
       "      <td>200</td>\n",
       "      <td>201</td>\n",
       "      <td>202</td>\n",
       "      <td>203</td>\n",
       "      <td>204</td>\n",
       "      <td>205</td>\n",
       "      <td>206</td>\n",
       "      <td>207</td>\n",
       "      <td>208</td>\n",
       "      <td>209</td>\n",
       "    </tr>\n",
       "    <tr>\n",
       "      <th>5</th>\n",
       "      <td>250</td>\n",
       "      <td>251</td>\n",
       "      <td>252</td>\n",
       "      <td>253</td>\n",
       "      <td>254</td>\n",
       "      <td>255</td>\n",
       "      <td>256</td>\n",
       "      <td>257</td>\n",
       "      <td>258</td>\n",
       "      <td>259</td>\n",
       "    </tr>\n",
       "  </tbody>\n",
       "</table>\n",
       "</div>"
      ],
      "text/plain": [
       "   col0  col1  col2  col3  col4  col5  col6  col7  col8  col9\n",
       "3   150   151   152   153   154   155   156   157   158   159\n",
       "4   200   201   202   203   204   205   206   207   208   209\n",
       "5   250   251   252   253   254   255   256   257   258   259"
      ]
     },
     "execution_count": 21,
     "metadata": {},
     "output_type": "execute_result"
    }
   ],
   "source": [
    "filtered_df = df[(df['col7'] >= 150) & (df['col7'] <= 300)]\n",
    "filtered_df"
   ]
  },
  {
   "cell_type": "markdown",
   "metadata": {
    "id": "rnahWxwKjARG"
   },
   "source": [
    "### Problem 02 (25 points)\n",
    "\n",
    "Load the dataset \"IMDB-Movie-Data.csv\" into a Pandas DataFrame with the index equal to a title of a movie title, while dopping all duplicated rows, using the follwoing command:  ```df_movies = pd.read_csv(\"IMDB-Movie-Data.csv\", index_col=\"Title\").drop_duplicates()```\n",
    "\n",
    "Then:\n",
    "\n",
    "\n",
    "2.1 (10 points) Print the number of rows for which the column \"Metascore\" is `NaN`."
   ]
  },
  {
   "cell_type": "code",
   "execution_count": 24,
   "metadata": {},
   "outputs": [],
   "source": [
    "df_movies = pd.read_csv(\"IMDB-Movie-Data.csv\", index_col=\"Title\").drop_duplicates()"
   ]
  },
  {
   "cell_type": "code",
   "execution_count": 25,
   "metadata": {},
   "outputs": [
    {
     "data": {
      "text/plain": [
       "Rank                    0\n",
       "Genre                   0\n",
       "Description             0\n",
       "Director                0\n",
       "Actors                  0\n",
       "Year                    0\n",
       "Runtime (Minutes)       0\n",
       "Rating                  0\n",
       "Votes                   0\n",
       "Revenue (Millions)    128\n",
       "Metascore              64\n",
       "dtype: int64"
      ]
     },
     "execution_count": 25,
     "metadata": {},
     "output_type": "execute_result"
    }
   ],
   "source": [
    "df_movies.isnull().sum()"
   ]
  },
  {
   "cell_type": "markdown",
   "metadata": {},
   "source": [
    "2.2 (5 points) Print the ratio of missing value count over number of rows in the dataseet: what is the fraction of missing values for the column \"Metascore\"."
   ]
  },
  {
   "cell_type": "code",
   "execution_count": 30,
   "metadata": {},
   "outputs": [
    {
     "name": "stdout",
     "output_type": "stream",
     "text": [
      "The fraction of missing values for the column 'Metascore':  0.064\n"
     ]
    }
   ],
   "source": [
    "print(\"The fraction of missing values for the column 'Metascore': \", \n",
    "  df_movies[\"Metascore\"].isnull().sum() / len(df_movies))"
   ]
  },
  {
   "cell_type": "markdown",
   "metadata": {},
   "source": [
    "2.3 (5 points) Print the min, mean, max, median for the column \"Metascore\"."
   ]
  },
  {
   "cell_type": "code",
   "execution_count": 31,
   "metadata": {},
   "outputs": [
    {
     "name": "stdout",
     "output_type": "stream",
     "text": [
      "Min:  11.0\n",
      "Mean:  58.98504273504273\n",
      "Max:  100.0\n",
      "Median:  59.5\n"
     ]
    }
   ],
   "source": [
    "print(\"Min: \", df_movies[\"Metascore\"].min()) \n",
    "print(\"Mean: \", df_movies[\"Metascore\"].mean())\n",
    "print(\"Max: \", df_movies[\"Metascore\"].max())\n",
    "print(\"Median: \", df_movies[\"Metascore\"].median())\n",
    "\n"
   ]
  },
  {
   "cell_type": "markdown",
   "metadata": {},
   "source": [
    "2.4 (5 points) Print the median for the column \"Metascore\" after replacing `NaN` by the mean of this column."
   ]
  },
  {
   "cell_type": "code",
   "execution_count": 32,
   "metadata": {},
   "outputs": [
    {
     "name": "stdout",
     "output_type": "stream",
     "text": [
      "Updated median:  58.98504273504273\n"
     ]
    }
   ],
   "source": [
    "replaced_df = df_movies[\"Metascore\"].fillna(df_movies[\"Metascore\"].mean())\n",
    "print(\"Updated median: \", replaced_df.median())"
   ]
  },
  {
   "cell_type": "markdown",
   "metadata": {
    "id": "XgDy6-XMjARG"
   },
   "source": [
    "### Problem 03 (50 points)\n",
    "Load the dataset \"StudentsPerformance.csv\" into a Pandas DataFrame, then:"
   ]
  },
  {
   "cell_type": "code",
   "execution_count": 37,
   "metadata": {},
   "outputs": [
    {
     "data": {
      "text/html": [
       "<div>\n",
       "<style scoped>\n",
       "    .dataframe tbody tr th:only-of-type {\n",
       "        vertical-align: middle;\n",
       "    }\n",
       "\n",
       "    .dataframe tbody tr th {\n",
       "        vertical-align: top;\n",
       "    }\n",
       "\n",
       "    .dataframe thead th {\n",
       "        text-align: right;\n",
       "    }\n",
       "</style>\n",
       "<table border=\"1\" class=\"dataframe\">\n",
       "  <thead>\n",
       "    <tr style=\"text-align: right;\">\n",
       "      <th></th>\n",
       "      <th>gender</th>\n",
       "      <th>group</th>\n",
       "      <th>test preparation course</th>\n",
       "      <th>math score</th>\n",
       "      <th>reading score</th>\n",
       "      <th>writing score</th>\n",
       "    </tr>\n",
       "  </thead>\n",
       "  <tbody>\n",
       "    <tr>\n",
       "      <th>0</th>\n",
       "      <td>female</td>\n",
       "      <td>group B</td>\n",
       "      <td>none</td>\n",
       "      <td>72.0</td>\n",
       "      <td>72</td>\n",
       "      <td>74.0</td>\n",
       "    </tr>\n",
       "    <tr>\n",
       "      <th>1</th>\n",
       "      <td>female</td>\n",
       "      <td>group C</td>\n",
       "      <td>completed</td>\n",
       "      <td>69.0</td>\n",
       "      <td>90</td>\n",
       "      <td>88.0</td>\n",
       "    </tr>\n",
       "    <tr>\n",
       "      <th>2</th>\n",
       "      <td>female</td>\n",
       "      <td>group B</td>\n",
       "      <td>none</td>\n",
       "      <td>NaN</td>\n",
       "      <td>95</td>\n",
       "      <td>NaN</td>\n",
       "    </tr>\n",
       "    <tr>\n",
       "      <th>3</th>\n",
       "      <td>male</td>\n",
       "      <td>group A</td>\n",
       "      <td>none</td>\n",
       "      <td>47.0</td>\n",
       "      <td>57</td>\n",
       "      <td>44.0</td>\n",
       "    </tr>\n",
       "    <tr>\n",
       "      <th>4</th>\n",
       "      <td>male</td>\n",
       "      <td>group C</td>\n",
       "      <td>none</td>\n",
       "      <td>76.0</td>\n",
       "      <td>78</td>\n",
       "      <td>75.0</td>\n",
       "    </tr>\n",
       "    <tr>\n",
       "      <th>...</th>\n",
       "      <td>...</td>\n",
       "      <td>...</td>\n",
       "      <td>...</td>\n",
       "      <td>...</td>\n",
       "      <td>...</td>\n",
       "      <td>...</td>\n",
       "    </tr>\n",
       "    <tr>\n",
       "      <th>995</th>\n",
       "      <td>female</td>\n",
       "      <td>group E</td>\n",
       "      <td>completed</td>\n",
       "      <td>88.0</td>\n",
       "      <td>99</td>\n",
       "      <td>95.0</td>\n",
       "    </tr>\n",
       "    <tr>\n",
       "      <th>996</th>\n",
       "      <td>male</td>\n",
       "      <td>group C</td>\n",
       "      <td>none</td>\n",
       "      <td>NaN</td>\n",
       "      <td>55</td>\n",
       "      <td>55.0</td>\n",
       "    </tr>\n",
       "    <tr>\n",
       "      <th>997</th>\n",
       "      <td>female</td>\n",
       "      <td>group C</td>\n",
       "      <td>completed</td>\n",
       "      <td>59.0</td>\n",
       "      <td>71</td>\n",
       "      <td>65.0</td>\n",
       "    </tr>\n",
       "    <tr>\n",
       "      <th>998</th>\n",
       "      <td>female</td>\n",
       "      <td>group D</td>\n",
       "      <td>completed</td>\n",
       "      <td>68.0</td>\n",
       "      <td>78</td>\n",
       "      <td>77.0</td>\n",
       "    </tr>\n",
       "    <tr>\n",
       "      <th>999</th>\n",
       "      <td>female</td>\n",
       "      <td>group D</td>\n",
       "      <td>none</td>\n",
       "      <td>77.0</td>\n",
       "      <td>86</td>\n",
       "      <td>86.0</td>\n",
       "    </tr>\n",
       "  </tbody>\n",
       "</table>\n",
       "<p>1000 rows × 6 columns</p>\n",
       "</div>"
      ],
      "text/plain": [
       "     gender    group test preparation course  math score  reading score  \\\n",
       "0    female  group B                    none        72.0             72   \n",
       "1    female  group C               completed        69.0             90   \n",
       "2    female  group B                    none         NaN             95   \n",
       "3      male  group A                    none        47.0             57   \n",
       "4      male  group C                    none        76.0             78   \n",
       "..      ...      ...                     ...         ...            ...   \n",
       "995  female  group E               completed        88.0             99   \n",
       "996    male  group C                    none         NaN             55   \n",
       "997  female  group C               completed        59.0             71   \n",
       "998  female  group D               completed        68.0             78   \n",
       "999  female  group D                    none        77.0             86   \n",
       "\n",
       "     writing score  \n",
       "0             74.0  \n",
       "1             88.0  \n",
       "2              NaN  \n",
       "3             44.0  \n",
       "4             75.0  \n",
       "..             ...  \n",
       "995           95.0  \n",
       "996           55.0  \n",
       "997           65.0  \n",
       "998           77.0  \n",
       "999           86.0  \n",
       "\n",
       "[1000 rows x 6 columns]"
      ]
     },
     "execution_count": 37,
     "metadata": {},
     "output_type": "execute_result"
    }
   ],
   "source": [
    "df = pd.read_csv(\"./StudentsPerformance.csv\")\n",
    "df"
   ]
  },
  {
   "cell_type": "markdown",
   "metadata": {
    "id": "dcKgSGUvjARH"
   },
   "source": [
    "3.1 (5 points) Print the number of unique groups in this data set.  "
   ]
  },
  {
   "cell_type": "code",
   "execution_count": 41,
   "metadata": {},
   "outputs": [
    {
     "name": "stdout",
     "output_type": "stream",
     "text": [
      "Number of unique groups:  5\n"
     ]
    }
   ],
   "source": [
    "print(\"Number of unique groups: \", len(df[\"group\"].unique()))"
   ]
  },
  {
   "cell_type": "markdown",
   "metadata": {},
   "source": [
    "3.2 (10 points) For each group print the number of female and the number of male members."
   ]
  },
  {
   "cell_type": "code",
   "execution_count": 45,
   "metadata": {},
   "outputs": [
    {
     "name": "stdout",
     "output_type": "stream",
     "text": [
      "Number of female and male members in each group:\n",
      "gender   female  male\n",
      "group                \n",
      "group A      36    53\n",
      "group B     104    86\n",
      "group C     180   139\n",
      "group D     129   133\n",
      "group E      69    71\n"
     ]
    }
   ],
   "source": [
    "gender_counts = df.groupby(\"group\")[\"gender\"].value_counts().unstack()\n",
    "\n",
    "print(\"Number of female and male members in each group:\")\n",
    "print(gender_counts)"
   ]
  },
  {
   "cell_type": "markdown",
   "metadata": {},
   "source": [
    "3.3 (10 points) Plot the histogram over `math_score` for group A and set the number of bins to 50."
   ]
  },
  {
   "cell_type": "code",
   "execution_count": 54,
   "metadata": {},
   "outputs": [],
   "source": [
    "import matplotlib.pyplot as plt "
   ]
  },
  {
   "cell_type": "code",
   "execution_count": 61,
   "metadata": {},
   "outputs": [
    {
     "data": {
      "image/png": "[encoded data removed]",
      "text/plain": [
       "<Figure size 640x480 with 1 Axes>"
      ]
     },
     "metadata": {},
     "output_type": "display_data"
    }
   ],
   "source": [
    "group_a = df[(df['group'] == \"group A\")]\n",
    "plt.hist(group_a[\"math score\"], bins=50)\n",
    "plt.show()"
   ]
  },
  {
   "cell_type": "markdown",
   "metadata": {},
   "source": [
    "3.4 (10 points) Show three `2D` scatter plots where the axes correspond to each combination of math, reading, and\twriting scores. In other words, the three plots will have the following axes: \n",
    "    \n",
    "Plot 1: x = \"math score\", y = \"reading score\"\n",
    "\n",
    "Plot 2: x = \"math score\", y = \"writing score\"\n",
    "\n",
    "Plot 3: x = \"reading score\", y = \"writing score\""
   ]
  },
  {
   "cell_type": "code",
   "execution_count": 71,
   "metadata": {},
   "outputs": [
    {
     "data": {
      "image/png": "[encoded data removed]",
      "text/plain": [
       "<Figure size 1500x300 with 3 Axes>"
      ]
     },
     "metadata": {},
     "output_type": "display_data"
    }
   ],
   "source": [
    "f, ax = plt.subplots(1,3, figsize = (15,3)) \n",
    "\n",
    "ax[0].scatter(group_a[\"math score\"], group_a[\"reading score\"])\n",
    "ax[0].set_xlabel(\"Math score\")\n",
    "ax[0].set_ylabel(\"Reading score\")\n",
    "ax[1].scatter(group_a[\"math score\"], group_a[\"writing score\"])\n",
    "ax[1].set_xlabel(\"Math score\")\n",
    "ax[1].set_ylabel(\"Writing score\")\n",
    "ax[2].scatter(group_a[\"reading score\"], group_a[\"writing score\"])\n",
    "ax[2].set_xlabel(\"Reading score\")\n",
    "ax[2].set_ylabel(\"Writing score\")\n",
    "\n",
    "plt.show()"
   ]
  },
  {
   "cell_type": "markdown",
   "metadata": {},
   "source": [
    "3.5 (15 points) Normalize each of the three columns `math score`, `reading score`, `writing score` by subtracting its mean value and dividing by its standard deviation, and assign the results to three new columns called `math_score_norm`, `reading_score_norm`, and `writing_score_norm`, respectively.\n",
    "\n",
    "Perform the same task as in 3.4 (= show three `2D` scatter plots) on these newly formed columns."
   ]
  },
  {
   "cell_type": "code",
   "execution_count": 73,
   "metadata": {},
   "outputs": [
    {
     "data": {
      "image/png": "[encoded data removed]",
      "text/plain": [
       "<Figure size 1500x300 with 3 Axes>"
      ]
     },
     "metadata": {},
     "output_type": "display_data"
    }
   ],
   "source": [
    "group_a.loc[:, 'math_score_norm'] = (group_a['math score'] - group_a['math score'].mean()) / group_a['math score'].std()\n",
    "group_a.loc[:, 'reading_score_norm'] = (group_a['reading score'] - group_a['reading score'].mean()) / group_a['reading score'].std()\n",
    "group_a.loc[:, 'writing_score_norm'] = (group_a['writing score'] - group_a['writing score'].mean()) / group_a['writing score'].std()\n",
    "\n",
    "f, ax = plt.subplots(1, 3, figsize=(15, 3))\n",
    "\n",
    "ax[0].scatter(group_a['math_score_norm'], group_a['reading_score_norm'])\n",
    "ax[0].set_xlabel(\"Normalized Math score\")\n",
    "ax[0].set_ylabel(\"Normalized Reading score\")\n",
    "\n",
    "ax[1].scatter(group_a['math_score_norm'], group_a['writing_score_norm'])\n",
    "ax[1].set_xlabel(\"Normalized Math score\")\n",
    "ax[1].set_ylabel(\"Normalized Writing score\")\n",
    "\n",
    "ax[2].scatter(group_a['reading_score_norm'], group_a['writing_score_norm'])\n",
    "ax[2].set_xlabel(\"Normalized Reading score\")\n",
    "ax[2].set_ylabel(\"Normalized Writing score\")\n",
    "\n",
    "plt.show()"
   ]
  }
 ],
 "metadata": {
  "colab": {
   "collapsed_sections": [],
   "provenance": []
  },
  "kernelspec": {
   "display_name": "ds",
   "language": "python",
   "name": "python3"
  },
  "language_info": {
   "codemirror_mode": {
    "name": "ipython",
    "version": 3
   },
   "file_extension": ".py",
   "mimetype": "text/x-python",
   "name": "python",
   "nbconvert_exporter": "python",
   "pygments_lexer": "ipython3",
   "version": "3.11.9"
  }
 },
 "nbformat": 4,
 "nbformat_minor": 1
}
