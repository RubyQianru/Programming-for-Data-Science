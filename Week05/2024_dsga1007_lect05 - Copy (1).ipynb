{
 "cells": [
  {
   "cell_type": "markdown",
   "id": "d0a3372a",
   "metadata": {},
   "source": [
    "### CDS NYU\n",
    "### DS-GA 1007 | Programming for Data Science\n",
    "### Lecture 05\n",
    "### October 7, 2024\n",
    "\n",
    "---"
   ]
  },
  {
   "cell_type": "markdown",
   "id": "a71dbde2",
   "metadata": {},
   "source": [
    "# NumPy: Array Manipulation for Scientific Computing\n",
    "\n",
    "## Introduction\n",
    "\n",
    "https://numpy.org/\n",
    "\n",
    "NumPy is a fundamental Python package for scientific computing. The NumPy library contains multidimensional array and matrix data objects with methods to efficiently operate on them, including mathematical, logical, shape manipulation, sorting, selecting, I/O, basic linear algebra, basic statistical operations, random simulations, discrete Fourier transforms, and much more.\n",
    "\n",
    "At the core of the NumPy package, is the ndarray object. This encapsulates n-dimensional arrays of homogeneous data types, with many operations being performed in compiled code for performance. There are several important differences between NumPy arrays and the standard Python sequences:\n",
    "\n",
    "- NumPy arrays have a fixed size at creation, unlike Python lists (which can grow dynamically). Changing the size of an ndarray will create a new array and delete the original\n",
    "\n",
    "- The elements in a NumPy array are all required to be of the same data type, and thus will be the same size in memory. The exception: one can have arrays of (Python, including NumPy) objects, thereby allowing for arrays of different sized elements. Note in this case the efficiency of NumPy decreases accordingly\n",
    "\n",
    "- Because they are fixed-type containers, in contrast to dynamic-type containers such as lists, NumPy arrays are more efficient to store and manipulate data because each item does not contain any metadata on the element’s type. This is called vectorization (as used in compiled languages). Its advantage is speed, its disadvantage is lack of flexibility\n",
    "\n",
    "- NumPy arrays provide many mathematical and other types of operations. Typically, such operations are executed more efficiently and with less code than is possible using Python dynamic-type containers such as lists\n",
    "\n",
    "- NumPy is an open source Python library that’s used in almost every field of science and engineering. It’s the universal standard for working with numerical data in Python, and is used extensively in the backend of Pandas, SciPy, Matplotlib, Scikit-Learn, Scikit-Image and most other data science and scientific Python packages\n"
   ]
  },
  {
   "cell_type": "markdown",
   "id": "70f78abb",
   "metadata": {},
   "source": [
    "#### Import NumPy as a library:"
   ]
  },
  {
   "cell_type": "code",
   "execution_count": 2,
   "id": "805d05cf",
   "metadata": {},
   "outputs": [],
   "source": [
    "import numpy as np\n"
   ]
  },
  {
   "cell_type": "markdown",
   "id": "f6c063c5",
   "metadata": {},
   "source": [
    "# Numpy Arrays, Vectors and Matrices\n",
    "\n",
    "Numpy arrays can have one or several dimensions. \n",
    "In the context of linear algebra, Numpy arrays can thus be used as \"vectors\" or \"matrices\".  We will think about linear algebra later in this notebook. For now let us start simple and discuss: how to create arrays.\n",
    "\n",
    "\n",
    "## Creating NumPy Arrays\n",
    "\n",
    "### From a Python List\n",
    "\n",
    "We can create an array by directly converting a list, or a nested list i.e., list of lists:"
   ]
  },
  {
   "cell_type": "code",
   "execution_count": 3,
   "id": "bc34daaf",
   "metadata": {},
   "outputs": [
    {
     "data": {
      "text/plain": [
       "array([1, 2, 3, 4, 5])"
      ]
     },
     "execution_count": 3,
     "metadata": {},
     "output_type": "execute_result"
    }
   ],
   "source": [
    "# 1D array (vector)\n",
    "l = [1,2,3,4,5]\n",
    "vec = np.array(l)\n",
    "vec\n"
   ]
  },
  {
   "cell_type": "code",
   "execution_count": 4,
   "id": "0b601217",
   "metadata": {},
   "outputs": [
    {
     "data": {
      "text/plain": [
       "array([[1, 2, 3],\n",
       "       [4, 5, 6],\n",
       "       [7, 8, 9]])"
      ]
     },
     "execution_count": 4,
     "metadata": {},
     "output_type": "execute_result"
    }
   ],
   "source": [
    "# 2D array (matrix)\n",
    "l = [[1,2,3], [4,5,6], [7,8,9]]\n",
    "mat = np.array(l)\n",
    "mat\n"
   ]
  },
  {
   "cell_type": "markdown",
   "id": "63914d91",
   "metadata": {},
   "source": [
    "### From a file\n",
    "Directly load a numerical dataset (array) from a file"
   ]
  },
  {
   "cell_type": "code",
   "execution_count": 6,
   "id": "1bd66a36",
   "metadata": {},
   "outputs": [
    {
     "data": {
      "text/plain": [
       "array([[0., 0., 1., ..., 3., 0., 0.],\n",
       "       [0., 1., 2., ..., 1., 0., 1.],\n",
       "       [0., 1., 1., ..., 2., 1., 1.],\n",
       "       ...,\n",
       "       [0., 1., 1., ..., 1., 1., 1.],\n",
       "       [0., 0., 0., ..., 0., 2., 0.],\n",
       "       [0., 0., 1., ..., 1., 1., 0.]])"
      ]
     },
     "execution_count": 6,
     "metadata": {},
     "output_type": "execute_result"
    }
   ],
   "source": [
    "np.loadtxt(fname='MedicalData.csv', delimiter=',')\n"
   ]
  },
  {
   "cell_type": "markdown",
   "id": "2fdf20dd",
   "metadata": {},
   "source": [
    "### Using NumPy built-in functions\n",
    "\n",
    "#### Function \"arange\": \n",
    "Create an array with values evenly spaced by a specific increment over a given interval"
   ]
  },
  {
   "cell_type": "code",
   "execution_count": 7,
   "id": "a1fad734",
   "metadata": {},
   "outputs": [
    {
     "data": {
      "text/plain": [
       "array([0, 2, 4, 6, 8])"
      ]
     },
     "execution_count": 7,
     "metadata": {},
     "output_type": "execute_result"
    }
   ],
   "source": [
    "np.arange(0,10,2)\n"
   ]
  },
  {
   "cell_type": "code",
   "execution_count": 8,
   "id": "8fe3bd83",
   "metadata": {},
   "outputs": [
    {
     "data": {
      "text/plain": [
       "array([[ 0,  1,  2,  3,  4],\n",
       "       [ 5,  6,  7,  8,  9],\n",
       "       [10, 11, 12, 13, 14],\n",
       "       [15, 16, 17, 18, 19],\n",
       "       [20, 21, 22, 23, 24]])"
      ]
     },
     "execution_count": 8,
     "metadata": {},
     "output_type": "execute_result"
    }
   ],
   "source": [
    "np.arange(0,25).reshape(5,5)\n"
   ]
  },
  {
   "cell_type": "markdown",
   "id": "40743517",
   "metadata": {},
   "source": [
    "#### Function \"linspace\"\n",
    "Create an array with a specific number of evenly spaced values over a given interval"
   ]
  },
  {
   "cell_type": "code",
   "execution_count": 9,
   "id": "af4c3ac8",
   "metadata": {},
   "outputs": [
    {
     "data": {
      "text/plain": [
       "array([ 0. ,  2.5,  5. ,  7.5, 10. ])"
      ]
     },
     "execution_count": 9,
     "metadata": {},
     "output_type": "execute_result"
    }
   ],
   "source": [
    "np.linspace(0,10,5)\n"
   ]
  },
  {
   "cell_type": "markdown",
   "id": "e6d2fb14",
   "metadata": {},
   "source": [
    "#### Function \"rand\"\n",
    "Create an array of given shape containing random samples drawn from a given statistical distribution"
   ]
  },
  {
   "cell_type": "code",
   "execution_count": null,
   "id": "5bfe37f4",
   "metadata": {},
   "outputs": [],
   "source": [
    "np.random.rand(5,5) # Uniform distribution\n"
   ]
  },
  {
   "cell_type": "code",
   "execution_count": null,
   "id": "4691b477",
   "metadata": {},
   "outputs": [],
   "source": [
    "np.random.randn(5,5) # Normal (Gaussian) distribution\n"
   ]
  },
  {
   "cell_type": "code",
   "execution_count": null,
   "id": "6ebebfd0",
   "metadata": {},
   "outputs": [],
   "source": [
    "np.random.randint(0,10,25).reshape(5,5) # Return random integers from min (inclusive) to max (exclusive)\n"
   ]
  },
  {
   "cell_type": "markdown",
   "id": "ec55e39a",
   "metadata": {},
   "source": [
    "#### Function \"zeros\" and \"ones\"\n",
    "\n",
    "Create an array of zeros or ones"
   ]
  },
  {
   "cell_type": "code",
   "execution_count": null,
   "id": "afa65f44",
   "metadata": {},
   "outputs": [],
   "source": [
    "np.zeros(5)\n"
   ]
  },
  {
   "cell_type": "code",
   "execution_count": null,
   "id": "d0622278",
   "metadata": {},
   "outputs": [],
   "source": [
    "np.zeros((5,5))\n"
   ]
  },
  {
   "cell_type": "code",
   "execution_count": null,
   "id": "a03d505b",
   "metadata": {},
   "outputs": [],
   "source": [
    "np.ones(5)\n"
   ]
  },
  {
   "cell_type": "code",
   "execution_count": null,
   "id": "ba5977ef",
   "metadata": {},
   "outputs": [],
   "source": [
    "np.ones((5,5))\n"
   ]
  },
  {
   "cell_type": "markdown",
   "id": "425a3673",
   "metadata": {},
   "source": [
    "#### Function \"eye\" to create an identity matrix\n",
    "Create (quickly:) an identity matrix"
   ]
  },
  {
   "cell_type": "code",
   "execution_count": null,
   "id": "ff2eec7b",
   "metadata": {},
   "outputs": [],
   "source": [
    "np.eye(5)\n"
   ]
  },
  {
   "cell_type": "markdown",
   "id": "8c99890b",
   "metadata": {},
   "source": [
    "## NumPy Array Attributes "
   ]
  },
  {
   "cell_type": "code",
   "execution_count": null,
   "id": "ab4c7b3b",
   "metadata": {},
   "outputs": [],
   "source": [
    "l = [[1,2,3],[4,5,6],[7,8,9]]\n",
    "m = np.array(l)\n",
    "m\n"
   ]
  },
  {
   "cell_type": "code",
   "execution_count": null,
   "id": "c495c1dc",
   "metadata": {},
   "outputs": [],
   "source": [
    "print(type(m)) # Python type (class) of object\n"
   ]
  },
  {
   "cell_type": "code",
   "execution_count": null,
   "id": "03294ff1",
   "metadata": {},
   "outputs": [],
   "source": [
    "print(m.dtype) # Python type of elements in the array\n"
   ]
  },
  {
   "cell_type": "code",
   "execution_count": null,
   "id": "491ca4a4",
   "metadata": {},
   "outputs": [],
   "source": [
    "print(m.ndim) # Number of dimensions \n"
   ]
  },
  {
   "cell_type": "code",
   "execution_count": null,
   "id": "d214b8f7",
   "metadata": {},
   "outputs": [],
   "source": [
    "print(m.shape) # Number of elements in each dimension \n"
   ]
  },
  {
   "cell_type": "code",
   "execution_count": null,
   "id": "fddbcc34",
   "metadata": {},
   "outputs": [],
   "source": [
    "print(m.size) # Total number of elements in the array \n"
   ]
  },
  {
   "cell_type": "markdown",
   "id": "9639b4e4",
   "metadata": {},
   "source": [
    "## Indexing and Selection"
   ]
  },
  {
   "cell_type": "markdown",
   "id": "26549c16",
   "metadata": {},
   "source": [
    "### Vector"
   ]
  },
  {
   "cell_type": "code",
   "execution_count": null,
   "id": "ae39c47b",
   "metadata": {},
   "outputs": [],
   "source": [
    "a = np.arange(0,9)\n",
    "print(a)\n"
   ]
  },
  {
   "cell_type": "code",
   "execution_count": null,
   "id": "c56b3ef0",
   "metadata": {},
   "outputs": [],
   "source": [
    "a[5]   # Simple indexing\n"
   ]
  },
  {
   "cell_type": "code",
   "execution_count": null,
   "id": "03206f0b",
   "metadata": {},
   "outputs": [],
   "source": [
    "a[2:5] # Slicing (view to access subarray, data not copied) \n"
   ]
  },
  {
   "cell_type": "markdown",
   "id": "950b7f29",
   "metadata": {},
   "source": [
    "**Semantic difference compared to slicing lists**: When slicing a NumPy array, the data is not copied. If a slice is assigned to a new variable name, when we mutate one we mutate the other (both variables point to same location in memory).  To clone an array we need to explicitly invoke the method ``copy`` "
   ]
  },
  {
   "cell_type": "code",
   "execution_count": null,
   "id": "3246790c",
   "metadata": {},
   "outputs": [],
   "source": [
    "# Any change made to a slice will affect the original array because a slice is just \n",
    "# a \"view\" to access a sub-array, it points to the same location in memory\n",
    "\n",
    "s = a[2:4]\n",
    "s[:] = 10\n",
    "\n",
    "print(s)\n",
    "print(a) \n"
   ]
  },
  {
   "cell_type": "code",
   "execution_count": null,
   "id": "6f8cdb11",
   "metadata": {},
   "outputs": [],
   "source": [
    "# To create a separate copy, invoke the method \"copy\": \n",
    "s = a[2:4].copy()\n"
   ]
  },
  {
   "attachments": {},
   "cell_type": "markdown",
   "id": "8f993d95",
   "metadata": {},
   "source": [
    "**Broadcasting Rule**: \n",
    "\n",
    "When the shape of the two arrays does not match in a given dimension, the size of one of the arrays in that dimension needs to be 1:\n",
    "* If it is not the case, an error is raised\n",
    "* If it is the case, the array with size equal to 1 in that dimension is broadcasted to match the size of the other array in that dimension"
   ]
  },
  {
   "cell_type": "code",
   "execution_count": null,
   "id": "53267f68",
   "metadata": {},
   "outputs": [],
   "source": [
    "# Scalar broadcasting\n",
    "a[0:5]=100 \n",
    "print(a)\n"
   ]
  },
  {
   "cell_type": "code",
   "execution_count": null,
   "id": "f5b61a4b",
   "metadata": {},
   "outputs": [],
   "source": [
    "# Array broadcasting\n",
    "np.ones((3,3)) + np.arange(3) \n"
   ]
  },
  {
   "cell_type": "markdown",
   "id": "ace7afe3",
   "metadata": {},
   "source": [
    "### Matrix"
   ]
  },
  {
   "cell_type": "code",
   "execution_count": null,
   "id": "7c7d399a",
   "metadata": {},
   "outputs": [],
   "source": [
    "m = a.reshape(3,3)\n",
    "print(m)\n"
   ]
  },
  {
   "cell_type": "code",
   "execution_count": null,
   "id": "6da99295",
   "metadata": {},
   "outputs": [],
   "source": [
    "m[1,0] # Possible alternative is m[1][0] (SQL style) but not recommended\n"
   ]
  },
  {
   "cell_type": "code",
   "execution_count": null,
   "id": "bff92358",
   "metadata": {},
   "outputs": [],
   "source": [
    "m[1:,:] # Slicing in 2D\n"
   ]
  },
  {
   "cell_type": "markdown",
   "id": "b2234e1c",
   "metadata": {},
   "source": [
    "\"**Fancy indexing**\": The concept is to put an array of indices inside the indexing brackets of the array being indexed (hence the double brackets notation), giving flexibility to select specific elements from the array in any order, any number of times"
   ]
  },
  {
   "cell_type": "code",
   "execution_count": null,
   "id": "2ad47649",
   "metadata": {},
   "outputs": [],
   "source": [
    "m[[2,0,2]] # Fancy indexing: Select entire row in any order, any number of times\n"
   ]
  },
  {
   "cell_type": "code",
   "execution_count": null,
   "id": "9531899c",
   "metadata": {},
   "outputs": [],
   "source": [
    "m[:,[2,0,2]] # Fancy indexing: Select entire columns in any order, any number of times\n"
   ]
  },
  {
   "cell_type": "code",
   "execution_count": null,
   "id": "a2f143ba",
   "metadata": {},
   "outputs": [],
   "source": [
    "m > 10 # The expression m > 10 evaluate to a Boolean array with same dimensions as array m (called Boolean Mask))\n"
   ]
  },
  {
   "cell_type": "code",
   "execution_count": null,
   "id": "a9e43e0b",
   "metadata": {},
   "outputs": [],
   "source": [
    "m[m>10] # Fancy indexing (the expression m > 10 is itself a Boolean array)\n"
   ]
  },
  {
   "cell_type": "markdown",
   "id": "7b68b6eb",
   "metadata": {},
   "source": [
    "## Mathematical Operations on Data  \n",
    "For Arithmetic operations, operators apply on an element-wise basis, thus the arrays must be the same size."
   ]
  },
  {
   "cell_type": "code",
   "execution_count": null,
   "id": "5ccc1385",
   "metadata": {},
   "outputs": [],
   "source": [
    "a = np.arange(0,9)\n"
   ]
  },
  {
   "cell_type": "code",
   "execution_count": null,
   "id": "80dfccdd",
   "metadata": {},
   "outputs": [],
   "source": [
    "a + a\n"
   ]
  },
  {
   "cell_type": "code",
   "execution_count": null,
   "id": "5c2109d3",
   "metadata": {},
   "outputs": [],
   "source": [
    "a - a\n"
   ]
  },
  {
   "cell_type": "code",
   "execution_count": null,
   "id": "7d66fa58",
   "metadata": {},
   "outputs": [],
   "source": [
    "a * a\n"
   ]
  },
  {
   "cell_type": "code",
   "execution_count": null,
   "id": "ffacbc0e",
   "metadata": {
    "scrolled": true
   },
   "outputs": [],
   "source": [
    "# Division by zero produces a warning, not an error.\n",
    "# The result is replaced by INF (\"INFinity\")\n",
    "1/a\n"
   ]
  },
  {
   "cell_type": "code",
   "execution_count": null,
   "id": "55678019",
   "metadata": {
    "scrolled": true
   },
   "outputs": [],
   "source": [
    "# Division of zero by zero also produces a warning, not an error.\n",
    "# The result is replaced by NAN (\"Not A Number\")\n",
    "a/a\n"
   ]
  },
  {
   "cell_type": "code",
   "execution_count": null,
   "id": "43a9c257",
   "metadata": {},
   "outputs": [],
   "source": [
    "a**3\n"
   ]
  },
  {
   "cell_type": "code",
   "execution_count": null,
   "id": "316fccb6",
   "metadata": {},
   "outputs": [],
   "source": [
    "np.sqrt(a) \n"
   ]
  },
  {
   "cell_type": "code",
   "execution_count": null,
   "id": "f5b9d012",
   "metadata": {},
   "outputs": [],
   "source": [
    "np.exp(a)\n"
   ]
  },
  {
   "cell_type": "code",
   "execution_count": null,
   "id": "ff26df2a",
   "metadata": {},
   "outputs": [],
   "source": [
    "np.sin(a)\n"
   ]
  },
  {
   "cell_type": "code",
   "execution_count": null,
   "id": "6f353354",
   "metadata": {},
   "outputs": [],
   "source": [
    "np.log(a)\n"
   ]
  },
  {
   "cell_type": "code",
   "execution_count": null,
   "id": "63385b64",
   "metadata": {},
   "outputs": [],
   "source": [
    "# When operating on NumPy arrays, don't forget about broadcasting concepts:\n",
    "a[0:5] = 100 # Scalar broadcasting (example shown above)\n",
    "a + 10       # Scalar broadcasting\n",
    "10 * a       # Scalar broadcasting\n",
    "np.ones((2,9)) + np.arange(9) # Array broadcasting (example shown above)\n",
    "a + np.random.rand(2,9) # Array broadcasting: Duplicate row of 'a' and add random number to each entry\n"
   ]
  },
  {
   "cell_type": "markdown",
   "id": "5ab497aa",
   "metadata": {},
   "source": [
    "## Linear Algebra in NumPy\n",
    "With Arithmetic operations shown above, operators apply on an element-wise basis and thus arrays must be the same size. But Numpy also offers Linear Algebra operators to manipulate arrays as mathematical vectors or matrices. \n",
    "\n",
    "Vectors are 1D arrays and matrices are 2D arrays, although this distinction is for convenience when dealing with vectors because a matrix generalizes the concept of vector by the possibility to have only one row or one column."
   ]
  },
  {
   "cell_type": "code",
   "execution_count": 3,
   "id": "a21ab65b",
   "metadata": {},
   "outputs": [
    {
     "name": "stdout",
     "output_type": "stream",
     "text": [
      "[[1. 2.]\n",
      " [3. 4.]]\n",
      "[[2. 0.]\n",
      " [1. 3.]]\n"
     ]
    }
   ],
   "source": [
    "a = np.array([[1,2], [3,4]], float)\n",
    "b = np.array([[2,0], [1,3]], float)\n",
    "print(a)\n",
    "print(b)\n"
   ]
  },
  {
   "cell_type": "code",
   "execution_count": 4,
   "id": "c600c752",
   "metadata": {},
   "outputs": [
    {
     "data": {
      "text/plain": [
       "array([[ 2.,  0.],\n",
       "       [ 3., 12.]])"
      ]
     },
     "execution_count": 4,
     "metadata": {},
     "output_type": "execute_result"
    }
   ],
   "source": [
    "# Element wise multiplication operator \n",
    "a * b # Dimensions of 'a' and 'b' must be the same\n"
   ]
  },
  {
   "cell_type": "code",
   "execution_count": 5,
   "id": "e3515a5b",
   "metadata": {},
   "outputs": [
    {
     "data": {
      "text/plain": [
       "array([[ 4.,  6.],\n",
       "       [10., 12.]])"
      ]
     },
     "execution_count": 5,
     "metadata": {},
     "output_type": "execute_result"
    }
   ],
   "source": [
    "# Matrix multiplication operator\n",
    "np.matmul(a, b) # Number of columns of 'a' must be the same as number of rows of 'b'\n"
   ]
  },
  {
   "cell_type": "code",
   "execution_count": 6,
   "id": "29d257df",
   "metadata": {},
   "outputs": [
    {
     "data": {
      "text/plain": [
       "array([[ 4.,  6.],\n",
       "       [10., 12.]])"
      ]
     },
     "execution_count": 6,
     "metadata": {},
     "output_type": "execute_result"
    }
   ],
   "source": [
    "a @ b # Shortcut: Same as np.matmul(), but shorter to type...\n"
   ]
  },
  {
   "cell_type": "code",
   "execution_count": null,
   "id": "e04ed0a9",
   "metadata": {},
   "outputs": [],
   "source": [
    "np.linalg.norm(a) - np.linalg.norm(b)\n"
   ]
  },
  {
   "cell_type": "code",
   "execution_count": null,
   "id": "a9ed67b4",
   "metadata": {},
   "outputs": [],
   "source": [
    "np.linalg.det(a) - np.linalg.det(b)\n"
   ]
  },
  {
   "cell_type": "markdown",
   "id": "c57d4d08",
   "metadata": {},
   "source": [
    "### Find least square solution to a linear regression problem $Ax = y$\n",
    "\n",
    "**In a linear regression problem, we seek $x$ such that $y$ is equal to a linear combination of the column vectors of $A$** (in Linear Algebra, the vector space formed by columns of $A$ is called the *column space of $A$*).\n",
    "\n",
    "Assume dimension of $A$, $x$ and $y$ are respectively: $(m \\times n)$, $(n \\times 1)$, and $(m \\times 1)$.\n",
    "\n",
    "**If $Ax = y$ has an exact solution, then it can be solved as a simple, linear system of $m$ equations with $n$ unknowns**. \n",
    "\n",
    "**Else if $Ax = y$ has no solution (i.e., if it is not possible to find $x$ such that $Ax = y$), the best we can do is find $\\hat{x}$ that makes $A\\hat{x}$ as close as possible to $y$**. It is called a Least-Square problem because we seek $\\hat{x}$ such that $||A\\hat{x} - y||$ is as small as possible.\n",
    "\n",
    "$||A\\hat{x} - y||$ is called the least-square error. $\\: \\hat{x}$ is called a least-square solution.\n",
    "\n",
    "The *Orthogonal Decomposition Theorem* says that any vector in $\\mathbb{R}^m$ can be decomposed into a sum of a vector from any subspace of $\\mathbb{R}^m$ (for example $\\mathbb{R}^n$ where $n < m$) and a vector orthogonal to that subspace. Thus $y = A\\hat{x} + (A\\hat{x} - y)$, where the component vector $(A\\hat{x} - y)$ corresponds to the least-square error and is orthogonal to all vectors in the columns of $A$ (i.e., orthogonal to the *column space of $A$*). This implies that the dot product of each column vector of $A$ by $(A\\hat{x} - y)$ is $0$. \n",
    "\n",
    "Given $(A\\hat{x} - y)$ is of dimension $(m \\times 1)$, all these dot products are equivalent to a matrix multiplication between the transpose of $A$ and $(A\\hat{x} - y)$. There are $n$ columns in $A$ so $A^T$ is of dimension $(n \\times m)$ and the resulting null vector is of dimension $(n \\times m)(m \\times 1) =(n \\times 1)$.\n",
    "\n",
    "**Thus:** $$A^T(A\\hat{x} - y) = 0$$\n",
    "\n",
    "$$A^TA\\hat{x} = A^Ty$$       \n",
    "\n",
    "$$\\hat{x} = (A^TA)^{-1} A^Ty$$\n",
    "\n",
    "This is called the \"normal equation\" and provides a solution for $\\hat{x}$.\n",
    "\n",
    "<img src=\"./OrthogonalDec.png\" width=\"500\">\n"
   ]
  },
  {
   "cell_type": "code",
   "execution_count": null,
   "id": "6fb6af4e",
   "metadata": {},
   "outputs": [],
   "source": [
    "# The easiest is to think about it in 3D (picture above) so let me give an explanation in 3D:\n",
    "# If m = 3 and n = 2, the column space of A is a 2D plane in a 3D space, formed by the \n",
    "# two column vectors of A. The vector y in 3D may or may not be in this plane. \n",
    "# Asking if Ax = y is asking if y is in this plane. \n",
    "# The least square solution is either x (if it exists), or an approximation to it in the \n",
    "# column space of A. \n",
    "# When m > 3, the concept is the same but the column space of A is an hyperplane (n > 2).\n",
    "\n",
    "# Below is an example with m = 4 observations. Often in practice m is much larger (m is the number of \"observations\" in practice).\n",
    "\n",
    "A = np.matrix([[1, 1], \n",
    "               [1, 2],\n",
    "               [2, 3],\n",
    "               [2, 4]])\n",
    "\n",
    "y = np.matrix([[1], \n",
    "               [3],\n",
    "               [7],\n",
    "               [9]])\n"
   ]
  },
  {
   "cell_type": "markdown",
   "id": "25db460c",
   "metadata": {},
   "source": [
    "**Projection of $y$ into column space of $A$ $=>$ Predict $y$ as a linear combination of columns of $A$:**"
   ]
  },
  {
   "cell_type": "code",
   "execution_count": null,
   "id": "b294b189",
   "metadata": {},
   "outputs": [],
   "source": [
    "# Using an explicit linear algebra development:\n",
    "AT = np.matrix.transpose(A) \n",
    "ATA = AT @ A\n",
    "ATAi = np.linalg.inv(ATA)\n",
    "ATy = AT @ y\n",
    "x = ATAi @ ATy\n",
    "print('From matrix calculation: x = ({:.2f}, {:.2f})'.format(x[0,0],x[1,0]))\n"
   ]
  },
  {
   "cell_type": "code",
   "execution_count": null,
   "id": "fd9235e4",
   "metadata": {},
   "outputs": [],
   "source": [
    "# Using the NumPy Least Square solver:\n",
    "results = np.linalg.lstsq(A, y, rcond = None)\n",
    "x = results[0]\n",
    "r = results[3]\n",
    "print('From NumPy lstsq method: x = ({:.2f}, {:.2f})'.format(x[0,0],x[1,0]))\n"
   ]
  },
  {
   "cell_type": "code",
   "execution_count": null,
   "id": "51b2d0c6",
   "metadata": {},
   "outputs": [],
   "source": [
    "# The NumPy Least Square solver computes the residuals too:\n",
    "print('Sum of squared residuals: ({:.2f}, {:.2f})'.format(r[0], r[1]))\n"
   ]
  },
  {
   "cell_type": "code",
   "execution_count": null,
   "id": "4a06ae5b",
   "metadata": {},
   "outputs": [],
   "source": [
    "# For each observation in A, here is what our linear regression model would predict:\n",
    "y_hat = A @ x\n",
    "print('Predicted values of y: ({:.2f},{:.2f},{:.2f},{:.2f})'. \\\n",
    "       format(y_hat[0,0],y_hat[1,0],y_hat[2,0],y_hat[3,0]))\n"
   ]
  },
  {
   "cell_type": "markdown",
   "id": "1c7af1b8",
   "metadata": {},
   "source": [
    "...which sounds a reasonable approximation to the original value of the vector $y$."
   ]
  },
  {
   "cell_type": "markdown",
   "id": "84e641f5",
   "metadata": {},
   "source": [
    "##  Statistical analysis of data\n",
    "Analyze Data with Aggregation and Statistical Operations "
   ]
  },
  {
   "cell_type": "markdown",
   "id": "e6347abc",
   "metadata": {},
   "source": [
    "### Case Study\n",
    "\n",
    "#### Statistical data analysis of clinical trial results stored on file \n",
    "\n",
    "**Source**: https://swcarpentry.github.io/python-novice-inflammation/02-numpy.html\n",
    "\n",
    "A new drug that was claimed to cure arthritis inflammation flare-ups within 3 weeks since initially taking the medication was tested in clinical trials, with key results stored in a CSV file.\n",
    "\n",
    "The CSV file contains the number of inflammation *flare-ups* per day for 60 patients enrolled in the clinical trial. This trial lasted 40 days. Each row corresponds to a patient, and each column corresponds to a day in the trial. Once a patient has her/his first inflammation flare-up she/he takes the medication and waits a few weeks for it to take effect and reduce flare-ups.\n",
    "\n",
    "To see how effective the treatment is we would like to calculate the average inflammation per day across all patients. To assess risks, we also would like to know what was the maximum inflamation reached per patient across all days.\n",
    "\n",
    "The link above contains much more details compared to what we will look at here.\n",
    "\n",
    "#### In short:  \n",
    "Given a dataset of clinical trial inflammation for 60 patients measured daily during 40 days:\n",
    "- **Assess risks**: What is the maximum inflammation for each patient over all days?\n",
    "- **Assess effectiveness**: What is the average inflammation over all patients for each day?\n",
    "\n",
    "<img src=\"./aggregation.png\">\n"
   ]
  },
  {
   "cell_type": "code",
   "execution_count": null,
   "id": "f59aec3a",
   "metadata": {},
   "outputs": [],
   "source": [
    "data = np.loadtxt(fname='./MedicalData.csv', delimiter=',')\n",
    "print(data.shape) # 60 patients (rows) traced during 40 days (columns)\n"
   ]
  },
  {
   "cell_type": "markdown",
   "id": "5be1a33a",
   "metadata": {},
   "source": [
    "### Operation \"over rows\" vs. \"over columns\""
   ]
  },
  {
   "cell_type": "code",
   "execution_count": null,
   "id": "9e9f5080",
   "metadata": {},
   "outputs": [],
   "source": [
    "print(\"=== Maximum inflammation per patient ===\")\n",
    "np.max(data, axis=1) # Maximum \"over the columns\" returns 1 result \"per row\" = array of 60 values\n"
   ]
  },
  {
   "cell_type": "code",
   "execution_count": null,
   "id": "76e73b04",
   "metadata": {},
   "outputs": [],
   "source": [
    "np.max(data, axis=1).shape\n"
   ]
  },
  {
   "cell_type": "code",
   "execution_count": null,
   "id": "5f7f85e1",
   "metadata": {},
   "outputs": [],
   "source": [
    "print(\"=== Average inflammation per day ===\")\n",
    "np.mean(data, axis=0) # Mean \"over the rows\" returns 1 result \"per column\" = array of 40 values\n"
   ]
  },
  {
   "cell_type": "code",
   "execution_count": null,
   "id": "6aa83ca6",
   "metadata": {},
   "outputs": [],
   "source": [
    "np.mean(data, axis=0).shape\n"
   ]
  },
  {
   "cell_type": "markdown",
   "id": "0f9390c0",
   "metadata": {},
   "source": [
    "Below is another example (not asked in the problem above)"
   ]
  },
  {
   "cell_type": "code",
   "execution_count": null,
   "id": "50736e12",
   "metadata": {},
   "outputs": [],
   "source": [
    "print(\"=== Average inflammation per patient ===\")\n",
    "np.mean(data, axis=1) # Mean \"over the columns\" returns 1 result \"per row\" = array of 60 values\n"
   ]
  },
  {
   "cell_type": "code",
   "execution_count": null,
   "id": "de83506a",
   "metadata": {},
   "outputs": [],
   "source": [
    "np.mean(data, axis=1).shape\n"
   ]
  },
  {
   "cell_type": "markdown",
   "id": "63874d2a",
   "metadata": {},
   "source": [
    "### More examples of basic statistical data analysis"
   ]
  },
  {
   "cell_type": "code",
   "execution_count": null,
   "id": "d9e472bc",
   "metadata": {},
   "outputs": [],
   "source": [
    "print(\"Average:\",np.mean(data, axis=0))\n",
    "print(\"Standard Deviation:\", np.std(data, axis=0))\n",
    "print(\"Min:\", np.min(data, axis=0))\n",
    "print(\"Max:\", np.max(data, axis=0))\n",
    "print(\"Sum:\", np.sum(data, axis=0))\n",
    "print(\"Argmax:\", np.amax(data, axis=1)) # argmax over days (=columns) returns, for each patient\n",
    "                                        # the day when each patient had maximum inflammation"
   ]
  },
  {
   "cell_type": "code",
   "execution_count": null,
   "id": "0dc0a54a",
   "metadata": {},
   "outputs": [],
   "source": [
    "print(\"Average over entire dataset: {:.1f}\".format(np.mean(data)))\n",
    "print(\"Standard Deviation over entire dataset: {:.1f}\".format(np.std(data)))\n",
    "print(\"Minimum over entire dataset: {:.1f}\".format(np.min(data)))\n",
    "print(\"Maximum over entire dataset: {:.1f}\".format(np.max(data)))\n"
   ]
  }
 ],
 "metadata": {
  "kernelspec": {
   "display_name": "Python 3 (ipykernel)",
   "language": "python",
   "name": "python3"
  },
  "language_info": {
   "codemirror_mode": {
    "name": "ipython",
    "version": 3
   },
   "file_extension": ".py",
   "mimetype": "text/x-python",
   "name": "python",
   "nbconvert_exporter": "python",
   "pygments_lexer": "ipython3",
   "version": "3.11.9"
  }
 },
 "nbformat": 4,
 "nbformat_minor": 5
}
