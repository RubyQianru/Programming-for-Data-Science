{
 "cells": [
  {
   "cell_type": "markdown",
   "metadata": {},
   "source": [
    "### CDS NYU\n",
    "### DS-GA 1007 | Programming for Data Science\n",
    "### Lab 05\n",
    "### October 2, 2024\n",
    "\n",
    "\n",
    "# Interacting with Programs"
   ]
  },
  {
   "cell_type": "markdown",
   "metadata": {},
   "source": [
    "## Section Leaders\n",
    "\n",
    "Dong Li  --  dl5214@nyu.edu  -- \n",
    "\n",
    "Ziyi (Ceci) Chen --  zc1634@nyu.edu  --\n"
   ]
  },
  {
   "cell_type": "markdown",
   "metadata": {},
   "source": [
    "## To access the Shell\n",
    "▶ Windows: Open cmd (Command Prompt)\n",
    "\n",
    "▶ Mac: Open Terminal\n",
    "\n",
    "▶ Linux: Open Linux Console\n",
    "\n",
    "▶ Python Interpreter: Precede command by ”!” (or \"%\", or nothing for most common Linux commands)\n",
    "\n",
    "▶ (Web-) Applications: It varies (on Jupyter: Terminal)\n",
    "\n",
    "\n",
    "## Resources\n",
    "\n",
    "* The Linux Operating System: https://swcarpentry.github.io/shell-novice/aio.html\n",
    "* Bash Script (code) Examples: https://github.com/rambasnet/Bash-Script-Fundamentals/tree/main/demo-scripts "
   ]
  },
  {
   "cell_type": "markdown",
   "metadata": {},
   "source": [
    "## 1. Linux Shell commands"
   ]
  },
  {
   "cell_type": "markdown",
   "metadata": {},
   "source": [
    "### Executing command from IPython/jupyter Notebook"
   ]
  },
  {
   "cell_type": "markdown",
   "metadata": {},
   "source": [
    "When working interactively with the standard Python interpreter, one of the frustrations is the need to switch between multiple windows to access Python tools and system command-line tools. IPython bridges this gap, and gives you a syntax for executing shell commands directly from within the IPython terminal (for example directly from a Jupyter Notebook). The magic happens with the exclamation point: anything appearing after ```!``` on a line will be executed not by the Python kernel, but by the OS command-line (Shell)."
   ]
  },
  {
   "cell_type": "markdown",
   "metadata": {},
   "source": [
    "Any command that works at the command-line can be used in IPython by prefixing it with the ```!``` character. For example, the ```ls```, ```pwd```, and ```echo``` commands can be run as follows:"
   ]
  },
  {
   "cell_type": "code",
   "execution_count": null,
   "metadata": {},
   "outputs": [],
   "source": [
    "!ls"
   ]
  },
  {
   "cell_type": "code",
   "execution_count": null,
   "metadata": {},
   "outputs": [],
   "source": [
    "!pwd"
   ]
  },
  {
   "cell_type": "code",
   "execution_count": null,
   "metadata": {},
   "outputs": [],
   "source": [
    "!echo \"Printing from the shell\""
   ]
  },
  {
   "cell_type": "markdown",
   "metadata": {},
   "source": [
    "### Shell-Related Magic Commands"
   ]
  },
  {
   "cell_type": "markdown",
   "metadata": {},
   "source": [
    "If you play with IPython's shell commands for a while, you might notice that you cannot use !cd to navigate the filesystem:"
   ]
  },
  {
   "cell_type": "code",
   "execution_count": null,
   "metadata": {},
   "outputs": [],
   "source": [
    "!pwd"
   ]
  },
  {
   "cell_type": "code",
   "execution_count": null,
   "metadata": {},
   "outputs": [],
   "source": [
    "!cd .."
   ]
  },
  {
   "cell_type": "code",
   "execution_count": null,
   "metadata": {},
   "outputs": [],
   "source": [
    "!pwd"
   ]
  },
  {
   "cell_type": "markdown",
   "metadata": {},
   "source": [
    "The reason is that shell commands in the notebook are executed in a temporary subshell. If you'd like to change the working directory in a more enduring way, you can use the ```%cd``` magic command:\n"
   ]
  },
  {
   "cell_type": "code",
   "execution_count": null,
   "metadata": {},
   "outputs": [],
   "source": [
    "%cd .."
   ]
  },
  {
   "cell_type": "markdown",
   "metadata": {},
   "source": [
    "In fact, by default you can even use this without the % sign:"
   ]
  },
  {
   "cell_type": "code",
   "execution_count": null,
   "metadata": {},
   "outputs": [],
   "source": [
    "cd ./dsga1007_lab5"
   ]
  },
  {
   "cell_type": "markdown",
   "metadata": {},
   "source": [
    "This is known as an automagic function, and this behavior can be toggled with the %automagic magic function."
   ]
  },
  {
   "cell_type": "markdown",
   "metadata": {},
   "source": [
    "Besides %cd, other available Shell-like magic functions are ```%cat```, ```%cp```, ```%env```, ```%ls```, ```%man```, ```%mkdir```, ```%more```, ```%mv```, ```%pwd```, ```%rm```, and ```%rmdir```, any of which can be used without the % sign if automagic is on. This permits to treat the IPython terminla as if it's a Shell terminal for frequently used Linux commands. \n",
    "Accessing the Shell from within the same terminal window as your Python session means there is less switching back and forth between interpreter and Shell as you write Python programs."
   ]
  },
  {
   "cell_type": "code",
   "execution_count": null,
   "metadata": {},
   "outputs": [],
   "source": [
    "mkdir tmp"
   ]
  },
  {
   "cell_type": "code",
   "execution_count": null,
   "metadata": {},
   "outputs": [],
   "source": [
    "ls"
   ]
  },
  {
   "cell_type": "code",
   "execution_count": null,
   "metadata": {},
   "outputs": [],
   "source": [
    "cp ./lab5_os.py tmp/."
   ]
  },
  {
   "cell_type": "code",
   "execution_count": null,
   "metadata": {},
   "outputs": [],
   "source": [
    "ls tmp"
   ]
  },
  {
   "cell_type": "code",
   "execution_count": null,
   "metadata": {},
   "outputs": [],
   "source": [
    "rm -r tmp"
   ]
  },
  {
   "cell_type": "markdown",
   "metadata": {},
   "source": [
    "Use command %env filename to store the path of the file in the variable filename for further exploration task."
   ]
  },
  {
   "cell_type": "code",
   "execution_count": null,
   "metadata": {},
   "outputs": [],
   "source": [
    "!pwd"
   ]
  },
  {
   "cell_type": "code",
   "execution_count": null,
   "metadata": {},
   "outputs": [],
   "source": [
    "%env filename = ./stock1year.csv"
   ]
  },
  {
   "cell_type": "code",
   "execution_count": null,
   "metadata": {
    "scrolled": true
   },
   "outputs": [],
   "source": [
    "!head -n 5 $filename # Display the top n lines in the file. The value of n defaults to 10 if not specified explicitly."
   ]
  },
  {
   "cell_type": "code",
   "execution_count": null,
   "metadata": {},
   "outputs": [],
   "source": [
    "!tail -n 5 $filename # Display last n lines in the file"
   ]
  },
  {
   "cell_type": "code",
   "execution_count": null,
   "metadata": {},
   "outputs": [],
   "source": [
    "!tail -n +2 $filename # Display all lines starting at line 2 (skip header)"
   ]
  },
  {
   "cell_type": "markdown",
   "metadata": {},
   "source": [
    "### Manipulating files and processes"
   ]
  },
  {
   "cell_type": "markdown",
   "metadata": {},
   "source": [
    "#### wc (wordcount) counts and prints the number of lines, words and characters in files\n",
    "\n",
    "!wc $filename -> Prints total number of lines, words and characters.\n",
    "\n",
    "!wc -l $filename -> Prints only the total number of lines in the file."
   ]
  },
  {
   "cell_type": "code",
   "execution_count": null,
   "metadata": {},
   "outputs": [],
   "source": [
    "!wc $filename "
   ]
  },
  {
   "cell_type": "code",
   "execution_count": null,
   "metadata": {},
   "outputs": [],
   "source": [
    "!wc -l $filename"
   ]
  },
  {
   "cell_type": "markdown",
   "metadata": {},
   "source": [
    "#### cat displays the content of the file"
   ]
  },
  {
   "cell_type": "markdown",
   "metadata": {},
   "source": [
    "!cat $filename -> Prints out the content of the file.\n",
    "\n",
    "\n",
    "!cat $filename | wc -l  -> Prints out the No. of lines in the file. \n"
   ]
  },
  {
   "cell_type": "code",
   "execution_count": null,
   "metadata": {},
   "outputs": [],
   "source": [
    "!cat $filename"
   ]
  },
  {
   "cell_type": "code",
   "execution_count": null,
   "metadata": {
    "scrolled": true
   },
   "outputs": [],
   "source": [
    "!cat $filename | wc -l "
   ]
  },
  {
   "cell_type": "markdown",
   "metadata": {},
   "source": [
    "Note : The pipe operator | feeds the output of first command !cat $filename as the input to the second command wc-l\n",
    "\n",
    "Multiple command can be piped to each other, like so:"
   ]
  },
  {
   "cell_type": "code",
   "execution_count": null,
   "metadata": {},
   "outputs": [],
   "source": [
    "!tail -n +2 $filename | cut -d ',' -f 2 # Remove the header, then select second column"
   ]
  },
  {
   "cell_type": "code",
   "execution_count": null,
   "metadata": {},
   "outputs": [],
   "source": [
    "\n",
    "!tail -n +2 $filename | cut -d ',' -f 2 | sort | uniq # then sort and select unique occurences"
   ]
  },
  {
   "cell_type": "markdown",
   "metadata": {},
   "source": [
    "#### grep\n",
    "\n",
    "grep is very frequently used,to look for a text in one or more files. For example in the next command we are looking for all the lines that contain a word, we also specify with -i that we are interested in case insensitive matching, i.e. we don't care about case.\n",
    "\n",
    "```!grep -i 'amzn' $filename``` -> Prints all the lines containing the \n",
    "string 'amzn' in it.\n",
    "\n",
    "\n",
    "```!grep -i 'amzn' $filename | wc -l``` -> Prints the count of all lines  having string 'amzn' in it."
   ]
  },
  {
   "cell_type": "code",
   "execution_count": null,
   "metadata": {},
   "outputs": [],
   "source": [
    "!grep -i 'amzn' $filename "
   ]
  },
  {
   "cell_type": "code",
   "execution_count": null,
   "metadata": {},
   "outputs": [],
   "source": [
    "!grep -i 'amzn' $filename | wc -l"
   ]
  },
  {
   "cell_type": "markdown",
   "metadata": {},
   "source": [
    "#### sed\n",
    "sed  works similarly to grep, but it also modifies the output text. It uses regular expressions, which are a language to define pattern matching and replacement.\n",
    "\n",
    "Syntax : !sed -e 's/from/to/g' $filename\n",
    "here,\n",
    "\n",
    "s stands for substitution\n",
    "\n",
    "from is the word to be matched\n",
    "\n",
    "to is the replacement string\n",
    "\n",
    "g specifies to apply this to all occurrences on a line, not just the first occurence\n",
    "\n",
    "```!sed -e s/x/y/g $filename``` -> This will replace all occurences of x with y"
   ]
  },
  {
   "cell_type": "code",
   "execution_count": null,
   "metadata": {},
   "outputs": [],
   "source": [
    "!sed -e s/AAPL/Apple/g $filename"
   ]
  },
  {
   "cell_type": "markdown",
   "metadata": {},
   "source": [
    "### Pass values to and from the Shell"
   ]
  },
  {
   "cell_type": "markdown",
   "metadata": {},
   "source": [
    "Shell commands can not only be called from IPython, but can also be made to interact with the IPython namespace. For example, you can save the output of any Shell command to a Python list using the assignment operator:"
   ]
  },
  {
   "cell_type": "code",
   "execution_count": null,
   "metadata": {},
   "outputs": [],
   "source": [
    "contents = !ls "
   ]
  },
  {
   "cell_type": "code",
   "execution_count": null,
   "metadata": {},
   "outputs": [],
   "source": [
    "print(contents)"
   ]
  },
  {
   "cell_type": "code",
   "execution_count": null,
   "metadata": {},
   "outputs": [],
   "source": [
    "directory = !pwd"
   ]
  },
  {
   "cell_type": "code",
   "execution_count": null,
   "metadata": {},
   "outputs": [],
   "source": [
    "print(directory)"
   ]
  },
  {
   "cell_type": "markdown",
   "metadata": {},
   "source": [
    "Note that these results are not returned as lists, but as a special Shell return type defined in IPython:"
   ]
  },
  {
   "cell_type": "code",
   "execution_count": null,
   "metadata": {},
   "outputs": [],
   "source": [
    "type(directory)"
   ]
  },
  {
   "cell_type": "markdown",
   "metadata": {},
   "source": [
    "This looks and acts a lot like a Python list, but has additional functionality, such as the grep and fields methods and the s, n, and p properties that allow you to search, filter, and display the results in convenient ways. For more information on these, please refer to the IPython's built-in help features.\n"
   ]
  },
  {
   "cell_type": "markdown",
   "metadata": {},
   "source": [
    "Communication in the other direction, that is passing Python variables into the shell namespace, is also possible using the {varname} syntax:"
   ]
  },
  {
   "cell_type": "code",
   "execution_count": null,
   "metadata": {},
   "outputs": [],
   "source": [
    "message = \"Hello from Python\""
   ]
  },
  {
   "cell_type": "code",
   "execution_count": null,
   "metadata": {
    "scrolled": true
   },
   "outputs": [],
   "source": [
    "!echo {message}"
   ]
  },
  {
   "cell_type": "markdown",
   "metadata": {},
   "source": [
    "The curly braces contain the variable name, which is replaced by the variable's contents when invoking the Shell command"
   ]
  },
  {
   "cell_type": "markdown",
   "metadata": {},
   "source": [
    "## 2. Python virtual environments\n",
    "\n",
    "When working on multiple Python projects at the same time, the best practice is to have a separate virtual environment for each of them.\n",
    "\n",
    "Each virtual environment has its own Python setup. When you install some Python packages into your virtual environment, they will be installed only into that specific environment. This means that you can have different versions of a single Python package in different virtual environments on the same computer. Virtual environments are also useful if you need to use different Python interpreter versions in your projects."
   ]
  },
  {
   "cell_type": "markdown",
   "metadata": {},
   "source": [
    "### Creating new virtual environments\n",
    "\n",
    "You can create all your virtual environments into a single directory (for example, .virtualenvs directory inside your home folder). This makes them easier to find.\n",
    "\n",
    "python3 -m venv /path/to/new/environment\n",
    "\n",
    "or\n",
    "\n",
    "path/to/your/python -m venv /path/to/new/environment\n",
    "\n",
    "or \n",
    "\n",
    "conda create --name /path/to/new/environment \n",
    "\n",
    "More details: https://docs.conda.io/projects/conda/en/4.6.0/_downloads/52a95608c49671267e40c689e0bc00ca/conda-cheatsheet.pdf"
   ]
  },
  {
   "cell_type": "markdown",
   "metadata": {},
   "source": [
    "### Installing packages\n",
    "After activating the newly created virtual environment, you can install new packages by using ```conda``` (preferrred if you installed Anaconda) or ```pip```. For example if you want to install pytest:\n",
    "\n",
    "python -m pip install pytest\n",
    "\n",
    "or \n",
    "conda install pytest \n",
    "\n",
    "It will be installed into path_to_virtual_env/lib//site-packages, although the path to site-packages may differ depending on which operating system you are using.\n",
    "\n",
    "You can list the installed packages and their versions by running:\n",
    "\n",
    "python -m pip freeze\n",
    "\n",
    "or\n",
    "\n",
    "conda list"
   ]
  },
  {
   "cell_type": "markdown",
   "metadata": {},
   "source": [
    "## Bash Script Examples"
   ]
  },
  {
   "cell_type": "markdown",
   "metadata": {},
   "source": [
    "### If-else"
   ]
  },
  {
   "cell_type": "code",
   "execution_count": null,
   "metadata": {},
   "outputs": [],
   "source": [
    "!cat bash_if_else.sh"
   ]
  },
  {
   "cell_type": "code",
   "execution_count": null,
   "metadata": {},
   "outputs": [],
   "source": [
    "!bash bash_if_else.sh"
   ]
  },
  {
   "cell_type": "markdown",
   "metadata": {},
   "source": [
    "### For Loop"
   ]
  },
  {
   "cell_type": "code",
   "execution_count": null,
   "metadata": {},
   "outputs": [],
   "source": [
    "!cat bash_for.sh"
   ]
  },
  {
   "cell_type": "code",
   "execution_count": null,
   "metadata": {},
   "outputs": [],
   "source": [
    "!bash bash_for.sh"
   ]
  }
 ],
 "metadata": {
  "kernelspec": {
   "display_name": "Python 3 (ipykernel)",
   "language": "python",
   "name": "python3"
  },
  "language_info": {
   "codemirror_mode": {
    "name": "ipython",
    "version": 3
   },
   "file_extension": ".py",
   "mimetype": "text/x-python",
   "name": "python",
   "nbconvert_exporter": "python",
   "pygments_lexer": "ipython3",
   "version": "3.11.5"
  }
 },
 "nbformat": 4,
 "nbformat_minor": 2
}
