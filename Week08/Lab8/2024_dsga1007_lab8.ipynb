{
 "cells": [
  {
   "cell_type": "markdown",
   "id": "cd2dec9a",
   "metadata": {},
   "source": [
    "### CDS NYU\n",
    "### DS-GA 1007 | Programming for Data Science\n",
    "### Lab 08\n",
    "### October 30, 2024\n",
    "\n",
    "\n",
    "# Pandas: Advanced Data Objects (Part 1)\n",
    "\n",
    "### ▶ Pandas Objects: Series, Index, and Dataframe\n",
    "\n",
    "### ▶ Indexing and Selection\n",
    "\n",
    "### ▶ Loading data from files\n"
   ]
  },
  {
   "cell_type": "markdown",
   "id": "45b07d57",
   "metadata": {},
   "source": [
    "## Section Leaders\n",
    "\n",
    "\n",
    "Dong Li  --  dl5214@nyu.edu  -- \n",
    "\n",
    "Ziyi (Ceci) Chen --  zc1634@nyu.edu  --\n"
   ]
  },
  {
   "cell_type": "markdown",
   "id": "4b69e0e8",
   "metadata": {},
   "source": [
    "## Resources\n",
    "\n",
    "* Concise textbook introduction to Pandas: ”Python Data Science Handbook” pp. 33-96, by Jake VanderPlas\n",
    "    * Also accessible online at https://jakevdp.github.io/PythonDataScienceHandbook\n",
    "\n",
    "* Pandas's freely acccessible, online, high-quality and concise documentation: https://pandas.pydata.org\n",
    "\n",
    "* Exercise: 100 Pandas Puzzles https://github.com/ajcr/100-pandas-puzzles\n"
   ]
  },
  {
   "cell_type": "markdown",
   "id": "f7935b82",
   "metadata": {},
   "source": [
    "## 1. Pandas Objects: Index, Series, and Dataframe"
   ]
  },
  {
   "cell_type": "code",
   "execution_count": null,
   "id": "f95aca40",
   "metadata": {
    "id": "fXcGVXXfBY9j"
   },
   "outputs": [],
   "source": [
    "import numpy as np\n",
    "import pandas as pd\n",
    "import matplotlib.pyplot as plt\n",
    "%matplotlib inline"
   ]
  },
  {
   "cell_type": "markdown",
   "id": "696f8ad7",
   "metadata": {},
   "source": [
    "## Index\n",
    "Indices operate like an list in many ways."
   ]
  },
  {
   "cell_type": "code",
   "execution_count": null,
   "id": "47c70db3",
   "metadata": {},
   "outputs": [],
   "source": [
    "ind = pd.Index(['a', 'b', 'c', 'd', 'e'])\n",
    "ind"
   ]
  },
  {
   "cell_type": "code",
   "execution_count": null,
   "id": "52bce9b5",
   "metadata": {},
   "outputs": [],
   "source": [
    "ind[::2] #Recall python's [start:stop:step] slicing covered in Lab6"
   ]
  },
  {
   "cell_type": "markdown",
   "id": "a74dbb5d",
   "metadata": {},
   "source": [
    "Indices are immutable."
   ]
  },
  {
   "cell_type": "code",
   "execution_count": null,
   "id": "277c129e",
   "metadata": {},
   "outputs": [],
   "source": [
    "ind[0] = \"x\" #Error message: Index does not support mutable operations"
   ]
  },
  {
   "cell_type": "markdown",
   "id": "84b924b0",
   "metadata": {},
   "source": [
    "## Series\n",
    "\n",
    "A series should be interpreted as a very, very fancy list, with an index."
   ]
  },
  {
   "cell_type": "code",
   "execution_count": null,
   "id": "d3b00d07",
   "metadata": {},
   "outputs": [],
   "source": [
    "series = pd.Series(np.arange(5) + 10, index=ind) \n",
    "print(series)"
   ]
  },
  {
   "cell_type": "code",
   "execution_count": null,
   "id": "cc7bbbac",
   "metadata": {},
   "outputs": [],
   "source": [
    "print(f\"Access series' values: {series.values}\")\n",
    "print(f\"Access series' index: {series.index}\")\n",
    "print(f\"Access index values: {series.index.values}\")"
   ]
  },
  {
   "cell_type": "markdown",
   "id": "2ef191ef",
   "metadata": {},
   "source": [
    "If indexes are not explicitly defined, default index will be created."
   ]
  },
  {
   "cell_type": "code",
   "execution_count": null,
   "id": "4be682b7",
   "metadata": {
    "scrolled": true
   },
   "outputs": [],
   "source": [
    "series = pd.Series([10,11,12,13,14])\n",
    "print(series)\n",
    "print(f\"Default index: {series.index}\")"
   ]
  },
  {
   "cell_type": "markdown",
   "id": "0fb51650",
   "metadata": {},
   "source": [
    "A series can also be constructed from dictionary."
   ]
  },
  {
   "cell_type": "code",
   "execution_count": null,
   "id": "75108fa6",
   "metadata": {},
   "outputs": [],
   "source": [
    "dict = {'a': 10,'b': 11,'c': 12,'d': 13,'e': 14}\n",
    "series = pd.Series(dict)\n",
    "print(series)"
   ]
  },
  {
   "cell_type": "markdown",
   "id": "1d6c4e9f",
   "metadata": {},
   "source": [
    "## Dataframe\n",
    "A DataFrame should be interpreted as two things:\n",
    "\n",
    "1. A dictionary of series\n",
    "2. A fancy 2D array (sort of)"
   ]
  },
  {
   "cell_type": "markdown",
   "id": "874d97e2",
   "metadata": {},
   "source": [
    "### Construct dataframe"
   ]
  },
  {
   "cell_type": "markdown",
   "id": "a3528034",
   "metadata": {},
   "source": [
    "Construct dataframe by column: construct dataframe as a dictionary of series"
   ]
  },
  {
   "cell_type": "code",
   "execution_count": null,
   "id": "5139d101",
   "metadata": {},
   "outputs": [],
   "source": [
    "name = pd.Series(['Kate','Lucy','Emma'])\n",
    "num_children = pd.Series([0, 2, 1]) \n",
    "pet = pd.Series(['cat', 'dog', 'fish']) \n",
    "salary = pd.Series([90, 24, 44]) \n",
    "\n",
    "data = pd.DataFrame({\"name\":name,\n",
    "                     \"num_children\":num_children, \n",
    "                     \"pet\":pet, \n",
    "                     \"salary\":salary})\n",
    "data #display without print function is in a spreadsheet kind of view"
   ]
  },
  {
   "cell_type": "markdown",
   "id": "040cb9e4",
   "metadata": {},
   "source": [
    "Make it one step: construct dataframe from dictonary"
   ]
  },
  {
   "cell_type": "code",
   "execution_count": null,
   "id": "87d084df",
   "metadata": {},
   "outputs": [],
   "source": [
    "data = pd.DataFrame({\n",
    "    'name': ['Kate','Lucy','Emma'],\n",
    "    'num_children': [0, 2, 1],\n",
    "    'pet':      ['cat', 'dog', 'fish'],\n",
    "    'salary':   [90, 24, 44]\n",
    "})\n",
    "data "
   ]
  },
  {
   "cell_type": "markdown",
   "id": "73ef2481",
   "metadata": {},
   "source": [
    "Construct dataframe by row: construct from a list of dictionaries"
   ]
  },
  {
   "cell_type": "code",
   "execution_count": null,
   "id": "fe628c4e",
   "metadata": {},
   "outputs": [],
   "source": [
    "data = pd.DataFrame([\n",
    "    {'name': 'Kate', 'num_children': 0, 'pet': 'cat', 'salary': 90}, \n",
    "    {'name': 'Lucy', 'num_children': 2, 'pet': 'dog', 'salary': 24},\n",
    "    {'name': 'Emma', 'num_children': 1, 'pet': 'fish', 'salary': 44}\n",
    "    ])\n",
    "data "
   ]
  },
  {
   "cell_type": "markdown",
   "id": "1bdf5950",
   "metadata": {},
   "source": [
    "### Dataframe columns"
   ]
  },
  {
   "cell_type": "code",
   "execution_count": null,
   "id": "a3f7bc13",
   "metadata": {},
   "outputs": [],
   "source": [
    "data.columns"
   ]
  },
  {
   "cell_type": "code",
   "execution_count": null,
   "id": "6ebb2892",
   "metadata": {},
   "outputs": [],
   "source": [
    "#rename columns\n",
    "data.columns = ['first_name','children#', 'pet', 'salary(k)']\n",
    "data"
   ]
  },
  {
   "cell_type": "markdown",
   "id": "974f95b6",
   "metadata": {},
   "source": [
    "### Dataframe index"
   ]
  },
  {
   "cell_type": "markdown",
   "id": "bacd6b05",
   "metadata": {},
   "source": [
    "We can set a column as index"
   ]
  },
  {
   "cell_type": "code",
   "execution_count": null,
   "id": "5bd78e74",
   "metadata": {},
   "outputs": [],
   "source": [
    "data.set_index('first_name', inplace=True)\n",
    "data"
   ]
  },
  {
   "cell_type": "markdown",
   "id": "e570dcda",
   "metadata": {},
   "source": [
    "We can also reset index to go back to default index"
   ]
  },
  {
   "cell_type": "code",
   "execution_count": null,
   "id": "99765644",
   "metadata": {},
   "outputs": [],
   "source": [
    "data.reset_index()"
   ]
  },
  {
   "cell_type": "markdown",
   "id": "05a6153a",
   "metadata": {},
   "source": [
    "If we set a new index, the dataframe will automatically re-align to the index,\n",
    "and fill unkown data with NaN"
   ]
  },
  {
   "cell_type": "code",
   "execution_count": null,
   "id": "16d8902b",
   "metadata": {},
   "outputs": [],
   "source": [
    "data.reindex([\"Kate\",\"Emma\",\"Doris\"])"
   ]
  },
  {
   "cell_type": "markdown",
   "id": "ee858bf4",
   "metadata": {},
   "source": [
    "# 2. Indexing and selction"
   ]
  },
  {
   "cell_type": "markdown",
   "id": "7e2b517e",
   "metadata": {},
   "source": [
    "### Accessing by column name"
   ]
  },
  {
   "cell_type": "code",
   "execution_count": null,
   "id": "6cf638d4",
   "metadata": {},
   "outputs": [],
   "source": [
    "data[\"pet\"]"
   ]
  },
  {
   "cell_type": "code",
   "execution_count": null,
   "id": "bb704543",
   "metadata": {},
   "outputs": [],
   "source": [
    "type(data[\"pet\"])"
   ]
  },
  {
   "cell_type": "code",
   "execution_count": null,
   "id": "292feefe",
   "metadata": {},
   "outputs": [],
   "source": [
    "print(data[\"pet\"].values)\n",
    "print(data[\"pet\"].index)"
   ]
  },
  {
   "cell_type": "markdown",
   "id": "839e76bf",
   "metadata": {
    "id": "nHZNqAOKBY9o"
   },
   "source": [
    "### Accessing by position .iloc[ ]"
   ]
  },
  {
   "cell_type": "code",
   "execution_count": null,
   "id": "8db3853e",
   "metadata": {
    "id": "OI3t2deBBY9s",
    "outputId": "0f264833-7bb2-4916-8b70-131936f7d819"
   },
   "outputs": [],
   "source": [
    "data.iloc[2]"
   ]
  },
  {
   "cell_type": "code",
   "execution_count": null,
   "id": "8e6c29d3",
   "metadata": {},
   "outputs": [],
   "source": [
    "type(data.iloc[2])"
   ]
  },
  {
   "cell_type": "code",
   "execution_count": null,
   "id": "11a018e4",
   "metadata": {},
   "outputs": [],
   "source": [
    "print(data.iloc[2].values)\n",
    "print(data.iloc[2].index)"
   ]
  },
  {
   "cell_type": "code",
   "execution_count": null,
   "id": "bcebc002",
   "metadata": {},
   "outputs": [],
   "source": [
    "data.iloc[0:2]"
   ]
  },
  {
   "cell_type": "code",
   "execution_count": null,
   "id": "26810930",
   "metadata": {},
   "outputs": [],
   "source": [
    "data.iloc[0:2,1:3] #[row, column]"
   ]
  },
  {
   "cell_type": "markdown",
   "id": "0338a6e1",
   "metadata": {
    "id": "g5YFc6PQBY9x"
   },
   "source": [
    "### Accessing by labels .loc[ ]"
   ]
  },
  {
   "cell_type": "code",
   "execution_count": null,
   "id": "94b24e22",
   "metadata": {
    "id": "3d6iuuiABY9x",
    "outputId": "08000e1e-7c6d-4c74-d884-89419fcc11d3"
   },
   "outputs": [],
   "source": [
    "data.loc['Emma']"
   ]
  },
  {
   "cell_type": "code",
   "execution_count": null,
   "id": "2d672219",
   "metadata": {
    "id": "QS2p06XJBY90",
    "outputId": "6b953d6d-9cd9-4f67-ca9f-f04c444b666a"
   },
   "outputs": [],
   "source": [
    "data.loc[['Kate', 'Lucy']]"
   ]
  },
  {
   "cell_type": "code",
   "execution_count": null,
   "id": "199f045c",
   "metadata": {},
   "outputs": [],
   "source": [
    "data.loc[['Kate', 'Lucy'],['pet','salary(k)']]"
   ]
  },
  {
   "cell_type": "markdown",
   "id": "ca0c4ecf",
   "metadata": {
    "id": "kBBhOLolBY-A"
   },
   "source": [
    "### Filtering"
   ]
  },
  {
   "cell_type": "code",
   "execution_count": null,
   "id": "6e147d27",
   "metadata": {},
   "outputs": [],
   "source": [
    "mask = data[\"salary(k)\"] >= 30 #return a boolean array\n",
    "mask"
   ]
  },
  {
   "cell_type": "code",
   "execution_count": null,
   "id": "294a158a",
   "metadata": {
    "colab": {
     "base_uri": "https://localhost:8080/",
     "height": 164
    },
    "id": "YXYBNzsBBY-B",
    "outputId": "04c834ab-9905-42bd-d0e9-f90e96f86ebc"
   },
   "outputs": [],
   "source": [
    "data[mask]"
   ]
  },
  {
   "cell_type": "code",
   "execution_count": null,
   "id": "cffb0467",
   "metadata": {},
   "outputs": [],
   "source": [
    "data[(data[\"salary(k)\"] >= 30) & (data[\"children#\"] > 0)]"
   ]
  },
  {
   "cell_type": "markdown",
   "id": "10d559a3",
   "metadata": {},
   "source": [
    "### Select for modifying values\n",
    "Any of these selection conventions can be used for modifying values"
   ]
  },
  {
   "cell_type": "code",
   "execution_count": null,
   "id": "338c1c55",
   "metadata": {},
   "outputs": [],
   "source": [
    "data.loc[\"Emma\",\"children#\"] = 2\n",
    "data"
   ]
  },
  {
   "cell_type": "markdown",
   "id": "7411ce54",
   "metadata": {},
   "source": [
    "### Create new column"
   ]
  },
  {
   "cell_type": "code",
   "execution_count": null,
   "id": "59e28356",
   "metadata": {},
   "outputs": [],
   "source": [
    "data[\"new_column\"] = np.nan\n",
    "data"
   ]
  },
  {
   "cell_type": "code",
   "execution_count": null,
   "id": "b79545ba",
   "metadata": {},
   "outputs": [],
   "source": [
    "data[\"salary/children\"] = data[\"salary(k)\"]/data[\"children#\"]\n",
    "data"
   ]
  },
  {
   "cell_type": "code",
   "execution_count": null,
   "id": "8772cb2c",
   "metadata": {},
   "outputs": [],
   "source": [
    "data[\"has_children\"] = np.where(data[\"children#\"]>0, True, False)\n",
    "data"
   ]
  },
  {
   "cell_type": "markdown",
   "id": "8a8b9f4b",
   "metadata": {},
   "source": [
    "### Removing data"
   ]
  },
  {
   "cell_type": "code",
   "execution_count": null,
   "id": "2ad34cfa",
   "metadata": {},
   "outputs": [],
   "source": [
    "del data[\"new_column\"]\n",
    "data"
   ]
  },
  {
   "cell_type": "code",
   "execution_count": null,
   "id": "61833d9f",
   "metadata": {},
   "outputs": [],
   "source": [
    "data.drop([\"salary/children\"], axis=1, inplace=True)\n",
    "data"
   ]
  },
  {
   "cell_type": "code",
   "execution_count": null,
   "id": "f3d8ca55",
   "metadata": {},
   "outputs": [],
   "source": [
    "data.drop([\"Emma\"], axis=0)"
   ]
  },
  {
   "cell_type": "code",
   "execution_count": null,
   "id": "0c883af2",
   "metadata": {},
   "outputs": [],
   "source": [
    "data.drop(data.index[2], axis=0)"
   ]
  },
  {
   "cell_type": "markdown",
   "id": "4afdc3ac",
   "metadata": {},
   "source": [
    "### Dataframe as 2-dimensional array"
   ]
  },
  {
   "cell_type": "code",
   "execution_count": null,
   "id": "43ef6231",
   "metadata": {},
   "outputs": [],
   "source": [
    "data.values"
   ]
  },
  {
   "cell_type": "markdown",
   "id": "d24b4c58",
   "metadata": {},
   "source": [
    "Many matrix-like observations can be done on dataframe. For example, we can transpose dataframe to swap rows and columns."
   ]
  },
  {
   "cell_type": "code",
   "execution_count": null,
   "id": "3219c3e9",
   "metadata": {},
   "outputs": [],
   "source": [
    "data.T"
   ]
  },
  {
   "cell_type": "markdown",
   "id": "ad872d87",
   "metadata": {},
   "source": [
    "# Exercise \n",
    "\n",
    "Consider the dataframe `df` below.\n",
    "1. Replace the content of row 3 to -1 and row 7 to 0\n",
    "2. Create a new column \"C3+C5\" to be equal to column C3 + column C5\n",
    "3. Replace all values less than 1 as 0\n",
    "4. Remove row 9 and column \"C4\""
   ]
  },
  {
   "cell_type": "code",
   "execution_count": null,
   "id": "920d0fb4",
   "metadata": {},
   "outputs": [],
   "source": [
    "rng = np.random.RandomState(1)\n",
    "m = rng.uniform(low=0, high=2, size=((10,5)))\n",
    "df = pd.DataFrame(data=m, columns=['C1','C2','C3','C4','C5'])\n",
    "df"
   ]
  },
  {
   "cell_type": "markdown",
   "id": "f67444f9",
   "metadata": {
    "id": "wTgzdwE0BY-G"
   },
   "source": [
    "## Basic Operations on Pandas Series "
   ]
  },
  {
   "cell_type": "code",
   "execution_count": null,
   "id": "65978d32",
   "metadata": {
    "id": "ygpBhgAjBY-G"
   },
   "outputs": [],
   "source": [
    "series =  data[\"salary(k)\"]\n",
    "\n",
    "print(series.mean())\n",
    "print(series.std())"
   ]
  },
  {
   "cell_type": "code",
   "execution_count": null,
   "id": "e258a3da",
   "metadata": {
    "id": "098c-npcBY-I"
   },
   "outputs": [],
   "source": [
    "series.describe()"
   ]
  },
  {
   "cell_type": "code",
   "execution_count": null,
   "id": "993218a1",
   "metadata": {
    "id": "kjnzTzv-BY-K"
   },
   "outputs": [],
   "source": [
    "series.value_counts()"
   ]
  },
  {
   "cell_type": "code",
   "execution_count": null,
   "id": "817bd8e2",
   "metadata": {
    "id": "9nLPfsR7BY-M"
   },
   "outputs": [],
   "source": [
    "series.unique()"
   ]
  },
  {
   "cell_type": "code",
   "execution_count": null,
   "id": "d3f6ec92",
   "metadata": {
    "id": "-inowIVcBY-T"
   },
   "outputs": [],
   "source": [
    "series.isnull().any()"
   ]
  },
  {
   "cell_type": "markdown",
   "id": "2eeb44dc",
   "metadata": {},
   "source": [
    "## Visualization"
   ]
  },
  {
   "cell_type": "markdown",
   "id": "8f8cf900",
   "metadata": {},
   "source": [
    "The plot method on Series and DataFrame is just a simple wrapper around plt.plot()\n",
    "* ‘bar’ or ‘barh’ for bar plots\n",
    "* ‘hist’ for histogram\n",
    "* ‘box’ for boxplot\n",
    "* ‘kde’ or ‘density’ for density plots\n",
    "* ‘area’ for area plots\n",
    "* ‘scatter’ for scatter plots\n",
    "* ‘hexbin’ for hexagonal bin plots\n",
    "* ‘pie’ for pie plots"
   ]
  },
  {
   "cell_type": "code",
   "execution_count": null,
   "id": "9bd71a5e",
   "metadata": {},
   "outputs": [],
   "source": [
    "df = pd.DataFrame(np.random.randint(0, 5, (10, 4)), columns=[\"a\", \"b\", \"c\", \"d\"])\n",
    "df"
   ]
  },
  {
   "cell_type": "code",
   "execution_count": null,
   "id": "2322dc07",
   "metadata": {},
   "outputs": [],
   "source": [
    "df.plot()"
   ]
  },
  {
   "cell_type": "code",
   "execution_count": null,
   "id": "be49759f",
   "metadata": {},
   "outputs": [],
   "source": [
    "df.plot(kind ='bar')"
   ]
  },
  {
   "cell_type": "code",
   "execution_count": null,
   "id": "9a2d71b6",
   "metadata": {},
   "outputs": [],
   "source": [
    "df['a'].plot(kind ='hist')"
   ]
  },
  {
   "cell_type": "markdown",
   "id": "40831b38",
   "metadata": {},
   "source": [
    "# 3. Data Loading\n",
    "\n",
    "#### CSV files\n",
    "- A simple CSV file can be loaded with `read_csv`\n",
    "- If the file does not have a header row, pandas will assign one\n",
    "- Column names can be assigned when loading data\n",
    "- Can specify which column will become the index\n",
    "- Can have multiple indices"
   ]
  },
  {
   "cell_type": "code",
   "execution_count": null,
   "id": "a7569803",
   "metadata": {},
   "outputs": [],
   "source": [
    "%%writefile simple.csv\n",
    "a,b,c,d,message\n",
    "1,2,3,4,hello\n",
    "5,6,7,8,world\n",
    "9,10,11,12,foo"
   ]
  },
  {
   "cell_type": "code",
   "execution_count": null,
   "id": "62c959dd",
   "metadata": {},
   "outputs": [],
   "source": [
    "# simple CSV file loading\n",
    "\n",
    "\n",
    "# the first row becomes the column indices\n",
    "df = pd.read_csv('simple.csv')\n",
    "print(df)\n",
    "\n",
    "print(df.columns.values)"
   ]
  },
  {
   "cell_type": "code",
   "execution_count": null,
   "id": "fc0595f6",
   "metadata": {},
   "outputs": [],
   "source": [
    "# indexing columns automatically\n",
    "df = pd.read_csv('simple.csv',header=None)\n",
    "\n",
    "print(df)\n",
    "\n",
    "print(df.columns.values)"
   ]
  },
  {
   "cell_type": "code",
   "execution_count": null,
   "id": "92e82314",
   "metadata": {},
   "outputs": [],
   "source": [
    "# specifying column names\n",
    "df = pd.read_csv('simple.csv',names=['c0','c1','c2','c3','c4'])\n",
    "\n",
    "print(df)\n",
    "\n",
    "print(df.columns.values)"
   ]
  },
  {
   "cell_type": "code",
   "execution_count": null,
   "id": "6bb575eb",
   "metadata": {},
   "outputs": [],
   "source": [
    "# a column can become the row index\n",
    "df = pd.read_csv('simple.csv',names=['c0','c1','c2','c3','c4'],index_col='c4')\n",
    "#df = pd.read_csv('simple.csv',index_col='c5')\n",
    "\n",
    "print(df)\n",
    "\n",
    "print(df.index.values)"
   ]
  },
  {
   "cell_type": "code",
   "execution_count": null,
   "id": "cbb0037f",
   "metadata": {},
   "outputs": [],
   "source": [
    "%%writefile simple.csv\n",
    "key1,key2,value1,value2\n",
    "one,a,1,2\n",
    "one,b,3,4\n",
    "one,c,5,6\n",
    "two,a,9,10\n",
    "two,c,13,14"
   ]
  },
  {
   "cell_type": "code",
   "execution_count": null,
   "id": "ae979f6e",
   "metadata": {},
   "outputs": [],
   "source": [
    "df=pd.read_csv('simple.csv',index_col=['key1','key2'])\n",
    "df"
   ]
  },
  {
   "cell_type": "markdown",
   "id": "1ca96679",
   "metadata": {},
   "source": [
    "#### TSV files\n",
    "- A tab is 8 whitespace characters\n",
    "- Sometimes the number of whitespace characters can vary above or below 8. Can use regular expressions\n"
   ]
  },
  {
   "cell_type": "code",
   "execution_count": null,
   "id": "171f30ed",
   "metadata": {},
   "outputs": [],
   "source": [
    "%%writefile simple.csv\n",
    "a    b  c d        message\n",
    "1   2    3 4 hello"
   ]
  },
  {
   "cell_type": "code",
   "execution_count": null,
   "id": "dd85863a",
   "metadata": {},
   "outputs": [],
   "source": [
    "df = pd.read_csv(\"simple.csv\", delimiter='\\s+', header = None)\n",
    "df"
   ]
  },
  {
   "cell_type": "markdown",
   "id": "5b4c58df",
   "metadata": {},
   "source": [
    "#### JSON files"
   ]
  },
  {
   "cell_type": "code",
   "execution_count": null,
   "id": "cefbeefa",
   "metadata": {},
   "outputs": [],
   "source": [
    "import json\n",
    "with open('IMDB-Movie-Data.json') as json_file:\n",
    "    data = json.load(json_file)\n",
    "\n",
    "print(data)"
   ]
  },
  {
   "cell_type": "code",
   "execution_count": null,
   "id": "6773cd5e",
   "metadata": {},
   "outputs": [],
   "source": [
    "df = pd.read_json('IMDB-Movie-Data.json')\n",
    "df"
   ]
  },
  {
   "cell_type": "markdown",
   "id": "e6252d91",
   "metadata": {},
   "source": [
    "## Hierarchical Index\n",
    "Indices can be lists of lists, creating an hierarchy. The same is valid to columns."
   ]
  },
  {
   "cell_type": "code",
   "execution_count": null,
   "id": "e2038bb4",
   "metadata": {},
   "outputs": [],
   "source": [
    "populations = [33871648, 37253956,18976457, 19378102,20851820, 25145561]\n",
    "index = [['California','California','New York','New York','Texas','Texas'],\n",
    "        [2000,2010,2000,2010,2000,2010]]\n",
    "pop = pd.Series(populations, index=index)\n",
    "pop"
   ]
  },
  {
   "cell_type": "code",
   "execution_count": null,
   "id": "1128d0d2",
   "metadata": {},
   "outputs": [],
   "source": [
    "pop.index.names = ['state', 'year']\n",
    "pop"
   ]
  },
  {
   "cell_type": "markdown",
   "id": "84dce7c6",
   "metadata": {},
   "source": [
    "hierarchical index in rows and columns"
   ]
  },
  {
   "cell_type": "code",
   "execution_count": null,
   "id": "4fcded5c",
   "metadata": {},
   "outputs": [],
   "source": [
    "# hierarchical index in rows and columns\n",
    "# hierarchical indices and columns\n",
    "index = pd.MultiIndex.from_product([[\"California\", \"New York\", \"Texas\"], [2000, 2010]],\n",
    "                                   names=['state', 'year'])\n",
    "columns = pd.MultiIndex.from_product([['Above 18', 'Under 18'], ['Average height', 'Median weight']],\n",
    "                                     names=['age group', 'stats'])\n",
    "\n",
    "# mock some data\n",
    "data = np.round(np.random.randint(150,190, size=(6, 4)))\n",
    "\n",
    "# create the DataFrame\n",
    "health_data = pd.DataFrame(data, index=index, columns=columns)\n",
    "health_data"
   ]
  },
  {
   "cell_type": "code",
   "execution_count": null,
   "id": "2530dc86",
   "metadata": {
    "scrolled": true
   },
   "outputs": [],
   "source": [
    "health_data[\"Above 18\"]"
   ]
  },
  {
   "cell_type": "code",
   "execution_count": null,
   "id": "e08a02a8",
   "metadata": {},
   "outputs": [],
   "source": [
    "health_data.loc[\"California\":\"New York\"]"
   ]
  },
  {
   "cell_type": "code",
   "execution_count": null,
   "id": "dceeb215",
   "metadata": {},
   "outputs": [],
   "source": [
    "health_data.loc[\"California\", 2000][\"Above 18\"]"
   ]
  }
 ],
 "metadata": {
  "kernelspec": {
   "display_name": "Python 3 (ipykernel)",
   "language": "python",
   "name": "python3"
  },
  "language_info": {
   "codemirror_mode": {
    "name": "ipython",
    "version": 3
   },
   "file_extension": ".py",
   "mimetype": "text/x-python",
   "name": "python",
   "nbconvert_exporter": "python",
   "pygments_lexer": "ipython3",
   "version": "3.11.5"
  }
 },
 "nbformat": 4,
 "nbformat_minor": 5
}
