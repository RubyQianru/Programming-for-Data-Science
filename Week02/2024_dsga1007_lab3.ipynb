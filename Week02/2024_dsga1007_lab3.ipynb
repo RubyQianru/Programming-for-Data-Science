{
 "cells": [
  {
   "cell_type": "markdown",
   "metadata": {},
   "source": [
    "### CDS NYU\n",
    "### DS-GA 1007 | Programming for Data Science\n",
    "### Lab 03\n",
    "### September 18, 2024\n",
    "\n",
    "\n",
    "# Best Practice Programming and Software Engineering"
   ]
  },
  {
   "cell_type": "markdown",
   "metadata": {},
   "source": [
    "## Section Leaders\n",
    "\n",
    "\n",
    "Dong Li  --  dl5214@nyu.edu  -- \n",
    "\n",
    "Ziyi (Ceci) Chen --  zc1634@nyu.edu  --\n"
   ]
  },
  {
   "cell_type": "markdown",
   "metadata": {},
   "source": [
    "## Resources\n",
    "\n",
    "* Guide for introduction to programming: https://swcarpentry.github.io/python-novice-gapminder/\n"
   ]
  },
  {
   "cell_type": "markdown",
   "metadata": {},
   "source": [
    "---\n",
    "\n",
    "## 1. Functions\n",
    "\n",
    "---"
   ]
  },
  {
   "cell_type": "markdown",
   "metadata": {},
   "source": [
    "### Definition"
   ]
  },
  {
   "cell_type": "code",
   "execution_count": null,
   "metadata": {},
   "outputs": [],
   "source": [
    "def welcome():\n",
    "    return \"Welcome to the third lab. Thank you for being awesome!\"\n",
    "     "
   ]
  },
  {
   "cell_type": "code",
   "execution_count": null,
   "metadata": {},
   "outputs": [],
   "source": [
    "print(welcome())"
   ]
  },
  {
   "cell_type": "markdown",
   "metadata": {},
   "source": [
    "### Return statement"
   ]
  },
  {
   "cell_type": "markdown",
   "metadata": {},
   "source": [
    "A `return` statement can be used to end the execution of the function call and “returns” some result (value of the expression following the return keyword) to the environment calling the function"
   ]
  },
  {
   "cell_type": "code",
   "execution_count": null,
   "metadata": {},
   "outputs": [],
   "source": [
    "def plus_one(n):\n",
    "    return n + 1"
   ]
  },
  {
   "cell_type": "code",
   "execution_count": null,
   "metadata": {},
   "outputs": [],
   "source": [
    "plus_one(100)"
   ]
  },
  {
   "cell_type": "code",
   "execution_count": null,
   "metadata": {},
   "outputs": [],
   "source": [
    "def food():\n",
    "    return \"whey\"\n",
    "\n",
    "print(f\"Make {food()} while the sun shines\")"
   ]
  },
  {
   "cell_type": "markdown",
   "metadata": {},
   "source": [
    "### Yield statement"
   ]
  },
  {
   "cell_type": "markdown",
   "metadata": {},
   "source": [
    "A `yield` statement can be used instead of `return` in a function to return the value of a local variable without forgetting the state of its local variable, so that when the function is called, the execution starts from the last yield statement"
   ]
  },
  {
   "cell_type": "code",
   "execution_count": null,
   "metadata": {},
   "outputs": [],
   "source": [
    "def fruits():\n",
    "    meal = [\"kiwi\", \"orange\", \"apple\", \"pinapple\"]\n",
    "    for snack in meal:\n",
    "        yield snack\n",
    "    "
   ]
  },
  {
   "cell_type": "code",
   "execution_count": null,
   "metadata": {},
   "outputs": [],
   "source": [
    "snacks = fruits()\n",
    "print(next(snacks))\n",
    "print(next(snacks))"
   ]
  },
  {
   "cell_type": "code",
   "execution_count": null,
   "metadata": {},
   "outputs": [],
   "source": [
    "next(snacks)"
   ]
  },
  {
   "cell_type": "code",
   "execution_count": null,
   "metadata": {},
   "outputs": [],
   "source": [
    "next(snacks)"
   ]
  },
  {
   "cell_type": "code",
   "execution_count": null,
   "metadata": {},
   "outputs": [],
   "source": [
    "next(snacks)"
   ]
  },
  {
   "cell_type": "code",
   "execution_count": null,
   "metadata": {},
   "outputs": [],
   "source": []
  },
  {
   "cell_type": "markdown",
   "metadata": {},
   "source": [
    "### Positional arguments"
   ]
  },
  {
   "cell_type": "code",
   "execution_count": null,
   "metadata": {},
   "outputs": [],
   "source": [
    "def area_of_rectangle(length, width):\n",
    "    area = length * width\n",
    "    return area\n",
    "    "
   ]
  },
  {
   "cell_type": "code",
   "execution_count": null,
   "metadata": {},
   "outputs": [],
   "source": [
    "area_of_rectangle(10, 20)"
   ]
  },
  {
   "cell_type": "code",
   "execution_count": null,
   "metadata": {},
   "outputs": [],
   "source": [
    "def area_of_rectangle(length, width):\n",
    "    \n",
    "    if length < 0 or width < 0: \n",
    "        return -1\n",
    "    else: \n",
    "        return length * width\n",
    "    "
   ]
  },
  {
   "cell_type": "code",
   "execution_count": null,
   "metadata": {},
   "outputs": [],
   "source": [
    "area_of_rectangle(-10, 20)"
   ]
  },
  {
   "cell_type": "code",
   "execution_count": null,
   "metadata": {},
   "outputs": [],
   "source": [
    "area_of_rectangle(10, 20)"
   ]
  },
  {
   "cell_type": "markdown",
   "metadata": {},
   "source": [
    "### Variables with Global Scope"
   ]
  },
  {
   "cell_type": "code",
   "execution_count": null,
   "metadata": {},
   "outputs": [],
   "source": [
    "GLOB_VAR = 100\n",
    "\n",
    "def function_example_glob_var(x):\n",
    "    \n",
    "    y = x + GLOB_VAR\n",
    "    \n",
    "    return y \n",
    "\n",
    "\n",
    "function_example_glob_var(20)"
   ]
  },
  {
   "cell_type": "markdown",
   "metadata": {},
   "source": [
    "### Iterative and Recursive Functions"
   ]
  },
  {
   "cell_type": "code",
   "execution_count": 2,
   "metadata": {},
   "outputs": [],
   "source": [
    "def factorial(x):\n",
    "    f = 1\n",
    "    for i in range(1, x + 1):\n",
    "        f *= i\n",
    "    return f"
   ]
  },
  {
   "cell_type": "code",
   "execution_count": 3,
   "metadata": {
    "scrolled": true
   },
   "outputs": [
    {
     "name": "stdout",
     "output_type": "stream",
     "text": [
      "1 6 120 3628800\n"
     ]
    }
   ],
   "source": [
    "print(factorial(0), factorial(3), factorial(5), factorial(10))"
   ]
  },
  {
   "cell_type": "code",
   "execution_count": null,
   "metadata": {},
   "outputs": [],
   "source": [
    "def factorial_recursive(x):\n",
    "    if x <= 1:\n",
    "        return 1\n",
    "    else:\n",
    "        f = x * factorial(x - 1)\n",
    "        return f"
   ]
  },
  {
   "cell_type": "code",
   "execution_count": null,
   "metadata": {},
   "outputs": [],
   "source": [
    "print(factorial_recursive(0), factorial_recursive(3), factorial_recursive(5))"
   ]
  },
  {
   "cell_type": "markdown",
   "metadata": {},
   "source": [
    "### Docstring\n",
    "\n",
    "Documentation about what the function does and its parameters\n"
   ]
  },
  {
   "cell_type": "markdown",
   "metadata": {},
   "source": [
    "https://www.python.org/dev/peps/pep-0257/"
   ]
  },
  {
   "cell_type": "code",
   "execution_count": null,
   "metadata": {},
   "outputs": [],
   "source": [
    "def factorial_recursive(x):\n",
    "    \"\"\"\n",
    "    Function to calculate factorial of the input by recursion\n",
    "    :param n: (int) non-negative integer value \n",
    "    :return: (int) factorial of the input n\n",
    "    \"\"\"\n",
    "    if x <= 1:\n",
    "        return 1\n",
    "    else:\n",
    "        f = x * factorial(x - 1)\n",
    "        return f"
   ]
  },
  {
   "cell_type": "code",
   "execution_count": null,
   "metadata": {},
   "outputs": [],
   "source": [
    "factorial_recursive.__doc__"
   ]
  },
  {
   "cell_type": "markdown",
   "metadata": {},
   "source": [
    "---\n",
    "## 2. Custom Data Objects\n",
    "---"
   ]
  },
  {
   "cell_type": "markdown",
   "metadata": {},
   "source": [
    "Creating a new type of data means creating a new class of object"
   ]
  },
  {
   "cell_type": "code",
   "execution_count": null,
   "metadata": {},
   "outputs": [],
   "source": [
    "class coordinate(object):\n",
    "    \n",
    "    def __init__(self,x=0.0,y=0.0,name='unnamed'):\n",
    "        self.x = x\n",
    "        self.y = y\n",
    "        self.name = name\n",
    "        \n",
    "    def distance(self, other):\n",
    "        dx2 = (self.x-other.x)**2\n",
    "        dy2 = (self.y-other.y)**2\n",
    "        return (dx2 + dy2)**0.5\n"
   ]
  },
  {
   "cell_type": "markdown",
   "metadata": {},
   "source": [
    "Using an object means either creating an instance of the object's class, assigning it to variable name(s), setting/getting its attributes, or calling its methods"
   ]
  },
  {
   "cell_type": "code",
   "execution_count": null,
   "metadata": {},
   "outputs": [],
   "source": [
    "p1 = coordinate()\n",
    "p2 = coordinate()\n",
    "p1.name = 'my phone'\n",
    "p1.x = 0.8\n",
    "p1.y = 0.2\n",
    "d = p1.distance(p2)\n",
    "print('Distance to {}: {:.3}'.format(p1.name,d))\n"
   ]
  },
  {
   "cell_type": "code",
   "execution_count": null,
   "metadata": {},
   "outputs": [],
   "source": [
    "p1 = coordinate(0.8,0.2,'my phone')\n",
    "p2 = coordinate(0.5,0.5,'me')\n",
    "d = p1.distance(p2)\n",
    "print('Distance to {}: {:.3}'.format(p1.name,d))\n"
   ]
  },
  {
   "cell_type": "markdown",
   "metadata": {},
   "source": [
    "---\n",
    "## 3. Testing and Debugging Programs\n",
    "---"
   ]
  },
  {
   "cell_type": "markdown",
   "metadata": {},
   "source": [
    "### Common error messages in Python: \n",
    "Following statements all lead to error messages. Here the goal is not to fix them: just read the error message and familiarize yourself with each of these common mistakes. Debugging a program often comes down to hunting where bugs are; bugs themselves are often that simple..."
   ]
  },
  {
   "cell_type": "code",
   "execution_count": null,
   "metadata": {},
   "outputs": [],
   "source": [
    "l = ['a','b','c']\n",
    "l[3]"
   ]
  },
  {
   "cell_type": "code",
   "execution_count": null,
   "metadata": {},
   "outputs": [],
   "source": [
    "int(l)"
   ]
  },
  {
   "cell_type": "code",
   "execution_count": null,
   "metadata": {},
   "outputs": [],
   "source": [
    "l[2]/4"
   ]
  },
  {
   "cell_type": "code",
   "execution_count": null,
   "metadata": {},
   "outputs": [],
   "source": [
    "c/4"
   ]
  },
  {
   "cell_type": "code",
   "execution_count": null,
   "metadata": {},
   "outputs": [],
   "source": [
    "len(['a','b','c']"
   ]
  },
  {
   "cell_type": "code",
   "execution_count": null,
   "metadata": {},
   "outputs": [],
   "source": [
    "open('c.dat')"
   ]
  },
  {
   "cell_type": "markdown",
   "metadata": {},
   "source": [
    "### Exception Handlers\n",
    "Exceptions can be explicitely raised when writing a program (*defensive* programming) to continue the execution with specific instructions and/or stop the execution, depending on the error"
   ]
  },
  {
   "cell_type": "code",
   "execution_count": null,
   "metadata": {},
   "outputs": [],
   "source": [
    "import math\n",
    "def squareroot(x):\n",
    "    try:\n",
    "        return(math.sqrt(x))\n",
    "    except ValueError:\n",
    "        print(\"Warning: Input to sqrt not positive\")\n",
    "        return(math.sqrt(-x))\n",
    "    except:\n",
    "        raise TypeError(\"Stopped: Input to sqrt not a number\")"
   ]
  },
  {
   "cell_type": "code",
   "execution_count": null,
   "metadata": {},
   "outputs": [],
   "source": [
    "squareroot(-4)"
   ]
  },
  {
   "cell_type": "markdown",
   "metadata": {},
   "source": [
    "### Assertion Handlers\n",
    "A program can be exaplicitly, pre-emptively tested for potential risks and sources of bugs, to locate them as soon as introduced when the program is executed, and to avoid propagating them"
   ]
  },
  {
   "cell_type": "code",
   "execution_count": null,
   "metadata": {},
   "outputs": [],
   "source": [
    "assert 'awesome' in welcome()"
   ]
  },
  {
   "cell_type": "code",
   "execution_count": null,
   "metadata": {},
   "outputs": [],
   "source": [
    "def ratio(x,y):\n",
    "    assert y != 0,'Denominator of ratio is zero'\n",
    "    return x/y"
   ]
  },
  {
   "cell_type": "code",
   "execution_count": null,
   "metadata": {},
   "outputs": [],
   "source": [
    "ratio(100,0)"
   ]
  },
  {
   "cell_type": "markdown",
   "metadata": {},
   "source": [
    "---\n",
    "## 4. A few other statements useful for best practice programming\n",
    "---"
   ]
  },
  {
   "cell_type": "markdown",
   "metadata": {},
   "source": [
    "### pass"
   ]
  },
  {
   "cell_type": "markdown",
   "metadata": {},
   "source": [
    "`pass` is a null operation -- when it is executed, nothing happens. It is useful as a placeholder when a statement is required syntactically, but no code needs to be executed."
   ]
  },
  {
   "cell_type": "code",
   "execution_count": null,
   "metadata": {},
   "outputs": [],
   "source": [
    "class Calorie: pass\n",
    "kcal = Calorie()\n"
   ]
  },
  {
   "cell_type": "markdown",
   "metadata": {},
   "source": [
    "### del"
   ]
  },
  {
   "cell_type": "markdown",
   "metadata": {},
   "source": [
    "The `del` keyword is used to delete objects. In Python everything is an object, so the `del` keyword can also be used to delete variables, lists, or parts of a list etc. The `who_ls` magic command returns a sorted list of all variables active in current environment."
   ]
  },
  {
   "cell_type": "code",
   "execution_count": null,
   "metadata": {},
   "outputs": [],
   "source": [
    "class Calorie: pass\n",
    "kcal = Calorie()\n",
    "%who_ls "
   ]
  },
  {
   "cell_type": "code",
   "execution_count": null,
   "metadata": {
    "scrolled": true
   },
   "outputs": [],
   "source": [
    "del kcal\n",
    "%who_ls"
   ]
  },
  {
   "cell_type": "markdown",
   "metadata": {},
   "source": [
    "### lambda function"
   ]
  },
  {
   "cell_type": "code",
   "execution_count": null,
   "metadata": {},
   "outputs": [],
   "source": [
    "def c1(x): \n",
    "    return x*x*x \n",
    "\n",
    "#This can be written faster (more Pythonic...) as\n",
    "c2 = lambda x: x*x*x \n",
    "\n",
    "print(c1(7)) \n",
    "print(c2(7))"
   ]
  },
  {
   "cell_type": "markdown",
   "metadata": {},
   "source": [
    "### More Best Practices"
   ]
  },
  {
   "cell_type": "markdown",
   "metadata": {},
   "source": [
    "- Write modular code.\n",
    "- Avoid creating variables with global scope.\n",
    "- Remove unused imports and variables.\n",
    "- Use list comprehension for linear operations on list.\n",
    "- Return multiple values as a non-mutable tuple instead of array or dictionary.\n",
    "- Divide larger functions into smaller single task functions (if possible).\n",
    "- Use proper exception handling for logic which can result into uncertain behaviour.\n",
    "- Always document your code with proper comments for future understanding.\n",
    "- Use python virtual environments when working on multiple projects (covered in lecture 4)."
   ]
  },
  {
   "cell_type": "markdown",
   "metadata": {},
   "source": [
    "## **Thank you everyone!**"
   ]
  },
  {
   "cell_type": "code",
   "execution_count": null,
   "metadata": {},
   "outputs": [],
   "source": []
  }
 ],
 "metadata": {
  "kernelspec": {
   "display_name": "Python 3 (ipykernel)",
   "language": "python",
   "name": "python3"
  },
  "language_info": {
   "codemirror_mode": {
    "name": "ipython",
    "version": 3
   },
   "file_extension": ".py",
   "mimetype": "text/x-python",
   "name": "python",
   "nbconvert_exporter": "python",
   "pygments_lexer": "ipython3",
   "version": "3.11.9"
  }
 },
 "nbformat": 4,
 "nbformat_minor": 2
}
