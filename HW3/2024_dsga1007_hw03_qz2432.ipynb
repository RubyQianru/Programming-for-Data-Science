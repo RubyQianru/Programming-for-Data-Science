{
 "cells": [
  {
   "cell_type": "markdown",
   "metadata": {},
   "source": [
    "### CDS NYU\n",
    "### DS-GA 1007 | Programming for Data Science\n",
    "\n",
    "---\n",
    "\n",
    "# HW 03\n",
    "### Due Date: October 30 , 2024, 7PM\n"
   ]
  },
  {
   "cell_type": "markdown",
   "metadata": {},
   "source": [
    "Firstname: Qianru \n",
    "\n",
    "Lastname: Zhang\n",
    "\n",
    "E-mail: qz2432@nyu.edu\n",
    "\n",
    "\n",
    "--- \n",
    "\n",
    "Enter your solutions below,  and submit this notebook"
   ]
  },
  {
   "cell_type": "code",
   "execution_count": 1,
   "metadata": {},
   "outputs": [],
   "source": [
    "import numpy as np"
   ]
  },
  {
   "cell_type": "markdown",
   "metadata": {},
   "source": [
    "### Problem 01 (15 points):\n",
    "\n",
    "The data sets provided in the file \"Class.csv\" represents the number of points obtained by students at a quizz, where every row represents points obtained by a student.\n",
    "\n",
    "Load the file and write a function which displays: \n",
    "\n",
    "* Number of students \n",
    "\n",
    "* Number of quizzes\n",
    "\n",
    "* Average number of points for each student \n",
    "\n",
    "* Min number of points for each student \n",
    "\n",
    "* Max number of points for each student \n",
    "\n",
    "* Standard deviation of the number of points for each student \n",
    "\n",
    "* Average number of points for each quiz \n",
    "\n",
    "* Min number of points for each quiz \n",
    "\n",
    "* Max number of points for each quiz \n",
    "\n",
    "* Standard deviation of the number of points for each quiz \n",
    "\n"
   ]
  },
  {
   "cell_type": "code",
   "execution_count": 10,
   "metadata": {},
   "outputs": [
    {
     "name": "stdout",
     "output_type": "stream",
     "text": [
      "(20, 5)\n"
     ]
    }
   ],
   "source": [
    "data = np.loadtxt(fname='Class.csv', delimiter=',')"
   ]
  },
  {
   "cell_type": "code",
   "execution_count": 13,
   "metadata": {},
   "outputs": [
    {
     "name": "stdout",
     "output_type": "stream",
     "text": [
      "Number of students:  20\n",
      "Number of quizzes:  5\n"
     ]
    }
   ],
   "source": [
    "# Number of students\n",
    "# Number of quizzes\n",
    "num_rows, num_cols = data.shape\n",
    "print(\"Number of students: \", num_rows)\n",
    "print(\"Number of quizzes: \", num_cols)"
   ]
  },
  {
   "cell_type": "code",
   "execution_count": 15,
   "metadata": {},
   "outputs": [
    {
     "name": "stdout",
     "output_type": "stream",
     "text": [
      "Average number of points for each student\n"
     ]
    },
    {
     "data": {
      "text/plain": [
       "array([79.8, 86.4, 74.6, 88.8, 74.6, 79.8, 79.6, 84.8, 76. , 78.6, 80.6,\n",
       "       82.2, 88.4, 76.2, 82.6, 80. , 82.4, 78.6, 79.8, 78.2])"
      ]
     },
     "execution_count": 15,
     "metadata": {},
     "output_type": "execute_result"
    }
   ],
   "source": [
    "# Average number of points for each student \n",
    "print(\"Average number of points for each student:\")\n",
    "np.mean(data, axis=1)"
   ]
  },
  {
   "cell_type": "code",
   "execution_count": 16,
   "metadata": {},
   "outputs": [
    {
     "name": "stdout",
     "output_type": "stream",
     "text": [
      "Min number of points for each student:\n"
     ]
    },
    {
     "data": {
      "text/plain": [
       "array([60., 61., 60., 74., 61., 72., 70., 68., 63., 61., 72., 71., 80.,\n",
       "       67., 77., 73., 68., 73., 67., 68.])"
      ]
     },
     "execution_count": 16,
     "metadata": {},
     "output_type": "execute_result"
    }
   ],
   "source": [
    "# Min number of points for each student \n",
    "print(\"Min number of points for each student:\")\n",
    "np.min(data, axis=1)"
   ]
  },
  {
   "cell_type": "code",
   "execution_count": 18,
   "metadata": {},
   "outputs": [
    {
     "name": "stdout",
     "output_type": "stream",
     "text": [
      "Max number of points for each student:\n"
     ]
    },
    {
     "data": {
      "text/plain": [
       "array([93., 98., 91., 98., 87., 96., 90., 94., 92., 98., 92., 88., 93.,\n",
       "       88., 92., 89., 94., 89., 88., 91.])"
      ]
     },
     "execution_count": 18,
     "metadata": {},
     "output_type": "execute_result"
    }
   ],
   "source": [
    "# Max number of points for each student \n",
    "print(\"Max number of points for each student:\")\n",
    "np.max(data, axis=1)"
   ]
  },
  {
   "cell_type": "code",
   "execution_count": 19,
   "metadata": {},
   "outputs": [
    {
     "name": "stdout",
     "output_type": "stream",
     "text": [
      "Standard deviation of the number of points for each student:\n"
     ]
    },
    {
     "data": {
      "text/plain": [
       "array([10.94349122, 13.09350984, 10.32666451,  8.42377588,  9.09065454,\n",
       "        8.63481326,  6.52993109,  8.9977775 ,  9.44457516, 12.33855745,\n",
       "        7.31026675,  6.43117408,  4.84148737,  7.88416134,  5.60713831,\n",
       "        6.69328021,  8.63944443,  5.74804315,  8.32826513,  9.49526198])"
      ]
     },
     "execution_count": 19,
     "metadata": {},
     "output_type": "execute_result"
    }
   ],
   "source": [
    "# Standard deviation of the number of points for each student \n",
    "print(\"Standard deviation of the number of points for each student:\")\n",
    "np.std(data, axis=1)"
   ]
  },
  {
   "cell_type": "code",
   "execution_count": 21,
   "metadata": {},
   "outputs": [
    {
     "name": "stdout",
     "output_type": "stream",
     "text": [
      "Average number of points for each quiz:\n"
     ]
    },
    {
     "data": {
      "text/plain": [
       "array([82.75, 80.85, 79.95, 79.75, 79.7 ])"
      ]
     },
     "execution_count": 21,
     "metadata": {},
     "output_type": "execute_result"
    }
   ],
   "source": [
    "# Average number of points for each quiz \n",
    "print(\"Average number of points for each quiz:\")\n",
    "np.mean(data, axis=0)"
   ]
  },
  {
   "cell_type": "code",
   "execution_count": 23,
   "metadata": {},
   "outputs": [
    {
     "name": "stdout",
     "output_type": "stream",
     "text": [
      " Min number of points for each quiz:\n"
     ]
    },
    {
     "data": {
      "text/plain": [
       "array([63., 68., 60., 68., 61.])"
      ]
     },
     "execution_count": 23,
     "metadata": {},
     "output_type": "execute_result"
    }
   ],
   "source": [
    "#  Min number of points for each quiz \n",
    "print(\" Min number of points for each quiz:\")\n",
    "np.min(data, axis=0)"
   ]
  },
  {
   "cell_type": "code",
   "execution_count": 24,
   "metadata": {},
   "outputs": [
    {
     "name": "stdout",
     "output_type": "stream",
     "text": [
      "Max number of points for each quiz:\n"
     ]
    },
    {
     "data": {
      "text/plain": [
       "array([95., 98., 96., 98., 98.])"
      ]
     },
     "execution_count": 24,
     "metadata": {},
     "output_type": "execute_result"
    }
   ],
   "source": [
    "# Max number of points for each quiz \n",
    "print(\"Max number of points for each quiz:\")\n",
    "np.max(data, axis=0)"
   ]
  },
  {
   "cell_type": "code",
   "execution_count": 25,
   "metadata": {},
   "outputs": [
    {
     "name": "stdout",
     "output_type": "stream",
     "text": [
      "Standard deviation of the number of points for each quiz:\n"
     ]
    },
    {
     "data": {
      "text/plain": [
       "array([ 8.68835427,  9.35561329, 11.8087891 ,  7.70632857,  9.48208838])"
      ]
     },
     "execution_count": 25,
     "metadata": {},
     "output_type": "execute_result"
    }
   ],
   "source": [
    "# Standard deviation of the number of points for each quiz \n",
    "print(\"Standard deviation of the number of points for each quiz:\")\n",
    "np.std(data, axis=0)"
   ]
  },
  {
   "cell_type": "markdown",
   "metadata": {},
   "source": [
    "### Problem 02 (25 points)\n",
    "\n",
    "2.1 (5 points) Create an array named $U$ of dimension 10 by 10, where each entry is drawn independently from the uniform distribution on $[0, 1]$\n",
    "\n"
   ]
  },
  {
   "cell_type": "code",
   "execution_count": 3,
   "metadata": {},
   "outputs": [
    {
     "data": {
      "text/plain": [
       "array([[0.56773684, 0.00204488, 0.72236371, 0.69728772, 0.57399373,\n",
       "        0.15491054, 0.31959367, 0.63568784, 0.19368297, 0.32718584],\n",
       "       [0.42323854, 0.69905566, 0.024297  , 0.10947962, 0.03102284,\n",
       "        0.48136614, 0.47322034, 0.04354355, 0.88911802, 0.98369671],\n",
       "       [0.12458427, 0.30942298, 0.17977858, 0.03715161, 0.34942245,\n",
       "        0.51069795, 0.29712989, 0.39286084, 0.64628995, 0.97010972],\n",
       "       [0.95291785, 0.43189836, 0.818188  , 0.07211521, 0.22550624,\n",
       "        0.57717734, 0.1619593 , 0.00331995, 0.53125566, 0.91425353],\n",
       "       [0.16627043, 0.77180706, 0.42190781, 0.6681576 , 0.91072246,\n",
       "        0.7428329 , 0.70266256, 0.1957604 , 0.20052409, 0.23079847],\n",
       "       [0.81462645, 0.52521399, 0.36763725, 0.8077554 , 0.23739781,\n",
       "        0.78135562, 0.73505997, 0.35483144, 0.09839498, 0.81417871],\n",
       "       [0.04453427, 0.4656377 , 0.64964893, 0.14553144, 0.00134751,\n",
       "        0.12354927, 0.78910215, 0.90372909, 0.10547851, 0.93652593],\n",
       "       [0.87897699, 0.80998525, 0.45215213, 0.4021316 , 0.60329025,\n",
       "        0.35849559, 0.11890059, 0.80794311, 0.29823214, 0.75629079],\n",
       "       [0.27650339, 0.2456338 , 0.16709907, 0.7756329 , 0.74004061,\n",
       "        0.25241722, 0.7450467 , 0.46387491, 0.11805162, 0.49838919],\n",
       "       [0.77333687, 0.66014145, 0.34195737, 0.6976607 , 0.78464902,\n",
       "        0.54711137, 0.07772576, 0.07211416, 0.52183719, 0.32665382]])"
      ]
     },
     "execution_count": 3,
     "metadata": {},
     "output_type": "execute_result"
    }
   ],
   "source": [
    "U = np.random.rand(10,10)\n",
    "U"
   ]
  },
  {
   "cell_type": "markdown",
   "metadata": {},
   "source": [
    "\n",
    "2.2 (5 points) Create an array named $G$ of dimension 10 by 10, where each entry is drawn independently from the normal (Gaussian) distribution with mean 0 and standard deviation 1\n"
   ]
  },
  {
   "cell_type": "code",
   "execution_count": 6,
   "metadata": {},
   "outputs": [
    {
     "data": {
      "text/plain": [
       "array([[ 0.47258727, -1.89518226,  0.36201192,  0.46317559, -0.64117671,\n",
       "         2.34847164,  0.23323041,  0.3303745 , -1.76970916, -0.140632  ],\n",
       "       [-0.8784332 ,  0.45518444,  0.92019052, -1.02393058,  0.52189823,\n",
       "        -0.63962622, -1.24244974, -1.0735096 ,  1.47050407, -0.31195019],\n",
       "       [ 0.04797672, -1.21614934, -0.33771627,  1.30349074,  0.76176592,\n",
       "         0.18897456, -0.58623388, -1.54648894,  0.12512464, -0.75821857],\n",
       "       [ 1.81891024, -0.98486453,  0.66339915, -1.03385418,  0.73447508,\n",
       "        -0.33323652, -0.0535122 , -0.95384975, -1.7877068 ,  0.16288436],\n",
       "       [ 0.14301383, -0.5077463 ,  0.64852013, -0.04019786,  0.29676158,\n",
       "        -1.79105655, -1.11991441,  0.5090466 ,  0.13405808, -0.17270033],\n",
       "       [-0.56671799,  0.10821708,  0.66065732, -0.76173729, -1.1181491 ,\n",
       "        -0.74958059, -1.03141063, -1.37148725,  2.32201351,  2.43919927],\n",
       "       [-0.09631526, -0.41585438,  0.58949296,  1.29979384, -0.03426653,\n",
       "         0.64901104,  1.72176922, -0.66854294, -0.38995708,  0.72571896],\n",
       "       [ 1.06591046,  0.87996932, -0.48535632, -0.58236478,  0.72119255,\n",
       "         1.06591135, -0.68691046,  1.07128264, -0.72021364, -0.18884142],\n",
       "       [ 1.11158144, -0.01248197,  1.83889166, -1.48289584, -0.46077116,\n",
       "         1.70274394, -0.03923358,  0.26613234,  0.0422011 , -0.50184279],\n",
       "       [ 0.11803786, -0.14031519,  1.15743247, -0.11040948,  0.86306442,\n",
       "         1.11488175, -0.23899715, -1.0810306 ,  0.49001229,  0.97685626]])"
      ]
     },
     "execution_count": 6,
     "metadata": {},
     "output_type": "execute_result"
    }
   ],
   "source": [
    "G = np.random.randn(10,10)\n",
    "G"
   ]
  },
  {
   "cell_type": "markdown",
   "metadata": {},
   "source": [
    "\n",
    "2.3 (15 points)\n",
    "\n",
    "* Write a function which takes an array `A` as input, and returns two vectors:\n",
    "    * Vector of averages over the rows of array `A`\n",
    "    * Vector of averages over the columns of array `A`\n",
    "\n",
    "\n",
    "* Write a function which takes an array `A` as input, and returns an array where each entry of `A` is squared\n",
    "\n",
    "\n",
    "* Write a function which takes an array `A` as input, and returns an array where each entry of `A` is raised at the power k:\n",
    "\n",
    "\n",
    "* Report the result of applying the functions developed in 2.1, 2.2, and 2.3 with `k=3`, on $U$, and then on $G$ "
   ]
  },
  {
   "cell_type": "code",
   "execution_count": 12,
   "metadata": {},
   "outputs": [
    {
     "name": "stdout",
     "output_type": "stream",
     "text": [
      "Vector of averages over the rows and columns of array `A`:\n",
      "Averages over rows:  [1.5 3.5]\n",
      "Averages over cols:  [2. 3.]\n",
      "Array where each entry of `A` is squared:\n",
      "[[ 1  4]\n",
      " [ 9 16]]\n",
      "Array where each entry of `A` is raised at the power k:\n",
      "[[  1  16]\n",
      " [ 81 256]]\n"
     ]
    }
   ],
   "source": [
    "def avgArr(arr):\n",
    "  return np.mean(arr, axis=1),  np.mean(arr, axis=0)\n",
    "\n",
    "def squareArr(arr):\n",
    "  return np.square(arr)\n",
    "\n",
    "def powArr(arr, k):\n",
    "  return np.power(arr, k)\n",
    "\n",
    "A = [[1,2], [3,4]]\n",
    "\n",
    "print(\"Vector of averages over the rows and columns of array `A`:\")\n",
    "row, col = avgArr(A)\n",
    "print(\"Averages over rows: \", row)\n",
    "print(\"Averages over cols: \", col)\n",
    "\n",
    "print(\"Array where each entry of `A` is squared:\")\n",
    "print(squareArr(A))\n",
    "\n",
    "print(\"Array where each entry of `A` is raised at the power k:\")\n",
    "print(powArr(A, 4))\n"
   ]
  },
  {
   "cell_type": "code",
   "execution_count": 13,
   "metadata": {},
   "outputs": [
    {
     "name": "stdout",
     "output_type": "stream",
     "text": [
      "Vector of averages over the rows and cols of array `U`:\n",
      "Averages over rows:  [0.41944877 0.41580384 0.38174482 0.46885914 0.50114438 0.55364516\n",
      " 0.41650848 0.54863984 0.42826894 0.48031877]\n",
      "Averages over cols:  [0.50227259 0.49208411 0.41450299 0.44129038 0.44573929 0.45299139\n",
      " 0.44204009 0.38736653 0.36028651 0.67580827]\n",
      "Vector of averages over the rows and cols of array `G`:\n",
      "Averages over rows:  [-0.02368488 -0.18021223 -0.20174744 -0.17673552 -0.19002152 -0.00689957\n",
      "  0.33808498  0.21405797  0.24643251  0.31495326]\n",
      "Averages over cols:  [ 0.32365514 -0.37292232  0.60175235 -0.19689298  0.16447943  0.35564944\n",
      " -0.30436624 -0.4518073  -0.0083673   0.22304735]\n",
      "(array([-0.02368488, -0.18021223, -0.20174744, -0.17673552, -0.19002152,\n",
      "       -0.00689957,  0.33808498,  0.21405797,  0.24643251,  0.31495326]), array([ 0.32365514, -0.37292232,  0.60175235, -0.19689298,  0.16447943,\n",
      "        0.35564944, -0.30436624, -0.4518073 , -0.0083673 ,  0.22304735]))\n"
     ]
    }
   ],
   "source": [
    "'''\n",
    "Report the result of applying the functions developed in 2.1, 2.2, and 2.3 with `k=3`, on $U$, and then on $G$ \n",
    "'''\n",
    "print(\"Vector of averages over the rows and cols of array `U`:\")\n",
    "row, col = avgArr(U)\n",
    "print(\"Averages over rows: \", row)\n",
    "print(\"Averages over cols: \", col)\n",
    "print(\"Vector of averages over the rows and cols of array `G`:\")\n",
    "row, col = avgArr(G)\n",
    "print(\"Averages over rows: \", row)\n",
    "print(\"Averages over cols: \", col)\n",
    "print(avgArr(G))"
   ]
  },
  {
   "cell_type": "code",
   "execution_count": 49,
   "metadata": {},
   "outputs": [
    {
     "name": "stdout",
     "output_type": "stream",
     "text": [
      "Array where each entry of `U` is squared:\n",
      "[[5.00521313e-01 5.45193775e-01 7.03245930e-01 9.32478230e-03\n",
      "  2.51610929e-04]\n",
      " [2.71850187e-01 3.84192931e-02 4.30366820e-01 9.40257550e-01\n",
      "  2.00749147e-01]\n",
      " [7.58964244e-01 4.93779915e-02 6.08336130e-01 4.42917017e-01\n",
      "  1.40470278e-01]\n",
      " [1.63310870e-01 1.05844739e-01 9.94636861e-01 9.01993697e-01\n",
      "  2.11857869e-01]\n",
      " [3.59183422e-01 7.13290028e-01 7.13195338e-02 6.34081299e-05\n",
      "  9.70265523e-01]]\n",
      "Array where each entry of `G` is squared:\n",
      "[[8.12730676e-01 7.75648843e-01 5.15913379e-01 2.06053699e-01\n",
      "  7.46406007e-01 4.31724963e-03 1.51624030e-02 1.13592892e+00\n",
      "  8.90302816e-02 9.69048197e-02]\n",
      " [1.09408618e-01 1.77088090e+00 1.98905603e+00 6.71377218e+00\n",
      "  7.44006893e-02 1.30243850e+00 1.88716840e+00 1.79868035e-02\n",
      "  8.35867786e-04 4.16492814e-03]\n",
      " [2.03641437e-01 8.45483555e-01 4.58980305e-01 5.73048056e-02\n",
      "  1.34692202e-01 5.65037710e-02 7.63610219e-02 2.05019768e+00\n",
      "  3.28113921e-01 4.41979242e-01]\n",
      " [2.73690746e-04 2.34251111e+00 3.88869532e-03 3.34005716e+00\n",
      "  6.36731259e-01 3.75535151e+00 1.37277016e+00 6.38031693e-01\n",
      "  1.41110889e-01 1.96645254e-02]\n",
      " [3.42707425e+00 3.01044632e-01 6.90637457e-01 1.32782813e+00\n",
      "  1.04376105e+00 2.97151738e+00 6.00024988e-01 1.01842278e-01\n",
      "  4.51493501e-01 8.05096687e-03]\n",
      " [4.52975408e-01 2.11149759e+00 4.77686013e-01 4.65360585e-01\n",
      "  1.38946746e-03 3.58657996e-01 1.79030068e-02 9.70431768e-02\n",
      "  5.70668608e-01 3.90445814e-01]\n",
      " [4.78037036e-01 3.22635636e-03 4.72561728e+00 1.94940043e-01\n",
      "  1.74256249e+00 2.38442782e-02 2.13032601e+00 6.81862543e-01\n",
      "  9.22677043e-02 3.63498930e-01]\n",
      " [1.61801316e-01 3.10390660e-01 2.58831663e+00 3.20500900e-01\n",
      "  8.36717411e-03 4.35928620e-01 1.40040243e-02 1.25748744e+00\n",
      "  2.65469273e+00 3.82939813e-01]\n",
      " [1.53993751e+00 1.76653874e+00 1.10605417e-03 1.83238973e+00\n",
      "  2.14409380e+00 3.10613227e-01 1.44580675e+00 9.14875526e-02\n",
      "  9.97739028e-03 1.81536181e-01]\n",
      " [7.11741189e-01 7.52444862e-02 7.78832168e-01 6.19041975e-02\n",
      "  1.03848959e-02 6.57086060e-01 2.62471114e+00 6.06376070e-01\n",
      "  4.11874766e-01 1.97754182e-01]]\n"
     ]
    }
   ],
   "source": [
    "print(\"Array where each entry of `U` is squared:\")\n",
    "print(squareArr(U))\n",
    "print(\"Array where each entry of `G` is squared:\")\n",
    "print(squareArr(G))"
   ]
  },
  {
   "cell_type": "code",
   "execution_count": 50,
   "metadata": {},
   "outputs": [
    {
     "name": "stdout",
     "output_type": "stream",
     "text": [
      "Array where each entry of `U` is raised at the power k=3:\n",
      "[[3.54106470e-01 4.02556027e-01 5.89740348e-01 9.00446785e-04\n",
      "  3.99111509e-06]\n",
      " [1.41740661e-01 7.53050419e-03 2.82330743e-01 9.11738395e-01\n",
      "  8.99457323e-02]\n",
      " [6.61198675e-01 1.09723621e-02 4.74477274e-01 2.94770182e-01\n",
      "  5.26473679e-02]\n",
      " [6.59967633e-02 3.44353037e-02 9.91966087e-01 8.56653620e-01\n",
      "  9.75139837e-02]\n",
      " [2.15265497e-01 6.02419787e-01 1.90463931e-02 5.04914005e-07\n",
      "  9.55731498e-01]]\n",
      "Array where each entry of `G` is raised at the power k=3:\n",
      "[[-7.32689518e-01 -6.83121137e-01 -3.70565673e-01 -9.35342402e-02\n",
      "  -6.44855916e-01 -2.83668257e-04 -1.86703325e-03 -1.21067265e+00\n",
      "   2.65648043e-02  3.01660236e-02]\n",
      " [-3.61890598e-02 -2.35658999e+00 -2.80524325e+00 -1.73960201e+01\n",
      "   2.02938964e-02  1.48640049e+00 -2.59248340e+00  2.41229816e-03\n",
      "   2.41660896e-05 -2.68788863e-04]\n",
      " [-9.18965549e-02  7.77423648e-01 -3.10950368e-01  1.37178663e-02\n",
      "  -4.94326259e-02  1.34312413e-02 -2.11012216e-02 -2.93557787e+00\n",
      "   1.87947686e-01  2.93834515e-01]\n",
      " [-4.52783060e-06  3.58527513e+00 -2.42496724e-04 -6.10422945e+00\n",
      "   5.08082523e-01 -7.27739405e+00 -1.60840992e+00  5.09639848e-01\n",
      "   5.30079234e-02  2.75756149e-03]\n",
      " [ 6.34432278e+00 -1.65175767e-01 -5.73951497e-01  1.53007528e+00\n",
      "   1.06635455e+00  5.12232833e+00 -4.64787035e-01 -3.25006585e-02\n",
      "   3.03373230e-01 -7.22390555e-04]\n",
      " [ 3.04868067e-01  3.06821569e+00 -3.30151890e-01  3.17456626e-01\n",
      "  -5.17931795e-05 -2.14793323e-01  2.39546024e-03  3.02306516e-02\n",
      "   4.31097967e-01  2.43972658e-01]\n",
      " [ 3.30515870e-01 -1.83260346e-04 -1.02727760e+01 -8.60699569e-02\n",
      "   2.30028974e+00 -3.68193629e-03 -3.10934639e+00  5.63047780e-01\n",
      "   2.80268683e-02 -2.19156676e-01]\n",
      " [ 6.50838260e-02 -1.72927063e-01 -4.16414750e+00 -1.81444530e-01\n",
      "   7.65364314e-04 -2.87821395e-01  1.65721664e-03 -1.41011809e+00\n",
      "  -4.32535135e+00 -2.36971317e-01]\n",
      " [ 1.91097343e+00 -2.34792786e+00 -3.67844779e-05 -2.48042884e+00\n",
      "  -3.13953748e+00  1.73113094e-01 -1.73846268e+00  2.76721571e-02\n",
      "   9.96610459e-04  7.73472346e-02]\n",
      " [ 6.00458711e-01  2.06401107e-02  6.87330825e-01  1.54021074e-02\n",
      "  -1.05828641e-03  5.32639512e-01 -4.25228409e+00  4.72185972e-01\n",
      "  -2.64330805e-01  8.79404159e-02]]\n"
     ]
    }
   ],
   "source": [
    "print(\"Array where each entry of `U` is raised at the power k=3:\")\n",
    "print(powArr(U,3))\n",
    "print(\"Array where each entry of `G` is raised at the power k=3:\")\n",
    "print(powArr(G,3))"
   ]
  },
  {
   "cell_type": "markdown",
   "metadata": {},
   "source": [
    "### Problem 03 (20 points)\n",
    "\n",
    "3.1 (10 points) \n",
    "\n",
    "For the matrix $A$ and vector $y$ given below, compute the following:\n",
    "\n",
    "* Transpose of `A` (please name it `AT`)\n",
    "* Matrix product of `AT` by `A` (please name it `ATA`)\n",
    "* Determinant of `ATA`    (checking that $\\text{det}(A^{T}A)\\neq 0$ indicates that $A^{T}A$ is an invertible matrix)\n",
    "* Inverse of `ATA` (please name it `ATAi`)\n",
    "* Product of `AT` by `y` (please name it `ATy`)\n",
    "* Product of `ATAi` by `ATy` (please name it `x`) \n",
    "\n",
    "Print the value of `x`\n",
    "\n"
   ]
  },
  {
   "cell_type": "code",
   "execution_count": 15,
   "metadata": {},
   "outputs": [],
   "source": [
    "import numpy as np\n",
    "\n",
    "# Matrix A \n",
    "A = np.matrix([[1, 2], \n",
    "               [2, 3],\n",
    "               [3, 4],\n",
    "               [4, 5]])\n",
    "\n",
    "# Matrix B\n",
    "B = np.matrix([[1, 1], \n",
    "               [0, 2],\n",
    "               [0, 1],\n",
    "               [7, 2]])\n",
    "\n",
    "# Vector y\n",
    "y = np.matrix([[4], \n",
    "               [5],\n",
    "               [8],\n",
    "               [9]])"
   ]
  },
  {
   "cell_type": "code",
   "execution_count": 55,
   "metadata": {},
   "outputs": [
    {
     "name": "stdout",
     "output_type": "stream",
     "text": [
      "Transpose of `A` (please name it `AT`): \n"
     ]
    },
    {
     "data": {
      "text/plain": [
       "matrix([[1, 2, 3, 4],\n",
       "        [2, 3, 4, 5]])"
      ]
     },
     "execution_count": 55,
     "metadata": {},
     "output_type": "execute_result"
    }
   ],
   "source": [
    "# Transpose of `A` (please name it `AT`)\n",
    "AT = np.matrix.transpose(A) \n",
    "\n",
    "print(\"Transpose of `A` : \")\n",
    "AT"
   ]
  },
  {
   "cell_type": "code",
   "execution_count": 56,
   "metadata": {},
   "outputs": [
    {
     "name": "stdout",
     "output_type": "stream",
     "text": [
      "Matrix product of `AT` by `A` (please name it `ATA`):\n"
     ]
    },
    {
     "data": {
      "text/plain": [
       "matrix([[30, 40],\n",
       "        [40, 54]])"
      ]
     },
     "execution_count": 56,
     "metadata": {},
     "output_type": "execute_result"
    }
   ],
   "source": [
    "# Matrix product of `AT` by `A` (please name it `ATA`)\n",
    "ATA = AT @ A\n",
    "\n",
    "print(\"Matrix product of `AT` by `A` :\")\n",
    "ATA"
   ]
  },
  {
   "cell_type": "code",
   "execution_count": 58,
   "metadata": {},
   "outputs": [
    {
     "name": "stdout",
     "output_type": "stream",
     "text": [
      "Determinant of `ATA` (checking that $\text{det}(A^{T}A)\n",
      "eq 0$ indicates that $A^{T}A$ is an invertible matrix):\n"
     ]
    },
    {
     "data": {
      "text/plain": [
       "19.999999999999996"
      ]
     },
     "execution_count": 58,
     "metadata": {},
     "output_type": "execute_result"
    }
   ],
   "source": [
    "# Determinant of `ATA`    (checking that $\\text{det}(A^{T}A)\\neq 0$ indicates that $A^{T}A$ is an invertible matrix)\n",
    "ATAd = np.linalg.det(ATA)\n",
    "\n",
    "print(\"Determinant of `ATA`:\")\n",
    "ATAd"
   ]
  },
  {
   "cell_type": "code",
   "execution_count": 59,
   "metadata": {},
   "outputs": [
    {
     "name": "stdout",
     "output_type": "stream",
     "text": [
      "Inverse of `ATA`:\n"
     ]
    },
    {
     "data": {
      "text/plain": [
       "matrix([[ 2.7, -2. ],\n",
       "        [-2. ,  1.5]])"
      ]
     },
     "execution_count": 59,
     "metadata": {},
     "output_type": "execute_result"
    }
   ],
   "source": [
    "# Inverse of `ATA` (please name it `ATAi`)\n",
    "ATAi = np.linalg.inv(ATA)\n",
    "\n",
    "print(\"Inverse of `ATA`:\")\n",
    "ATAi\n"
   ]
  },
  {
   "cell_type": "code",
   "execution_count": 60,
   "metadata": {},
   "outputs": [
    {
     "name": "stdout",
     "output_type": "stream",
     "text": [
      "Product of `AT` by `y`:\n"
     ]
    },
    {
     "data": {
      "text/plain": [
       "matrix([[ 74],\n",
       "        [100]])"
      ]
     },
     "execution_count": 60,
     "metadata": {},
     "output_type": "execute_result"
    }
   ],
   "source": [
    "# Product of `AT` by `y` (please name it `ATy`)\n",
    "ATy = AT @ y\n",
    "\n",
    "print(\"Product of `AT` by `y`:\")\n",
    "ATy"
   ]
  },
  {
   "cell_type": "code",
   "execution_count": 61,
   "metadata": {},
   "outputs": [
    {
     "name": "stdout",
     "output_type": "stream",
     "text": [
      "Product of `ATAi` by `ATy`: \n"
     ]
    },
    {
     "data": {
      "text/plain": [
       "matrix([[-0.2],\n",
       "        [ 2. ]])"
      ]
     },
     "execution_count": 61,
     "metadata": {},
     "output_type": "execute_result"
    }
   ],
   "source": [
    "# Product of `ATAi` by `ATy` (please name it `x`) \n",
    "x = ATAi @ ATy\n",
    "\n",
    "print(\"Product of `ATAi` by `ATy`: \")\n",
    "x"
   ]
  },
  {
   "cell_type": "markdown",
   "metadata": {},
   "source": [
    "3.2 (5 points) Apply the ```np.linalg.lstsq``` method to find the least-squares solution to the linear matrix equation `A.x = y`. Print the value of `x` found with this method to confirm that it is the same as the one found by explicit calculation in 3.1. "
   ]
  },
  {
   "cell_type": "code",
   "execution_count": 17,
   "metadata": {},
   "outputs": [
    {
     "name": "stdout",
     "output_type": "stream",
     "text": [
      "From NumPy lstsq method: \n"
     ]
    },
    {
     "data": {
      "text/plain": [
       "matrix([[-0.2],\n",
       "        [ 2. ]])"
      ]
     },
     "execution_count": 17,
     "metadata": {},
     "output_type": "execute_result"
    }
   ],
   "source": [
    "# Using the NumPy Least Square solver:\n",
    "results = np.linalg.lstsq(A, y, rcond = None)\n",
    "x = results[0]\n",
    "r = results[3]\n",
    "print('From NumPy lstsq method: ')\n",
    "x"
   ]
  },
  {
   "cell_type": "markdown",
   "metadata": {},
   "source": [
    "3.3 (5 points) For the matrix `B` of new observations given below, use the value of the coefficient vector `x` found in 3.1 and 3.2 to predict the value of $\\hat{y}$ according to the linear regression model $A.x = \\hat{y}$"
   ]
  },
  {
   "cell_type": "code",
   "execution_count": 19,
   "metadata": {},
   "outputs": [
    {
     "name": "stdout",
     "output_type": "stream",
     "text": [
      "Predicted values of y: (1.80,4.00,2.00,2.60)\n"
     ]
    }
   ],
   "source": [
    "y_hat = B @ x\n",
    "print('Predicted values of y: ({:.2f},{:.2f},{:.2f},{:.2f})'. \\\n",
    "       format(y_hat[0,0],y_hat[1,0],y_hat[2,0],y_hat[3,0]))"
   ]
  },
  {
   "cell_type": "markdown",
   "metadata": {},
   "source": [
    "### Problem 04 (10 points)\n",
    "\n",
    "4.1 (5 points) Plot in the same diagram the functions: $1, x, x^2, x^3, \\dots, x^{10}$ over the following set of points $\\{0, 0.01, 0.02, \\dots, 1\\}$, that is, over 101 equidistant points from the interval $[0, 1]$. \n",
    "\n",
    "\n",
    "4.2 (5 points) Plot in the same diagram the functions: $1, x, x^{1/2}, x^{1/3}, \\dots, x^{1/10}$ over the following set of points $\\{0, 0.01, 0.02, \\dots, 1\\}$, that is, over 101 equidistant points from the interval $[0, 1]$. \n"
   ]
  },
  {
   "cell_type": "code",
   "execution_count": 20,
   "metadata": {},
   "outputs": [],
   "source": [
    "import matplotlib.pyplot as plt\n",
    "%matplotlib inline"
   ]
  },
  {
   "cell_type": "code",
   "execution_count": 21,
   "metadata": {},
   "outputs": [
    {
     "data": {
      "image/png": "[encoded data removed]",
      "text/plain": [
       "<Figure size 640x480 with 1 Axes>"
      ]
     },
     "metadata": {},
     "output_type": "display_data"
    }
   ],
   "source": [
    "x = np.linspace(0, 1, 101)\n",
    "\n",
    "plt.plot(x, np.ones(101), 'k--',\n",
    "         x, x, 'r-', \n",
    "         x, x**2, 'b-', \n",
    "         x, x**3, 'g-', \n",
    "         x, x**4, 'm-',\n",
    "         x, x**5, 'c-',\n",
    "         x, x**6, 'y-',\n",
    "         x, x**7, 'k-',\n",
    "         x, x**8, 'r-',\n",
    "         x, x**9, 'b-',\n",
    "         linewidth = 2,\n",
    "         )\n",
    "\n",
    "plt.show()\n"
   ]
  },
  {
   "cell_type": "code",
   "execution_count": 22,
   "metadata": {},
   "outputs": [
    {
     "data": {
      "image/png": "[encoded data removed]",
      "text/plain": [
       "<Figure size 640x480 with 1 Axes>"
      ]
     },
     "metadata": {},
     "output_type": "display_data"
    }
   ],
   "source": [
    "x = np.linspace(0, 1, 101)\n",
    "\n",
    "plt.plot(x, np.ones(101), 'k--',\n",
    "         x, x, 'r-', \n",
    "         x, x**(1/2), 'b-', \n",
    "         x, x**(1/3), 'g-', \n",
    "         x, x**(1/4), 'm-',\n",
    "         x, x**(1/5), 'c-',\n",
    "         x, x**(1/6), 'y-',\n",
    "         x, x**(1/7), 'k-',\n",
    "         x, x**(1/8), 'r-',\n",
    "         x, x**(1/9), 'b-',\n",
    "         linewidth = 2,\n",
    "         )\n",
    "\n",
    "plt.show()"
   ]
  },
  {
   "cell_type": "markdown",
   "metadata": {},
   "source": [
    "### Problem 05 (30 points)\n",
    "\n",
    "5.1 (15 points)\n",
    "\n",
    "Sample four normal distributions, each with 1000 data points, respectively with means and standard deviation equal to: \n",
    "\n",
    "* (m1, s1) = (0, 2)\n",
    "\n",
    "* (m2, s2) = (2, 0.5)\n",
    "\n",
    "* (m3, s3) = (-2, 0.5) \n",
    "\n",
    "* (m4, s4) = (1, 1) \n",
    "\n",
    "then plot each as a histogram with 50 bins on the same plot. Show a legend in the upper left corner of the plot with a custom label for each histogram (respectively `h1`, `h2`, `h3`, `h4`). Adjust the figure x-axis to go from $-7$ to $+7$, and the y-label to go from 0 to +80.\n",
    "\n"
   ]
  },
  {
   "cell_type": "code",
   "execution_count": 24,
   "metadata": {},
   "outputs": [],
   "source": [
    "h1 = np.random.normal(0, 2, 1000)\n",
    "h2 = np.random.normal(2, 0.5, 1000)\n",
    "h3 = np.random.normal(-2, 0.5, 1000)\n",
    "h4 = np.random.normal(1, 1, 1000)"
   ]
  },
  {
   "cell_type": "code",
   "execution_count": 87,
   "metadata": {},
   "outputs": [
    {
     "data": {
      "text/plain": [
       "(0.0, 80.0)"
      ]
     },
     "execution_count": 87,
     "metadata": {},
     "output_type": "execute_result"
    },
    {
     "data": {
      "image/png": "[encoded data removed]",
      "text/plain": [
       "<Figure size 640x480 with 1 Axes>"
      ]
     },
     "metadata": {},
     "output_type": "display_data"
    }
   ],
   "source": [
    "f, ax = plt.subplots()\n",
    "\n",
    "ax.hist(h1, bins=50, alpha = 0.5, label = 'h1', color = [0.3,0,0.6])\n",
    "ax.hist(h2, bins=50, alpha = 0.5, label = 'h2', color = 'c')\n",
    "ax.hist(h3, bins=50, alpha = 0.5, label = 'h3', color = 'r')\n",
    "ax.hist(h4, bins=50, alpha = 0.5, label = 'h4', color = 'b')\n",
    "\n",
    "ax.legend(loc=\"upper left\")\n",
    "plt.xlim(-7, 7)\n",
    "plt.ylim(0, 80)"
   ]
  },
  {
   "cell_type": "markdown",
   "metadata": {},
   "source": [
    "\n",
    "5.2 (15 points) \n",
    "\n",
    "Create a `Figure` object of width $10$ inches and height $8$ inches with $2 \\times 2$ subplots (i.e. 2 subplots in each row and 2 in each column), and **plot each of the histograms above as a separate subplot** on this `Figure` object, using a tight layout.  For each sub-plot adjust the x-axis to go from $-7$ to $+7$, and the y-label to go from 0 to +80."
   ]
  },
  {
   "cell_type": "code",
   "execution_count": 25,
   "metadata": {},
   "outputs": [
    {
     "data": {
      "image/png": "[encoded data removed]",
      "text/plain": [
       "<Figure size 1000x800 with 4 Axes>"
      ]
     },
     "metadata": {},
     "output_type": "display_data"
    }
   ],
   "source": [
    "Figure, axes = plt.subplots(nrows = 2, ncols = 2, figsize = (10,8)) \n",
    "\n",
    "axes[0, 0].hist(h1, bins=50, alpha = 0.5, label = 'h1', color = [0.3,0,0.6])\n",
    "axes[0, 0].set(xlim = [-7,7], ylim = [0,80], title=\"h1\")\n",
    "\n",
    "axes[0, 1].hist(h2, bins=50, alpha = 0.5, label = 'h2', color = 'c')\n",
    "axes[0, 1].set(xlim = [-7,7], ylim = [0,80], title=\"h2\")\n",
    "\n",
    "axes[1, 0].hist(h3, bins=50, alpha = 0.5, label = 'h3', color = 'r')\n",
    "axes[1, 0].set(xlim = [-7,7], ylim = [0,80], title=\"h3\")\n",
    "\n",
    "axes[1, 1].hist(h4, bins=50, alpha = 0.5, label = 'h4', color = 'b')\n",
    "axes[1, 1].set(xlim = [-7,7], ylim = [0,80], title=\"h4\")\n",
    "\n",
    "Figure.tight_layout()"
   ]
  }
 ],
 "metadata": {
  "kernelspec": {
   "display_name": "ds",
   "language": "python",
   "name": "python3"
  },
  "language_info": {
   "codemirror_mode": {
    "name": "ipython",
    "version": 3
   },
   "file_extension": ".py",
   "mimetype": "text/x-python",
   "name": "python",
   "nbconvert_exporter": "python",
   "pygments_lexer": "ipython3",
   "version": "3.11.9"
  }
 },
 "nbformat": 4,
 "nbformat_minor": 2
}
